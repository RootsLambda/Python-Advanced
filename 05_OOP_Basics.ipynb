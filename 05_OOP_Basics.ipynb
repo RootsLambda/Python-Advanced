{
 "cells": [
  {
   "cell_type": "markdown",
   "metadata": {},
   "source": [
    "# 5.1 Giới thiệu về lập trình hướng đối tượng \n",
    "\n",
    "Lập trình hướng đối tượng oop(object oriented programming) là phương pháp lập trình lúc nào cũng nghĩ về đối tượng mà chúng ta xây dựng, đặc điểm nổi bật của oop là giúp quản lý code dễ dàng và tái sử dụng.\n",
    "\n",
    "## Đối tượng\n",
    "\n",
    "**Đối tượng có hai thành phần chủ yếu:**\n",
    "\n",
    "+ Thuộc tính Attribute: những thông tin đặc điểm của đối tượng.\n",
    "\n",
    "+ Phương thức Method: những hành vi mà đối tượng thực hiện.\n",
    "\n",
    "Thí dụ về đối tượng học sinh:\n",
    "\n",
    "+ Thuộc tính: chiều cao, giới tính, năm sinh, ...\n",
    "\n",
    "+ Phương thức: đi học, đi ngủ, đi chơi, ...\n",
    "\n",
    "## Lớp\n",
    "\n",
    "Những đối tượng có những đặc điểm tương đồng nhau được nằm trong nhóm .\n",
    "\n",
    "Thí dụ về lớp:\n",
    "\n",
    "Các đối tượng xe máy, xe hơi, xe buýt sẽ tạo thành một lớp xe.\n",
    "\n",
    "**Cú pháp với lớp trong python:**\n",
    "\n",
    "**class**<Tên lớp>:\n",
    "\n",
    "    <Các thuộc tính>\n",
    "    \n",
    "    def<Các phương thức>:\n",
    "Hình dưới đây mô tả sơ đồ cây 2 instance I1 và I2, class C1 và hai superclass  C2, C3\n",
    "<img align='center' src='images\\Class_and_Instance.jpg'>\n",
    "\n",
    "**Classes Object**\n",
    "\n",
    "Có nhiệm vụ tạo ra instance. Các thuộc tính của chúng cung cấp hành vi, dữ liệu và chức năng. Điều đó được kế thừa bởi tất cả các instance được tạo từ chúng (ví dụ: một hàm để\n",
    "tính lương của một nhân viên từ tiền lương và giờ làm việc).\n",
    "\n",
    "**Instances Object**\n",
    "\n",
    "Trình bày các items cụ thể của chương trình. Thuộc tính của chúng ghi lại dữ liệu thay đổi theo từng đối tượng cụ thể (ví dụ: số An sinh xã hội của nhân viên).\n",
    "\n",
    "Như hình ở trên ta viết mã như sau:\n",
    "```python\n",
    "class C2: pass # Tạo đối tượng superclass \n",
    "class C3: pass\n",
    "class C1(C2, C3): # Tạo và liên kết với class C1\n",
    "    def setname(self, who): #Tạo phương thức thiết lập tên:       \n",
    "                            # C1.setname\n",
    "        self.name = who     # Self có thể là I1 hoặc I2\n",
    "I1 = C1()         # Tạo 2 instance\n",
    "I2 = C1()\n",
    "I1.setname('bob') # Sets I1.name thành 'bob'\n",
    "I2.setname('sue') # Sets I2.name thành 'sue'\n",
    "print(I1.name) # Prints 'bob\n",
    "```"
   ]
  },
  {
   "cell_type": "markdown",
   "metadata": {},
   "source": [
    "## Tạo lớp học sinh"
   ]
  },
  {
   "cell_type": "code",
   "execution_count": 17,
   "metadata": {},
   "outputs": [],
   "source": [
    "class Student:\n",
    "    name=\"Roots Lambda\"\n",
    "    birthday=\"2001\"\n",
    "    gender=\"Male\""
   ]
  },
  {
   "cell_type": "code",
   "execution_count": 18,
   "metadata": {},
   "outputs": [
    {
     "data": {
      "text/plain": [
       "'Roots Lambda'"
      ]
     },
     "execution_count": 18,
     "metadata": {},
     "output_type": "execute_result"
    }
   ],
   "source": [
    "Student.name # Object.attribute"
   ]
  },
  {
   "cell_type": "markdown",
   "metadata": {},
   "source": [
    "### Thêm vào phương thức"
   ]
  },
  {
   "cell_type": "code",
   "execution_count": 19,
   "metadata": {},
   "outputs": [],
   "source": [
    "class Student:\n",
    "    name=\"Roots Lambda\"\n",
    "    birthday=\"2001\"\n",
    "    gender=\"Male\"\n",
    "    def show(self): \n",
    "        print(\"Name:\",self.name)\n",
    "        print(\"Birthday:\",self.birthday)\n",
    "        print(\"Gender:\",self.gender)\n",
    "    def update(self,name,birthday,gender):\n",
    "        self.name=name\n",
    "        self.birthday=birthday\n",
    "        self.gender=gender       "
   ]
  },
  {
   "cell_type": "markdown",
   "metadata": {},
   "source": [
    "**Tham số self dùng để chỉ bản thân đối tượng**\n",
    "\n",
    "Tham số đầu tiên khi tạo phương thức trong Python không nhất thiết phải là self mà có thể là this hoặc that cũng được. Nhưng người ta sử dụng self để thể hiện đây là thực thể instance của object. Trong tiếng Anh self có thể hiểu là bản thân nó điều này giúp việc đọc code dễ hơn."
   ]
  },
  {
   "cell_type": "code",
   "execution_count": 8,
   "metadata": {},
   "outputs": [
    {
     "data": {
      "text/plain": [
       "'2001'"
      ]
     },
     "execution_count": 8,
     "metadata": {},
     "output_type": "execute_result"
    }
   ],
   "source": [
    "Student().birthday"
   ]
  },
  {
   "cell_type": "code",
   "execution_count": 20,
   "metadata": {},
   "outputs": [
    {
     "name": "stdout",
     "output_type": "stream",
     "text": [
      "Name: Roots Lambda\n",
      "Birthday: 2001\n",
      "Gender: Male\n"
     ]
    }
   ],
   "source": [
    "st=Student()\n",
    "st.show()"
   ]
  },
  {
   "cell_type": "code",
   "execution_count": 21,
   "metadata": {},
   "outputs": [],
   "source": [
    "st=Student()\n",
    "st.update(\"Lambda\",\"2000\",\"Male\")"
   ]
  },
  {
   "cell_type": "code",
   "execution_count": 22,
   "metadata": {},
   "outputs": [
    {
     "name": "stdout",
     "output_type": "stream",
     "text": [
      "Name: Lambda\n",
      "Birthday: 2000\n",
      "Gender: Male\n"
     ]
    }
   ],
   "source": [
    "st.show()"
   ]
  },
  {
   "cell_type": "code",
   "execution_count": 23,
   "metadata": {},
   "outputs": [
    {
     "name": "stdout",
     "output_type": "stream",
     "text": [
      "<class 'type'>\n"
     ]
    }
   ],
   "source": [
    "print(type(Student))# student là class object"
   ]
  },
  {
   "cell_type": "code",
   "execution_count": 24,
   "metadata": {},
   "outputs": [
    {
     "name": "stdout",
     "output_type": "stream",
     "text": [
      "<class '__main__.Student'>\n"
     ]
    }
   ],
   "source": [
    "print(type(st)) # st là instance object"
   ]
  },
  {
   "cell_type": "code",
   "execution_count": 25,
   "metadata": {},
   "outputs": [
    {
     "data": {
      "text/plain": [
       "['__class__',\n",
       " '__delattr__',\n",
       " '__dict__',\n",
       " '__dir__',\n",
       " '__doc__',\n",
       " '__eq__',\n",
       " '__format__',\n",
       " '__ge__',\n",
       " '__getattribute__',\n",
       " '__gt__',\n",
       " '__hash__',\n",
       " '__init__',\n",
       " '__init_subclass__',\n",
       " '__le__',\n",
       " '__lt__',\n",
       " '__module__',\n",
       " '__ne__',\n",
       " '__new__',\n",
       " '__reduce__',\n",
       " '__reduce_ex__',\n",
       " '__repr__',\n",
       " '__setattr__',\n",
       " '__sizeof__',\n",
       " '__str__',\n",
       " '__subclasshook__',\n",
       " '__weakref__',\n",
       " 'birthday',\n",
       " 'gender',\n",
       " 'name',\n",
       " 'show',\n",
       " 'update']"
      ]
     },
     "execution_count": 25,
     "metadata": {},
     "output_type": "execute_result"
    }
   ],
   "source": [
    "dir(Student)"
   ]
  },
  {
   "cell_type": "markdown",
   "metadata": {},
   "source": [
    "**Lưu ý: Các phương thức mà có 2 dấu underscore là nhưng phương thức magic của Python do builtin tạo ra.**"
   ]
  },
  {
   "cell_type": "markdown",
   "metadata": {},
   "source": [
    "# 5.2 Lệnh \\_\\_init\\_\\_ khởi tạo contructor\n",
    "\n",
    "Lệnh `__init__` giúp chúng ta có thể gán tự động các thuộc tính của đối tượng khi mới khởi tạo."
   ]
  },
  {
   "cell_type": "code",
   "execution_count": 29,
   "metadata": {},
   "outputs": [],
   "source": [
    "class Student:\n",
    "    def __init__(self,name,birthday,gender):\n",
    "        self.name=name\n",
    "        self.birthday=birthday\n",
    "        self.gender=gender\n",
    "    def show(self):\n",
    "        print(\"Name:\",self.name)\n",
    "        print(\"Birthday:\",self.birthday)\n",
    "        print(\"Gender:\",self.gender)"
   ]
  },
  {
   "cell_type": "code",
   "execution_count": 28,
   "metadata": {},
   "outputs": [
    {
     "name": "stdout",
     "output_type": "stream",
     "text": [
      "Name Cracker\n",
      "Birthday 2001\n",
      "Gender Male\n"
     ]
    }
   ],
   "source": [
    "st=Student(\"Cracker\",\"2001\",\"Male\")\n",
    "st.show()"
   ]
  },
  {
   "cell_type": "markdown",
   "metadata": {},
   "source": [
    "# 5.3 Các ưu điểm khi viết bằng lập trình hướng đối tượng\n",
    "## Tính kế thừa(Inheritance)\n",
    "\n",
    "Khi đã có lớp cha chúng ta sẽ có thể kế thừa lớp cha đó vào lớp con, nhờ đó có thể tái sử dụng lại thuộc tính và phương thức của lớp cha mà không cần phải khai báo lại.\n",
    "\n",
    "Thí dụ về kế thừa:\n",
    "\n",
    "Lớp cha là xe,lớp con sẽ là xe điện, xe gắn máy, ...."
   ]
  },
  {
   "cell_type": "code",
   "execution_count": 51,
   "metadata": {},
   "outputs": [
    {
     "name": "stdout",
     "output_type": "stream",
     "text": [
      "Giá của xe: 1000\n"
     ]
    }
   ],
   "source": [
    "class Car:\n",
    "    price=1000\n",
    "    def printprice(self):\n",
    "        print('Giá của xe:',self.price)\n",
    "class ElectricCar(Car):\n",
    "    pass\n",
    "Ele_Car=ElectricCar()\n",
    "Ele_Car.printprice()"
   ]
  },
  {
   "cell_type": "markdown",
   "metadata": {},
   "source": [
    "Ta thấy rằng lớp con không có phương thức khai báo nào nhưng vẫn có thể sử dụng phương thức của lớp cha nhờ kế thừa.\n",
    "\n",
    "Ví dụ sao ta sẽ thấy lớp con vừa kế thừa,vừa modify phương thức của lớp cha."
   ]
  },
  {
   "cell_type": "code",
   "execution_count": 99,
   "metadata": {},
   "outputs": [
    {
     "name": "stdout",
     "output_type": "stream",
     "text": [
      "Tạo instance cho lớp cha\n",
      "Giá trị của data là: 100\n",
      "Tạo instance cho lớp con\n",
      "Giá trị của data là: 1100\n"
     ]
    }
   ],
   "source": [
    "class FirstClass():\n",
    "    def setdata(self,value):\n",
    "        self.data=value\n",
    "    def display(self):\n",
    "        print(\"Giá trị của data là:\",self.data)\n",
    "class SecondClass(FirstClass):\n",
    "    def display(self):\n",
    "        print(\"Giá trị của data là:\",self.data+100)\n",
    "print(\"Tạo instance cho lớp cha\")\n",
    "a=FirstClass()\n",
    "a.setdata(100)\n",
    "a.display()\n",
    "print(\"Tạo instance cho lớp con\")\n",
    "b=SecondClass()\n",
    "b.setdata(1000) # Đây là phương thức kế thừa từ lớp cha\n",
    "b.display()   # Đây là phương thức modify của lớp con"
   ]
  },
  {
   "cell_type": "markdown",
   "metadata": {},
   "source": [
    "## Tính đa hình(Polymorphism)\n",
    "\n",
    "Những đối tượng kế thừa sẽ kế thừa những phương thức của lớp cha nhưng tùy trường hợp sẽ kế thừa chỉ một số phương thức của lớp cha, từng đối tượng riêng biệt sẽ có phương thức thể hiện khác nhau.\n",
    "\n",
    "Thí dụ:\n",
    "\n",
    "Lớp động vật là lớp cha, chó và mèo là lớp con, chó và mèo đều có cùng phương thức của lớp cha là đi ăn cơm, nhưng lớp mèo có phương thức kêu \"meo meo\", lớp chó có phương thức kêu \"gâu gâu\"."
   ]
  },
  {
   "cell_type": "code",
   "execution_count": 59,
   "metadata": {},
   "outputs": [
    {
     "name": "stdout",
     "output_type": "stream",
     "text": [
      "Meow\n",
      "Gauw\n"
     ]
    }
   ],
   "source": [
    "class Cat:\n",
    "    def __init__(self,name):\n",
    "        self.name=name\n",
    "    def make_sound(self):\n",
    "        print(\"Meow\")\n",
    "class Dog:\n",
    "    def __init__(self,name):\n",
    "        self.name=name\n",
    "    def make_sound(self):\n",
    "        print(\"Gauw\")\n",
    "def Make_sound(Animal):\n",
    "    Animal.make_sound()\n",
    "cat = Cat(\"Kailo\")\n",
    "dog = Dog(\"Radit\")\n",
    "Make_sound(cat);Make_sound(dog)"
   ]
  },
  {
   "cell_type": "markdown",
   "metadata": {},
   "source": [
    "## Tính đóng gói(Encapsulation)\n",
    "\n",
    "Giúp chúng ta có thể che giấu những thông tin và cách thức thực hiện tính toán bên trong đối tượng, muốn tác động vào đối tượng chúng ta phải thông qua phương thức do đối tượng cung cấp.\n",
    "\n",
    "Sử dụng OOP trong Python, ta có thể hạn chế quyền truy cập vào các phương thức và biến. Điều này ngăn dữ liệu khỏi sửa đổi trực tiếp đây có thể gọi là gói. Ta biểu thị các thuộc tính riêng tư bằng cách sử dụng dấu gạch dưới làm tiền tố: one underscore '\\_' hoặc two underscore '__'."
   ]
  },
  {
   "cell_type": "code",
   "execution_count": 1,
   "metadata": {},
   "outputs": [
    {
     "name": "stdout",
     "output_type": "stream",
     "text": [
      "Khởi tạo ban đầu\n",
      "Sách bán với giá: 1000\n",
      "------------------------------\n",
      "Truy cập thuộc tính để thay đổi\n",
      "Sách bán với giá: 1000\n",
      "------------------------------\n",
      "Truy cập vào phương thức để thay đổi\n",
      "Sách bán với giá: 300\n"
     ]
    }
   ],
   "source": [
    "class Textbook:\n",
    "    def __init__(self,price):\n",
    "        self.__price=price\n",
    "    def sell(self):\n",
    "        print(\"Sách bán với giá:\",self.__price)\n",
    "    def updateprice(self,price):\n",
    "        self.__price=price\n",
    "if __name__==\"__main__\":\n",
    "    print(\"Khởi tạo ban đầu\")\n",
    "    tx_book=Textbook(1000)\n",
    "    tx_book.sell()\n",
    "    print(30*\"-\",\"Truy cập thuộc tính để thay đổi\",sep='\\n')\n",
    "    tx_book.__price=300\n",
    "    tx_book.sell()\n",
    "    print(30*\"-\",\"Truy cập vào phương thức để thay đổi\",sep=\"\\n\")\n",
    "    tx_book.updateprice(300)\n",
    "    tx_book.sell()"
   ]
  },
  {
   "cell_type": "markdown",
   "metadata": {},
   "source": [
    "Ta thấy attribute là maxprice chỉ thay đổi được khi sử dụng phương thức trong lớp Computer là setMaxPrice, không thể thay đổi tùy tiện bằng cách truy cập instance vào từng attribute."
   ]
  },
  {
   "cell_type": "markdown",
   "metadata": {},
   "source": [
    "## Tính trừu tượng(Abstraction)\n",
    "\n",
    "Một đối tượng chắc chắn sẽ có rất nhiều phương thức và thuộc tính tuy nhiên khi lập trình ta chỉ sử dụng một vài phương thức, thuộc tính ta cho là quan trọng.\n",
    "\n",
    "Abstract class là một class mà bên trong nó chứa một hoặc nhiều phương thức trừu tượng. Phương thức trừu tượng ở đây là một phương thức mà chúng ta chỉ được phép khai báo nó và không được phép viết code thực thi nó. Khi một class được khai báo ở dạng abstract thì nó sẽ không thể nào khởi tạo được, mà chỉ có thể khởi tạo được thông qua các class con của nó. Một class kế thừa lại abstract class thì phải khai báo lại toàn bộ các phương thức trừu tượng bên trong abstract class mà nó kế thừa.\n",
    "\n",
    "Trong Python khi xây dựng lớp trừu tượng ta phải kế thừa từ lớp ABC(Abstract Base Class) và phương thức trừu tượng abstractmethod.\n",
    "```python\n",
    "# Form mẫu\n",
    "from abc import ABC, abstractmethod\n",
    "# ClassAbstract kế thừa từ lớp ABC\n",
    "class ClassAbstract(ABC):\n",
    "    # Khai báo phương thức trừu tượng\n",
    "    @abstractmethod\n",
    "    def methodName(self):\n",
    "        pass\n",
    "class SubClass(ClassAbstract):\n",
    "    def abstractmethod(self):\n",
    "        pass\n",
    "```\n",
    "**Ta thử tạo instance thông thường:**\n",
    "```python\n",
    "from abc import ABC, abstractmethod\n",
    "class Student(ABC):\n",
    "    def __init__(self,name,age):\n",
    "        self.name=name\n",
    "        self.age=age\n",
    "    def show(self):\n",
    "        print(\"Name:\",self.name)\n",
    "        print(\"Age:\",self.age)\n",
    "    @abstractmethod\n",
    "    def getshow(self):\n",
    "        pass\n",
    "st=Student()\n",
    "```\n",
    "`Output: TypeError: Can't instantiate abstract class Student with abstract methods getshow`\n",
    "\n",
    "**Rõ ràng lỗi ta thử kế thừa từ lớp cha và sử dụng phương thức của lớp con.**\n",
    "```python\n",
    "from abc import ABC, abstractmethod\n",
    "class Student(ABC):\n",
    "    def __init__(self,name,age):\n",
    "        self.name=name\n",
    "        self.age=age\n",
    "    def show(self):\n",
    "        print(\"Name:\",self.name)\n",
    "        print(\"Age:\",self.age)\n",
    "    @abstractmethod\n",
    "    def getshow(self):\n",
    "        pass\n",
    "class Student_A(Student):\n",
    "    pass\n",
    "st_A=Student_A()\n",
    "```\n",
    "`Output: TypeError: Can't instantiate abstract class Student_A with abstract methods getshow`\n",
    "\n",
    "**Vẫn lỗi ta sẽ thêm phương thức abstract vào lớp con.**"
   ]
  },
  {
   "cell_type": "code",
   "execution_count": 86,
   "metadata": {},
   "outputs": [
    {
     "name": "stdout",
     "output_type": "stream",
     "text": [
      "Name: Lambda\n",
      "Age: 21\n"
     ]
    }
   ],
   "source": [
    "from abc import ABC, abstractmethod\n",
    "class Student(ABC):\n",
    "    def __init__(self,name,age):\n",
    "        self.name=name\n",
    "        self.age=age\n",
    "    def show(self):\n",
    "        print(\"Name:\",self.name)\n",
    "        print(\"Age:\",self.age)\n",
    "    @abstractmethod\n",
    "    def getshow(self):\n",
    "        pass\n",
    "class Student_A(Student):\n",
    "    def getshow(self):\n",
    "        self.show()\n",
    "st_A=Student_A(\"Lambda\",21)\n",
    "st.getshow()"
   ]
  },
  {
   "cell_type": "markdown",
   "metadata": {},
   "source": [
    "# 5.4 Bài tập Excercise\n",
    "## A. Quiz\n",
    "**Câu 1:** Nêu những điểm chính của hướng đối tượng oop trong python?\n",
    "\n",
    "**Câu 2:** Tìm kiếm kế thừa tìm một thuộc tính ở đâu?\n",
    "\n",
    "**Câu 3:** Sự khác nhau giữa class object và instance object là gì?\n",
    "\n",
    "**Câu 4:** Tại sao đối số đầu tiên trong hàm phương thức của class là đặc biệt?\n",
    "\n",
    "**Câu 5:** Phương thức \\_\\_init\\_\\_ được sử dụng để làm gì?\n",
    "\n",
    "## B. Coding\n",
    "**Câu 6:** Viết lớp QuadrilSquare là đối tượng hình chữ nhật, viết các phương thức tính chu vi và diện tích của lớp này.\n",
    "\n",
    "**Câu 7:** Viết lớp Học sinh gồm có các thuộc tính tên, địa chỉ, chiều cao, cân nặng, học lực. Phương thức thay đổi địa chỉ, thay đổi chiều cao, thay đổi học lực.\n",
    "\n",
    "**Câu 8:** Viết lớp Triangle có các thuộc tính name, a, b, c lần lượt là tên và độ dài ba cạnh của tam giác. Phương thức change và isTriagle có chức năng thay đổi, kiểm tra ba số có tạo thành một tam giác.\n",
    "\n",
    "**Câu 9:** Viết lớp Cricle gồm có thuộc tính là r bán kính, tọa độ tâm (x,y), phương thức tính chu vi và diện tích hình tròn.\n",
    "\n",
    "**Câu 10:** Viết ba lớp tam giác thường, tam giác cân, tam giác đều, kế thừa từ lớp cha, các phương thức tính chu vi và diện tích.\n",
    "\n",
    "---"
   ]
  },
  {
   "cell_type": "markdown",
   "metadata": {},
   "source": [
    "# <span style= 'color:blue'> Đáp án </span> \n",
    "\n",
    "**1.** OOP có thể sử dụng lại mã để giảm thiểu sự dư thừa và lập trình bằng cách tùy chỉnh những gì đã có thay vì thay đổi mã hoặc viết lại từ đầu.\n",
    "\n",
    "**2.** Tìm kiếm kế thừa sẽ tìm kiếm một thuộc tính trước tiên trong đối tượng cá thể(instance object), sau đó trong lớp mà cá thể được tạo từ đó, tiếp đến trong tất cả các lớp cha cao hơn từ dưới lên trên cùng của tree object và từ trái sang phải (theo mặc định). Việc tìm kiếm dừng lại ở vị trí đầu tiên mà thuộc tính được tìm thấy.\n",
    "\n",
    "**3.** Class object và instance object đều là namespace. Sự khác biệt chính giữa chúng là các classes như là một nhà máy có thể tạo nhiều loại instance. Các classes hỗ trợ các phương thức nạp chồng toán tử, các instance này kế thừa và coi bất kỳ hàm nào được lồng trong class là các phương thức cho xử lý instance.\n",
    "\n",
    "**4.** Đối số đầu tiên trong hàm phương thức của class là đặc biệt vì nó luôn nhận đối tượng instance là đối tượng ngụ ý của lời gọi phương thức.\n",
    "\n",
    "**5.** Nếu phương thức \\_\\_init\\_\\_ được viết hoặc kế thừa trong một lớp, Python sẽ tự động gọi nó mỗi khi một instance của lớp đó được tạo. Nó còn được gọi là phương thức khởi tạo(constructor), và nó ngầm hiểu là truyền vào một instance mới, cũng như bất kỳ đối số nào được truyền một cách rõ ràng đến tên lớp. Đây cũng là phương pháp nạp chồng toán tử được sử dụng phổ biến nhất.\n",
    "\n",
    "Nếu không có phương thức \\_\\_init\\_\\_ nào các instance chỉ hoạt động dưới dạng namespace empty. Khi một thực thể (instance) của một class được tạo ra thì hàm này sẽ được thực thi đầu tiên một cách tự động.\n",
    "\n",
    "---"
   ]
  },
  {
   "cell_type": "code",
   "execution_count": 102,
   "metadata": {},
   "outputs": [
    {
     "data": {
      "text/plain": [
       "(22, 30)"
      ]
     },
     "execution_count": 102,
     "metadata": {},
     "output_type": "execute_result"
    }
   ],
   "source": [
    "# 6\n",
    "class QuadrilSquare:\n",
    "    def __init__(self,w,b):\n",
    "        self.w=w\n",
    "        self.b=b\n",
    "        \n",
    "    def perimeter(self):\n",
    "        return 2*(self.w+self.b)\n",
    "    \n",
    "    def area(self):\n",
    "        return self.w*self.b\n",
    "    \n",
    "qs=QuadrilSquare(5,6)\n",
    "qs.perimeter(),qs.area()"
   ]
  },
  {
   "cell_type": "code",
   "execution_count": 104,
   "metadata": {},
   "outputs": [
    {
     "data": {
      "text/plain": [
       "'Long An'"
      ]
     },
     "execution_count": 104,
     "metadata": {},
     "output_type": "execute_result"
    }
   ],
   "source": [
    "# 7\n",
    "class Student:\n",
    "    def __init__(self,name,address,height,weight,rank):\n",
    "        self.name=name\n",
    "        self.address=address\n",
    "        self.height=height\n",
    "        self.weight=weight\n",
    "        \n",
    "    def change_address(self,address):\n",
    "        self.address=address\n",
    "        \n",
    "    def change_height_weight(self,height,weight):\n",
    "        self.height=height\n",
    "        self.weight=weight\n",
    "        \n",
    "    def change_rank(self,rank):\n",
    "        self.rank=rank\n",
    "        \n",
    "s=Student(\"Lambda\",\"HCM city\",188,55,\"Fairly good\")\n",
    "c=s.change_address(\"Long An\")\n",
    "s.address  # Phương thức có 2 dấu ngoặc tròn còn thuộc tính thì không có"
   ]
  },
  {
   "cell_type": "code",
   "execution_count": 117,
   "metadata": {},
   "outputs": [
    {
     "data": {
      "text/plain": [
       "'No'"
      ]
     },
     "execution_count": 117,
     "metadata": {},
     "output_type": "execute_result"
    }
   ],
   "source": [
    "# 8\n",
    "class Triangle:\n",
    "    def __init__(self,name,a,b,c):\n",
    "        self.name=name\n",
    "        self.a=a\n",
    "        self.b=b\n",
    "        self.c=c\n",
    "        \n",
    "    def change(self,a,b,c):\n",
    "        self.a=a\n",
    "        self.b=b\n",
    "        self.c=c\n",
    "        \n",
    "    def isTriange(self,a,b,c):\n",
    "        if a+b>c and a+c>b and c+b>a:\n",
    "            return \"Yes\"\n",
    "        else:\n",
    "            return \"No\"\n",
    "        \n",
    "t=Triangle(\"Lambda\",1,2,3)\n",
    "t.isTriange(1,2,3)"
   ]
  },
  {
   "cell_type": "code",
   "execution_count": 1,
   "metadata": {},
   "outputs": [
    {
     "data": {
      "text/plain": [
       "31.400000000000002"
      ]
     },
     "execution_count": 1,
     "metadata": {},
     "output_type": "execute_result"
    }
   ],
   "source": [
    "# 9\n",
    "class Cricle:\n",
    "    def __init__(self,r,x,y):\n",
    "        self.r=r\n",
    "        self.x=x\n",
    "        self.y=y\n",
    "        \n",
    "    def parimeter(self):\n",
    "        return self.r*2*3.14\n",
    "    \n",
    "    def area(self):\n",
    "        return self.r*self.r*3.14\n",
    "    \n",
    "c=Cricle(5,4,3)\n",
    "c.parimeter()    "
   ]
  },
  {
   "cell_type": "code",
   "execution_count": 2,
   "metadata": {},
   "outputs": [
    {
     "name": "stdout",
     "output_type": "stream",
     "text": [
      "Diện tích của tam giác: 3.799671038392666\n",
      "Diện tích của tam giác cân: 4.47213595499958\n",
      "Diện tích của tam giác đều: 6.0\n"
     ]
    }
   ],
   "source": [
    "# 10\n",
    "import math as m\n",
    "class Triangle:\n",
    "    def __init__(self,a,b,c):\n",
    "        self.a=a\n",
    "        self.b=b\n",
    "        self.c=c\n",
    "        \n",
    "    def perimeter(self):\n",
    "        return self.a+self.b+self.c\n",
    "    \n",
    "    def area(self):\n",
    "        p=(self.a+self.b+self.c)/2\n",
    "        return m.sqrt(p*(p-self.a)*(p-self.b)*(p-self.c))\n",
    "    \n",
    "class Isosceles_Triangle(Triangle):\n",
    "    def __init__(self,a,c):\n",
    "        self.a=a\n",
    "        self.c=c\n",
    "        \n",
    "    def perimeter(self):\n",
    "        return 2*self.a+self.c\n",
    "    \n",
    "    def area(self):\n",
    "        p=(2*self.a+self.c)/2\n",
    "        return m.sqrt(p*2*(p-self.a)*(p-self.c))\n",
    "    \n",
    "class Equilateral_Triangle(Isosceles_Triangle):\n",
    "    def __init__(self,a):\n",
    "        self.a=a\n",
    "        \n",
    "    def perimeter(self):\n",
    "        return 3*self.a\n",
    "    \n",
    "    def area(self):\n",
    "        p=3/2*self.a\n",
    "        return m.sqrt(p*3*(p-self.a))\n",
    "    \n",
    "tr=Triangle(2,5,4)\n",
    "print(\"Diện tích của tam giác:\",tr.area())\n",
    "is_Tr=Isosceles_Triangle(3,4)\n",
    "print(\"Diện tích của tam giác cân:\",is_Tr.area())\n",
    "eq_Tr=Equilateral_Triangle(4)\n",
    "print(\"Diện tích của tam giác đều:\",eq_Tr.area())"
   ]
  },
  {
   "cell_type": "code",
   "execution_count": null,
   "metadata": {},
   "outputs": [],
   "source": []
  }
 ],
 "metadata": {
  "kernelspec": {
   "display_name": "Python 3",
   "language": "python",
   "name": "python3"
  },
  "language_info": {
   "codemirror_mode": {
    "name": "ipython",
    "version": 3
   },
   "file_extension": ".py",
   "mimetype": "text/x-python",
   "name": "python",
   "nbconvert_exporter": "python",
   "pygments_lexer": "ipython3",
   "version": "3.7.0"
  }
 },
 "nbformat": 4,
 "nbformat_minor": 2
}
