{
 "cells": [
  {
   "cell_type": "markdown",
   "metadata": {},
   "source": [
    "# 6.1 Quy trình xây dựng class\n",
    "Chúng ta sẽ xây dựng một tập hợp các lớp có thể ghi lại và xử lý thông tin về con người. Như\n",
    "bạn sẽ thấy, các instance và classes trong lập trình Python thường có vai trò giống như các bản ghi và chương trình theo như các chương trình hướng thủ tục.\n",
    "\n",
    "Trong bài này chúng ta sẽ tạo 2 lớp là: \n",
    "+ **Person:** xử lý các tác vụ liên quan đến con người \n",
    "+ **Manager:** thừa kế từ Person các hành vi."
   ]
  },
  {
   "cell_type": "markdown",
   "metadata": {},
   "source": [
    "## Bước 1: Tạo instance, contructor"
   ]
  },
  {
   "cell_type": "code",
   "execution_count": 1,
   "metadata": {},
   "outputs": [
    {
     "name": "stdout",
     "output_type": "stream",
     "text": [
      "Bob Smith 0\n",
      "Sue Jones 100000\n"
     ]
    }
   ],
   "source": [
    "class Person: # File person.py\n",
    "    def __init__(this,name,job=None,pay=0): # Xác định tham số mặc định\n",
    "        this.name=name\n",
    "        this.job=job\n",
    "        this.pay=pay           # this là instance new\n",
    "bob=Person(\"Bob Smith\")  # Kiểm tra code\n",
    "sue=Person(\"Sue Jones\",job='dev',pay=100000)\n",
    "print(bob.name,bob.pay)\n",
    "print(sue.name,sue.pay)"
   ]
  },
  {
   "cell_type": "code",
   "execution_count": 2,
   "metadata": {},
   "outputs": [
    {
     "name": "stdout",
     "output_type": "stream",
     "text": [
      "Bob Smith 0\n",
      "Sue Jones 100000\n"
     ]
    }
   ],
   "source": [
    "class Person:             \n",
    "    def __init__(this,name,job=None,pay=0):\n",
    "        this.name=name\n",
    "        this.job=job\n",
    "        this.pay=pay\n",
    "if __name__==\"__main__\": # Dùng __name__ và __main__ quản lý module tránh import nơi khác\n",
    "    bob=Person(\"Bob Smith\") # Việc test code sẽ được bảo vệ trong câu lệnh if\n",
    "    sue=Person(\"Sue Jones\",job='dev',pay=100000)\n",
    "    print(bob.name,bob.pay)\n",
    "    print(sue.name,sue.pay)"
   ]
  },
  {
   "cell_type": "markdown",
   "metadata": {},
   "source": [
    "## Bước 2: Thêm hành vi đối tượng"
   ]
  },
  {
   "cell_type": "code",
   "execution_count": 3,
   "metadata": {},
   "outputs": [
    {
     "data": {
      "text/plain": [
       "['Bob', 'Smith']"
      ]
     },
     "execution_count": 3,
     "metadata": {},
     "output_type": "execute_result"
    }
   ],
   "source": [
    "name=\"Bob Smith\" # Test bên ngoài class\n",
    "name.split()"
   ]
  },
  {
   "cell_type": "code",
   "execution_count": 4,
   "metadata": {},
   "outputs": [
    {
     "data": {
      "text/plain": [
       "'Smith'"
      ]
     },
     "execution_count": 4,
     "metadata": {},
     "output_type": "execute_result"
    }
   ],
   "source": [
    "name.split()[-1] # last name"
   ]
  },
  {
   "cell_type": "code",
   "execution_count": 5,
   "metadata": {},
   "outputs": [
    {
     "name": "stdout",
     "output_type": "stream",
     "text": [
      "110000.00\n"
     ]
    }
   ],
   "source": [
    "pay=100000 # xây dựng biểu thức tính lương\n",
    "pay*=1.1\n",
    "print(\"%.2f\"%pay) # pay=pay+pay*1.1"
   ]
  },
  {
   "cell_type": "code",
   "execution_count": 6,
   "metadata": {},
   "outputs": [
    {
     "name": "stdout",
     "output_type": "stream",
     "text": [
      "Bob Smith 0\n",
      "Sue Jones 100000\n",
      "Smith\n",
      "110000.00\n"
     ]
    }
   ],
   "source": [
    "# Process embedded\n",
    "class Person:\n",
    "    def __init__(this,name,job=None,pay=0):\n",
    "        this.name=name\n",
    "        this.job=job\n",
    "        this.pay=pay\n",
    "if __name__==\"__main__\":   # Kiểm tra\n",
    "    bob=Person(\"Bob Smith\")\n",
    "    sue=Person(\"Sue Jones\",job='dev',pay=100000)\n",
    "    print(bob.name,bob.pay)\n",
    "    print(sue.name,sue.pay)\n",
    "    print(bob.name.split()[-1])\n",
    "    sue.pay*=1.10\n",
    "    print(\"%.2f\"%sue.pay)"
   ]
  },
  {
   "cell_type": "code",
   "execution_count": 7,
   "metadata": {},
   "outputs": [
    {
     "name": "stdout",
     "output_type": "stream",
     "text": [
      "Bob Smith 0\n",
      "Sue Jones 100000\n",
      "Smith,Jones\n",
      "Sue Jones 110000\n"
     ]
    }
   ],
   "source": [
    "# Add method to encapsulate\n",
    "class Person:\n",
    "    def __init__(this,name,job=None,pay=0):\n",
    "        this.name=name   \n",
    "        this.job=job\n",
    "        this.pay=pay\n",
    "    def lastName(this):  # Thêm vào phương thức lastname \n",
    "        return this.name.split()[-1]\n",
    "    def giveRaise(this,percent): # thêm vào phương thức giveRaise đồng thời xác định có đối số ?\n",
    "        this.pay=int(this.pay*(1+percent))\n",
    "if __name__==\"__main__\":\n",
    "    bob=Person(\"Bob Smith\")\n",
    "    sue=Person(\"Sue Jones\",job='dev',pay=100000)\n",
    "    print(bob.name,bob.pay)\n",
    "    print(sue.name,sue.pay)\n",
    "    print(bob.lastName(),sue.lastName(),sep=',')\n",
    "    sue.giveRaise(0.10)\n",
    "    print(sue.name,sue.pay)"
   ]
  },
  {
   "cell_type": "markdown",
   "metadata": {},
   "source": [
    "## Bước 3: Sử dụng Operator Overloading"
   ]
  },
  {
   "cell_type": "code",
   "execution_count": 8,
   "metadata": {},
   "outputs": [
    {
     "name": "stdout",
     "output_type": "stream",
     "text": [
      "[Person:Bob Smith, 0]\n",
      "[Person:Sue Jones, 100000]\n",
      "Smith,Jones\n",
      "[Person:Sue Jones, 110000]\n"
     ]
    }
   ],
   "source": [
    "# Add __repr__ for print object\n",
    "class Person:\n",
    "    def __init__(this,name,job=None,pay=0):\n",
    "        this.name=name\n",
    "        this.job=job\n",
    "        this.pay=pay\n",
    "    def lastName(this):\n",
    "        return this.name.split()[-1]\n",
    "    def giveRaise(this,percent):\n",
    "        this.pay=int(this.pay*(1+percent))\n",
    "    def __repr__(this): # Các atribute của instance nằm trong 1 danh sách\n",
    "        return \"[Person:%s, %s]\"%(this.name,this.pay)\n",
    "if __name__==\"__main__\":\n",
    "    bob=Person(\"Bob Smith\")\n",
    "    sue=Person(\"Sue Jones\",job='dev',pay=100000)\n",
    "    print(bob)\n",
    "    print(sue)\n",
    "    print(bob.lastName(),sue.lastName(),sep=',')\n",
    "    sue.giveRaise(0.10)\n",
    "    print(sue)"
   ]
  },
  {
   "cell_type": "markdown",
   "metadata": {},
   "source": [
    "## Bước 4: Tạo class con điều chỉnh hành vi"
   ]
  },
  {
   "cell_type": "markdown",
   "metadata": {},
   "source": [
    "**Tạo class Manager**"
   ]
  },
  {
   "cell_type": "code",
   "execution_count": 9,
   "metadata": {},
   "outputs": [],
   "source": [
    "class Manager(Person): # Inherit Person\n",
    "    def giveRaise(this,percent,bonus=0.1): \n",
    "        this.pay=int(this.pay*(1+percent+bonus)) # Modify giveRaise"
   ]
  },
  {
   "cell_type": "code",
   "execution_count": 10,
   "metadata": {},
   "outputs": [],
   "source": [
    "class Manager(Person):\n",
    "    def giveRaise(this,percent,bonus=0.1): \n",
    "        Person.giveRaise(this,percent+bonus) # Thay đổi đối số của superclass"
   ]
  },
  {
   "cell_type": "code",
   "execution_count": 11,
   "metadata": {},
   "outputs": [
    {
     "name": "stdout",
     "output_type": "stream",
     "text": [
      "[Person:Bob Smith, 0]\n",
      "[Person:Sue Jones, 100000]\n",
      "Smith,Jones\n",
      "[Person:Sue Jones, 110000]\n",
      "Jomes\n",
      "[Person:Tom Jomes, 60000]\n"
     ]
    }
   ],
   "source": [
    "# Add customization of one behavior in a class\n",
    "class Person:\n",
    "    def __init__(this,name,job=None,pay=0):\n",
    "        this.name=name\n",
    "        this.job=job\n",
    "        this.pay=pay\n",
    "    def lastName(this):\n",
    "        return this.name.split()[-1]\n",
    "    def giveRaise(this,percent):\n",
    "        this.pay=int(this.pay*(1+percent))\n",
    "    def __repr__(this):\n",
    "        return \"[Person:%s, %s]\"%(this.name,this.pay)\n",
    "class Manager(Person):\n",
    "    def giveRaise(this,percent,bonus=0.1):\n",
    "        Person.giveRaise(this,percent+bonus)\n",
    "if __name__==\"__main__\":\n",
    "    bob=Person(\"Bob Smith\")\n",
    "    sue=Person(\"Sue Jones\",job='dev',pay=100000)\n",
    "    print(bob)\n",
    "    print(sue)\n",
    "    print(bob.lastName(),sue.lastName(),sep=',')  \n",
    "    sue.giveRaise(0.10)\n",
    "    print(sue)\n",
    "    tom=Manager(\"Tom Jomes\",'mgr',50000) # Test Manager\n",
    "    tom.giveRaise(0.1)\n",
    "    print(tom.lastName())\n",
    "    print(tom)"
   ]
  },
  {
   "cell_type": "code",
   "execution_count": 12,
   "metadata": {},
   "outputs": [
    {
     "name": "stdout",
     "output_type": "stream",
     "text": [
      "[Person:Bob Smith, 0]\n",
      "[Person:Sue Jones, 100000]\n",
      "Smith Jones\n",
      "[Person:Sue Jones, 110000]\n",
      "Jomes\n",
      "[Person:Tom Jomes, 60000]\n",
      "--ALL there\n",
      "[Person:Bob Smith, 0]\n",
      "[Person:Sue Jones, 121000]\n",
      "[Person:Tom Jomes, 72000]\n"
     ]
    }
   ],
   "source": [
    "# Polymorphism in action\n",
    "class Person:\n",
    "    def __init__(this,name,job=None,pay=0):\n",
    "        this.name=name\n",
    "        this.job=job\n",
    "        this.pay=pay\n",
    "    def lastName(this):\n",
    "        return this.name.split()[-1]\n",
    "    def giveRaise(this,percent):\n",
    "        this.pay=int(this.pay*(1+percent))\n",
    "    def __repr__(this):\n",
    "        return \"[Person:%s, %s]\"%(this.name,this.pay)\n",
    "class Manager(Person):\n",
    "    def giveRaise(this,percent,bonus=0.1):\n",
    "        Person.giveRaise(this,percent+bonus)\n",
    "if __name__==\"__main__\":\n",
    "    bob=Person(\"Bob Smith\")\n",
    "    sue=Person(\"Sue Jones\",job='dev',pay=100000)\n",
    "    print(bob)\n",
    "    print(sue)\n",
    "    print(bob.lastName(),sue.lastName())\n",
    "    sue.giveRaise(0.10)\n",
    "    print(sue)\n",
    "    tom=Manager(\"Tom Jomes\",'mgr',50000)\n",
    "    tom.giveRaise(0.1)\n",
    "    print(tom.lastName())\n",
    "    print(tom)\n",
    "    print('--ALL there')     # Process objects generically\n",
    "    for obj in (bob,sue,tom):\n",
    "        obj.giveRaise(0.1)\n",
    "        print(obj)"
   ]
  },
  {
   "cell_type": "markdown",
   "metadata": {},
   "source": [
    "## Bước 5: Điều chỉnh contructor của subclass "
   ]
  },
  {
   "cell_type": "code",
   "execution_count": 13,
   "metadata": {},
   "outputs": [
    {
     "name": "stdout",
     "output_type": "stream",
     "text": [
      "[Person:Bob Smith, 0]\n",
      "[Person:Sue Jones, 100000]\n",
      "Smith Jones\n",
      "[Person:Sue Jones, 110000]\n",
      "Jomes\n",
      "[Person:Tom Jomes, 60000]\n"
     ]
    }
   ],
   "source": [
    "#  Add customization of contructor in a subclass\n",
    "class Person:\n",
    "    def __init__(this,name,job=None,pay=0):\n",
    "        this.name=name\n",
    "        this.job=job\n",
    "        this.pay=pay\n",
    "    def lastName(this):\n",
    "        return this.name.split()[-1]\n",
    "    def giveRaise(this,percent):\n",
    "        this.pay=int(this.pay*(1+percent))\n",
    "    def __repr__(this):\n",
    "        return \"[Person:%s, %s]\"%(this.name,this.pay)\n",
    "class Manager(Person):\n",
    "    def __init__(this,name,pay):\n",
    "        Person.__init__(this,name,'mgr',pay) # Default job là mgr\n",
    "    def giveRaise(this,percent,bonus=0.1):\n",
    "        Person.giveRaise(this,percent+bonus)\n",
    "if __name__==\"__main__\":\n",
    "    bob=Person(\"Bob Smith\")\n",
    "    sue=Person(\"Sue Jones\",job='dev',pay=100000)\n",
    "    print(bob)\n",
    "    print(sue)\n",
    "    print(bob.lastName(),sue.lastName()) \n",
    "    sue.giveRaise(0.10)\n",
    "    print(sue)\n",
    "    tom=Manager(\"Tom Jomes\",50000) # Không cần truyền vào đối số job='mgr'\n",
    "    tom.giveRaise(0.1)\n",
    "    print(tom.lastName())\n",
    "    print(tom)\n",
    "    "
   ]
  },
  {
   "cell_type": "code",
   "execution_count": 14,
   "metadata": {},
   "outputs": [
    {
     "name": "stdout",
     "output_type": "stream",
     "text": [
      "[Person:Bob Smith, 0]\n",
      "[Person:Sue Jones, 110000]\n",
      "[Person:Tom Jones, 60000]\n"
     ]
    }
   ],
   "source": [
    "# File person-department.py\n",
    "# Aggregate embedded objects into a composite\n",
    "class Person:\n",
    "    def __init__(this,name,job=None,pay=0):\n",
    "        this.name=name\n",
    "        this.job=job\n",
    "        this.pay=pay\n",
    "    def lastName(this):\n",
    "        return this.name.split()[-1]\n",
    "    def giveRaise(this,percent):\n",
    "        this.pay=int(this.pay*(1+percent))\n",
    "    def __repr__(this):\n",
    "        return \"[Person:%s, %s]\"%(this.name,this.pay)\n",
    "class Manager(Person):\n",
    "    def __init__(this,name,pay):\n",
    "        Person.__init__(this,name,'mgr',pay)\n",
    "    def giveRaise(this,percent,bonus=0.1):\n",
    "        Person.giveRaise(this,percent+bonus)\n",
    "class Department:\n",
    "    def __init__(this,*args):\n",
    "        this.members=list(args)\n",
    "    def addMember(this,person):\n",
    "        this.members.append(person)\n",
    "    def giveRaises(this,percent):\n",
    "        for person in this.members:\n",
    "            person.giveRaise(percent)\n",
    "    def showAll(this):\n",
    "        for person in this.members:\n",
    "            print(person)\n",
    "if __name__==\"__main__\":\n",
    "    bob=Person(\"Bob Smith\")\n",
    "    sue=Person(\"Sue Jones\",job='dev',pay=100000)            \n",
    "    tom=Manager(\"Tom Jones\",50000)\n",
    "    development=Department(bob,sue)\n",
    "    development.addMember(tom)\n",
    "    development.giveRaises(0.1)\n",
    "    development.showAll()"
   ]
  },
  {
   "cell_type": "markdown",
   "metadata": {},
   "source": [
    "## Bước 6: Sử dụng công cụ introspection\n",
    "\n",
    "\n",
    "+ Thuộc tính **instance.\\_\\_ class\\_\\_**  trong built-in cung cấp một liên kết từ một instance đến lớp mà từ đó nó được tạo. Các lớp trả về là  **\\_\\_name\\_\\_**, giống như các module, và **\\_\\_bases\\_\\_** cung cấp quyền truy cập vào các lớp cha. Chúng ta có thể sử dụng những ở đây để in tên của lớp từ đó instance được tạo ra thay vì một hardcoded.\n",
    "\n",
    "+ Thuộc tính **object.\\_\\_ dict\\_\\_** trong built-in cung cấp một từ điển với một cặp khóa / giá trị cho mọi thuộc tính có trong không gian tên của object (bao gồm module, classes, và instance). Bởi vì nó là một từ điển, chúng ta có thể tìm nạp danh sách khóa của nó, lập chỉ mục theo khóa, lặp lại các khóa của nó, v.v."
   ]
  },
  {
   "cell_type": "code",
   "execution_count": 15,
   "metadata": {},
   "outputs": [
    {
     "name": "stdout",
     "output_type": "stream",
     "text": [
      "[Person:Bob Smith, 0]\n"
     ]
    }
   ],
   "source": [
    "from person import Person\n",
    "\n",
    "bob=Person('Bob Smith')\n",
    "print(bob)"
   ]
  },
  {
   "cell_type": "code",
   "execution_count": 16,
   "metadata": {},
   "outputs": [
    {
     "data": {
      "text/plain": [
       "person.Person"
      ]
     },
     "execution_count": 16,
     "metadata": {},
     "output_type": "execute_result"
    }
   ],
   "source": [
    "bob.__class__ # show class of bob's"
   ]
  },
  {
   "cell_type": "code",
   "execution_count": 17,
   "metadata": {},
   "outputs": [
    {
     "data": {
      "text/plain": [
       "'Person'"
      ]
     },
     "execution_count": 17,
     "metadata": {},
     "output_type": "execute_result"
    }
   ],
   "source": [
    "bob.__class__.__name__"
   ]
  },
  {
   "cell_type": "code",
   "execution_count": 18,
   "metadata": {},
   "outputs": [
    {
     "data": {
      "text/plain": [
       "['name', 'job', 'pay']"
      ]
     },
     "execution_count": 18,
     "metadata": {},
     "output_type": "execute_result"
    }
   ],
   "source": [
    "list(bob.__dict__.keys()) # Attribute"
   ]
  },
  {
   "cell_type": "code",
   "execution_count": 19,
   "metadata": {},
   "outputs": [
    {
     "name": "stdout",
     "output_type": "stream",
     "text": [
      "name ==> Bob Smith\n",
      "job ==> None\n",
      "pay ==> 0\n"
     ]
    }
   ],
   "source": [
    "for key in bob.__dict__:\n",
    "    print(key,\"==>\",bob.__dict__[key])"
   ]
  },
  {
   "cell_type": "code",
   "execution_count": 20,
   "metadata": {},
   "outputs": [
    {
     "name": "stdout",
     "output_type": "stream",
     "text": [
      "name ==> Bob Smith\n",
      "job ==> None\n",
      "pay ==> 0\n"
     ]
    }
   ],
   "source": [
    "for key in bob.__dict__:\n",
    "    print(key,\"==>\",getattr(bob,key))"
   ]
  },
  {
   "cell_type": "markdown",
   "metadata": {},
   "source": [
    "### Công cụ hiển thị chung"
   ]
  },
  {
   "cell_type": "code",
   "execution_count": 21,
   "metadata": {},
   "outputs": [
    {
     "name": "stdout",
     "output_type": "stream",
     "text": [
      "[TopTest:attr1=0,attr2=1]\n",
      "[SubTest:attr1=2,attr2=3]\n"
     ]
    }
   ],
   "source": [
    "# File classtools.py\n",
    "class AttrDisplay:\n",
    "    def gatherAttrs(this):\n",
    "        attrs=[]\n",
    "        for key in sorted(this.__dict__):\n",
    "            attrs.append(\"%s=%s\"%(key,getattr(this,key)))\n",
    "        return ','.join(attrs)\n",
    "    def __repr__(this):\n",
    "        return '[%s:%s]'%(this.__class__.__name__,this.gatherAttrs())\n",
    "if __name__=='__main__':\n",
    "    class TopTest(AttrDisplay):\n",
    "        count=0\n",
    "        def __init__(this):\n",
    "            this.attr1=TopTest.count\n",
    "            this.attr2=TopTest.count+1\n",
    "            TopTest.count+=2\n",
    "    class SubTest(TopTest):\n",
    "        pass\n",
    "    X,Y=TopTest(),SubTest()\n",
    "    print(X)\n",
    "    print(Y)\n",
    "        "
   ]
  },
  {
   "cell_type": "markdown",
   "metadata": {},
   "source": [
    "## Instance với class attributes"
   ]
  },
  {
   "cell_type": "code",
   "execution_count": 22,
   "metadata": {},
   "outputs": [],
   "source": [
    "from person import Person\n",
    "bob=Person(\"Bob Smith\")"
   ]
  },
  {
   "cell_type": "code",
   "execution_count": 23,
   "metadata": {},
   "outputs": [
    {
     "data": {
      "text/plain": [
       "dict_keys(['name', 'job', 'pay'])"
      ]
     },
     "execution_count": 23,
     "metadata": {},
     "output_type": "execute_result"
    }
   ],
   "source": [
    "bob.__dict__.keys() # Chỉ có attribute của instance"
   ]
  },
  {
   "cell_type": "code",
   "execution_count": 24,
   "metadata": {},
   "outputs": [
    {
     "data": {
      "text/plain": [
       "['__class__',\n",
       " '__delattr__',\n",
       " '__dict__',\n",
       " '__dir__',\n",
       " '__doc__',\n",
       " '__eq__',\n",
       " '__format__',\n",
       " '__ge__',\n",
       " '__getattribute__',\n",
       " '__gt__',\n",
       " '__hash__',\n",
       " '__init__',\n",
       " '__init_subclass__',\n",
       " '__le__',\n",
       " '__lt__',\n",
       " '__module__',\n",
       " '__ne__',\n",
       " '__new__',\n",
       " '__reduce__',\n",
       " '__reduce_ex__',\n",
       " '__repr__',\n",
       " '__setattr__',\n",
       " '__sizeof__',\n",
       " '__str__',\n",
       " '__subclasshook__',\n",
       " '__weakref__',\n",
       " 'gatherAttrs',\n",
       " 'giveRaise',\n",
       " 'job',\n",
       " 'lastName',\n",
       " 'name',\n",
       " 'pay']"
      ]
     },
     "execution_count": 24,
     "metadata": {},
     "output_type": "execute_result"
    }
   ],
   "source": [
    "dir(bob)"
   ]
  },
  {
   "cell_type": "code",
   "execution_count": 25,
   "metadata": {},
   "outputs": [
    {
     "data": {
      "text/plain": [
       "['name', 'job', 'pay']"
      ]
     },
     "execution_count": 25,
     "metadata": {},
     "output_type": "execute_result"
    }
   ],
   "source": [
    "list(bob.__dict__.keys())"
   ]
  },
  {
   "cell_type": "code",
   "execution_count": 26,
   "metadata": {},
   "outputs": [
    {
     "data": {
      "text/plain": [
       "32"
      ]
     },
     "execution_count": 26,
     "metadata": {},
     "output_type": "execute_result"
    }
   ],
   "source": [
    "len(dir(bob))"
   ]
  },
  {
   "cell_type": "code",
   "execution_count": 27,
   "metadata": {},
   "outputs": [
    {
     "data": {
      "text/plain": [
       "['gatherAttrs', 'giveRaise', 'job', 'lastName', 'name', 'pay']"
      ]
     },
     "execution_count": 27,
     "metadata": {},
     "output_type": "execute_result"
    }
   ],
   "source": [
    " list(name for name in dir(bob) if not name.startswith('__'))"
   ]
  },
  {
   "cell_type": "markdown",
   "metadata": {},
   "source": [
    "## Hoàn chỉnh class"
   ]
  },
  {
   "cell_type": "code",
   "execution_count": 28,
   "metadata": {},
   "outputs": [
    {
     "name": "stdout",
     "output_type": "stream",
     "text": [
      "[Person:Bob Smith, 0]\n",
      "[Person:Sue Jones, 100000]\n",
      "Smith Jones\n",
      "[Person:Sue Jones, 110000]\n",
      "Jones\n",
      "[Person:Tom Jones, 60000]\n"
     ]
    }
   ],
   "source": [
    "# File person.py(final)\n",
    "from classtools import AttrDisplay\n",
    "class Person(AttrDisplay):\n",
    "    def __init__(this,name,job=None,pay=0):\n",
    "        this.name=name\n",
    "        this.job=job\n",
    "        this.pay=pay\n",
    "    def lastName(this):\n",
    "        return this.name.split()[-1]\n",
    "    def giveRaise(this,percent):\n",
    "        this.pay=int(this.pay*(1+percent))\n",
    "    def __repr__(this):\n",
    "        return \"[Person:%s, %s]\"%(this.name,this.pay)\n",
    "class Manager(Person):\n",
    "    def __init__(this,name,pay):\n",
    "        Person.__init__(this,name,'mgr',pay)\n",
    "    def giveRaise(this,percent,bonus=0.1):\n",
    "        Person.giveRaise(this,percent+bonus)\n",
    "\n",
    "if __name__ == '__main__':\n",
    "    bob = Person('Bob Smith')\n",
    "    sue = Person('Sue Jones', job='dev', pay=100000)\n",
    "    print(bob)\n",
    "    print(sue)\n",
    "    print(bob.lastName(), sue.lastName())\n",
    "    sue.giveRaise(.10)\n",
    "    print(sue)\n",
    "    tom = Manager('Tom Jones', 50000)\n",
    "    tom.giveRaise(.10)\n",
    "    print(tom.lastName())\n",
    "    print(tom)"
   ]
  },
  {
   "cell_type": "markdown",
   "metadata": {},
   "source": [
    "## Bước 7 : Lưu trữ đối tượng trong cơ sở dữ liệu"
   ]
  },
  {
   "cell_type": "code",
   "execution_count": 29,
   "metadata": {},
   "outputs": [],
   "source": [
    "# File makedb.py: store Person objects\n",
    "from person import Person, Manager  # Load our classes\n",
    "bob=Person(\"Bob Smith\")\n",
    "sue=Person(\"Sue Jones\",job='dev',pay=100000)  # Re-create objects to be stored          \n",
    "tom=Manager(\"Tom Jones\",50000)\n",
    "\n",
    "import shelve\n",
    "db=shelve.open(\"persondb\")    # Filename where objects are stored\n",
    "for obj in (bob,sue,tom):   # Store object on shelve by key\n",
    "    db[obj.name]=obj\n",
    "db.close()                 # Close after making changes"
   ]
  },
  {
   "cell_type": "code",
   "execution_count": 30,
   "metadata": {},
   "outputs": [
    {
     "data": {
      "text/plain": [
       "['person-department.py',\n",
       " 'person.py',\n",
       " 'persondb.bak',\n",
       " 'persondb.dat',\n",
       " 'persondb.dir']"
      ]
     },
     "execution_count": 30,
     "metadata": {},
     "output_type": "execute_result"
    }
   ],
   "source": [
    "import glob\n",
    "glob.glob('person*')"
   ]
  },
  {
   "cell_type": "code",
   "execution_count": 31,
   "metadata": {},
   "outputs": [
    {
     "name": "stdout",
     "output_type": "stream",
     "text": [
      "'Bob Smith', (0, 80)\n",
      "'Sue Jones', (512, 92)\n",
      "'Tom Jones', (1024, 91)\n",
      "\n"
     ]
    }
   ],
   "source": [
    "print(open('persondb.dir').read())"
   ]
  },
  {
   "cell_type": "code",
   "execution_count": 32,
   "metadata": {},
   "outputs": [
    {
     "name": "stdout",
     "output_type": "stream",
     "text": [
      "b'\\x80\\x03cperson\\nPerson\\nq\\x00)\\x81q\\x01}q\\x02(X\\x04\\x00\\x00\\x00nameq\\x03X\\t\\x00\\x00\\x00Bob Smithq\\x04X\\x03\\x00\\x00\\x00jobq\\x05NX\\x03\\x00\\x00\\x00payq\\x06K\\x00ub.\\x00\\x00\\x00\\x00\\x00\\x00\\x00\\x00\\x00\\x00\\x00\\x00\\x00\\x00\\x00\\x00\\x00\\x00\\x00\\x00\\x00\\x00\\x00\\x00\\x00\\x00\\x00\\x00\\x00\\x00\\x00\\x00\\x00\\x00\\x00\\x00\\x00\\x00\\x00\\x00\\x00\\x00\\x00\\x00\\x00\\x00\\x00\\x00\\x00\\x00\\x00\\x00\\x00\\x00\\x00\\x00\\x00\\x00\\x00\\x00\\x00\\x00\\x00\\x00\\x00\\x00\\x00\\x00\\x00\\x00\\x00\\x00\\x00\\x00\\x00\\x00\\x00\\x00\\x00\\x00\\x00\\x00\\x00\\x00\\x00\\x00\\x00\\x00\\x00\\x00\\x00\\x00\\x00\\x00\\x00\\x00\\x00\\x00\\x00\\x00\\x00\\x00\\x00\\x00\\x00\\x00\\x00\\x00\\x00\\x00\\x00\\x00\\x00\\x00\\x00\\x00\\x00\\x00\\x00\\x00\\x00\\x00\\x00\\x00\\x00\\x00\\x00\\x00\\x00\\x00\\x00\\x00\\x00\\x00\\x00\\x00\\x00\\x00\\x00\\x00\\x00\\x00\\x00\\x00\\x00\\x00\\x00\\x00\\x00\\x00\\x00\\x00\\x00\\x00\\x00\\x00\\x00\\x00\\x00\\x00\\x00\\x00\\x00\\x00\\x00\\x00\\x00\\x00\\x00\\x00\\x00\\x00\\x00\\x00\\x00\\x00\\x00\\x00\\x00\\x00\\x00\\x00\\x00\\x00\\x00\\x00\\x00\\x00\\x00\\x00\\x00\\x00\\x00\\x00\\x00\\x00\\x00\\x00\\x00\\x00\\x00\\x00\\x00\\x00\\x00\\x00\\x00\\x00\\x00\\x00\\x00\\x00\\x00\\x00\\x00\\x00\\x00\\x00\\x00\\x00\\x00\\x00\\x00\\x00\\x00\\x00\\x00\\x00\\x00\\x00\\x00\\x00\\x00\\x00\\x00\\x00\\x00\\x00\\x00\\x00\\x00\\x00\\x00\\x00\\x00\\x00\\x00\\x00\\x00\\x00\\x00\\x00\\x00\\x00\\x00\\x00\\x00\\x00\\x00\\x00\\x00\\x00\\x00\\x00\\x00\\x00\\x00\\x00\\x00\\x00\\x00\\x00\\x00\\x00\\x00\\x00\\x00\\x00\\x00\\x00\\x00\\x00\\x00\\x00\\x00\\x00\\x00\\x00\\x00\\x00\\x00\\x00\\x00\\x00\\x00\\x00\\x00\\x00\\x00\\x00\\x00\\x00\\x00\\x00\\x00\\x00\\x00\\x00\\x00\\x00\\x00\\x00\\x00\\x00\\x00\\x00\\x00\\x00\\x00\\x00\\x00\\x00\\x00\\x00\\x00\\x00\\x00\\x00\\x00\\x00\\x00\\x00\\x00\\x00\\x00\\x00\\x00\\x00\\x00\\x00\\x00\\x00\\x00\\x00\\x00\\x00\\x00\\x00\\x00\\x00\\x00\\x00\\x00\\x00\\x00\\x00\\x00\\x00\\x00\\x00\\x00\\x00\\x00\\x00\\x00\\x00\\x00\\x00\\x00\\x00\\x00\\x00\\x00\\x00\\x00\\x00\\x00\\x00\\x00\\x00\\x00\\x00\\x00\\x00\\x00\\x00\\x00\\x00\\x00\\x00\\x00\\x00\\x00\\x00\\x00\\x00\\x00\\x00\\x00\\x00\\x00\\x00\\x00\\x00\\x00\\x00\\x00\\x00\\x00\\x00\\x00\\x00\\x00\\x00\\x00\\x00\\x00\\x00\\x00\\x00\\x00\\x00\\x00\\x00\\x00\\x00\\x00\\x00\\x00\\x00\\x00\\x00\\x80\\x03cperson\\nPerson\\nq\\x00)\\x81q\\x01}q\\x02(X\\x04\\x00\\x00\\x00nameq\\x03X\\t\\x00\\x00\\x00Sue Jonesq\\x04X\\x03\\x00\\x00\\x00jobq\\x05X\\x03\\x00\\x00\\x00devq\\x06X\\x03\\x00\\x00\\x00payq\\x07J\\xa0\\x86\\x01\\x00ub.\\x00\\x00\\x00\\x00\\x00\\x00\\x00\\x00\\x00\\x00\\x00\\x00\\x00\\x00\\x00\\x00\\x00\\x00\\x00\\x00\\x00\\x00\\x00\\x00\\x00\\x00\\x00\\x00\\x00\\x00\\x00\\x00\\x00\\x00\\x00\\x00\\x00\\x00\\x00\\x00\\x00\\x00\\x00\\x00\\x00\\x00\\x00\\x00\\x00\\x00\\x00\\x00\\x00\\x00\\x00\\x00\\x00\\x00\\x00\\x00\\x00\\x00\\x00\\x00\\x00\\x00\\x00\\x00\\x00\\x00\\x00\\x00\\x00\\x00\\x00\\x00\\x00\\x00\\x00\\x00\\x00\\x00\\x00\\x00\\x00\\x00\\x00\\x00\\x00\\x00\\x00\\x00\\x00\\x00\\x00\\x00\\x00\\x00\\x00\\x00\\x00\\x00\\x00\\x00\\x00\\x00\\x00\\x00\\x00\\x00\\x00\\x00\\x00\\x00\\x00\\x00\\x00\\x00\\x00\\x00\\x00\\x00\\x00\\x00\\x00\\x00\\x00\\x00\\x00\\x00\\x00\\x00\\x00\\x00\\x00\\x00\\x00\\x00\\x00\\x00\\x00\\x00\\x00\\x00\\x00\\x00\\x00\\x00\\x00\\x00\\x00\\x00\\x00\\x00\\x00\\x00\\x00\\x00\\x00\\x00\\x00\\x00\\x00\\x00\\x00\\x00\\x00\\x00\\x00\\x00\\x00\\x00\\x00\\x00\\x00\\x00\\x00\\x00\\x00\\x00\\x00\\x00\\x00\\x00\\x00\\x00\\x00\\x00\\x00\\x00\\x00\\x00\\x00\\x00\\x00\\x00\\x00\\x00\\x00\\x00\\x00\\x00\\x00\\x00\\x00\\x00\\x00\\x00\\x00\\x00\\x00\\x00\\x00\\x00\\x00\\x00\\x00\\x00\\x00\\x00\\x00\\x00\\x00\\x00\\x00\\x00\\x00\\x00\\x00\\x00\\x00\\x00\\x00\\x00\\x00\\x00\\x00\\x00\\x00\\x00\\x00\\x00\\x00\\x00\\x00\\x00\\x00\\x00\\x00\\x00\\x00\\x00\\x00\\x00\\x00\\x00\\x00\\x00\\x00\\x00\\x00\\x00\\x00\\x00\\x00\\x00\\x00\\x00\\x00\\x00\\x00\\x00\\x00\\x00\\x00\\x00\\x00\\x00\\x00\\x00\\x00\\x00\\x00\\x00\\x00\\x00\\x00\\x00\\x00\\x00\\x00\\x00\\x00\\x00\\x00\\x00\\x00\\x00\\x00\\x00\\x00\\x00\\x00\\x00\\x00\\x00\\x00\\x00\\x00\\x00\\x00\\x00\\x00\\x00\\x00\\x00\\x00\\x00\\x00\\x00\\x00\\x00\\x00\\x00\\x00\\x00\\x00\\x00\\x00\\x00\\x00\\x00\\x00\\x00\\x00\\x00\\x00\\x00\\x00\\x00\\x00\\x00\\x00\\x00\\x00\\x00\\x00\\x00\\x00\\x00\\x00\\x00\\x00\\x00\\x00\\x00\\x00\\x00\\x00\\x00\\x00\\x00\\x00\\x00\\x00\\x00\\x00\\x00\\x00\\x00\\x00\\x00\\x00\\x00\\x00\\x00\\x00\\x00\\x00\\x00\\x00\\x00\\x00\\x00\\x00\\x00\\x00\\x00\\x00\\x00\\x00\\x00\\x00\\x00\\x00\\x00\\x00\\x00\\x00\\x00\\x00\\x00\\x00\\x00\\x00\\x00\\x00\\x00\\x00\\x00\\x00\\x00\\x00\\x00\\x00\\x00\\x00\\x00\\x00\\x00\\x80\\x03cperson\\nManager\\nq\\x00)\\x81q\\x01}q\\x02(X\\x04\\x00\\x00\\x00nameq\\x03X\\t\\x00\\x00\\x00Tom Jonesq\\x04X\\x03\\x00\\x00\\x00jobq\\x05X\\x03\\x00\\x00\\x00mgrq\\x06X\\x03\\x00\\x00\\x00payq\\x07MP\\xc3ub.'\n"
     ]
    }
   ],
   "source": [
    "print(open('persondb.dat','rb').read())"
   ]
  },
  {
   "cell_type": "code",
   "execution_count": 33,
   "metadata": {},
   "outputs": [],
   "source": [
    "import shelve\n",
    "db = shelve.open('persondb') # Reopen"
   ]
  },
  {
   "cell_type": "code",
   "execution_count": 34,
   "metadata": {},
   "outputs": [
    {
     "data": {
      "text/plain": [
       "3"
      ]
     },
     "execution_count": 34,
     "metadata": {},
     "output_type": "execute_result"
    }
   ],
   "source": [
    "len(db) # three record"
   ]
  },
  {
   "cell_type": "code",
   "execution_count": 35,
   "metadata": {},
   "outputs": [
    {
     "data": {
      "text/plain": [
       "['Bob Smith', 'Sue Jones', 'Tom Jones']"
      ]
     },
     "execution_count": 35,
     "metadata": {},
     "output_type": "execute_result"
    }
   ],
   "source": [
    "list(db.keys())"
   ]
  },
  {
   "cell_type": "code",
   "execution_count": 36,
   "metadata": {},
   "outputs": [
    {
     "data": {
      "text/plain": [
       "[Person:Bob Smith, 0]"
      ]
     },
     "execution_count": 36,
     "metadata": {},
     "output_type": "execute_result"
    }
   ],
   "source": [
    "bob = db['Bob Smith']\n",
    "bob"
   ]
  },
  {
   "cell_type": "code",
   "execution_count": 37,
   "metadata": {},
   "outputs": [
    {
     "data": {
      "text/plain": [
       "'Smith'"
      ]
     },
     "execution_count": 37,
     "metadata": {},
     "output_type": "execute_result"
    }
   ],
   "source": [
    "bob.lastName()"
   ]
  },
  {
   "cell_type": "code",
   "execution_count": 38,
   "metadata": {},
   "outputs": [
    {
     "name": "stdout",
     "output_type": "stream",
     "text": [
      "Bob Smith => [Person:Bob Smith, 0]\n",
      "Sue Jones => [Person:Sue Jones, 100000]\n",
      "Tom Jones => [Person:Tom Jones, 50000]\n"
     ]
    }
   ],
   "source": [
    "for key in db: \n",
    "    print(key, '=>', db[key])"
   ]
  },
  {
   "cell_type": "code",
   "execution_count": 39,
   "metadata": {},
   "outputs": [
    {
     "name": "stdout",
     "output_type": "stream",
     "text": [
      "Bob Smith => [Person:Bob Smith, 0]\n",
      "Sue Jones => [Person:Sue Jones, 100000]\n",
      "Tom Jones => [Person:Tom Jones, 50000]\n"
     ]
    }
   ],
   "source": [
    "for key in sorted(db):\n",
    "    print(key, '=>', db[key])"
   ]
  },
  {
   "cell_type": "markdown",
   "metadata": {},
   "source": [
    "### Cập nhật đối tượng trên shelve"
   ]
  },
  {
   "cell_type": "code",
   "execution_count": 40,
   "metadata": {},
   "outputs": [
    {
     "name": "stdout",
     "output_type": "stream",
     "text": [
      "Bob Smith \t=> [Person:Bob Smith, 0]\n",
      "Sue Jones \t=> [Person:Sue Jones, 100000]\n",
      "Tom Jones \t=> [Person:Tom Jones, 50000]\n"
     ]
    }
   ],
   "source": [
    "# File updatedb.py: updata database Person\n",
    "import shelve\n",
    "db = shelve.open('persondb') \n",
    "for key in sorted(db): \n",
    "    print(key, '\\t=>', db[key])\n",
    "sue = db['Sue Jones']\n",
    "sue.giveRaise(0.10) \n",
    "db['Sue Jones'] = sue \n",
    "db.close()"
   ]
  },
  {
   "cell_type": "code",
   "execution_count": 41,
   "metadata": {},
   "outputs": [
    {
     "data": {
      "text/plain": [
       "[Person:Sue Jones, 110000]"
      ]
     },
     "execution_count": 41,
     "metadata": {},
     "output_type": "execute_result"
    }
   ],
   "source": [
    "import shelve\n",
    "db = shelve.open('persondb')\n",
    "rec = db['Sue Jones'] \n",
    "rec"
   ]
  },
  {
   "cell_type": "code",
   "execution_count": 42,
   "metadata": {},
   "outputs": [
    {
     "data": {
      "text/plain": [
       "'Jones'"
      ]
     },
     "execution_count": 42,
     "metadata": {},
     "output_type": "execute_result"
    }
   ],
   "source": [
    "rec.lastName()"
   ]
  },
  {
   "cell_type": "markdown",
   "metadata": {},
   "source": [
    "# Bài tập Excercise\n",
    "## A. Quiz\n",
    "**Câu 1:** Tại sao việc chuyển thành phương thức lại tốt hơn hardcoding bên ngoài lớp?\n",
    "\n",
    "**Câu 2:** Tại sao tùy chỉnh bởi subclass thì tốt hơn là sao chép lớp cha và sửa đổi?\n",
    "\n",
    "**Câu 3:** Tại sao tốt hơn nên gọi lại một phương thức của lớp cha để chạy các hành động mặc định hơn là sửa đổi mã của nó trong một lớp con?\n",
    "\n",
    "**Câu 4:** Khi nào bạn có thể chọn sử dụng embedding đối tượng và composition\n",
    "thay vì thừa kế inheritance?\n",
    "\n",
    "**Câu 5:** Tại sao sử dụng các công cụ như \\_\\_dict\\_\\_ cho phép các đối tượng được xử lý tổng quát tốt hơn là viết nhiều mã tùy chỉnh hơn cho từng loại lớp?\n",
    "\n",
    "## B. Coding\n",
    "**Câu 6:**  Viết một lớp có tên là Adder có phương thức add(self,x,y) in ra thông báo \"Not Implement\". \n",
    "\n",
    "Sau đó tạo ra hai lớp con của Adder triển khai phương thức add.\n",
    "\n",
    "+ ListAdder\n",
    "Với một phương thức add trả về kết nối hai danh sách lại.\n",
    "\n",
    "+ DictAdder\n",
    "Với một phương thức add trả về kết nối hai từ điển lại\n",
    "\n",
    "Sau đó bạn hãy kiểm tra mã bằng cách tạo ra ba instance của ba class và gọi phương thức add.\n",
    "\n",
    "Hãy mở rộng lớp cha bằng constuctor và operator overloading \\_\\_add\\_\\_."
   ]
  },
  {
   "cell_type": "markdown",
   "metadata": {},
   "source": [
    "---\n",
    "# <span style= 'color:blue'> Đáp án </span>\n",
    "**1.** Các phương thức chúng ta xây dựng thì có thể chạy trên bất kỳ instance nào . \n",
    "Đây là tính đóng gói của Python, để tốt hơn hỗ trợ bảo trì mã trong tương lai. \n",
    "Nếu bạn không làm như vậy, bạn sẽ tạo ra sự dư thừa mã\n",
    "điều đó có thể gây khó khăn khi phát triển mã của bạn trong tương lai.\n",
    "\n",
    "**2.** Tùy chỉnh với các lớp con sẽ giúp chúng ta phát triển chương trình một cách dễ dàng.\n",
    "Chúng ta có thể dễ dàng mở rộng làm việc bằng cách viết mã các lớp con mới tận dụng những gì chúng ta xây dựng ở lớp cha, tốt hơn nhiều so với việc bắt đầu lại từ đầu mỗi lần hoặc tạo  nhiều các bản sao mã dự phòng có thể phải được cập nhật trong tương lai.\n",
    "\n",
    "**3.** Việc sao chép và sửa đổi mã sẽ tăng nỗ lực viết mã của bạn trong tương lai. \n",
    "Lớp con cần thực hiện các hành động mặc định trong\n",
    "phương thức của lớp cha tốt hơn nhiều là gọi lại bản gốc thông qua tên của lớp cha hơn là sao chép mã của nó. Điều này cũng đúng đối với các hàm tạo lớp cha việc sao chép mã tạo ra sự dư thừa, đây là một vấn đề lớn khi mã phát triển.\n",
    "\n",
    "**4.** Kế thừa giúp chúng ta là mở rộng các tiện ích dựa trên tùy chỉnh trực tiếp. Composition rất phù hợp với các tình huống trong đó nhiều đối tượng được tổng hợp thành một tổng thể và được chỉ dẫn bởi một lớp bộ điều khiển.\n",
    "\n",
    "Kế thừa chuyển các lệnh gọi lên để sử dụng lại và thành phần chuyển xuống để delegate\n",
    "Tính kế thừa và thành phần không loại trừ lẫn nhau. Thông thường các đối tượng được embeding trong bộ điều khiển chính là các tùy chỉnh dựa trên sự kế thừa.\n",
    "\n",
    "\n",
    "**5.** Các công cụ có thể tránh các giải pháp được mã hóa cứng phải được giữ đồng bộ với\n",
    "phần còn lại của lớp khi nó phát triển theo thời gian. \n",
    "Ví dụ: một phương thức in \\_\\_repr\\_\\_ không cần được cập nhật mỗi khi một thuộc tính mới được thêm vào các cá thể trong một hàm tạo \\_\\_init\\_\\_. \n",
    "Ngoài ra, một phương thức print được kế thừa bởi tất cả các lớp\n",
    "xuất hiện và chỉ cần được sửa đổi ở một nơi.\n",
    "Loại bỏ dư thừa mã cắt giảm nỗ lực phát triển trong tương lai."
   ]
  },
  {
   "cell_type": "code",
   "execution_count": 34,
   "metadata": {},
   "outputs": [
    {
     "name": "stdout",
     "output_type": "stream",
     "text": [
      "Not Implement\n",
      "None\n",
      "[1, 3]\n",
      "{1: 2, 2: 3}\n",
      "[1, 2]\n"
     ]
    }
   ],
   "source": [
    "# 6\n",
    "class Adder:\n",
    "    def add(self,x,y):\n",
    "        print(\"Not Implement\")\n",
    "    def __init__(self,start=[]):\n",
    "        self.data=start\n",
    "    def __add__(self,other):\n",
    "        return self.add(self.data,other)\n",
    "    \n",
    "class ListAdder(Adder):\n",
    "    def add(self,x,y):\n",
    "        return x+y\n",
    "    \n",
    "class DictAdder(Adder):\n",
    "    def add(self,x,y):\n",
    "        result={}\n",
    "        for k in x.keys(): result[k]=x[k]\n",
    "        for k in y.keys(): result[k]=y[k]\n",
    "        return result\n",
    "\n",
    "if __name__==\"__main__\":\n",
    "    a=Adder()\n",
    "    print(a.add(1,3))\n",
    "    \n",
    "    b=ListAdder()\n",
    "    print(b.add([1],[3]))\n",
    "    \n",
    "    c=DictAdder()\n",
    "    print(c.add({1:2},{2:3}))\n",
    "    \n",
    "    d=ListAdder([1])\n",
    "    print(d + [2])"
   ]
  },
  {
   "cell_type": "markdown",
   "metadata": {},
   "source": [
    "**Câu 7:**"
   ]
  },
  {
   "cell_type": "markdown",
   "metadata": {},
   "source": []
  }
 ],
 "metadata": {
  "kernelspec": {
   "display_name": "Python 3",
   "language": "python",
   "name": "python3"
  },
  "language_info": {
   "codemirror_mode": {
    "name": "ipython",
    "version": 3
   },
   "file_extension": ".py",
   "mimetype": "text/x-python",
   "name": "python",
   "nbconvert_exporter": "python",
   "pygments_lexer": "ipython3",
   "version": "3.7.0"
  }
 },
 "nbformat": 4,
 "nbformat_minor": 2
}
