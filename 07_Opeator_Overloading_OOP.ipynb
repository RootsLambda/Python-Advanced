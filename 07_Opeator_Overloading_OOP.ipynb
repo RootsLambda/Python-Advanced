{
 "cells": [
  {
   "cell_type": "markdown",
   "metadata": {},
   "source": [
    "# 7.1 Khái niệm về operator overloading"
   ]
  },
  {
   "cell_type": "markdown",
   "metadata": {},
   "source": [
    "Opreator overloading có nghĩa là intercepting các built-in hoạt động trong một lớp phương thức,\n",
    "Python tự động gọi các phương thức khi các instance của lớp\n",
    "xuất hiện trong các built-in hoạt động và giá trị trả về của phương thức của bạn trở \n",
    "thành kết quả của hoạt động tương ứng. Dưới đây tóm tắt các ý tưởng của Operator overloading\n",
    "\n",
    "+ Operator loading cho phép các lớp chặn các hoạt động Python bình thường.\n",
    "\n",
    "+ Các lớp có thể nạp chồng tất cả các toán tử biểu thức Python.\n",
    "\n",
    "+ Các lớp cũng có thể quá tải các hoạt động tích hợp sẵn như print, gọi hàm, truy cập thuộc tính, ...\n",
    "\n",
    "+ Overloading làm cho các instance lớp hoạt động giống như các kiểu built-in.\n",
    "\n",
    "+ Overloading được thực hiện bằng cách cung cấp các phương thức được đặt tên đặc biệt trong một lớp."
   ]
  },
  {
   "cell_type": "code",
   "execution_count": 1,
   "metadata": {},
   "outputs": [
    {
     "data": {
      "text/plain": [
       "7"
      ]
     },
     "execution_count": 1,
     "metadata": {},
     "output_type": "execute_result"
    }
   ],
   "source": [
    "# File number.py \n",
    "# Example overloading: constructor and expression\n",
    "class Number:\n",
    "    def __init__(self,value): \n",
    "        self.data=value\n",
    "    def __add__(self,other):\n",
    "        return Number(self.data+other)\n",
    "    def __sub__(self,other):\n",
    "        return Number(self.data-other)\n",
    "    def __str__(self):\n",
    "        return \"[Number:%s]\"%self.data\n",
    "n=Number(5)   # Number.__init__(n,5)\n",
    "a=n+2         # Number.__add__(n,2)\n",
    "a.data        "
   ]
  },
  {
   "cell_type": "code",
   "execution_count": 2,
   "metadata": {},
   "outputs": [
    {
     "data": {
      "text/plain": [
       "3"
      ]
     },
     "execution_count": 2,
     "metadata": {},
     "output_type": "execute_result"
    }
   ],
   "source": [
    "b=n-2       # Number.__sub__(n,2)\n",
    "b.data"
   ]
  },
  {
   "cell_type": "code",
   "execution_count": 3,
   "metadata": {},
   "outputs": [
    {
     "name": "stdout",
     "output_type": "stream",
     "text": [
      "[Number:3]\n"
     ]
    }
   ],
   "source": [
    "print(b)   # Number.__str__(n)"
   ]
  },
  {
   "cell_type": "markdown",
   "metadata": {},
   "source": [
    "## Một số operator overloading phổ biến"
   ]
  },
  {
   "cell_type": "markdown",
   "metadata": {},
   "source": [
    "<img align='left' src=\"images/Operator_Overloading_1.jpg\">"
   ]
  },
  {
   "cell_type": "markdown",
   "metadata": {},
   "source": [
    "# 7.2 Indexing and Slicing: \\_\\_getitem\\_\\_ and \\_\\_setitem\\_\\_"
   ]
  },
  {
   "cell_type": "code",
   "execution_count": 4,
   "metadata": {},
   "outputs": [
    {
     "data": {
      "text/plain": [
       "<__main__.Indexer at 0x33d7490>"
      ]
     },
     "execution_count": 4,
     "metadata": {},
     "output_type": "execute_result"
    }
   ],
   "source": [
    "class Indexer: #  Bắt chước tạo chỉ mục trong built-in\n",
    "    def __getitem__(self,index):\n",
    "        return index**2\n",
    "X=Indexer()\n",
    "X"
   ]
  },
  {
   "cell_type": "code",
   "execution_count": 5,
   "metadata": {},
   "outputs": [
    {
     "data": {
      "text/plain": [
       "4"
      ]
     },
     "execution_count": 5,
     "metadata": {},
     "output_type": "execute_result"
    }
   ],
   "source": [
    "X[2] # Appears X[i] calls X.__getitem__(i)"
   ]
  },
  {
   "cell_type": "code",
   "execution_count": 6,
   "metadata": {},
   "outputs": [
    {
     "name": "stdout",
     "output_type": "stream",
     "text": [
      "0 1 4 9 16 "
     ]
    }
   ],
   "source": [
    "for i in range(5):\n",
    "    print(X[i],end=' ')"
   ]
  },
  {
   "cell_type": "markdown",
   "metadata": {},
   "source": [
    "### Intercepting slices"
   ]
  },
  {
   "cell_type": "code",
   "execution_count": 7,
   "metadata": {},
   "outputs": [
    {
     "data": {
      "text/plain": [
       "[7, 8]"
      ]
     },
     "execution_count": 7,
     "metadata": {},
     "output_type": "execute_result"
    }
   ],
   "source": [
    "L = [5, 6, 7, 8, 9] # list\n",
    "L[2:4]  "
   ]
  },
  {
   "cell_type": "code",
   "execution_count": 8,
   "metadata": {
    "scrolled": false
   },
   "outputs": [
    {
     "data": {
      "text/plain": [
       "[6, 7, 8, 9]"
      ]
     },
     "execution_count": 8,
     "metadata": {},
     "output_type": "execute_result"
    }
   ],
   "source": [
    "L[1:]"
   ]
  },
  {
   "cell_type": "code",
   "execution_count": 9,
   "metadata": {},
   "outputs": [
    {
     "data": {
      "text/plain": [
       "[7, 8]"
      ]
     },
     "execution_count": 9,
     "metadata": {},
     "output_type": "execute_result"
    }
   ],
   "source": [
    " L[slice(2, 4)]  # Slice with slice object"
   ]
  },
  {
   "cell_type": "code",
   "execution_count": 10,
   "metadata": {},
   "outputs": [
    {
     "data": {
      "text/plain": [
       "[6, 7, 8, 9]"
      ]
     },
     "execution_count": 10,
     "metadata": {},
     "output_type": "execute_result"
    }
   ],
   "source": [
    "L[slice(1, None)]"
   ]
  },
  {
   "cell_type": "code",
   "execution_count": 11,
   "metadata": {},
   "outputs": [
    {
     "name": "stdout",
     "output_type": "stream",
     "text": [
      "getitem: 0\n"
     ]
    },
    {
     "data": {
      "text/plain": [
       "5"
      ]
     },
     "execution_count": 11,
     "metadata": {},
     "output_type": "execute_result"
    }
   ],
   "source": [
    "class Indexer:\n",
    "    data=[5,6,7,8,9]\n",
    "    def __getitem__(self,index):# Called for index or slice\n",
    "        print(\"getitem:\",index)\n",
    "        return self.data[index]\n",
    "X=Indexer()\n",
    "X[0]"
   ]
  },
  {
   "cell_type": "code",
   "execution_count": 12,
   "metadata": {},
   "outputs": [
    {
     "name": "stdout",
     "output_type": "stream",
     "text": [
      "getitem: -1\n"
     ]
    },
    {
     "data": {
      "text/plain": [
       "9"
      ]
     },
     "execution_count": 12,
     "metadata": {},
     "output_type": "execute_result"
    }
   ],
   "source": [
    "X[-1]"
   ]
  },
  {
   "cell_type": "code",
   "execution_count": 13,
   "metadata": {},
   "outputs": [
    {
     "name": "stdout",
     "output_type": "stream",
     "text": [
      "getitem: slice(2, 4, None)\n"
     ]
    },
    {
     "data": {
      "text/plain": [
       "[7, 8]"
      ]
     },
     "execution_count": 13,
     "metadata": {},
     "output_type": "execute_result"
    }
   ],
   "source": [
    "X[2:4]"
   ]
  },
  {
   "cell_type": "code",
   "execution_count": 14,
   "metadata": {},
   "outputs": [
    {
     "name": "stdout",
     "output_type": "stream",
     "text": [
      "getitem: slice(None, -1, None)\n"
     ]
    },
    {
     "data": {
      "text/plain": [
       "[5, 6, 7, 8]"
      ]
     },
     "execution_count": 14,
     "metadata": {},
     "output_type": "execute_result"
    }
   ],
   "source": [
    "X[:-1]"
   ]
  },
  {
   "cell_type": "code",
   "execution_count": 15,
   "metadata": {},
   "outputs": [],
   "source": [
    "class Indexer:\n",
    "    def __getitem__(self,index):\n",
    "        if isinstance(index,int):\n",
    "            print(\"indexing\",index)\n",
    "        else:\n",
    "            print(\"slicing\",index.start,index.stop,index.step)"
   ]
  },
  {
   "cell_type": "code",
   "execution_count": 16,
   "metadata": {},
   "outputs": [
    {
     "name": "stdout",
     "output_type": "stream",
     "text": [
      "indexing 99\n"
     ]
    }
   ],
   "source": [
    "X=Indexer()\n",
    "X[99]"
   ]
  },
  {
   "cell_type": "code",
   "execution_count": 17,
   "metadata": {},
   "outputs": [
    {
     "name": "stdout",
     "output_type": "stream",
     "text": [
      "slicing 1 99 2\n"
     ]
    }
   ],
   "source": [
    "X[1:99:2]"
   ]
  },
  {
   "cell_type": "code",
   "execution_count": 18,
   "metadata": {},
   "outputs": [
    {
     "name": "stdout",
     "output_type": "stream",
     "text": [
      "slicing 1 None None\n"
     ]
    }
   ],
   "source": [
    "X[1:]"
   ]
  },
  {
   "cell_type": "markdown",
   "metadata": {},
   "source": [
    "### Operator Overloading \\_\\_index\\_\\_ không phải nghĩa index"
   ]
  },
  {
   "cell_type": "code",
   "execution_count": 19,
   "metadata": {},
   "outputs": [],
   "source": [
    "class C:\n",
    "    def __index__(self): # __index__ giúp ta trả về định dạng\n",
    "        return 255"
   ]
  },
  {
   "cell_type": "code",
   "execution_count": 20,
   "metadata": {},
   "outputs": [
    {
     "name": "stdout",
     "output_type": "stream",
     "text": [
      "Mã nhị phân của X là: 0b11111111\n",
      "Mã bát phân của X là: 0o377\n",
      "Mã thập lục phân của X là: 0xff\n"
     ]
    }
   ],
   "source": [
    "X = C()\n",
    "print(\"Mã nhị phân của X là:\",bin(X))\n",
    "print(\"Mã bát phân của X là:\",oct(X))\n",
    "print(\"Mã thập lục phân của X là:\",hex(X))"
   ]
  },
  {
   "cell_type": "code",
   "execution_count": 21,
   "metadata": {},
   "outputs": [
    {
     "data": {
      "text/plain": [
       "'C'"
      ]
     },
     "execution_count": 21,
     "metadata": {},
     "output_type": "execute_result"
    }
   ],
   "source": [
    "('C' * 256)[255]"
   ]
  },
  {
   "cell_type": "code",
   "execution_count": 22,
   "metadata": {},
   "outputs": [
    {
     "data": {
      "text/plain": [
       "'C'"
      ]
     },
     "execution_count": 22,
     "metadata": {},
     "output_type": "execute_result"
    }
   ],
   "source": [
    "('C' * 256)[X] # self retrun 255"
   ]
  },
  {
   "cell_type": "markdown",
   "metadata": {},
   "source": [
    "## Index Iteration"
   ]
  },
  {
   "cell_type": "code",
   "execution_count": 23,
   "metadata": {},
   "outputs": [
    {
     "data": {
      "text/plain": [
       "<__main__.StepperIndex at 0x340b7f0>"
      ]
     },
     "execution_count": 23,
     "metadata": {},
     "output_type": "execute_result"
    }
   ],
   "source": [
    "class StepperIndex:\n",
    "    def __getitem__(self,index):\n",
    "        return self.data[index]\n",
    "x=StepperIndex()\n",
    "x"
   ]
  },
  {
   "cell_type": "code",
   "execution_count": 24,
   "metadata": {},
   "outputs": [
    {
     "data": {
      "text/plain": [
       "'p'"
      ]
     },
     "execution_count": 24,
     "metadata": {},
     "output_type": "execute_result"
    }
   ],
   "source": [
    "x.data='spam'\n",
    "x[1]"
   ]
  },
  {
   "cell_type": "code",
   "execution_count": 25,
   "metadata": {},
   "outputs": [
    {
     "name": "stdout",
     "output_type": "stream",
     "text": [
      "s,p,a,m,"
     ]
    }
   ],
   "source": [
    "for item in x:\n",
    "    print(item,end=',')"
   ]
  },
  {
   "cell_type": "code",
   "execution_count": 26,
   "metadata": {},
   "outputs": [
    {
     "data": {
      "text/plain": [
       "True"
      ]
     },
     "execution_count": 26,
     "metadata": {},
     "output_type": "execute_result"
    }
   ],
   "source": [
    "'p' in x"
   ]
  },
  {
   "cell_type": "code",
   "execution_count": 27,
   "metadata": {},
   "outputs": [
    {
     "data": {
      "text/plain": [
       "['s', 'p', 'a', 'm']"
      ]
     },
     "execution_count": 27,
     "metadata": {},
     "output_type": "execute_result"
    }
   ],
   "source": [
    "[i for i in x]"
   ]
  },
  {
   "cell_type": "code",
   "execution_count": 28,
   "metadata": {},
   "outputs": [
    {
     "data": {
      "text/plain": [
       "['s', 'p', 'a', 'm']"
      ]
     },
     "execution_count": 28,
     "metadata": {},
     "output_type": "execute_result"
    }
   ],
   "source": [
    "list(x)"
   ]
  },
  {
   "cell_type": "code",
   "execution_count": 29,
   "metadata": {},
   "outputs": [
    {
     "data": {
      "text/plain": [
       "['S', 'P', 'A', 'M']"
      ]
     },
     "execution_count": 29,
     "metadata": {},
     "output_type": "execute_result"
    }
   ],
   "source": [
    "list(map(str.upper,x))"
   ]
  },
  {
   "cell_type": "code",
   "execution_count": 30,
   "metadata": {},
   "outputs": [
    {
     "data": {
      "text/plain": [
       "'s'"
      ]
     },
     "execution_count": 30,
     "metadata": {},
     "output_type": "execute_result"
    }
   ],
   "source": [
    "a,b,c,d=x\n",
    "a"
   ]
  },
  {
   "cell_type": "code",
   "execution_count": 31,
   "metadata": {},
   "outputs": [
    {
     "data": {
      "text/plain": [
       "'s p a m'"
      ]
     },
     "execution_count": 31,
     "metadata": {},
     "output_type": "execute_result"
    }
   ],
   "source": [
    "' '.join(x)"
   ]
  },
  {
   "cell_type": "markdown",
   "metadata": {},
   "source": [
    "# 7.3 Iterable Objects: \\_\\_iter\\_\\_ and \\_\\_next\\_\\_"
   ]
  },
  {
   "cell_type": "code",
   "execution_count": 32,
   "metadata": {},
   "outputs": [
    {
     "name": "stdout",
     "output_type": "stream",
     "text": [
      "1 4 9 16 25 "
     ]
    }
   ],
   "source": [
    "class Squares: # User-Defined Iterable\n",
    "    def __init__(self, start, stop): # Save state when created\n",
    "        self.value = start - 1\n",
    "        self.stop = stop\n",
    "    def __iter__(self): # Get iterator object on iter\n",
    "        return self\n",
    "    def __next__(self): # Return a square on each iteration\n",
    "        if self.value == self.stop: # Also called by next built-in\n",
    "            raise StopIteration\n",
    "        self.value += 1\n",
    "        return self.value ** 2\n",
    "for i in Squares(1, 5):\n",
    "    print(i,end=' ')"
   ]
  },
  {
   "cell_type": "code",
   "execution_count": 33,
   "metadata": {},
   "outputs": [],
   "source": [
    "X = Squares(1, 5)"
   ]
  },
  {
   "cell_type": "code",
   "execution_count": 34,
   "metadata": {},
   "outputs": [],
   "source": [
    "I = iter(X)"
   ]
  },
  {
   "cell_type": "code",
   "execution_count": 35,
   "metadata": {},
   "outputs": [
    {
     "data": {
      "text/plain": [
       "1"
      ]
     },
     "execution_count": 35,
     "metadata": {},
     "output_type": "execute_result"
    }
   ],
   "source": [
    "next(I)"
   ]
  },
  {
   "cell_type": "code",
   "execution_count": 36,
   "metadata": {},
   "outputs": [
    {
     "data": {
      "text/plain": [
       "4"
      ]
     },
     "execution_count": 36,
     "metadata": {},
     "output_type": "execute_result"
    }
   ],
   "source": [
    "next(I)"
   ]
  },
  {
   "cell_type": "code",
   "execution_count": 37,
   "metadata": {},
   "outputs": [
    {
     "data": {
      "text/plain": [
       "9"
      ]
     },
     "execution_count": 37,
     "metadata": {},
     "output_type": "execute_result"
    }
   ],
   "source": [
    " next(I)"
   ]
  },
  {
   "cell_type": "markdown",
   "metadata": {},
   "source": [
    "Instance Squares nó không phải là iterable nên không có index.\n",
    "\n",
    "```python\n",
    "X = Squares(1, 5)\n",
    "X[1]\n",
    "```\n",
    "`Output: TypeError: 'Squares' object does not support indexing`"
   ]
  },
  {
   "cell_type": "code",
   "execution_count": 38,
   "metadata": {},
   "outputs": [
    {
     "data": {
      "text/plain": [
       "25"
      ]
     },
     "execution_count": 38,
     "metadata": {},
     "output_type": "execute_result"
    }
   ],
   "source": [
    "list(X)[1]"
   ]
  },
  {
   "cell_type": "code",
   "execution_count": 39,
   "metadata": {},
   "outputs": [
    {
     "data": {
      "text/plain": [
       "[1, 4, 9, 16, 25]"
      ]
     },
     "execution_count": 39,
     "metadata": {},
     "output_type": "execute_result"
    }
   ],
   "source": [
    "X = Squares(1, 5)\n",
    "[n for n in X]"
   ]
  },
  {
   "cell_type": "code",
   "execution_count": 40,
   "metadata": {},
   "outputs": [
    {
     "data": {
      "text/plain": [
       "[]"
      ]
     },
     "execution_count": 40,
     "metadata": {},
     "output_type": "execute_result"
    }
   ],
   "source": [
    "[n for n in X]"
   ]
  },
  {
   "cell_type": "code",
   "execution_count": 41,
   "metadata": {},
   "outputs": [
    {
     "data": {
      "text/plain": [
       "[1, 4, 9, 16, 25]"
      ]
     },
     "execution_count": 41,
     "metadata": {},
     "output_type": "execute_result"
    }
   ],
   "source": [
    "[n for n in Squares(1, 5)]"
   ]
  },
  {
   "cell_type": "code",
   "execution_count": 42,
   "metadata": {},
   "outputs": [
    {
     "data": {
      "text/plain": [
       "[1, 4, 9]"
      ]
     },
     "execution_count": 42,
     "metadata": {},
     "output_type": "execute_result"
    }
   ],
   "source": [
    "list(Squares(1, 3))"
   ]
  },
  {
   "cell_type": "code",
   "execution_count": 43,
   "metadata": {},
   "outputs": [
    {
     "data": {
      "text/plain": [
       "True"
      ]
     },
     "execution_count": 43,
     "metadata": {},
     "output_type": "execute_result"
    }
   ],
   "source": [
    "36 in Squares(1, 10) # Other iteration context"
   ]
  },
  {
   "cell_type": "code",
   "execution_count": 44,
   "metadata": {},
   "outputs": [
    {
     "data": {
      "text/plain": [
       "(1, 4, 9)"
      ]
     },
     "execution_count": 44,
     "metadata": {},
     "output_type": "execute_result"
    }
   ],
   "source": [
    "a, b, c = Squares(1, 3)\n",
    "a, b, c"
   ]
  },
  {
   "cell_type": "code",
   "execution_count": 45,
   "metadata": {},
   "outputs": [
    {
     "data": {
      "text/plain": [
       "'1:4:9:16:25'"
      ]
     },
     "execution_count": 45,
     "metadata": {},
     "output_type": "execute_result"
    }
   ],
   "source": [
    "':'.join(map(str, Squares(1, 5)))"
   ]
  },
  {
   "cell_type": "code",
   "execution_count": 46,
   "metadata": {},
   "outputs": [
    {
     "data": {
      "text/plain": [
       "((1, 4, 9, 16, 25), ())"
      ]
     },
     "execution_count": 46,
     "metadata": {},
     "output_type": "execute_result"
    }
   ],
   "source": [
    "X = Squares(1, 5) # Chỉ tạo dữ liệu một lần với instance\n",
    "tuple(X), tuple(X)"
   ]
  },
  {
   "cell_type": "code",
   "execution_count": 47,
   "metadata": {},
   "outputs": [
    {
     "data": {
      "text/plain": [
       "((1, 4, 9, 16, 25), (1, 4, 9, 16, 25))"
      ]
     },
     "execution_count": 47,
     "metadata": {},
     "output_type": "execute_result"
    }
   ],
   "source": [
    "X = list(Squares(1, 5))\n",
    "tuple(X), tuple(X)"
   ]
  },
  {
   "cell_type": "markdown",
   "metadata": {},
   "source": [
    "### Classes với generator"
   ]
  },
  {
   "cell_type": "code",
   "execution_count": 48,
   "metadata": {},
   "outputs": [
    {
     "name": "stdout",
     "output_type": "stream",
     "text": [
      "1 4 9 16 25 "
     ]
    }
   ],
   "source": [
    "def gsquares(start, stop):\n",
    "    for i in range(start, stop + 1):\n",
    "        yield i ** 2\n",
    "for i in gsquares(1, 5):\n",
    "    print(i, end=' ')"
   ]
  },
  {
   "cell_type": "code",
   "execution_count": 49,
   "metadata": {},
   "outputs": [
    {
     "name": "stdout",
     "output_type": "stream",
     "text": [
      "1 4 9 16 25 "
     ]
    }
   ],
   "source": [
    "for i in (x ** 2 for x in range(1, 6)):\n",
    "    print(i, end=' ')"
   ]
  },
  {
   "cell_type": "markdown",
   "metadata": {},
   "source": [
    "### Nhiều Iterators trên object"
   ]
  },
  {
   "cell_type": "code",
   "execution_count": 50,
   "metadata": {},
   "outputs": [
    {
     "name": "stdout",
     "output_type": "stream",
     "text": [
      "aa ac ae ca cc ce ea ec ee "
     ]
    }
   ],
   "source": [
    "S = 'ace'\n",
    "for x in S:\n",
    "    for y in S:\n",
    "        print(x + y, end=' ')"
   ]
  },
  {
   "cell_type": "code",
   "execution_count": 51,
   "metadata": {},
   "outputs": [
    {
     "name": "stdout",
     "output_type": "stream",
     "text": [
      "a c e\n",
      "aa ac ae ca cc ce ea ec ee "
     ]
    }
   ],
   "source": [
    "# File skipper.py\n",
    "class SkipObject:\n",
    "    def __init__(self, wrapped): # Save item to be used\n",
    "        self.wrapped = wrapped\n",
    "    def __iter__(self):\n",
    "        return SkipIterator(self.wrapped)\n",
    "class SkipIterator:\n",
    "    def __init__(self, wrapped):\n",
    "        self.wrapped = wrapped # Iterator state information\n",
    "        self.offset = 0\n",
    "    def __next__(self):\n",
    "        if self.offset >= len(self.wrapped): # Terminate iterations\n",
    "            raise StopIteration\n",
    "        else:\n",
    "            item = self.wrapped[self.offset] # else return and skip\n",
    "            self.offset += 2\n",
    "            return item\n",
    "if __name__ == '__main__':\n",
    "    alpha = 'abcdef'\n",
    "    skipper = SkipObject(alpha)     # Make container object\n",
    "    I = iter(skipper)               # Make an iterator on it\n",
    "    print(next(I), next(I), next(I)) # Visit offsets 0, 2, 4\n",
    "    for x in skipper:             # for calls __iter__ automatically\n",
    "        for y in skipper:         # Nested fors call __iter__ again each time\n",
    "            print(x + y, end=' ') # Each iterator has its own state, off"
   ]
  },
  {
   "cell_type": "code",
   "execution_count": 52,
   "metadata": {},
   "outputs": [
    {
     "name": "stdout",
     "output_type": "stream",
     "text": [
      "aa ac ae ca cc ce ea ec ee "
     ]
    }
   ],
   "source": [
    "S = 'abcdef'\n",
    "for x in S[::2]:\n",
    "    for y in S[::2]: # New objects on each iteration\n",
    "        print(x + y, end=' ')"
   ]
  },
  {
   "cell_type": "code",
   "execution_count": 53,
   "metadata": {},
   "outputs": [
    {
     "data": {
      "text/plain": [
       "'ace'"
      ]
     },
     "execution_count": 53,
     "metadata": {},
     "output_type": "execute_result"
    }
   ],
   "source": [
    "S = 'abcdef'\n",
    "S = S[::2]\n",
    "S"
   ]
  },
  {
   "cell_type": "code",
   "execution_count": 54,
   "metadata": {},
   "outputs": [
    {
     "name": "stdout",
     "output_type": "stream",
     "text": [
      "aa ac ae ca cc ce ea ec ee "
     ]
    }
   ],
   "source": [
    "for x in S:\n",
    "    for y in S: # Same object, new iterators\n",
    "        print(x + y, end=' ')"
   ]
  },
  {
   "cell_type": "markdown",
   "metadata": {},
   "source": [
    "## Thay thế : \\_\\_iter\\_\\_ cộng yield"
   ]
  },
  {
   "cell_type": "code",
   "execution_count": 55,
   "metadata": {},
   "outputs": [],
   "source": [
    "def gen(x):\n",
    "    for i in range(x): yield i ** 2\n",
    "G = gen(5)"
   ]
  },
  {
   "cell_type": "code",
   "execution_count": 56,
   "metadata": {},
   "outputs": [
    {
     "data": {
      "text/plain": [
       "True"
      ]
     },
     "execution_count": 56,
     "metadata": {},
     "output_type": "execute_result"
    }
   ],
   "source": [
    "G.__iter__() == G"
   ]
  },
  {
   "cell_type": "code",
   "execution_count": 57,
   "metadata": {},
   "outputs": [],
   "source": [
    "I = iter(G)"
   ]
  },
  {
   "cell_type": "code",
   "execution_count": 58,
   "metadata": {},
   "outputs": [
    {
     "data": {
      "text/plain": [
       "(0, 1)"
      ]
     },
     "execution_count": 58,
     "metadata": {},
     "output_type": "execute_result"
    }
   ],
   "source": [
    "next(I), next(I)"
   ]
  },
  {
   "cell_type": "code",
   "execution_count": 59,
   "metadata": {},
   "outputs": [
    {
     "data": {
      "text/plain": [
       "[0, 1, 4, 9, 16]"
      ]
     },
     "execution_count": 59,
     "metadata": {},
     "output_type": "execute_result"
    }
   ],
   "source": [
    "list(gen(5))"
   ]
  },
  {
   "cell_type": "code",
   "execution_count": 60,
   "metadata": {},
   "outputs": [
    {
     "name": "stdout",
     "output_type": "stream",
     "text": [
      "1 4 9 16 25 "
     ]
    }
   ],
   "source": [
    "# File square_yield.py\n",
    "class Squares:                       # __iter__ + yield generator\n",
    "    def __init__(self, start, stop): # __next__ is automatic/implied\n",
    "        self.start = start\n",
    "        self.stop = stop\n",
    "    def __iter__(self):\n",
    "        for value in range(self.start, self.stop + 1):\n",
    "            yield value ** 2\n",
    "for i in Squares(1, 5): print(i, end=' ')"
   ]
  },
  {
   "cell_type": "code",
   "execution_count": 61,
   "metadata": {},
   "outputs": [
    {
     "data": {
      "text/plain": [
       "<__main__.Squares at 0x3421770>"
      ]
     },
     "execution_count": 61,
     "metadata": {},
     "output_type": "execute_result"
    }
   ],
   "source": [
    "S = Squares(1, 5)\n",
    "S"
   ]
  },
  {
   "cell_type": "code",
   "execution_count": 62,
   "metadata": {},
   "outputs": [
    {
     "data": {
      "text/plain": [
       "<generator object Squares.__iter__ at 0x02F89F70>"
      ]
     },
     "execution_count": 62,
     "metadata": {},
     "output_type": "execute_result"
    }
   ],
   "source": [
    "I = iter(S)\n",
    "I"
   ]
  },
  {
   "cell_type": "code",
   "execution_count": 63,
   "metadata": {},
   "outputs": [
    {
     "data": {
      "text/plain": [
       "1"
      ]
     },
     "execution_count": 63,
     "metadata": {},
     "output_type": "execute_result"
    }
   ],
   "source": [
    "next(I)"
   ]
  },
  {
   "cell_type": "markdown",
   "metadata": {},
   "source": [
    "## Nhiều iterators với yield"
   ]
  },
  {
   "cell_type": "code",
   "execution_count": 64,
   "metadata": {},
   "outputs": [
    {
     "name": "stdout",
     "output_type": "stream",
     "text": [
      "1:1 1:4 1:9 4:1 4:4 4:9 9:1 9:4 9:9 "
     ]
    }
   ],
   "source": [
    "S = Squares(1, 3)\n",
    "for i in S: # Each for calls __iter__\n",
    "    for j in S:\n",
    "        print('%s:%s' % (i, j), end=' ')"
   ]
  },
  {
   "cell_type": "code",
   "execution_count": 65,
   "metadata": {},
   "outputs": [
    {
     "name": "stdout",
     "output_type": "stream",
     "text": [
      "1 4 9 16 25 "
     ]
    }
   ],
   "source": [
    "# File square_nonyield.py\n",
    "class Squares:\n",
    "    def __init__(self, start, stop): # Non-yield generator\n",
    "        self.start = start # Multiscans: extra object\n",
    "        self.stop = stop\n",
    "    def __iter__(self):\n",
    "        return SquaresIter(self.start, self.stop)\n",
    "class SquaresIter:\n",
    "    def __init__(self, start, stop):\n",
    "        self.value = start - 1\n",
    "        self.stop = stop\n",
    "    def __next__(self):\n",
    "        if self.value == self.stop:\n",
    "            raise StopIteration\n",
    "        self.value += 1\n",
    "        return self.value ** 2\n",
    "for i in Squares(1, 5): print(i, end=' ')"
   ]
  },
  {
   "cell_type": "code",
   "execution_count": 66,
   "metadata": {},
   "outputs": [],
   "source": [
    "S = Squares(1, 5)\n",
    "I = iter(S)"
   ]
  },
  {
   "cell_type": "code",
   "execution_count": 67,
   "metadata": {},
   "outputs": [
    {
     "data": {
      "text/plain": [
       "4"
      ]
     },
     "execution_count": 67,
     "metadata": {},
     "output_type": "execute_result"
    }
   ],
   "source": [
    "next(I); next(I)"
   ]
  },
  {
   "cell_type": "code",
   "execution_count": 68,
   "metadata": {},
   "outputs": [],
   "source": [
    "J = iter(S) # Multiple iterators without yield"
   ]
  },
  {
   "cell_type": "code",
   "execution_count": 69,
   "metadata": {},
   "outputs": [
    {
     "data": {
      "text/plain": [
       "1"
      ]
     },
     "execution_count": 69,
     "metadata": {},
     "output_type": "execute_result"
    }
   ],
   "source": [
    "next(J)"
   ]
  },
  {
   "cell_type": "code",
   "execution_count": 70,
   "metadata": {},
   "outputs": [
    {
     "data": {
      "text/plain": [
       "9"
      ]
     },
     "execution_count": 70,
     "metadata": {},
     "output_type": "execute_result"
    }
   ],
   "source": [
    "next(I)"
   ]
  },
  {
   "cell_type": "code",
   "execution_count": 71,
   "metadata": {},
   "outputs": [
    {
     "name": "stdout",
     "output_type": "stream",
     "text": [
      "1:1 1:4 1:9 4:1 4:4 4:9 9:1 9:4 9:9 "
     ]
    }
   ],
   "source": [
    "S = Squares(1, 3)\n",
    "for i in S: # Each for calls __iter___\n",
    "    for j in S:\n",
    "        print('%s:%s' % (i, j), end=' ')"
   ]
  },
  {
   "cell_type": "code",
   "execution_count": 72,
   "metadata": {},
   "outputs": [],
   "source": [
    "# File skipper_yeild.py\n",
    "class SkipObject: # Another __iter__ + yield generator\n",
    "    def __init__(self, wrapped): # Instance scope retained normally\n",
    "        self.wrapped = wrapped # Local scope state saved auto\n",
    "    def __iter__(self):\n",
    "        offset = 0\n",
    "        while offset < len(self.wrapped):\n",
    "            item = self.wrapped[offset]\n",
    "            offset += 2\n",
    "            yield item"
   ]
  },
  {
   "cell_type": "code",
   "execution_count": 73,
   "metadata": {},
   "outputs": [
    {
     "data": {
      "text/plain": [
       "'c'"
      ]
     },
     "execution_count": 73,
     "metadata": {},
     "output_type": "execute_result"
    }
   ],
   "source": [
    "skipper = SkipObject('abcdef')\n",
    "I = iter(skipper)\n",
    "next(I); next(I)"
   ]
  },
  {
   "cell_type": "code",
   "execution_count": 74,
   "metadata": {},
   "outputs": [
    {
     "name": "stdout",
     "output_type": "stream",
     "text": [
      "aa ac ae ca cc ce ea ec ee "
     ]
    }
   ],
   "source": [
    "for x in skipper: # Each for calls __iter__: new auto generator\n",
    "    for y in skipper:\n",
    "        print(x + y, end=' ')"
   ]
  },
  {
   "cell_type": "markdown",
   "metadata": {},
   "source": [
    "# 7.4 Quan hệ thành viên:   \\_\\_contains\\_\\_, \\_\\_iter\\_\\_, and \\_\\_getitem\\_\\_"
   ]
  },
  {
   "cell_type": "code",
   "execution_count": 75,
   "metadata": {},
   "outputs": [
    {
     "name": "stdout",
     "output_type": "stream",
     "text": [
      "contain: True\n",
      "iter=> next:1 | next:2 | next:3 | next:4 | next:5 | next:\n",
      "iter=> next:next:next:next:next:next:[1, 4, 9, 16, 25]\n",
      "iter=> next:next:next:next:next:next:['0b1', '0b10', '0b11', '0b100', '0b101']\n"
     ]
    }
   ],
   "source": [
    "# File contain.py\n",
    "class Iters:\n",
    "    def __init__(self,value):\n",
    "        self.data=value\n",
    "    def __getitem__(self,i):  # Fallback for iteration\n",
    "        print('get[%s]:'%i,end=' ')\n",
    "        return self.data[i]\n",
    "    def __iter__(self):       # Preferred for iteration\n",
    "        print(\"iter=>\",end=\" \") # Allows only one active iterator\n",
    "        self.ix=0\n",
    "        return self\n",
    "    def __next__(self):\n",
    "        print(\"next:\",end='')\n",
    "        if self.ix==len(self.data):\n",
    "            raise StopIteration\n",
    "        item=self.data[self.ix]\n",
    "        self.ix+=1\n",
    "        return item\n",
    "    def __contains__(self,x):   # Preferred for 'in'\n",
    "        print(\"contain: \",end='')\n",
    "        return x in self.data\n",
    "if __name__==\"__main__\":\n",
    "    X=Iters([1,2,3,4,5])    # Make instance\n",
    "    print(3 in X)           # Membership\n",
    "    for i in X:             # for loops\n",
    "        print(i,end=' | ')\n",
    "    print()\n",
    "    print([i**2 for i in X]) # Other iteration contexts\n",
    "    print(list(map(bin,X)))"
   ]
  },
  {
   "cell_type": "code",
   "execution_count": 76,
   "metadata": {},
   "outputs": [
    {
     "name": "stdout",
     "output_type": "stream",
     "text": [
      "iter=> next:1 @ next:2 @ next:3 @ next:4 @ next:5 @ next:"
     ]
    }
   ],
   "source": [
    "I=iter(X)\n",
    "while True:\n",
    "    try:\n",
    "        print(next(I),end=' @ ')\n",
    "    except StopIteration:\n",
    "        break"
   ]
  },
  {
   "cell_type": "code",
   "execution_count": 77,
   "metadata": {},
   "outputs": [],
   "source": [
    "class Iters:\n",
    "    def __init__(self, value):\n",
    "        self.data = value\n",
    "    def __getitem__(self, i): # Fallback for iteration\n",
    "        print('get[%s]:' % i, end='') # Also for index, slice\n",
    "        return self.data[i]\n",
    "    def __iter__(self): # Preferred for iteration\n",
    "        print('iter=> next:', end='') # Allows multiple active iterators\n",
    "        for x in self.data: # no __next__ to alias to next\n",
    "            yield x\n",
    "            print('next:', end='')\n",
    "    def __contains__(self, x): # Preferred for 'in'\n",
    "        print('contains: ', end='')\n",
    "        return x in self.data"
   ]
  },
  {
   "cell_type": "code",
   "execution_count": 78,
   "metadata": {},
   "outputs": [
    {
     "name": "stdout",
     "output_type": "stream",
     "text": [
      "get[0]:"
     ]
    },
    {
     "data": {
      "text/plain": [
       "'s'"
      ]
     },
     "execution_count": 78,
     "metadata": {},
     "output_type": "execute_result"
    }
   ],
   "source": [
    "X = Iters('spam')\n",
    "X[0]"
   ]
  },
  {
   "cell_type": "code",
   "execution_count": 79,
   "metadata": {},
   "outputs": [
    {
     "data": {
      "text/plain": [
       "'pam'"
      ]
     },
     "execution_count": 79,
     "metadata": {},
     "output_type": "execute_result"
    }
   ],
   "source": [
    "'spam'[1:]"
   ]
  },
  {
   "cell_type": "code",
   "execution_count": 80,
   "metadata": {},
   "outputs": [
    {
     "data": {
      "text/plain": [
       "'pam'"
      ]
     },
     "execution_count": 80,
     "metadata": {},
     "output_type": "execute_result"
    }
   ],
   "source": [
    "'spam'[slice(1, None)]"
   ]
  },
  {
   "cell_type": "code",
   "execution_count": 81,
   "metadata": {},
   "outputs": [
    {
     "name": "stdout",
     "output_type": "stream",
     "text": [
      "get[slice(1, None, None)]:"
     ]
    },
    {
     "data": {
      "text/plain": [
       "'pam'"
      ]
     },
     "execution_count": 81,
     "metadata": {},
     "output_type": "execute_result"
    }
   ],
   "source": [
    " X[1:]"
   ]
  },
  {
   "cell_type": "code",
   "execution_count": 82,
   "metadata": {},
   "outputs": [
    {
     "name": "stdout",
     "output_type": "stream",
     "text": [
      "get[slice(None, -1, None)]:"
     ]
    },
    {
     "data": {
      "text/plain": [
       "'spa'"
      ]
     },
     "execution_count": 82,
     "metadata": {},
     "output_type": "execute_result"
    }
   ],
   "source": [
    " X[:-1]"
   ]
  },
  {
   "cell_type": "code",
   "execution_count": 83,
   "metadata": {},
   "outputs": [
    {
     "name": "stdout",
     "output_type": "stream",
     "text": [
      "iter=> next:next:next:next:next:"
     ]
    },
    {
     "data": {
      "text/plain": [
       "['s', 'p', 'a', 'm']"
      ]
     },
     "execution_count": 83,
     "metadata": {},
     "output_type": "execute_result"
    }
   ],
   "source": [
    " list(X)"
   ]
  },
  {
   "cell_type": "markdown",
   "metadata": {},
   "source": [
    "# 7.5 Attribute Access: \\_\\_getatrr\\_\\_ and \\_\\_setarr\\_\\_"
   ]
  },
  {
   "cell_type": "code",
   "execution_count": 84,
   "metadata": {},
   "outputs": [],
   "source": [
    "class Empty:\n",
    "    def __getattr__(self,attrname): # On self.undefined\n",
    "        if attrname=='age':\n",
    "            return 40\n",
    "        else:\n",
    "            raise AttributeError(attrname)"
   ]
  },
  {
   "cell_type": "code",
   "execution_count": 85,
   "metadata": {},
   "outputs": [
    {
     "data": {
      "text/plain": [
       "40"
      ]
     },
     "execution_count": 85,
     "metadata": {},
     "output_type": "execute_result"
    }
   ],
   "source": [
    "X = Empty()\n",
    "X.age"
   ]
  },
  {
   "cell_type": "markdown",
   "metadata": {},
   "source": [
    "Khi truy cập thuộc tính khác age hệ thống sẽ báo lỗi.\n",
    "```python\n",
    "X.name\n",
    "```\n",
    "`Output: AttributeError: name`"
   ]
  },
  {
   "cell_type": "code",
   "execution_count": 86,
   "metadata": {},
   "outputs": [],
   "source": [
    "class Accesscontrol:\n",
    "    def __setattr__(self,attr,value):\n",
    "        if attr=='age':\n",
    "            self.__dict__[attr]=value+10  # Not self.name=val or setattr\n",
    "        else:\n",
    "            raise AttributeError(attr+' not allowed')\n",
    "X = Accesscontrol()\n",
    "X.age = 40"
   ]
  },
  {
   "cell_type": "code",
   "execution_count": 87,
   "metadata": {},
   "outputs": [
    {
     "data": {
      "text/plain": [
       "50"
      ]
     },
     "execution_count": 87,
     "metadata": {},
     "output_type": "execute_result"
    }
   ],
   "source": [
    "X.age"
   ]
  },
  {
   "cell_type": "markdown",
   "metadata": {},
   "source": [
    "Nếu attribute khác age cũng sẽ gây ra lỗi.\n",
    "```python\n",
    "X.name = 'Bob'\n",
    "```\n",
    "`Output: AttributeError: name not allowed`"
   ]
  },
  {
   "cell_type": "markdown",
   "metadata": {},
   "source": [
    "## Mô phỏng quyền riêng tư cho instance"
   ]
  },
  {
   "cell_type": "code",
   "execution_count": 88,
   "metadata": {},
   "outputs": [
    {
     "name": "stdout",
     "output_type": "stream",
     "text": [
      "Bob\n",
      "30\n"
     ]
    }
   ],
   "source": [
    "class PrivateExc(Exception): pass # More on exceptions in Part VII\n",
    "class Privacy:\n",
    "    def __setattr__(self, attrname, value): # On self.attrname = value\n",
    "        if attrname in self.privates:\n",
    "            raise PrivateExc(attrname, self) # Make, raise user-define except\n",
    "        else:\n",
    "            self.__dict__[attrname] = value\n",
    "class Test1(Privacy):\n",
    "    privates = ['age']\n",
    "class Test2(Privacy):\n",
    "    privates = ['name', 'pay']\n",
    "    def __init__(self):\n",
    "        self.__dict__['name'] = 'Tom'\n",
    "if __name__ == '__main__':\n",
    "    x = Test1()\n",
    "    y = Test2()\n",
    "    x.name = 'Bob' # Works\n",
    "    #y.name = 'Sue' # Fails\n",
    "    print(x.name)\n",
    "    y.age = 30 # Works\n",
    "    #x.age = 40 # Fails\n",
    "    print(y.age)"
   ]
  },
  {
   "cell_type": "markdown",
   "metadata": {},
   "source": [
    "# 7.6 String Representation: \\_\\_repr\\_\\_ and  \\_\\_str\\_\\_"
   ]
  },
  {
   "cell_type": "code",
   "execution_count": 89,
   "metadata": {},
   "outputs": [
    {
     "name": "stdout",
     "output_type": "stream",
     "text": [
      "<__main__.adder object at 0x03432CD0>\n"
     ]
    },
    {
     "data": {
      "text/plain": [
       "2"
      ]
     },
     "execution_count": 89,
     "metadata": {},
     "output_type": "execute_result"
    }
   ],
   "source": [
    "class adder:\n",
    "    def __init__(self, value=0):\n",
    "        self.data = value\n",
    "    def __add__(self, other):\n",
    "        self.data += other\n",
    "x = adder()\n",
    "print(x)\n",
    "x+2\n",
    "x.data"
   ]
  },
  {
   "cell_type": "code",
   "execution_count": 90,
   "metadata": {},
   "outputs": [],
   "source": [
    "class addrepr(adder): # Inherit __init__, __add__\n",
    "    def __repr__(self): # Add string representation\n",
    "        return 'addrepr(%s)' % self.data\n",
    "x = addrepr(2)\n",
    "x + 1"
   ]
  },
  {
   "cell_type": "code",
   "execution_count": 91,
   "metadata": {},
   "outputs": [
    {
     "data": {
      "text/plain": [
       "addrepr(3)"
      ]
     },
     "execution_count": 91,
     "metadata": {},
     "output_type": "execute_result"
    }
   ],
   "source": [
    "x"
   ]
  },
  {
   "cell_type": "code",
   "execution_count": 92,
   "metadata": {},
   "outputs": [
    {
     "name": "stdout",
     "output_type": "stream",
     "text": [
      "addrepr(3)\n"
     ]
    }
   ],
   "source": [
    "print(x)"
   ]
  },
  {
   "cell_type": "code",
   "execution_count": 93,
   "metadata": {},
   "outputs": [
    {
     "data": {
      "text/plain": [
       "('addrepr(3)', 'addrepr(3)')"
      ]
     },
     "execution_count": 93,
     "metadata": {},
     "output_type": "execute_result"
    }
   ],
   "source": [
    "str(x), repr(x)"
   ]
  },
  {
   "cell_type": "markdown",
   "metadata": {},
   "source": [
    "## Sự khác nhau giữa : \\_\\_str\\_\\_ and \\_\\_repr\\_\\_\n",
    "\n",
    "+ \\_\\_str\\_\\_ dùng để thực hiện thao tác print và str trong built-in function. Nó thường thân thiện với người dùng khi in ra.\n",
    "\n",
    "+ \\_\\_repr\\_\\_ được sử dụng trong tất cả các ngữ cảnh khác: cho tương tác echoes, repr function và xuất hiện trong lồng nhau, cũng như print và str nếu không có __str__. Nó thường trả về một chuỗi dưới dạng mã có thể được sử dụng để tạo lại đối tượng hoặc hiển thị chi tiết cho các nhà phát triển."
   ]
  },
  {
   "cell_type": "code",
   "execution_count": 94,
   "metadata": {},
   "outputs": [],
   "source": [
    "class addstr(adder):\n",
    "    def __str__(self): # __str__ but no __repr__\n",
    "        return '[Value: %s]' % self.data"
   ]
  },
  {
   "cell_type": "code",
   "execution_count": 95,
   "metadata": {},
   "outputs": [],
   "source": [
    "x = addstr(3)\n",
    "x + 1"
   ]
  },
  {
   "cell_type": "code",
   "execution_count": 96,
   "metadata": {},
   "outputs": [
    {
     "data": {
      "text/plain": [
       "<__main__.addstr at 0x3432890>"
      ]
     },
     "execution_count": 96,
     "metadata": {},
     "output_type": "execute_result"
    }
   ],
   "source": [
    "x"
   ]
  },
  {
   "cell_type": "code",
   "execution_count": 97,
   "metadata": {},
   "outputs": [
    {
     "name": "stdout",
     "output_type": "stream",
     "text": [
      "[Value: 4]\n"
     ]
    }
   ],
   "source": [
    "print(x)"
   ]
  },
  {
   "cell_type": "code",
   "execution_count": 98,
   "metadata": {},
   "outputs": [
    {
     "data": {
      "text/plain": [
       "('[Value: 4]', '<__main__.addstr object at 0x03432890>')"
      ]
     },
     "execution_count": 98,
     "metadata": {},
     "output_type": "execute_result"
    }
   ],
   "source": [
    "str(x), repr(x)"
   ]
  },
  {
   "cell_type": "code",
   "execution_count": 99,
   "metadata": {},
   "outputs": [],
   "source": [
    "class addboth(adder):\n",
    "    def __str__(self):\n",
    "        return '[Value: %s]' % self.data # User-friendly string\n",
    "    def __repr__(self):\n",
    "        return 'addboth(%s)' % self.data"
   ]
  },
  {
   "cell_type": "code",
   "execution_count": 100,
   "metadata": {},
   "outputs": [],
   "source": [
    " x = addboth(4)"
   ]
  },
  {
   "cell_type": "code",
   "execution_count": 101,
   "metadata": {},
   "outputs": [
    {
     "data": {
      "text/plain": [
       "addboth(5)"
      ]
     },
     "execution_count": 101,
     "metadata": {},
     "output_type": "execute_result"
    }
   ],
   "source": [
    "x+1\n",
    "x"
   ]
  },
  {
   "cell_type": "code",
   "execution_count": 102,
   "metadata": {},
   "outputs": [
    {
     "name": "stdout",
     "output_type": "stream",
     "text": [
      "[Value: 5]\n"
     ]
    }
   ],
   "source": [
    "print(x)"
   ]
  },
  {
   "cell_type": "code",
   "execution_count": 103,
   "metadata": {},
   "outputs": [
    {
     "data": {
      "text/plain": [
       "('[Value: 5]', 'addboth(5)')"
      ]
     },
     "execution_count": 103,
     "metadata": {},
     "output_type": "execute_result"
    }
   ],
   "source": [
    "str(x), repr(x)"
   ]
  },
  {
   "cell_type": "code",
   "execution_count": 104,
   "metadata": {},
   "outputs": [
    {
     "name": "stdout",
     "output_type": "stream",
     "text": [
      "2\n",
      "3\n"
     ]
    }
   ],
   "source": [
    "class Printer:\n",
    "    def __init__(self, val):\n",
    "        self.val = val\n",
    "    def __str__(self): # Used for instance itself\n",
    "        return str(self.val)\n",
    "objs = [Printer(2), Printer(3)]\n",
    "for x in objs: \n",
    "    print(x)"
   ]
  },
  {
   "cell_type": "code",
   "execution_count": 105,
   "metadata": {},
   "outputs": [
    {
     "name": "stdout",
     "output_type": "stream",
     "text": [
      "[<__main__.Printer object at 0x03439910>, <__main__.Printer object at 0x03439950>]\n"
     ]
    }
   ],
   "source": [
    "print(objs)"
   ]
  },
  {
   "cell_type": "code",
   "execution_count": 106,
   "metadata": {},
   "outputs": [
    {
     "data": {
      "text/plain": [
       "[<__main__.Printer at 0x3439910>, <__main__.Printer at 0x3439950>]"
      ]
     },
     "execution_count": 106,
     "metadata": {},
     "output_type": "execute_result"
    }
   ],
   "source": [
    "objs"
   ]
  },
  {
   "cell_type": "code",
   "execution_count": 107,
   "metadata": {},
   "outputs": [],
   "source": [
    "class Printer:\n",
    "    def __init__(self, val):\n",
    "        self.val = val\n",
    "    def __repr__(self): # __repr__ used by print if no __str__\n",
    "        return str(self.val)"
   ]
  },
  {
   "cell_type": "code",
   "execution_count": 108,
   "metadata": {},
   "outputs": [
    {
     "name": "stdout",
     "output_type": "stream",
     "text": [
      "2\n",
      "3\n"
     ]
    }
   ],
   "source": [
    "objs = [Printer(2), Printer(3)]\n",
    "for x in objs: \n",
    "    print(x) # No __str__: runs __repr_"
   ]
  },
  {
   "cell_type": "code",
   "execution_count": 109,
   "metadata": {},
   "outputs": [
    {
     "name": "stdout",
     "output_type": "stream",
     "text": [
      "[2, 3]\n"
     ]
    }
   ],
   "source": [
    "print(objs)"
   ]
  },
  {
   "cell_type": "code",
   "execution_count": 110,
   "metadata": {},
   "outputs": [
    {
     "data": {
      "text/plain": [
       "[2, 3]"
      ]
     },
     "execution_count": 110,
     "metadata": {},
     "output_type": "execute_result"
    }
   ],
   "source": [
    "objs"
   ]
  },
  {
   "cell_type": "markdown",
   "metadata": {},
   "source": [
    "# 7.7 Right-Side and In-Place: \\_\\_radd\\_\\_ and \\_\\_iadd\\_\\_"
   ]
  },
  {
   "cell_type": "code",
   "execution_count": 111,
   "metadata": {},
   "outputs": [
    {
     "data": {
      "text/plain": [
       "7"
      ]
     },
     "execution_count": 111,
     "metadata": {},
     "output_type": "execute_result"
    }
   ],
   "source": [
    "class Adder:\n",
    "    def __init__(self, value=0):\n",
    "        self.data = value\n",
    "    def __add__(self, other):\n",
    "        return self.data + other\n",
    "x = Adder(5)\n",
    "x + 2"
   ]
  },
  {
   "cell_type": "markdown",
   "metadata": {},
   "source": [
    "Khi ta sử dụng phép toán cộng phải thì bị lỗi.\n",
    "```python\n",
    "2+x\n",
    "```\n",
    "`Output: TypeError: unsupported operand type(s) for +: 'int' and 'Adder'`"
   ]
  },
  {
   "cell_type": "code",
   "execution_count": 112,
   "metadata": {},
   "outputs": [],
   "source": [
    "class Commuter1:\n",
    "    def __init__(self, val):\n",
    "        self.val = val\n",
    "    def __add__(self, other):\n",
    "        print('add', self.val, other)\n",
    "        return self.val + other\n",
    "    def __radd__(self, other):\n",
    "        print('radd', self.val, other)\n",
    "        return other + self.val"
   ]
  },
  {
   "cell_type": "code",
   "execution_count": 113,
   "metadata": {},
   "outputs": [],
   "source": [
    "x = Commuter1(88)\n",
    "y = Commuter1(99)"
   ]
  },
  {
   "cell_type": "code",
   "execution_count": 114,
   "metadata": {},
   "outputs": [
    {
     "name": "stdout",
     "output_type": "stream",
     "text": [
      "add 88 1\n"
     ]
    },
    {
     "data": {
      "text/plain": [
       "89"
      ]
     },
     "execution_count": 114,
     "metadata": {},
     "output_type": "execute_result"
    }
   ],
   "source": [
    "x + 1"
   ]
  },
  {
   "cell_type": "code",
   "execution_count": 115,
   "metadata": {},
   "outputs": [
    {
     "name": "stdout",
     "output_type": "stream",
     "text": [
      "radd 99 1\n"
     ]
    },
    {
     "data": {
      "text/plain": [
       "100"
      ]
     },
     "execution_count": 115,
     "metadata": {},
     "output_type": "execute_result"
    }
   ],
   "source": [
    "1 + y"
   ]
  },
  {
   "cell_type": "code",
   "execution_count": 116,
   "metadata": {},
   "outputs": [
    {
     "name": "stdout",
     "output_type": "stream",
     "text": [
      "add 88 <__main__.Commuter1 object at 0x03441370>\n",
      "radd 99 88\n"
     ]
    },
    {
     "data": {
      "text/plain": [
       "187"
      ]
     },
     "execution_count": 116,
     "metadata": {},
     "output_type": "execute_result"
    }
   ],
   "source": [
    "x + y"
   ]
  },
  {
   "cell_type": "code",
   "execution_count": 117,
   "metadata": {},
   "outputs": [],
   "source": [
    "class Commuter2:\n",
    "    def __init__(self, val):\n",
    "        self.val = val\n",
    "    def __add__(self, other):\n",
    "        print('add', self.val, other)\n",
    "        return self.val + other\n",
    "    def __radd__(self, other):\n",
    "        return self.__add__(other)  # Call __call__ rõ ràng\n",
    "class Commuter3:\n",
    "    def __init__(self, val):\n",
    "        self.val = val\n",
    "    def __add__(self, other):\n",
    "        print('add', self.val, other)\n",
    "        return self.val + other\n",
    "    def __radd__(self, other):\n",
    "        return self + other # Swap order and re-add\n",
    "class Commuter4:\n",
    "    def __init__(self, val):\n",
    "        self.val = val\n",
    "    def __add__(self, other):\n",
    "        print('add', self.val, other)\n",
    "        return self.val + other\n",
    "    __radd__ = __add__      # Alias: cut out the middleman"
   ]
  },
  {
   "cell_type": "code",
   "execution_count": 118,
   "metadata": {},
   "outputs": [],
   "source": [
    "class Commuter5:                        # Propagate class type in results\n",
    "    def __init__(self, val):\n",
    "        self.val = val\n",
    "    def __add__(self, other):\n",
    "        if isinstance(other, Commuter5): # Type test to avoid object nesting\n",
    "            other = other.val\n",
    "        return Commuter5(self.val + other) # Else + result is another Commuter\n",
    "    def __radd__(self, other):\n",
    "        return Commuter5(other + self.val)\n",
    "    def __str__(self):\n",
    "        return '<Commuter5: %s>' % self.val"
   ]
  },
  {
   "cell_type": "code",
   "execution_count": 119,
   "metadata": {},
   "outputs": [
    {
     "name": "stdout",
     "output_type": "stream",
     "text": [
      "<Commuter5: 98>\n"
     ]
    }
   ],
   "source": [
    "x = Commuter5(88)\n",
    "y = Commuter5(99)\n",
    "print(x + 10)"
   ]
  },
  {
   "cell_type": "code",
   "execution_count": 120,
   "metadata": {},
   "outputs": [
    {
     "name": "stdout",
     "output_type": "stream",
     "text": [
      "<Commuter5: 109>\n"
     ]
    }
   ],
   "source": [
    "print(10 + y)"
   ]
  },
  {
   "cell_type": "code",
   "execution_count": 121,
   "metadata": {},
   "outputs": [
    {
     "name": "stdout",
     "output_type": "stream",
     "text": [
      "<Commuter5: 187>\n"
     ]
    }
   ],
   "source": [
    "z = x + y\n",
    "print(z)"
   ]
  },
  {
   "cell_type": "code",
   "execution_count": 122,
   "metadata": {},
   "outputs": [
    {
     "name": "stdout",
     "output_type": "stream",
     "text": [
      "<Commuter5: 197>\n"
     ]
    }
   ],
   "source": [
    "print(z + 10)"
   ]
  },
  {
   "cell_type": "code",
   "execution_count": 123,
   "metadata": {},
   "outputs": [
    {
     "name": "stdout",
     "output_type": "stream",
     "text": [
      "<Commuter5: 374>\n"
     ]
    }
   ],
   "source": [
    "print(z + z)"
   ]
  },
  {
   "cell_type": "code",
   "execution_count": 124,
   "metadata": {},
   "outputs": [
    {
     "name": "stdout",
     "output_type": "stream",
     "text": [
      "<Commuter5: 375>\n"
     ]
    }
   ],
   "source": [
    "print(z + z + 1)"
   ]
  },
  {
   "cell_type": "code",
   "execution_count": 125,
   "metadata": {},
   "outputs": [
    {
     "data": {
      "text/plain": [
       "7"
      ]
     },
     "execution_count": 125,
     "metadata": {},
     "output_type": "execute_result"
    }
   ],
   "source": [
    "class Number:\n",
    "    def __init__(self, val):\n",
    "        self.val = val\n",
    "    def __iadd__(self, other): # __iadd__ explicit: x += y\n",
    "        self.val += other # Usually returns self\n",
    "        return self\n",
    "x = Number(5)\n",
    "x += 2\n",
    "x.val"
   ]
  },
  {
   "cell_type": "code",
   "execution_count": 126,
   "metadata": {},
   "outputs": [
    {
     "data": {
      "text/plain": [
       "[1, 2, 3]"
      ]
     },
     "execution_count": 126,
     "metadata": {},
     "output_type": "execute_result"
    }
   ],
   "source": [
    "y = Number([1])\n",
    "y += [2]\n",
    "y += [3]\n",
    "y.val"
   ]
  },
  {
   "cell_type": "code",
   "execution_count": 127,
   "metadata": {},
   "outputs": [],
   "source": [
    "class Number:\n",
    "    def __init__(self, val):\n",
    "        self.val = val\n",
    "    def __add__(self, other): # __add__ fallback: x = (x + y)\n",
    "        return Number(self.val + other)"
   ]
  },
  {
   "cell_type": "code",
   "execution_count": 128,
   "metadata": {},
   "outputs": [
    {
     "data": {
      "text/plain": [
       "7"
      ]
     },
     "execution_count": 128,
     "metadata": {},
     "output_type": "execute_result"
    }
   ],
   "source": [
    "x = Number(5)\n",
    "x += 1\n",
    "x += 1 # And += does concatenation here\n",
    "x.val"
   ]
  },
  {
   "cell_type": "markdown",
   "metadata": {},
   "source": [
    "## Call Expression: \\_\\_call\\_\\_"
   ]
  },
  {
   "cell_type": "code",
   "execution_count": 129,
   "metadata": {},
   "outputs": [],
   "source": [
    "class Callee:\n",
    "    def __call__(self, *pargs, **kargs): # Intercept instance calls\n",
    "        print('Called:', pargs, kargs)"
   ]
  },
  {
   "cell_type": "code",
   "execution_count": 130,
   "metadata": {},
   "outputs": [
    {
     "name": "stdout",
     "output_type": "stream",
     "text": [
      "Called: (1, 2, 3) {}\n"
     ]
    }
   ],
   "source": [
    "C = Callee()\n",
    "C(1, 2, 3)"
   ]
  },
  {
   "cell_type": "code",
   "execution_count": 131,
   "metadata": {},
   "outputs": [
    {
     "name": "stdout",
     "output_type": "stream",
     "text": [
      "Called: (1, 2, 3) {'x': 4, 'y': 5}\n"
     ]
    }
   ],
   "source": [
    "C(1, 2, 3, x=4, y=5)"
   ]
  },
  {
   "cell_type": "code",
   "execution_count": 132,
   "metadata": {},
   "outputs": [],
   "source": [
    "class Prod:\n",
    "    def __init__(self, value): # Accept just one argument\n",
    "        self.value = value\n",
    "    def __call__(self, other):\n",
    "        return self.value * other"
   ]
  },
  {
   "cell_type": "code",
   "execution_count": 133,
   "metadata": {},
   "outputs": [
    {
     "data": {
      "text/plain": [
       "6"
      ]
     },
     "execution_count": 133,
     "metadata": {},
     "output_type": "execute_result"
    }
   ],
   "source": [
    "x = Prod(2)\n",
    "x(3)"
   ]
  },
  {
   "cell_type": "code",
   "execution_count": 134,
   "metadata": {},
   "outputs": [
    {
     "data": {
      "text/plain": [
       "8"
      ]
     },
     "execution_count": 134,
     "metadata": {},
     "output_type": "execute_result"
    }
   ],
   "source": [
    "x(4)"
   ]
  },
  {
   "cell_type": "markdown",
   "metadata": {},
   "source": [
    "### Cách thông thường"
   ]
  },
  {
   "cell_type": "code",
   "execution_count": 135,
   "metadata": {},
   "outputs": [],
   "source": [
    "class Prod:\n",
    "    def __init__(self, value):\n",
    "        self.value = value\n",
    "    def comp(self, other):\n",
    "        return self.value * other"
   ]
  },
  {
   "cell_type": "code",
   "execution_count": 136,
   "metadata": {},
   "outputs": [
    {
     "data": {
      "text/plain": [
       "9"
      ]
     },
     "execution_count": 136,
     "metadata": {},
     "output_type": "execute_result"
    }
   ],
   "source": [
    "x = Prod(3)\n",
    "x.comp(3)"
   ]
  },
  {
   "cell_type": "code",
   "execution_count": 137,
   "metadata": {},
   "outputs": [
    {
     "data": {
      "text/plain": [
       "12"
      ]
     },
     "execution_count": 137,
     "metadata": {},
     "output_type": "execute_result"
    }
   ],
   "source": [
    " x.comp(4)"
   ]
  },
  {
   "cell_type": "markdown",
   "metadata": {},
   "source": [
    "# 7.8 Toán tử so sánh: \\_\\_lt\\_\\_ and \\_\\_gt\\_\\_"
   ]
  },
  {
   "cell_type": "code",
   "execution_count": 138,
   "metadata": {},
   "outputs": [
    {
     "name": "stdout",
     "output_type": "stream",
     "text": [
      "True\n",
      "False\n"
     ]
    }
   ],
   "source": [
    "class C:\n",
    "    data = 'spam'\n",
    "    def __gt__(self, other): # 3.X and 2.X version\n",
    "        return self.data > other\n",
    "    def __lt__(self, other):\n",
    "        return self.data < other\n",
    "X = C()\n",
    "print(X > 'ham') # True (runs __gt__)\n",
    "print(X < 'ham')"
   ]
  },
  {
   "cell_type": "code",
   "execution_count": 1,
   "metadata": {},
   "outputs": [
    {
     "ename": "TypeError",
     "evalue": "'>' not supported between instances of 'C' and 'str'",
     "output_type": "error",
     "traceback": [
      "\u001b[1;31m----------------------------------------------------------------\u001b[0m",
      "\u001b[1;31mTypeError\u001b[0m                      Traceback (most recent call last)",
      "\u001b[1;32m<ipython-input-1-0a4c33d72774>\u001b[0m in \u001b[0;36m<module>\u001b[1;34m()\u001b[0m\n\u001b[0;32m      4\u001b[0m         \u001b[1;32mreturn\u001b[0m \u001b[1;33m(\u001b[0m\u001b[0mself\u001b[0m\u001b[1;33m.\u001b[0m\u001b[0mdata\u001b[0m \u001b[1;33m>\u001b[0m \u001b[0mother\u001b[0m\u001b[1;33m)\u001b[0m \u001b[1;33m-\u001b[0m \u001b[1;33m(\u001b[0m\u001b[0mself\u001b[0m\u001b[1;33m.\u001b[0m\u001b[0mdata\u001b[0m \u001b[1;33m<\u001b[0m \u001b[0mother\u001b[0m\u001b[1;33m)\u001b[0m\u001b[1;33m\u001b[0m\u001b[0m\n\u001b[0;32m      5\u001b[0m \u001b[0mX\u001b[0m\u001b[1;33m=\u001b[0m\u001b[0mC\u001b[0m\u001b[1;33m(\u001b[0m\u001b[1;33m)\u001b[0m\u001b[1;33m\u001b[0m\u001b[0m\n\u001b[1;32m----> 6\u001b[1;33m \u001b[0mprint\u001b[0m\u001b[1;33m(\u001b[0m\u001b[0mX\u001b[0m\u001b[1;33m>\u001b[0m\u001b[1;34m'ham'\u001b[0m\u001b[1;33m)\u001b[0m\u001b[1;33m\u001b[0m\u001b[0m\n\u001b[0m",
      "\u001b[1;31mTypeError\u001b[0m: '>' not supported between instances of 'C' and 'str'"
     ]
    }
   ],
   "source": [
    "class C:\n",
    "    data = 'spam'\n",
    "    def __cmp__(self, other):\n",
    "        return (self.data > other) - (self.data < other)\n",
    "X=C()\n",
    "print(X>'ham')"
   ]
  },
  {
   "cell_type": "markdown",
   "metadata": {},
   "source": [
    "# 7.9 Boolean Test: \\_\\_bool\\_\\_ and \\_\\_len\\_\\_"
   ]
  },
  {
   "cell_type": "code",
   "execution_count": 140,
   "metadata": {},
   "outputs": [
    {
     "name": "stdout",
     "output_type": "stream",
     "text": [
      "yes!\n"
     ]
    }
   ],
   "source": [
    "class Truth:\n",
    "    def __bool__(self): return True\n",
    "X = Truth()\n",
    "if X: print('yes!')"
   ]
  },
  {
   "cell_type": "code",
   "execution_count": 141,
   "metadata": {},
   "outputs": [
    {
     "data": {
      "text/plain": [
       "False"
      ]
     },
     "execution_count": 141,
     "metadata": {},
     "output_type": "execute_result"
    }
   ],
   "source": [
    "class Truth:\n",
    "    def __bool__(self): return False\n",
    "X = Truth()\n",
    "bool(X)"
   ]
  },
  {
   "cell_type": "code",
   "execution_count": 142,
   "metadata": {},
   "outputs": [
    {
     "name": "stdout",
     "output_type": "stream",
     "text": [
      "no!\n"
     ]
    }
   ],
   "source": [
    "class Truth:\n",
    "    def __len__(self): return 0\n",
    "X = Truth()\n",
    "if not X: print('no!')"
   ]
  },
  {
   "cell_type": "code",
   "execution_count": 143,
   "metadata": {},
   "outputs": [
    {
     "name": "stdout",
     "output_type": "stream",
     "text": [
      "yes!\n"
     ]
    }
   ],
   "source": [
    "class Truth:\n",
    "    def __bool__(self): return True # 3.X tries __bool__ first\n",
    "    def __len__(self): return 0\n",
    "X = Truth()\n",
    "if X: print('yes!')"
   ]
  },
  {
   "cell_type": "code",
   "execution_count": 144,
   "metadata": {},
   "outputs": [
    {
     "data": {
      "text/plain": [
       "True"
      ]
     },
     "execution_count": 144,
     "metadata": {},
     "output_type": "execute_result"
    }
   ],
   "source": [
    "class Truth:\n",
    "    pass\n",
    "X = Truth()\n",
    "bool(X)"
   ]
  },
  {
   "cell_type": "markdown",
   "metadata": {},
   "source": [
    "# 7.10 Destruction: \\_\\_del\\_\\_"
   ]
  },
  {
   "cell_type": "code",
   "execution_count": 145,
   "metadata": {},
   "outputs": [],
   "source": [
    "class Life:\n",
    "    def __init__(self, name='unknown'):\n",
    "        print('Hello ' + name)\n",
    "        self.name = name\n",
    "    def live(self):\n",
    "        print(self.name)\n",
    "    def __del__(self):\n",
    "        print('Goodbye ' + self.name)"
   ]
  },
  {
   "cell_type": "code",
   "execution_count": 146,
   "metadata": {},
   "outputs": [
    {
     "name": "stdout",
     "output_type": "stream",
     "text": [
      "Hello Brian\n"
     ]
    }
   ],
   "source": [
    "brian = Life('Brian')"
   ]
  },
  {
   "cell_type": "code",
   "execution_count": 147,
   "metadata": {},
   "outputs": [
    {
     "name": "stdout",
     "output_type": "stream",
     "text": [
      "Brian\n"
     ]
    }
   ],
   "source": [
    "brian.live()"
   ]
  },
  {
   "cell_type": "code",
   "execution_count": 148,
   "metadata": {},
   "outputs": [
    {
     "name": "stdout",
     "output_type": "stream",
     "text": [
      "Goodbye Brian\n"
     ]
    }
   ],
   "source": [
    "brian = 'loretta' # namespace của đối tượng được lấy lại"
   ]
  },
  {
   "cell_type": "markdown",
   "metadata": {},
   "source": [
    "# Bài tập Excercise\n",
    "## A. Quiz\n",
    "**Câu 1:** Chúng ta có thể sử dụng hai phương thức operator overloading nào để hỗ trợ lặp lại trong các lớp.\n",
    "\n",
    "**Câu 2:** Hai phương thức operator overloading  nào xử lý việc in và trong những ngữ cảnh nào?\n",
    "\n",
    "**Câu 3:** Làm thế nào bạn có thể intercept các hoạt động slice trong một lớp?\n",
    "\n",
    "**Câu 4:** Làm thế nào bạn có thể cộng in-place trong một lớp?\n",
    "\n",
    "**Câu 5:** Khi nào bạn nên xài operator overloading?\n",
    "\n",
    "## B. Coding\n",
    "**Câu 6:** Viết một lớp có tên MyList(“wraps”): nó sẽ sử dụng overloading của danh sách, bao gồm +, index, iteration, slicing và list như append và sort.\n",
    "\n",
    "**Câu 7:** Tạo một lớp con của MyList từ bài tập trước được gọi là MyListSub,\n",
    "mở rộng MyList để in một tin nhắn tới stdout trước mỗi cuộc gọi đến + operation overloading và đếm số lượng lời gọi.\n",
    "\n",
    "MyListSub kế thừa cơ bản hành vi phương thức từ MyList. Thêm một chuỗi vào MyListSub sẽ in ra\n",
    "nhắn tin, tăng bộ đếm cho + cuộc gọi và thực hiện phương thức của lớp cha.\n",
    "\n",
    "Ngoài ra, tạo một phương thức thống kê in các bộ đếm thao tác ra stdout, và\n",
    "thử nghiệm tương tác với lớp học của bạn.\n",
    "\n",
    "**Câu 8:** Viết một lớp được gọi là Attrs với các phương thức intercept \n",
    "xác định thuộc tính (cả tìm nạp và gán) và in danh sách tin nhắn\n",
    "các đối số tới stdout."
   ]
  },
  {
   "cell_type": "markdown",
   "metadata": {},
   "source": [
    "---\n",
    "# <span style= 'color:blue'> Đáp án </span>\n",
    "\n",
    "**1.** Các lớp có thể hỗ trợ lặp lại bằng cách xác định \\_\\_getitem\\_\\_ hoặc \\_\\_iter\\_\\_.\n",
    "Trong tất cả các ngữ cảnh lặp lại, Python cố gắng sử dụng \\_\\_iter\\_\\_ trước nó trả về một đối tượng hỗ trợ giao thức lặp với phương thức \\_\\_next\\_\\_: nếu không tìm thấy \\_\n",
    "\\_iter\\_\\_ bằng cách tìm kiếm kế thừa, Python trở lại phương thức lập chỉ mục \\_\\_getitem\\_\\_, được gọi nhiều lần với các chỉ số tăng lên. Nếu được sử dụng,\n",
    "câu lệnh yield có thể tạo phương thức \\_\\_next\\_\\_ tự động.\n",
    "\n",
    "**2.** Các phương thức \\_\\_str\\_\\_ và \\_\\_repr\\_\\_ thực hiện hiển thị in đối tượng. Trước đây là\n",
    "được gọi bởi các hàm print và str; cái sau được gọi bằng print và str\n",
    "nếu không có \\_\\_str\\_\\_ và luôn được tạo bởi repr built-in. Nghĩa là, \\_\\_repr\\_\\_ được sử dụng ở mọi nơi, ngoại trừ print và str khi \\_\\_str\\_\\_ được xác định,\\_\\_str\\_\\_ thường được sử dụng cho các màn hình thân thiện với người dùng, \\_\\_repr\\_\\_ cung cấp thêm chi tiết hoặc dạng mã của đối tượng.\n",
    "\n",
    "**3.** Phương thức lập chỉ mục \\_\\_getitem\\_\\_ bắt được Slicing: nó được gọi với một đối tượng slice,\n",
    "thay vì một chỉ mục số nguyên đơn giản và các đối tượng lát cắt có thể được truyền hoặc kiểm tra\n",
    "khi cần thiết. Trong Python 2.X, \\_\\_getslice\\_\\_ (không còn tồn tại trong 3.X) có thể được sử dụng cho hai giới hạn slice nữa.\n",
    "\n",
    "**4.** Phép cộng in-place có gắng xài \\_\\_iadd\\_\\_ đầu tiên và \\_\\_add\\_\\_ với một nhiệm vụ thứ hai. Phương thức \\_\\_radd\\_\\_ cũng có thể cộng bên phải.\n",
    "\n",
    "**5.** Khi một lớp đối sánh tự nhiên hoặc cần mô phỏng các giao diện của kiểu built-in.\n",
    "Ví dụ: các bộ sưu tập có thể bắt chước các giao diện trình tự hoặc ánh xạ và các bảng gọi có thể được mã hóa để sử dụng với một API mong đợi một chức năng. \n",
    "\n",
    "Chúng ta không nên triển khai các toán tử biểu thức nếu chúng không liên kết với các đối tượng của bạn một cách tự nhiên và hợp lý thay vào đó hãy sử dụng các phương thức được đặt tên thông thường."
   ]
  },
  {
   "cell_type": "code",
   "execution_count": 10,
   "metadata": {},
   "outputs": [
    {
     "name": "stdout",
     "output_type": "stream",
     "text": [
      "['S', 'p', 'a', 'm']\n",
      "a\n",
      "['p', 'a', 'm']\n",
      "['S', 'p', 'a', 'm', 'eggs']\n",
      "['S', 'p', 'a', 'm', 'S', 'p', 'a', 'm', 'S', 'p', 'a', 'm']\n",
      "S a a m p\n"
     ]
    }
   ],
   "source": [
    "# 6\n",
    "class MyList:\n",
    "    def __init__(self,start):\n",
    "        self.wrapped=list(start)\n",
    "    def __add__(self,other):           # Add +\n",
    "        return MyList(self.wrapped+other)\n",
    "    def __mul__(self,time):            # Mutiply *\n",
    "        return MyList(self.wrapped*time)\n",
    "    def __getitem__(self,offset):      # Iteration\n",
    "        return self.wrapped[offset]\n",
    "    def __len__(self):                 # Length\n",
    "        return len(self.wrapped) \n",
    "    def __getslice__(self,low,high):   # Slice\n",
    "        return MyList(self.wrapped[low:high])\n",
    "    def append(self,node):           \n",
    "        self.wrapped.append(node)\n",
    "    def __getattr__(self,name):        # Other method: sort()\n",
    "        return getattr(self.wrapped,name)\n",
    "    def __repr__(self):                # Display\n",
    "        return repr(self.wrapped)\n",
    "\n",
    "if __name__==\"__main__\":\n",
    "    x=MyList(\"Spam\")\n",
    "    print(x)\n",
    "    print(x[2])\n",
    "    print(x[1:])\n",
    "    print(x+[\"eggs\"])\n",
    "    print(x*3)\n",
    "    x.append('a')\n",
    "    x.sort()\n",
    "    print(\" \".join(c for c in x))"
   ]
  },
  {
   "cell_type": "code",
   "execution_count": 16,
   "metadata": {},
   "outputs": [
    {
     "name": "stdout",
     "output_type": "stream",
     "text": [
      "a\n",
      "['p', 'a', 'm']\n",
      "add:['egg']\n",
      "['s', 'p', 'a', 'm', 'egg']\n",
      "add:['toast']\n",
      "['s', 'p', 'a', 'm', 'toast']\n",
      "add:['bar']\n",
      "['f', 'o', 'o', 'bar']\n",
      "(3, 2)\n"
     ]
    }
   ],
   "source": [
    "# 7\n",
    "class MyListSub(MyList):\n",
    "    calls=0                # share all instance\n",
    "    def __init__(self,start):\n",
    "        self.adds=0         # only per instance\n",
    "        MyList.__init__(self,start)\n",
    "    def __add__(self,other):\n",
    "        print(\"add:\"+str(other))\n",
    "        MyListSub.calls+=1\n",
    "        self.adds+=1\n",
    "        return MyList.__add__(self,other)\n",
    "    def stats(self):\n",
    "        return self.calls,self.adds\n",
    "if __name__==\"__main__\":\n",
    "    x=MyListSub(\"spam\")\n",
    "    y=MyListSub('foo')\n",
    "    print(x[2])\n",
    "    print(x[1:])\n",
    "    print(x+['egg'])\n",
    "    print(x+['toast'])\n",
    "    print(y+['bar'])\n",
    "    print(x.stats())"
   ]
  },
  {
   "cell_type": "code",
   "execution_count": 23,
   "metadata": {},
   "outputs": [
    {
     "name": "stdout",
     "output_type": "stream",
     "text": [
      "get append\n",
      "set spam pock\n"
     ]
    }
   ],
   "source": [
    "# 8\n",
    "class Attrs:\n",
    "    def __getattr__(self,name):\n",
    "        print('get %s'%name)\n",
    "    def __setattr__(self,name,value):\n",
    "        print(\"set %s %s\"%(name,value))\n",
    "x=Attrs()\n",
    "x.append\n",
    "x.spam='pock'"
   ]
  },
  {
   "cell_type": "code",
   "execution_count": null,
   "metadata": {},
   "outputs": [],
   "source": []
  }
 ],
 "metadata": {
  "kernelspec": {
   "display_name": "Python 3",
   "language": "python",
   "name": "python3"
  },
  "language_info": {
   "codemirror_mode": {
    "name": "ipython",
    "version": 3
   },
   "file_extension": ".py",
   "mimetype": "text/x-python",
   "name": "python",
   "nbconvert_exporter": "python",
   "pygments_lexer": "ipython3",
   "version": "3.7.0"
  }
 },
 "nbformat": 4,
 "nbformat_minor": 2
}
