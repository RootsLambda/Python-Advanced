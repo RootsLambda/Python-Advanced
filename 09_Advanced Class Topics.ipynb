{
 "cells": [
  {
   "cell_type": "markdown",
   "metadata": {},
   "source": [
    "# 9.1 Extending Built-in Type"
   ]
  },
  {
   "cell_type": "code",
   "execution_count": 1,
   "metadata": {},
   "outputs": [],
   "source": [
    "# File setwrapper.py\n",
    "class Set:\n",
    "    def __init__(self, value = []): # Constructor\n",
    "        self.data = [] # Manages a list\n",
    "        self.concat(value)\n",
    "    def intersect(self, other): # other is any sequence\n",
    "        res = [] # self is the subjecthttp://localhost:8888/notebooks/Python_Advanced/09_Advanced%20Class%20Topics.ipynb#\n",
    "        for x in self.data:\n",
    "            if x in other: # Pick common items\n",
    "                res.append(x)\n",
    "        return Set(res) # Return a new Set\n",
    "    def union(self, other): # other is any sequence\n",
    "        res = self.data[:] # Copy of my list\n",
    "        for x in other: # Add items in other\n",
    "            if not x in res:\n",
    "                res.append(x)\n",
    "        return Set(res)\n",
    "    def concat(self, value): # value: list, Set...\n",
    "        for x in value: # Removes duplicates\n",
    "            if not x in self.data:\n",
    "                self.data.append(x)\n",
    "    def __len__(self): return len(self.data) # len(self), if self\n",
    "    def __getitem__(self, key): return self.data[key] # self[i], self[i:j]\n",
    "    def __and__(self, other): return self.intersect(other) # self & other\n",
    "    def __or__(self, other): return self.union(other) # self | other\n",
    "    def __repr__(self): return 'Set:' + repr(self.data) # print(self),...\n",
    "    def __iter__(self): return iter(self.data) # for x in self,..."
   ]
  },
  {
   "cell_type": "code",
   "execution_count": 2,
   "metadata": {},
   "outputs": [
    {
     "name": "stdout",
     "output_type": "stream",
     "text": [
      "Set:[1, 3, 5, 7, 4]\n",
      "Set:[1, 3, 5, 7, 4, 6]\n"
     ]
    }
   ],
   "source": [
    "x = Set([1, 3, 5, 7])\n",
    "print(x.union(Set([1, 4, 7]))) # prints Set:[1, 3, 5, 7, 4]\n",
    "print(x | Set([1, 4, 6])) # prints Set:[1, 3, 5, 7, 4, 6]"
   ]
  },
  {
   "cell_type": "markdown",
   "metadata": {},
   "source": [
    "## Entending Types by Subclassing"
   ]
  },
  {
   "cell_type": "code",
   "execution_count": 3,
   "metadata": {},
   "outputs": [
    {
     "name": "stdout",
     "output_type": "stream",
     "text": [
      "['a', 'b', 'c']\n",
      "['a', 'b', 'c']\n",
      "(indexing ['a', 'b', 'c'] at 1)\n",
      "a\n",
      "(indexing ['a', 'b', 'c'] at 3)\n",
      "c\n",
      "['a', 'b', 'c', 'spam']\n",
      "['spam', 'c', 'b', 'a']\n"
     ]
    }
   ],
   "source": [
    "# File typesubclass.py\n",
    "class MyList(list):\n",
    "    def __getitem__(self, offset):\n",
    "        print('(indexing %s at %s)' % (self, offset))\n",
    "        return list.__getitem__(self, offset - 1)\n",
    "if __name__ == '__main__':\n",
    "    print(list('abc'))\n",
    "    x = MyList('abc') # __init__ inherited from list\n",
    "    print(x) # __repr__ inherited from list\n",
    "    print(x[1]) # MyList.__getitem__\n",
    "    print(x[3]) # Customizes list superclass method\n",
    "    x.append('spam'); print(x) # Attributes from list superclass\n",
    "    x.reverse(); print(x)"
   ]
  },
  {
   "cell_type": "code",
   "execution_count": 4,
   "metadata": {},
   "outputs": [
    {
     "name": "stdout",
     "output_type": "stream",
     "text": [
      "Set:[1, 3, 5, 7] Set:[2, 1, 4, 5, 6] 4\n",
      "----------------------------------------\n",
      "Set:[1, 5] Set:[2, 1, 4, 5, 6, 3, 7]\n",
      "----------------------------------------\n",
      "Set:[1, 5] Set:[1, 3, 5, 7, 2, 4, 6]\n",
      "----------------------------------------\n",
      "Set:[7, 5, 3, 1]\n"
     ]
    }
   ],
   "source": [
    "# File setsubclass.py\n",
    "class Set(list):\n",
    "    def __init__(self, value = []): # Constructor\n",
    "        list.__init__([]) # Customizes list\n",
    "        self.concat(value) # Copies mutable defaults\n",
    "    def intersect(self, other): # other is any sequence\n",
    "        res = [] # self is the subject\n",
    "        for x in self:\n",
    "            if x in other: # Pick common items\n",
    "                res.append(x)\n",
    "        return Set(res) # Return a new Set\n",
    "    def union(self, other): # other is any sequence\n",
    "        res = Set(self) # Copy me and my list\n",
    "        res.concat(other)\n",
    "        return res\n",
    "    def concat(self, value): # value: list, Set, etc.\n",
    "        for x in value: # Removes duplicates\n",
    "            if not x in self:\n",
    "                self.append(x)\n",
    "    def __and__(self, other): return self.intersect(other)\n",
    "    def __or__(self, other): return self.union(other)\n",
    "    def __repr__(self): return 'Set:' + list.__repr__(self)\n",
    "if __name__ == '__main__':\n",
    "    x = Set([1,3,5,7])\n",
    "    y = Set([2,1,4,5,6])\n",
    "    print(x, y, len(x))\n",
    "    print(\"-\"*40)\n",
    "    print(x.intersect(y), y.union(x))\n",
    "    print(\"-\"*40)\n",
    "    print(x & y, x | y)\n",
    "    print(\"-\"*40)\n",
    "    x.reverse(); print(x)"
   ]
  },
  {
   "cell_type": "markdown",
   "metadata": {},
   "source": [
    "# 9.2 Class model new style"
   ]
  },
  {
   "cell_type": "markdown",
   "metadata": {},
   "source": [
    "Class kiểu mới trong python 3 có object.\n",
    "```python\n",
    "class C(object):\n",
    "    data = 'spam'\n",
    "    def __getattr__(self, name):\n",
    "        print(name)\n",
    "        return getattr(self.data, name)\n",
    "X = C()\n",
    "X[0]\n",
    "```\n",
    "`Output: TypeError: 'C' object does not support indexing`"
   ]
  },
  {
   "cell_type": "code",
   "execution_count": 5,
   "metadata": {},
   "outputs": [
    {
     "data": {
      "text/plain": [
       "99"
      ]
     },
     "execution_count": 5,
     "metadata": {},
     "output_type": "execute_result"
    }
   ],
   "source": [
    "class C(object): pass \n",
    "X = C()\n",
    "X.normal = lambda: 99\n",
    "X.normal() # Normals still from instance"
   ]
  },
  {
   "cell_type": "code",
   "execution_count": 6,
   "metadata": {},
   "outputs": [],
   "source": [
    "X.__add__ =lambda y: 88 + y"
   ]
  },
  {
   "cell_type": "code",
   "execution_count": 7,
   "metadata": {},
   "outputs": [
    {
     "data": {
      "text/plain": [
       "89"
      ]
     },
     "execution_count": 7,
     "metadata": {},
     "output_type": "execute_result"
    }
   ],
   "source": [
    "X.__add__(1)"
   ]
  },
  {
   "cell_type": "markdown",
   "metadata": {},
   "source": [
    "Cộng trực tiếp sẽ không được.\n",
    "```python\n",
    "X+1\n",
    "```\n",
    "`Output: TypeError: unsupported operand type(s) for +: 'C' and 'int'`"
   ]
  },
  {
   "cell_type": "code",
   "execution_count": 8,
   "metadata": {},
   "outputs": [],
   "source": [
    "class C(object):\n",
    "    def __getattr__(self, name): \n",
    "        print(name)"
   ]
  },
  {
   "cell_type": "code",
   "execution_count": 9,
   "metadata": {},
   "outputs": [
    {
     "name": "stdout",
     "output_type": "stream",
     "text": [
      "normal\n"
     ]
    }
   ],
   "source": [
    "X = C()\n",
    "X.normal"
   ]
  },
  {
   "cell_type": "code",
   "execution_count": 10,
   "metadata": {},
   "outputs": [
    {
     "name": "stdout",
     "output_type": "stream",
     "text": [
      "__add__\n"
     ]
    }
   ],
   "source": [
    " X.__add__ # Direct calls by name are too, but expressions are not"
   ]
  },
  {
   "cell_type": "markdown",
   "metadata": {},
   "source": [
    "Cộng trực tiếp sẽ gây ra lỗi.\n",
    "```python\n",
    "X+1\n",
    "```\n",
    "`Output: TypeError: unsupported operand type(s) for +: 'C' and 'int'`"
   ]
  },
  {
   "cell_type": "code",
   "execution_count": 11,
   "metadata": {},
   "outputs": [],
   "source": [
    "class C(object):\n",
    "    data = 'spam'\n",
    "    def __getattr__(self, name):\n",
    "        print('getattr: ' + name)\n",
    "        return getattr(self.data, name)"
   ]
  },
  {
   "cell_type": "code",
   "execution_count": 12,
   "metadata": {},
   "outputs": [
    {
     "name": "stdout",
     "output_type": "stream",
     "text": [
      "getattr: __getitem__\n"
     ]
    },
    {
     "data": {
      "text/plain": [
       "'p'"
      ]
     },
     "execution_count": 12,
     "metadata": {},
     "output_type": "execute_result"
    }
   ],
   "source": [
    "X = C()\n",
    "X.__getitem__(1)"
   ]
  },
  {
   "cell_type": "markdown",
   "metadata": {},
   "source": [
    "Lấy index gây ra lỗi.\n",
    "```python\n",
    "X[1]\n",
    "```\n",
    "`Output: TypeError: 'C' object does not support indexing`"
   ]
  },
  {
   "cell_type": "code",
   "execution_count": 13,
   "metadata": {},
   "outputs": [
    {
     "name": "stdout",
     "output_type": "stream",
     "text": [
      "getattr: __add__\n"
     ]
    },
    {
     "data": {
      "text/plain": [
       "'spameggs'"
      ]
     },
     "execution_count": 13,
     "metadata": {},
     "output_type": "execute_result"
    }
   ],
   "source": [
    "X.__add__('eggs')"
   ]
  },
  {
   "cell_type": "markdown",
   "metadata": {},
   "source": [
    "Cộng trực tiếp gây ra lỗi.\n",
    "```python\n",
    " X + 'eggs'\n",
    "```\n",
    "`Output: TypeError: unsupported operand type(s) for +: 'C' and 'str'`"
   ]
  },
  {
   "cell_type": "markdown",
   "metadata": {},
   "source": [
    "Thử type dùng phương thức.\n",
    "```python\n",
    "type(X).__add__(X, 'eggs')\n",
    "```\n",
    "`Output: AttributeError: type object 'C' has no attribute '__add__'`"
   ]
  },
  {
   "cell_type": "code",
   "execution_count": 14,
   "metadata": {},
   "outputs": [
    {
     "name": "stdout",
     "output_type": "stream",
     "text": [
      "getattr: upper\n"
     ]
    },
    {
     "data": {
      "text/plain": [
       "<function str.upper()>"
      ]
     },
     "execution_count": 14,
     "metadata": {},
     "output_type": "execute_result"
    }
   ],
   "source": [
    "class C(object): \n",
    "    data = 'spam'\n",
    "    def __getattr__(self, name): # Catch normal names\n",
    "        print('getattr: ' + name)\n",
    "        return getattr(self.data, name)\n",
    "    def __getitem__(self, i): # Redefine built-ins\n",
    "        print('getitem: ' + str(i))\n",
    "        return self.data[i] # Run expr or getattr\n",
    "    def __add__(self, other):\n",
    "        print('add: ' + other)\n",
    "        return getattr(self.data, '__add__')(other)\n",
    "X=C()\n",
    "X.upper"
   ]
  },
  {
   "cell_type": "code",
   "execution_count": 15,
   "metadata": {},
   "outputs": [
    {
     "name": "stdout",
     "output_type": "stream",
     "text": [
      "getattr: upper\n"
     ]
    },
    {
     "data": {
      "text/plain": [
       "'SPAM'"
      ]
     },
     "execution_count": 15,
     "metadata": {},
     "output_type": "execute_result"
    }
   ],
   "source": [
    "X.upper()  "
   ]
  },
  {
   "cell_type": "code",
   "execution_count": 16,
   "metadata": {},
   "outputs": [
    {
     "name": "stdout",
     "output_type": "stream",
     "text": [
      "getitem: 1\n"
     ]
    },
    {
     "data": {
      "text/plain": [
       "'p'"
      ]
     },
     "execution_count": 16,
     "metadata": {},
     "output_type": "execute_result"
    }
   ],
   "source": [
    "X[1]"
   ]
  },
  {
   "cell_type": "code",
   "execution_count": 17,
   "metadata": {},
   "outputs": [
    {
     "name": "stdout",
     "output_type": "stream",
     "text": [
      "getitem: 1\n"
     ]
    },
    {
     "data": {
      "text/plain": [
       "'p'"
      ]
     },
     "execution_count": 17,
     "metadata": {},
     "output_type": "execute_result"
    }
   ],
   "source": [
    " X.__getitem__(1)"
   ]
  },
  {
   "cell_type": "code",
   "execution_count": 18,
   "metadata": {},
   "outputs": [
    {
     "name": "stdout",
     "output_type": "stream",
     "text": [
      "getitem: 1\n"
     ]
    },
    {
     "data": {
      "text/plain": [
       "'p'"
      ]
     },
     "execution_count": 18,
     "metadata": {},
     "output_type": "execute_result"
    }
   ],
   "source": [
    "type(X).__getitem__(X, 1)"
   ]
  },
  {
   "cell_type": "code",
   "execution_count": 19,
   "metadata": {},
   "outputs": [
    {
     "name": "stdout",
     "output_type": "stream",
     "text": [
      "add: eggs\n"
     ]
    },
    {
     "data": {
      "text/plain": [
       "'spameggs'"
      ]
     },
     "execution_count": 19,
     "metadata": {},
     "output_type": "execute_result"
    }
   ],
   "source": [
    " X + 'eggs'"
   ]
  },
  {
   "cell_type": "code",
   "execution_count": 20,
   "metadata": {},
   "outputs": [
    {
     "name": "stdout",
     "output_type": "stream",
     "text": [
      "add: eggs\n"
     ]
    },
    {
     "data": {
      "text/plain": [
       "'spameggs'"
      ]
     },
     "execution_count": 20,
     "metadata": {},
     "output_type": "execute_result"
    }
   ],
   "source": [
    "X.__add__('eggs')"
   ]
  },
  {
   "cell_type": "code",
   "execution_count": 21,
   "metadata": {},
   "outputs": [
    {
     "name": "stdout",
     "output_type": "stream",
     "text": [
      "add: eggs\n"
     ]
    },
    {
     "data": {
      "text/plain": [
       "'spameggs'"
      ]
     },
     "execution_count": 21,
     "metadata": {},
     "output_type": "execute_result"
    }
   ],
   "source": [
    "type(X).__add__(X, 'eggs')"
   ]
  },
  {
   "cell_type": "markdown",
   "metadata": {},
   "source": [
    "# 9.3 Type model changes"
   ]
  },
  {
   "cell_type": "code",
   "execution_count": 22,
   "metadata": {},
   "outputs": [
    {
     "data": {
      "text/plain": [
       "(__main__.C, __main__.C)"
      ]
     },
     "execution_count": 22,
     "metadata": {},
     "output_type": "execute_result"
    }
   ],
   "source": [
    "class C: pass\n",
    "I = C() \n",
    "type(I), I.__class__ "
   ]
  },
  {
   "cell_type": "code",
   "execution_count": 23,
   "metadata": {},
   "outputs": [
    {
     "data": {
      "text/plain": [
       "(type, type)"
      ]
     },
     "execution_count": 23,
     "metadata": {},
     "output_type": "execute_result"
    }
   ],
   "source": [
    "type(C), C.__class__ # Class is a type, and type is a clas"
   ]
  },
  {
   "cell_type": "code",
   "execution_count": 24,
   "metadata": {},
   "outputs": [
    {
     "data": {
      "text/plain": [
       "(list, list)"
      ]
     },
     "execution_count": 24,
     "metadata": {},
     "output_type": "execute_result"
    }
   ],
   "source": [
    "type([1, 2, 3]), [1, 2, 3].__class__"
   ]
  },
  {
   "cell_type": "code",
   "execution_count": 25,
   "metadata": {},
   "outputs": [
    {
     "data": {
      "text/plain": [
       "(type, type)"
      ]
     },
     "execution_count": 25,
     "metadata": {},
     "output_type": "execute_result"
    }
   ],
   "source": [
    "type(list), list.__class__"
   ]
  },
  {
   "cell_type": "code",
   "execution_count": 26,
   "metadata": {},
   "outputs": [],
   "source": [
    "class C: pass\n",
    "class D: pass"
   ]
  },
  {
   "cell_type": "code",
   "execution_count": 27,
   "metadata": {},
   "outputs": [
    {
     "data": {
      "text/plain": [
       "False"
      ]
     },
     "execution_count": 27,
     "metadata": {},
     "output_type": "execute_result"
    }
   ],
   "source": [
    "c, d = C(), D()\n",
    "type(c) == type(d)"
   ]
  },
  {
   "cell_type": "code",
   "execution_count": 28,
   "metadata": {},
   "outputs": [
    {
     "data": {
      "text/plain": [
       "(__main__.C, __main__.D)"
      ]
     },
     "execution_count": 28,
     "metadata": {},
     "output_type": "execute_result"
    }
   ],
   "source": [
    "type(c), type(d)"
   ]
  },
  {
   "cell_type": "code",
   "execution_count": 29,
   "metadata": {},
   "outputs": [
    {
     "data": {
      "text/plain": [
       "(__main__.C, __main__.D)"
      ]
     },
     "execution_count": 29,
     "metadata": {},
     "output_type": "execute_result"
    }
   ],
   "source": [
    "c.__class__, d.__class__"
   ]
  },
  {
   "cell_type": "code",
   "execution_count": 30,
   "metadata": {},
   "outputs": [
    {
     "data": {
      "text/plain": [
       "True"
      ]
     },
     "execution_count": 30,
     "metadata": {},
     "output_type": "execute_result"
    }
   ],
   "source": [
    "c1, c2 = C(), C()\n",
    "type(c1) == type(c2)"
   ]
  },
  {
   "cell_type": "markdown",
   "metadata": {},
   "source": [
    "## Class bắt nguồn từ object"
   ]
  },
  {
   "cell_type": "code",
   "execution_count": 31,
   "metadata": {},
   "outputs": [
    {
     "data": {
      "text/plain": [
       "(__main__.C, type)"
      ]
     },
     "execution_count": 31,
     "metadata": {},
     "output_type": "execute_result"
    }
   ],
   "source": [
    "class C: pass # For new-style classes\n",
    "X = C()\n",
    "type(X), type(C) # Type is class "
   ]
  },
  {
   "cell_type": "code",
   "execution_count": 32,
   "metadata": {},
   "outputs": [
    {
     "data": {
      "text/plain": [
       "True"
      ]
     },
     "execution_count": 32,
     "metadata": {},
     "output_type": "execute_result"
    }
   ],
   "source": [
    "isinstance(X, object)"
   ]
  },
  {
   "cell_type": "code",
   "execution_count": 33,
   "metadata": {},
   "outputs": [
    {
     "data": {
      "text/plain": [
       "True"
      ]
     },
     "execution_count": 33,
     "metadata": {},
     "output_type": "execute_result"
    }
   ],
   "source": [
    "isinstance(C, object)"
   ]
  },
  {
   "cell_type": "code",
   "execution_count": 34,
   "metadata": {},
   "outputs": [
    {
     "data": {
      "text/plain": [
       "(str, type)"
      ]
     },
     "execution_count": 34,
     "metadata": {},
     "output_type": "execute_result"
    }
   ],
   "source": [
    "type('spam'), type(str)"
   ]
  },
  {
   "cell_type": "code",
   "execution_count": 35,
   "metadata": {},
   "outputs": [
    {
     "data": {
      "text/plain": [
       "True"
      ]
     },
     "execution_count": 35,
     "metadata": {},
     "output_type": "execute_result"
    }
   ],
   "source": [
    "isinstance('spam', object)"
   ]
  },
  {
   "cell_type": "code",
   "execution_count": 36,
   "metadata": {},
   "outputs": [
    {
     "data": {
      "text/plain": [
       "True"
      ]
     },
     "execution_count": 36,
     "metadata": {},
     "output_type": "execute_result"
    }
   ],
   "source": [
    "isinstance(str, object)"
   ]
  },
  {
   "cell_type": "code",
   "execution_count": 37,
   "metadata": {},
   "outputs": [
    {
     "data": {
      "text/plain": [
       "type"
      ]
     },
     "execution_count": 37,
     "metadata": {},
     "output_type": "execute_result"
    }
   ],
   "source": [
    "type(type) # All classes are types"
   ]
  },
  {
   "cell_type": "code",
   "execution_count": 38,
   "metadata": {},
   "outputs": [
    {
     "data": {
      "text/plain": [
       "type"
      ]
     },
     "execution_count": 38,
     "metadata": {},
     "output_type": "execute_result"
    }
   ],
   "source": [
    "type(object)"
   ]
  },
  {
   "cell_type": "code",
   "execution_count": 39,
   "metadata": {},
   "outputs": [
    {
     "data": {
      "text/plain": [
       "True"
      ]
     },
     "execution_count": 39,
     "metadata": {},
     "output_type": "execute_result"
    }
   ],
   "source": [
    " isinstance(type, object) # All clases bắt nguồn từ object"
   ]
  },
  {
   "cell_type": "code",
   "execution_count": 40,
   "metadata": {},
   "outputs": [
    {
     "data": {
      "text/plain": [
       "True"
      ]
     },
     "execution_count": 40,
     "metadata": {},
     "output_type": "execute_result"
    }
   ],
   "source": [
    "isinstance(object, type) # Type make classes"
   ]
  },
  {
   "cell_type": "code",
   "execution_count": 41,
   "metadata": {},
   "outputs": [
    {
     "data": {
      "text/plain": [
       "False"
      ]
     },
     "execution_count": 41,
     "metadata": {},
     "output_type": "execute_result"
    }
   ],
   "source": [
    "type is object"
   ]
  },
  {
   "cell_type": "code",
   "execution_count": 42,
   "metadata": {},
   "outputs": [
    {
     "data": {
      "text/plain": [
       "['__class__',\n",
       " '__delattr__',\n",
       " '__dir__',\n",
       " '__doc__',\n",
       " '__eq__',\n",
       " '__format__',\n",
       " '__ge__',\n",
       " '__getattribute__',\n",
       " '__gt__',\n",
       " '__hash__',\n",
       " '__init__',\n",
       " '__init_subclass__',\n",
       " '__le__',\n",
       " '__lt__',\n",
       " '__ne__',\n",
       " '__new__',\n",
       " '__reduce__',\n",
       " '__reduce_ex__',\n",
       " '__repr__',\n",
       " '__setattr__',\n",
       " '__sizeof__',\n",
       " '__str__',\n",
       " '__subclasshook__']"
      ]
     },
     "execution_count": 42,
     "metadata": {},
     "output_type": "execute_result"
    }
   ],
   "source": [
    "dir(object)"
   ]
  },
  {
   "cell_type": "code",
   "execution_count": 43,
   "metadata": {},
   "outputs": [
    {
     "data": {
      "text/plain": [
       "(object,)"
      ]
     },
     "execution_count": 43,
     "metadata": {},
     "output_type": "execute_result"
    }
   ],
   "source": [
    "class C: pass # This means all classes get defaults in 3.X\n",
    "C.__bases__"
   ]
  },
  {
   "cell_type": "code",
   "execution_count": 44,
   "metadata": {},
   "outputs": [
    {
     "data": {
      "text/plain": [
       "<method-wrapper '__repr__' of C object at 0x036587F0>"
      ]
     },
     "execution_count": 44,
     "metadata": {},
     "output_type": "execute_result"
    }
   ],
   "source": [
    "C().__repr__"
   ]
  },
  {
   "cell_type": "markdown",
   "metadata": {},
   "source": [
    "# 9.4 Diamod Inheritance change"
   ]
  },
  {
   "cell_type": "code",
   "execution_count": 45,
   "metadata": {},
   "outputs": [],
   "source": [
    "class A(object): attr = 1 # New-style (\"object\" not required in 3.X)\n",
    "class B(A): pass\n",
    "class C(A): attr = 2\n",
    "class D(B, C): pass"
   ]
  },
  {
   "cell_type": "code",
   "execution_count": 46,
   "metadata": {},
   "outputs": [
    {
     "data": {
      "text/plain": [
       "2"
      ]
     },
     "execution_count": 46,
     "metadata": {},
     "output_type": "execute_result"
    }
   ],
   "source": [
    "x = D()\n",
    "x.attr"
   ]
  },
  {
   "cell_type": "code",
   "execution_count": 47,
   "metadata": {},
   "outputs": [],
   "source": [
    "class A: attr = 1 # Classic\n",
    "class B(A): pass\n",
    "class C(A): attr = 2\n",
    "class D(B, C): attr = C.attr"
   ]
  },
  {
   "cell_type": "code",
   "execution_count": 48,
   "metadata": {},
   "outputs": [
    {
     "data": {
      "text/plain": [
       "2"
      ]
     },
     "execution_count": 48,
     "metadata": {},
     "output_type": "execute_result"
    }
   ],
   "source": [
    "x = D()\n",
    "x.attr"
   ]
  },
  {
   "cell_type": "code",
   "execution_count": 49,
   "metadata": {},
   "outputs": [],
   "source": [
    "class A(object): attr = 1 # New-style\n",
    "class B(A): pass\n",
    "class C(A): attr = 2\n",
    "class D(B, C): attr = B.attr"
   ]
  },
  {
   "cell_type": "code",
   "execution_count": 50,
   "metadata": {},
   "outputs": [
    {
     "data": {
      "text/plain": [
       "1"
      ]
     },
     "execution_count": 50,
     "metadata": {},
     "output_type": "execute_result"
    }
   ],
   "source": [
    "x = D()\n",
    "x.attr"
   ]
  },
  {
   "cell_type": "code",
   "execution_count": 51,
   "metadata": {},
   "outputs": [
    {
     "name": "stdout",
     "output_type": "stream",
     "text": [
      "C.meth\n"
     ]
    }
   ],
   "source": [
    "class A:\n",
    "    def meth(s): print('A.meth')\n",
    "class C(A):\n",
    "    def meth(s): print('C.meth')\n",
    "class B(A):\n",
    "    pass\n",
    "class D(B,C):\n",
    "    pass\n",
    "x = D() # Will vary per class type\n",
    "x.meth()"
   ]
  },
  {
   "cell_type": "code",
   "execution_count": 52,
   "metadata": {},
   "outputs": [
    {
     "name": "stdout",
     "output_type": "stream",
     "text": [
      "C.meth\n"
     ]
    }
   ],
   "source": [
    "class D(B, C): meth = C.meth # <== Pick C's method: new-style (and 3.X)\n",
    "x = D()\n",
    "x.meth()"
   ]
  },
  {
   "cell_type": "code",
   "execution_count": 53,
   "metadata": {},
   "outputs": [
    {
     "name": "stdout",
     "output_type": "stream",
     "text": [
      "A.meth\n"
     ]
    }
   ],
   "source": [
    "class D(B, C): meth = B.meth # <== Pick B's method: classic\n",
    "x = D()\n",
    "x.meth()"
   ]
  },
  {
   "cell_type": "markdown",
   "metadata": {},
   "source": [
    "## Method Resolution Order (MRO)"
   ]
  },
  {
   "cell_type": "code",
   "execution_count": 54,
   "metadata": {},
   "outputs": [
    {
     "data": {
      "text/plain": [
       "(__main__.D, __main__.B, __main__.C, __main__.A, object)"
      ]
     },
     "execution_count": 54,
     "metadata": {},
     "output_type": "execute_result"
    }
   ],
   "source": [
    "class A: pass\n",
    "class B(A): pass # Diamonds: order differs for newstyle\n",
    "class C(A): pass # Breadth-first across lower levels\n",
    "class D(B, C): pass\n",
    "D.__mro__"
   ]
  },
  {
   "cell_type": "code",
   "execution_count": 55,
   "metadata": {},
   "outputs": [
    {
     "data": {
      "text/plain": [
       "(object,)"
      ]
     },
     "execution_count": 55,
     "metadata": {},
     "output_type": "execute_result"
    }
   ],
   "source": [
    "A.__bases__"
   ]
  },
  {
   "cell_type": "code",
   "execution_count": 56,
   "metadata": {},
   "outputs": [
    {
     "data": {
      "text/plain": [
       "(__main__.A,)"
      ]
     },
     "execution_count": 56,
     "metadata": {},
     "output_type": "execute_result"
    }
   ],
   "source": [
    "B.__bases__"
   ]
  },
  {
   "cell_type": "code",
   "execution_count": 57,
   "metadata": {},
   "outputs": [
    {
     "data": {
      "text/plain": [
       "(__main__.A,)"
      ]
     },
     "execution_count": 57,
     "metadata": {},
     "output_type": "execute_result"
    }
   ],
   "source": [
    "C.__bases__"
   ]
  },
  {
   "cell_type": "code",
   "execution_count": 58,
   "metadata": {},
   "outputs": [
    {
     "data": {
      "text/plain": [
       "(__main__.B, __main__.C)"
      ]
     },
     "execution_count": 58,
     "metadata": {},
     "output_type": "execute_result"
    }
   ],
   "source": [
    "D.__bases__"
   ]
  },
  {
   "cell_type": "code",
   "execution_count": 59,
   "metadata": {},
   "outputs": [
    {
     "data": {
      "text/plain": [
       "[__main__.D, __main__.A, __main__.X, __main__.B, __main__.Y, object]"
      ]
     },
     "execution_count": 59,
     "metadata": {},
     "output_type": "execute_result"
    }
   ],
   "source": [
    "class X: pass\n",
    "class Y: pass\n",
    "class A(X): pass # Nondiamond: depth first then left to right\n",
    "class B(Y): pass # Though implied \"object\" always forms a diamond\n",
    "class D(A, B): pass\n",
    "D.mro()"
   ]
  },
  {
   "cell_type": "code",
   "execution_count": 60,
   "metadata": {},
   "outputs": [
    {
     "data": {
      "text/plain": [
       "((object,), (object,))"
      ]
     },
     "execution_count": 60,
     "metadata": {},
     "output_type": "execute_result"
    }
   ],
   "source": [
    "X.__bases__, Y.__bases__"
   ]
  },
  {
   "cell_type": "code",
   "execution_count": 61,
   "metadata": {},
   "outputs": [
    {
     "data": {
      "text/plain": [
       "((__main__.X,), (__main__.Y,))"
      ]
     },
     "execution_count": 61,
     "metadata": {},
     "output_type": "execute_result"
    }
   ],
   "source": [
    "A.__bases__, B.__bases__"
   ]
  },
  {
   "cell_type": "code",
   "execution_count": 62,
   "metadata": {},
   "outputs": [
    {
     "data": {
      "text/plain": [
       "True"
      ]
     },
     "execution_count": 62,
     "metadata": {},
     "output_type": "execute_result"
    }
   ],
   "source": [
    "D.mro() == list(D.__mro__)"
   ]
  },
  {
   "cell_type": "code",
   "execution_count": 63,
   "metadata": {},
   "outputs": [
    {
     "data": {
      "text/plain": [
       "['D', 'A', 'X', 'B', 'Y', 'object']"
      ]
     },
     "execution_count": 63,
     "metadata": {},
     "output_type": "execute_result"
    }
   ],
   "source": [
    "[cls.__name__ for cls in D.__mro__]"
   ]
  },
  {
   "cell_type": "code",
   "execution_count": 64,
   "metadata": {},
   "outputs": [
    {
     "name": "stdout",
     "output_type": "stream",
     "text": [
      "Classic classes in 2.X, new-style in 3.X\n",
      "Py=>3\n",
      "INH\n",
      "(<__main__.D object at 0x03661E90>,\n",
      " <class '__main__.D'>,\n",
      " <class '__main__.B'>,\n",
      " <class '__main__.C'>,\n",
      " <class '__main__.A'>,\n",
      " <class 'object'>)\n",
      "\n",
      "ATTRS\n",
      "{'__dict__': <class '__main__.A'>,\n",
      " '__doc__': <class '__main__.D'>,\n",
      " '__module__': <class '__main__.D'>,\n",
      " '__weakref__': <class '__main__.A'>,\n",
      " 'attr1': <class '__main__.C'>,\n",
      " 'attr2': <class '__main__.B'>}\n",
      "\n",
      "OBJS\n",
      "{<class '__main__.A'>: ['__dict__', '__weakref__'],\n",
      " <class '__main__.B'>: ['attr2'],\n",
      " <class '__main__.C'>: ['attr1'],\n",
      " <class '__main__.D'>: ['__doc__', '__module__']}\n",
      "\n",
      "New-style classes in 2.X and 3.X\n",
      "Py=>3\n",
      "INH\n",
      "(<__main__.D object at 0x03682D30>,\n",
      " <class '__main__.D'>,\n",
      " <class '__main__.B'>,\n",
      " <class '__main__.C'>,\n",
      " <class '__main__.A'>,\n",
      " <class 'object'>)\n",
      "\n",
      "ATTRS\n",
      "{'__dict__': <class '__main__.A'>,\n",
      " '__doc__': <class '__main__.D'>,\n",
      " '__module__': <class '__main__.D'>,\n",
      " '__weakref__': <class '__main__.A'>,\n",
      " 'attr1': <class '__main__.C'>,\n",
      " 'attr2': <class '__main__.B'>}\n",
      "\n",
      "OBJS\n",
      "{<class '__main__.A'>: ['__dict__', '__weakref__'],\n",
      " <class '__main__.B'>: ['attr2'],\n",
      " <class '__main__.C'>: ['attr1'],\n",
      " <class '__main__.D'>: ['__doc__', '__module__']}\n",
      "\n"
     ]
    }
   ],
   "source": [
    "# File mapattr.py\n",
    "import pprint\n",
    "def trace(X, label='', end='\\n'):\n",
    "    print(label + pprint.pformat(X) + end) # Print nicely\n",
    "def filterdictvals(D, V):\n",
    "    \"\"\"\n",
    "    dict D with entries for value V removed.\n",
    "    filterdictvals(dict(a=1, b=2, c=1), 1) => {'b': 2}\n",
    "    \"\"\"\n",
    "    return {K: V2 for (K, V2) in D.items() if V2 != V}\n",
    "def invertdict(D):\n",
    "    \"\"\"\n",
    "    dict D with values changed to keys (grouped by values).\n",
    "    Values must all be hashable to work as dict/set keys.\n",
    "    invertdict(dict(a=1, b=2, c=1)) => {1: ['a', 'c'], 2: ['b']}\n",
    "    \"\"\"\n",
    "    def keysof(V):\n",
    "        return sorted(K for K in D.keys() if D[K] == V)\n",
    "    return {V: keysof(V) for V in set(D.values())}\n",
    "def dflr(cls):\n",
    "    \"\"\"\n",
    "    Classic depth-first left-to-right order of class tree at cls.\n",
    "    Cycles not possible: Python disallows on __bases__ changes.\n",
    "    \"\"\"\n",
    "    here = [cls]\n",
    "    for sup in cls.__bases__:\n",
    "        here += dflr(sup)\n",
    "    return here\n",
    "def inheritance(instance):\n",
    "    \"\"\"\n",
    "    Inheritance order sequence: new-style (MRO) or classic (DFLR)\n",
    "    \"\"\"\n",
    "    if hasattr(instance.__class__, '__mro__'):\n",
    "        return (instance,) + instance.__class__.__mro__\n",
    "    else:\n",
    "        return [instance] + dflr(instance.__class__)\n",
    "def mapattrs(instance, withobject=False, bysource=False):\n",
    "    \"\"\"\n",
    "    dict with keys giving all inherited attributes of instance,\n",
    "    with values giving the object that each is inherited from.\n",
    "    withobject: False=remove object built-in class attributes.\n",
    "    bysource: True=group result by objects instead of attributes.\n",
    "    Supports classes with slots that preclude __dict__ in instances.\n",
    "    \"\"\"\n",
    "    attr2obj = {}\n",
    "    inherits = inheritance(instance)\n",
    "    for attr in dir(instance):\n",
    "        for obj in inherits:\n",
    "            if hasattr(obj, '__dict__') and attr in obj.__dict__: # See slots\n",
    "                attr2obj[attr] = obj\n",
    "                break\n",
    "    if not withobject:\n",
    "        attr2obj = filterdictvals(attr2obj, object)\n",
    "    return attr2obj if not bysource else invertdict(attr2obj)\n",
    "if __name__ == '__main__':\n",
    "    print('Classic classes in 2.X, new-style in 3.X')\n",
    "    class A: attr1 = 1\n",
    "    class B(A): attr2 = 2\n",
    "    class C(A): attr1 = 3\n",
    "    class D(B, C): pass\n",
    "    I = D()\n",
    "    print('Py=>%s' % I.attr1) # Python's search == ours?\n",
    "    trace(inheritance(I), 'INH\\n') # [Inheritance order]\n",
    "    trace(mapattrs(I), 'ATTRS\\n') # Attrs => Source\n",
    "    trace(mapattrs(I, bysource=True), 'OBJS\\n') # Source => [Attrs]\n",
    "    print('New-style classes in 2.X and 3.X')\n",
    "    class A(object): attr1 = 1 # \"(object)\" optional in 3.X\n",
    "    class B(A): attr2 = 2\n",
    "    class C(A): attr1 = 3\n",
    "    class D(B, C): pass\n",
    "    I = D()\n",
    "    print('Py=>%s' % I.attr1)\n",
    "    trace(inheritance(I), 'INH\\n')\n",
    "    trace(mapattrs(I), 'ATTRS\\n')\n",
    "    trace(mapattrs(I, bysource=True), 'OBJS\\n')"
   ]
  },
  {
   "cell_type": "code",
   "execution_count": 65,
   "metadata": {},
   "outputs": [
    {
     "name": "stdout",
     "output_type": "stream",
     "text": [
      "[<class 'testmixin0.Sub'>,\n",
      " <class 'testmixin0.Super'>,\n",
      " <class 'object'>,\n",
      " <class 'listinstance.ListInstance'>,\n",
      " <class 'object'>]\n",
      "\n"
     ]
    }
   ],
   "source": [
    "from mapattrs import trace,dflr,inheritance,mapattrs\n",
    "from testmixin0 import Sub\n",
    "I = Sub() # Sub inherits from Super and ListInstance roots\n",
    "trace(dflr(I.__class__))"
   ]
  },
  {
   "cell_type": "code",
   "execution_count": 66,
   "metadata": {},
   "outputs": [
    {
     "name": "stdout",
     "output_type": "stream",
     "text": [
      "(<testmixin0.Sub object at 0x0366A350>,\n",
      " <class 'testmixin0.Sub'>,\n",
      " <class 'testmixin0.Super'>,\n",
      " <class 'listinstance.ListInstance'>,\n",
      " <class 'object'>)\n",
      "\n"
     ]
    }
   ],
   "source": [
    "trace(inheritance(I))"
   ]
  },
  {
   "cell_type": "code",
   "execution_count": 67,
   "metadata": {},
   "outputs": [
    {
     "name": "stdout",
     "output_type": "stream",
     "text": [
      "{'_ListInstance__attrnames': <class 'listinstance.ListInstance'>,\n",
      " '__dict__': <class 'testmixin0.Super'>,\n",
      " '__doc__': <class 'testmixin0.Sub'>,\n",
      " '__init__': <class 'testmixin0.Sub'>,\n",
      " '__module__': <class 'testmixin0.Sub'>,\n",
      " '__str__': <class 'listinstance.ListInstance'>,\n",
      " '__weakref__': <class 'testmixin0.Super'>,\n",
      " 'data1': <testmixin0.Sub object at 0x0366A350>,\n",
      " 'data2': <testmixin0.Sub object at 0x0366A350>,\n",
      " 'data3': <testmixin0.Sub object at 0x0366A350>,\n",
      " 'ham': <class 'testmixin0.Super'>,\n",
      " 'spam': <class 'testmixin0.Sub'>}\n",
      "\n"
     ]
    }
   ],
   "source": [
    "trace(mapattrs(I))"
   ]
  },
  {
   "cell_type": "code",
   "execution_count": 68,
   "metadata": {},
   "outputs": [
    {
     "name": "stdout",
     "output_type": "stream",
     "text": [
      "{<testmixin0.Sub object at 0x0366A350>: ['data1', 'data2', 'data3'],\n",
      " <class 'listinstance.ListInstance'>: ['_ListInstance__attrnames', '__str__'],\n",
      " <class 'testmixin0.Super'>: ['__dict__', '__weakref__', 'ham'],\n",
      " <class 'testmixin0.Sub'>: ['__doc__', '__init__', '__module__', 'spam']}\n",
      "\n"
     ]
    }
   ],
   "source": [
    "trace(mapattrs(I, bysource=True))"
   ]
  },
  {
   "cell_type": "code",
   "execution_count": 69,
   "metadata": {},
   "outputs": [
    {
     "name": "stdout",
     "output_type": "stream",
     "text": [
      "{'_ListInstance__attrnames': <class 'listinstance.ListInstance'>,\n",
      " '__class__': <class 'object'>,\n",
      " '__delattr__': <class 'object'>,\n",
      " '__dict__': <class 'testmixin0.Super'>,\n",
      " '__dir__': <class 'object'>,\n",
      " '__doc__': <class 'testmixin0.Sub'>,\n",
      " '__eq__': <class 'object'>,\n",
      " '__format__': <class 'object'>,\n",
      " '__ge__': <class 'object'>,\n",
      " '__getattribute__': <class 'object'>,\n",
      " '__gt__': <class 'object'>,\n",
      " '__hash__': <class 'object'>,\n",
      " '__init__': <class 'testmixin0.Sub'>,\n",
      " '__init_subclass__': <class 'object'>,\n",
      " '__le__': <class 'object'>,\n",
      " '__lt__': <class 'object'>,\n",
      " '__module__': <class 'testmixin0.Sub'>,\n",
      " '__ne__': <class 'object'>,\n",
      " '__new__': <class 'object'>,\n",
      " '__reduce__': <class 'object'>,\n",
      " '__reduce_ex__': <class 'object'>,\n",
      " '__repr__': <class 'object'>,\n",
      " '__setattr__': <class 'object'>,\n",
      " '__sizeof__': <class 'object'>,\n",
      " '__str__': <class 'listinstance.ListInstance'>,\n",
      " '__subclasshook__': <class 'object'>,\n",
      " '__weakref__': <class 'testmixin0.Super'>,\n",
      " 'data1': <testmixin0.Sub object at 0x0366A350>,\n",
      " 'data2': <testmixin0.Sub object at 0x0366A350>,\n",
      " 'data3': <testmixin0.Sub object at 0x0366A350>,\n",
      " 'ham': <class 'testmixin0.Super'>,\n",
      " 'spam': <class 'testmixin0.Sub'>}\n",
      "\n"
     ]
    }
   ],
   "source": [
    "trace(mapattrs(I, withobject=True))"
   ]
  },
  {
   "cell_type": "code",
   "execution_count": 70,
   "metadata": {},
   "outputs": [
    {
     "name": "stdout",
     "output_type": "stream",
     "text": [
      "{<testmixin0.Sub object at 0x0366A350>: ['data1', 'data2', 'data3'],\n",
      " <class 'listinstance.ListInstance'>: ['_ListInstance__attrnames', '__str__'],\n",
      " <class 'testmixin0.Super'>: ['__dict__', '__weakref__', 'ham'],\n",
      " <class 'testmixin0.Sub'>: ['__doc__', '__init__', '__module__', 'spam'],\n",
      " <class 'object'>: ['__class__',\n",
      "                    '__delattr__',\n",
      "                    '__dir__',\n",
      "                    '__eq__',\n",
      "                    '__format__',\n",
      "                    '__ge__',\n",
      "                    '__getattribute__',\n",
      "                    '__gt__',\n",
      "                    '__hash__',\n",
      "                    '__init_subclass__',\n",
      "                    '__le__',\n",
      "                    '__lt__',\n",
      "                    '__ne__',\n",
      "                    '__new__',\n",
      "                    '__reduce__',\n",
      "                    '__reduce_ex__',\n",
      "                    '__repr__',\n",
      "                    '__setattr__',\n",
      "                    '__sizeof__',\n",
      "                    '__subclasshook__']}\n",
      "\n"
     ]
    }
   ],
   "source": [
    "amap = mapattrs(I, withobject=True, bysource=True)\n",
    "trace(amap)"
   ]
  },
  {
   "cell_type": "code",
   "execution_count": 71,
   "metadata": {},
   "outputs": [
    {
     "name": "stdout",
     "output_type": "stream",
     "text": [
      "{<__main__.D object at 0x0367E7E0>: ['name'],\n",
      " <class '__main__.A'>: ['a', 'y'],\n",
      " <class '__main__.C'>: ['x'],\n",
      " <class '__main__.D'>: ['__dict__',\n",
      "                        '__doc__',\n",
      "                        '__init__',\n",
      "                        '__module__',\n",
      "                        '__weakref__',\n",
      "                        'z'],\n",
      " <class '__main__.B'>: ['__slots__', 'b', 'c']}\n",
      "\n"
     ]
    }
   ],
   "source": [
    "# File mapattrs-slots.py\n",
    "class A(object): __slots__ = ['a', 'b']; x = 1; y = 2\n",
    "class B(A): __slots__ = ['b', 'c']\n",
    "class C(A): x = 2\n",
    "class D(B, C):\n",
    "    z = 3\n",
    "    def __init__(self): self.name = 'Bob';\n",
    "        \n",
    "I = D()\n",
    "trace(mapattrs(I, bysource=True)) # Also: trace(mapattrs(I))"
   ]
  },
  {
   "cell_type": "markdown",
   "metadata": {},
   "source": [
    "## New-Style class extension\n",
    "### Slots: Attribute Declarations"
   ]
  },
  {
   "cell_type": "markdown",
   "metadata": {},
   "source": [
    "Chưa được khởi tạo sẽ báo lỗi.\n",
    "```python\n",
    "class limiter(object):\n",
    "    __slots__ = ['age', 'name', 'job']\n",
    "x = limiter()\n",
    "x.age\n",
    "```\n",
    "`Output: AttributeError: age`"
   ]
  },
  {
   "cell_type": "code",
   "execution_count": 72,
   "metadata": {},
   "outputs": [
    {
     "data": {
      "text/plain": [
       "40"
      ]
     },
     "execution_count": 72,
     "metadata": {},
     "output_type": "execute_result"
    }
   ],
   "source": [
    "class limiter(object):\n",
    "    __slots__ = ['age', 'name', 'job']\n",
    "x = limiter()\n",
    "x.age = 40 # Looks like instance data\n",
    "x.age"
   ]
  },
  {
   "cell_type": "markdown",
   "metadata": {},
   "source": [
    "Sai thuộc tính trong \\_\\_slot\\_\\_.\n",
    "```python\n",
    "x.ape = 1000\n",
    "```\n",
    "`Ouput: AttributeError: 'limiter' object has no attribute 'ape'`"
   ]
  },
  {
   "cell_type": "code",
   "execution_count": 73,
   "metadata": {},
   "outputs": [],
   "source": [
    "class C: \n",
    "    __slots__ = ['a', 'b']"
   ]
  },
  {
   "cell_type": "code",
   "execution_count": 74,
   "metadata": {},
   "outputs": [
    {
     "data": {
      "text/plain": [
       "1"
      ]
     },
     "execution_count": 74,
     "metadata": {},
     "output_type": "execute_result"
    }
   ],
   "source": [
    "X = C()\n",
    "X.a = 1\n",
    "X.a"
   ]
  },
  {
   "cell_type": "markdown",
   "metadata": {},
   "source": [
    "Nó sẽ báo lỗi với \\_\\_dict\\_\\_.\n",
    "```python\n",
    "X.__dict__\n",
    "```\n",
    "`Output: AttributeError: 'C' object has no attribute '__dict__'`\n"
   ]
  },
  {
   "cell_type": "code",
   "execution_count": 75,
   "metadata": {},
   "outputs": [
    {
     "data": {
      "text/plain": [
       "1"
      ]
     },
     "execution_count": 75,
     "metadata": {},
     "output_type": "execute_result"
    }
   ],
   "source": [
    " getattr(X, 'a')"
   ]
  },
  {
   "cell_type": "code",
   "execution_count": 76,
   "metadata": {},
   "outputs": [
    {
     "data": {
      "text/plain": [
       "2"
      ]
     },
     "execution_count": 76,
     "metadata": {},
     "output_type": "execute_result"
    }
   ],
   "source": [
    "setattr(X, 'b', 2)\n",
    "X.b"
   ]
  },
  {
   "cell_type": "code",
   "execution_count": 77,
   "metadata": {},
   "outputs": [
    {
     "data": {
      "text/plain": [
       "True"
      ]
     },
     "execution_count": 77,
     "metadata": {},
     "output_type": "execute_result"
    }
   ],
   "source": [
    "'a' in dir(X)"
   ]
  },
  {
   "cell_type": "code",
   "execution_count": 78,
   "metadata": {},
   "outputs": [
    {
     "data": {
      "text/plain": [
       "True"
      ]
     },
     "execution_count": 78,
     "metadata": {},
     "output_type": "execute_result"
    }
   ],
   "source": [
    "'b' in dir(X)"
   ]
  },
  {
   "cell_type": "markdown",
   "metadata": {},
   "source": [
    "Nó báo lỗi khi khởi tạo bằng \\_\\_init\\_\\_.\n",
    "```python\n",
    "class D: # Use D(object) for same result in 2.X\n",
    "    __slots__ = ['a', 'b']\n",
    "    def __init__(self):\n",
    "        self.d = 4 # Cannot add new names if no __dict__\n",
    "X = D()\n",
    "```\n",
    "`Output: AttributeError: 'D' object has no attribute 'd'`"
   ]
  },
  {
   "cell_type": "code",
   "execution_count": 79,
   "metadata": {},
   "outputs": [
    {
     "data": {
      "text/plain": [
       "4"
      ]
     },
     "execution_count": 79,
     "metadata": {},
     "output_type": "execute_result"
    }
   ],
   "source": [
    "class D:\n",
    "    __slots__ = ['a', 'b', '__dict__'] # Name __dict__ to include one too\n",
    "    c = 3 # Class attrs work normally\n",
    "    def __init__(self):\n",
    "        self.d = 4 # d stored in __dict__\n",
    "X = D()\n",
    "X.d"
   ]
  },
  {
   "cell_type": "code",
   "execution_count": 80,
   "metadata": {},
   "outputs": [
    {
     "data": {
      "text/plain": [
       "3"
      ]
     },
     "execution_count": 80,
     "metadata": {},
     "output_type": "execute_result"
    }
   ],
   "source": [
    "X.c"
   ]
  },
  {
   "cell_type": "code",
   "execution_count": 81,
   "metadata": {},
   "outputs": [],
   "source": [
    "X.a = 1\n",
    "X.b = 2"
   ]
  },
  {
   "cell_type": "code",
   "execution_count": 82,
   "metadata": {},
   "outputs": [
    {
     "data": {
      "text/plain": [
       "{'d': 4}"
      ]
     },
     "execution_count": 82,
     "metadata": {},
     "output_type": "execute_result"
    }
   ],
   "source": [
    "X.__dict__"
   ]
  },
  {
   "cell_type": "code",
   "execution_count": 83,
   "metadata": {},
   "outputs": [
    {
     "data": {
      "text/plain": [
       "['a', 'b', '__dict__']"
      ]
     },
     "execution_count": 83,
     "metadata": {},
     "output_type": "execute_result"
    }
   ],
   "source": [
    " X.__slots__"
   ]
  },
  {
   "cell_type": "code",
   "execution_count": 84,
   "metadata": {},
   "outputs": [
    {
     "data": {
      "text/plain": [
       "(1, 3, 4)"
      ]
     },
     "execution_count": 84,
     "metadata": {},
     "output_type": "execute_result"
    }
   ],
   "source": [
    " getattr(X, 'a'), getattr(X, 'c'), getattr(X, 'd')"
   ]
  },
  {
   "cell_type": "code",
   "execution_count": 85,
   "metadata": {},
   "outputs": [
    {
     "name": "stdout",
     "output_type": "stream",
     "text": [
      "d => 4\n",
      "a => 1\n",
      "b => 2\n",
      "__dict__ => {'d': 4}\n"
     ]
    }
   ],
   "source": [
    "for attr in list(X.__dict__) + X.__slots__: # Wrong...\n",
    "    print(attr, '=>', getattr(X, attr))"
   ]
  },
  {
   "cell_type": "code",
   "execution_count": 86,
   "metadata": {},
   "outputs": [
    {
     "name": "stdout",
     "output_type": "stream",
     "text": [
      "d => 4\n",
      "a => 1\n",
      "b => 2\n",
      "__dict__ => {'d': 4}\n"
     ]
    }
   ],
   "source": [
    "for attr in list(getattr(X, '__dict__', [])) + getattr(X, '__slots__', []):\n",
    "    print(attr, '=>', getattr(X, attr))"
   ]
  },
  {
   "cell_type": "code",
   "execution_count": 87,
   "metadata": {},
   "outputs": [],
   "source": [
    "class E:\n",
    "    __slots__ = ['c', 'd'] # Superclass has slots\n",
    "class D(E):\n",
    "    __slots__ = ['a', '__dict__'] # But so does its subclass\n",
    "X = D()\n",
    "X.a = 1; X.b = 2; X.c = 3 # The instance is the union"
   ]
  },
  {
   "cell_type": "code",
   "execution_count": 88,
   "metadata": {},
   "outputs": [
    {
     "data": {
      "text/plain": [
       "(1, 3)"
      ]
     },
     "execution_count": 88,
     "metadata": {},
     "output_type": "execute_result"
    }
   ],
   "source": [
    "X.a, X.c"
   ]
  },
  {
   "cell_type": "code",
   "execution_count": 89,
   "metadata": {},
   "outputs": [
    {
     "data": {
      "text/plain": [
       "['c', 'd']"
      ]
     },
     "execution_count": 89,
     "metadata": {},
     "output_type": "execute_result"
    }
   ],
   "source": [
    "E.__slots__"
   ]
  },
  {
   "cell_type": "code",
   "execution_count": 90,
   "metadata": {},
   "outputs": [
    {
     "data": {
      "text/plain": [
       "['a', '__dict__']"
      ]
     },
     "execution_count": 90,
     "metadata": {},
     "output_type": "execute_result"
    }
   ],
   "source": [
    "D.__slots__"
   ]
  },
  {
   "cell_type": "code",
   "execution_count": 91,
   "metadata": {},
   "outputs": [
    {
     "data": {
      "text/plain": [
       "['a', '__dict__']"
      ]
     },
     "execution_count": 91,
     "metadata": {},
     "output_type": "execute_result"
    }
   ],
   "source": [
    "X.__slots__"
   ]
  },
  {
   "cell_type": "code",
   "execution_count": 92,
   "metadata": {},
   "outputs": [
    {
     "data": {
      "text/plain": [
       "{'b': 2}"
      ]
     },
     "execution_count": 92,
     "metadata": {},
     "output_type": "execute_result"
    }
   ],
   "source": [
    "X.__dict__"
   ]
  },
  {
   "cell_type": "code",
   "execution_count": 93,
   "metadata": {},
   "outputs": [
    {
     "name": "stdout",
     "output_type": "stream",
     "text": [
      "b => 2\n",
      "a => 1\n",
      "__dict__ => {'b': 2}\n"
     ]
    }
   ],
   "source": [
    "for attr in list(getattr(X, '__dict__', [])) + getattr(X, '__slots__', []):\n",
    "    print(attr, '=>', getattr(X, attr))"
   ]
  },
  {
   "cell_type": "code",
   "execution_count": 94,
   "metadata": {},
   "outputs": [
    {
     "data": {
      "text/plain": [
       "['__class__',\n",
       " '__delattr__',\n",
       " '__dict__',\n",
       " '__dir__',\n",
       " '__doc__',\n",
       " '__eq__',\n",
       " '__format__',\n",
       " '__ge__',\n",
       " '__getattribute__',\n",
       " '__gt__',\n",
       " '__hash__',\n",
       " '__init__',\n",
       " '__init_subclass__',\n",
       " '__le__',\n",
       " '__lt__',\n",
       " '__module__',\n",
       " '__ne__',\n",
       " '__new__',\n",
       " '__reduce__',\n",
       " '__reduce_ex__',\n",
       " '__repr__',\n",
       " '__setattr__',\n",
       " '__sizeof__',\n",
       " '__slots__',\n",
       " '__str__',\n",
       " '__subclasshook__',\n",
       " 'a',\n",
       " 'b',\n",
       " 'c',\n",
       " 'd']"
      ]
     },
     "execution_count": 94,
     "metadata": {},
     "output_type": "execute_result"
    }
   ],
   "source": [
    "dir(X)"
   ]
  },
  {
   "cell_type": "code",
   "execution_count": 95,
   "metadata": {},
   "outputs": [
    {
     "data": {
      "text/plain": [
       "(1, 2, 3)"
      ]
     },
     "execution_count": 95,
     "metadata": {},
     "output_type": "execute_result"
    }
   ],
   "source": [
    "class Slotful:\n",
    "    __slots__ = ['a', 'b', '__dict__']\n",
    "    def __init__(self, data):\n",
    "        self.c = data\n",
    "I = Slotful(3)\n",
    "I.a, I.b = 1, 2\n",
    "I.a, I.b, I.c"
   ]
  },
  {
   "cell_type": "code",
   "execution_count": 96,
   "metadata": {},
   "outputs": [
    {
     "data": {
      "text/plain": [
       "{'c': 3}"
      ]
     },
     "execution_count": 96,
     "metadata": {},
     "output_type": "execute_result"
    }
   ],
   "source": [
    "I.__dict__"
   ]
  },
  {
   "cell_type": "code",
   "execution_count": 97,
   "metadata": {},
   "outputs": [
    {
     "data": {
      "text/plain": [
       "['a', 'b', 'c']"
      ]
     },
     "execution_count": 97,
     "metadata": {},
     "output_type": "execute_result"
    }
   ],
   "source": [
    "[x for x in dir(I) if not x.startswith('__')]"
   ]
  },
  {
   "cell_type": "code",
   "execution_count": 98,
   "metadata": {},
   "outputs": [
    {
     "data": {
      "text/plain": [
       "3"
      ]
     },
     "execution_count": 98,
     "metadata": {},
     "output_type": "execute_result"
    }
   ],
   "source": [
    "I.__dict__['c']"
   ]
  },
  {
   "cell_type": "code",
   "execution_count": 99,
   "metadata": {},
   "outputs": [
    {
     "data": {
      "text/plain": [
       "(3, 1)"
      ]
     },
     "execution_count": 99,
     "metadata": {},
     "output_type": "execute_result"
    }
   ],
   "source": [
    "getattr(I, 'c'), getattr(I, 'a')"
   ]
  },
  {
   "cell_type": "code",
   "execution_count": 100,
   "metadata": {},
   "outputs": [
    {
     "name": "stdout",
     "output_type": "stream",
     "text": [
      "a 1\n",
      "b 2\n",
      "c 3\n"
     ]
    }
   ],
   "source": [
    "for a in (x for x in dir(I) if not x.startswith('__')):\n",
    "    print(a, getattr(I, a))"
   ]
  },
  {
   "cell_type": "code",
   "execution_count": 101,
   "metadata": {},
   "outputs": [],
   "source": [
    "class C: pass # Bullet 1: slots in sub but not super\n",
    "class D(C): __slots__ = ['a'] # Makes instance dict for nonslots\n",
    "X = D() # But slot name still managed in class\n",
    "X.a = 1; X.b = 2"
   ]
  },
  {
   "cell_type": "code",
   "execution_count": 102,
   "metadata": {},
   "outputs": [
    {
     "data": {
      "text/plain": [
       "{'b': 2}"
      ]
     },
     "execution_count": 102,
     "metadata": {},
     "output_type": "execute_result"
    }
   ],
   "source": [
    "X.__dict__"
   ]
  },
  {
   "cell_type": "code",
   "execution_count": 103,
   "metadata": {},
   "outputs": [
    {
     "data": {
      "text/plain": [
       "dict_keys(['__module__', '__slots__', 'a', '__doc__'])"
      ]
     },
     "execution_count": 103,
     "metadata": {},
     "output_type": "execute_result"
    }
   ],
   "source": [
    " D.__dict__.keys()"
   ]
  },
  {
   "cell_type": "code",
   "execution_count": 104,
   "metadata": {},
   "outputs": [
    {
     "data": {
      "text/plain": [
       "{'b': 2}"
      ]
     },
     "execution_count": 104,
     "metadata": {},
     "output_type": "execute_result"
    }
   ],
   "source": [
    "class C: __slots__ = ['a'] # Bullet 2: slots in super but not sub\n",
    "class D(C): pass # Makes instance dict for nonslots\n",
    "X = D() # But slot name still managed in class\n",
    "X.a = 1; X.b = 2\n",
    "X.__dict__"
   ]
  },
  {
   "cell_type": "code",
   "execution_count": 105,
   "metadata": {},
   "outputs": [
    {
     "data": {
      "text/plain": [
       "dict_keys(['__module__', '__slots__', 'a', '__doc__'])"
      ]
     },
     "execution_count": 105,
     "metadata": {},
     "output_type": "execute_result"
    }
   ],
   "source": [
    "C.__dict__.keys()"
   ]
  },
  {
   "cell_type": "code",
   "execution_count": 106,
   "metadata": {},
   "outputs": [],
   "source": [
    "class C: __slots__ = ['a']\n",
    "class D(C): __slots__ = ['a']"
   ]
  },
  {
   "cell_type": "markdown",
   "metadata": {},
   "source": [
    "Lỗi khi xài attribute class trùng.\n",
    "```python\n",
    "class C: __slots__ = ['a']; a = 99 # Bullet 4: no class-level defaults\n",
    "```\n",
    "`Output: ValueError: 'a' in __slots__ conflicts with class variable`"
   ]
  },
  {
   "cell_type": "code",
   "execution_count": 107,
   "metadata": {},
   "outputs": [],
   "source": [
    "class C: __slots__ = ['a'] # Assumes universal use, differing names\n",
    "class D(C): __slots__ = ['b']"
   ]
  },
  {
   "cell_type": "code",
   "execution_count": 108,
   "metadata": {},
   "outputs": [],
   "source": [
    "X = D()\n",
    "X.a = 1; X.b = 2"
   ]
  },
  {
   "cell_type": "markdown",
   "metadata": {},
   "source": [
    "Thực thể không có thuộc tính \\_\\_dict\\_\\_\n",
    "```python\n",
    "X.__dict__\n",
    "```\n",
    "`Output: AttributeError: 'D' object has no attribute '__dict__'`"
   ]
  },
  {
   "cell_type": "code",
   "execution_count": 109,
   "metadata": {},
   "outputs": [
    {
     "data": {
      "text/plain": [
       "(dict_keys(['__module__', '__slots__', 'a', '__doc__']),\n",
       " dict_keys(['__module__', '__slots__', 'b', '__doc__']))"
      ]
     },
     "execution_count": 109,
     "metadata": {},
     "output_type": "execute_result"
    }
   ],
   "source": [
    "C.__dict__.keys(), D.__dict__.keys()"
   ]
  },
  {
   "cell_type": "code",
   "execution_count": 110,
   "metadata": {},
   "outputs": [
    {
     "name": "stdout",
     "output_type": "stream",
     "text": [
      "Slots => 1.259286038\n",
      "Nonslots=> 1.5272776159999992\n"
     ]
    }
   ],
   "source": [
    "# File slots-test.py\n",
    "import timeit\n",
    "base = \"\"\"\n",
    "Is = []\n",
    "for i in range(1000):\n",
    "    X = C()\n",
    "    X.a = 1; X.b = 2; X.c = 3; X.d = 4\n",
    "    t = X.a + X.b + X.c + X.d\n",
    "    Is.append(X)\n",
    "\"\"\"\n",
    "stmt = \"\"\"\n",
    "class C:\n",
    "    __slots__ = ['a', 'b', 'c', 'd']\n",
    "\"\"\" + base\n",
    "print('Slots =>', end=' ')\n",
    "print(min(timeit.repeat(stmt, number=1000, repeat=3)))\n",
    "\n",
    "stmt = \"\"\"\n",
    "class C:\n",
    "    pass\n",
    "\"\"\" + base\n",
    "print('Nonslots=>', end=' ')\n",
    "print(min(timeit.repeat(stmt, number=1000, repeat=3)))"
   ]
  },
  {
   "cell_type": "markdown",
   "metadata": {},
   "source": [
    "# 9.5 Properties Attribute Accessors"
   ]
  },
  {
   "cell_type": "code",
   "execution_count": 111,
   "metadata": {},
   "outputs": [
    {
     "data": {
      "text/plain": [
       "40"
      ]
     },
     "execution_count": 111,
     "metadata": {},
     "output_type": "execute_result"
    }
   ],
   "source": [
    "class operators:\n",
    "    def __getattr__(self, name):\n",
    "        if name == 'age':\n",
    "            return 40\n",
    "        else:\n",
    "            raise AttributeError(name)\n",
    "x = operators()\n",
    "x.age # Runs __getat"
   ]
  },
  {
   "cell_type": "markdown",
   "metadata": {},
   "source": [
    "Nếu khác attribute age.\n",
    "```python\n",
    "x.name\n",
    "```\n",
    "`Output: AttributeError: name`\n"
   ]
  },
  {
   "cell_type": "code",
   "execution_count": 112,
   "metadata": {},
   "outputs": [],
   "source": [
    "class properties(object): \n",
    "    def getage(self):\n",
    "        return 40\n",
    "    age = property(getage, None, None, None) "
   ]
  },
  {
   "cell_type": "code",
   "execution_count": 113,
   "metadata": {},
   "outputs": [
    {
     "data": {
      "text/plain": [
       "40"
      ]
     },
     "execution_count": 113,
     "metadata": {},
     "output_type": "execute_result"
    }
   ],
   "source": [
    "x = properties()\n",
    "x.age"
   ]
  },
  {
   "cell_type": "markdown",
   "metadata": {},
   "source": [
    "Giống hàm \\_\\_getattr\\_\\_.\n",
    "```python\n",
    "x.name\n",
    "```\n",
    "`Output: AttributeError: 'properties' object has no attribute 'name'`"
   ]
  },
  {
   "cell_type": "code",
   "execution_count": 114,
   "metadata": {},
   "outputs": [],
   "source": [
    "class properties(object):\n",
    "    def getage(self):\n",
    "        return 40\n",
    "    def setage(self, value):\n",
    "        print('set age: %s' % value)\n",
    "        self._age = value\n",
    "    age = property(getage, setage, None, None)"
   ]
  },
  {
   "cell_type": "code",
   "execution_count": 115,
   "metadata": {},
   "outputs": [
    {
     "data": {
      "text/plain": [
       "40"
      ]
     },
     "execution_count": 115,
     "metadata": {},
     "output_type": "execute_result"
    }
   ],
   "source": [
    "x = properties()\n",
    "x.age"
   ]
  },
  {
   "cell_type": "code",
   "execution_count": 116,
   "metadata": {},
   "outputs": [
    {
     "name": "stdout",
     "output_type": "stream",
     "text": [
      "set age: 42\n"
     ]
    }
   ],
   "source": [
    "x.age = 42"
   ]
  },
  {
   "cell_type": "code",
   "execution_count": 117,
   "metadata": {},
   "outputs": [
    {
     "data": {
      "text/plain": [
       "42"
      ]
     },
     "execution_count": 117,
     "metadata": {},
     "output_type": "execute_result"
    }
   ],
   "source": [
    " x._age"
   ]
  },
  {
   "cell_type": "code",
   "execution_count": 118,
   "metadata": {},
   "outputs": [
    {
     "data": {
      "text/plain": [
       "'trainer'"
      ]
     },
     "execution_count": 118,
     "metadata": {},
     "output_type": "execute_result"
    }
   ],
   "source": [
    "x.job = 'trainer'\n",
    "x.job"
   ]
  },
  {
   "cell_type": "code",
   "execution_count": 119,
   "metadata": {},
   "outputs": [],
   "source": [
    "class operators:\n",
    "    def __getattr__(self, name): # On undefined reference\n",
    "        if name == 'age':\n",
    "            return 40\n",
    "        else:\n",
    "            raise AttributeError(name)\n",
    "    def __setattr__(self, name, value): # On all assignments\n",
    "        print('set: %s %s' % (name, value))\n",
    "        if name == 'age':\n",
    "            self.__dict__['_age'] = value # Or object.__setattr__()\n",
    "        else:\n",
    "            self.__dict__[name] = value"
   ]
  },
  {
   "cell_type": "code",
   "execution_count": 120,
   "metadata": {},
   "outputs": [
    {
     "data": {
      "text/plain": [
       "40"
      ]
     },
     "execution_count": 120,
     "metadata": {},
     "output_type": "execute_result"
    }
   ],
   "source": [
    "x = operators()\n",
    "x.age"
   ]
  },
  {
   "cell_type": "code",
   "execution_count": 121,
   "metadata": {},
   "outputs": [
    {
     "name": "stdout",
     "output_type": "stream",
     "text": [
      "set: age 41\n"
     ]
    }
   ],
   "source": [
    "x.age = 41"
   ]
  },
  {
   "cell_type": "code",
   "execution_count": 122,
   "metadata": {},
   "outputs": [
    {
     "data": {
      "text/plain": [
       "41"
      ]
     },
     "execution_count": 122,
     "metadata": {},
     "output_type": "execute_result"
    }
   ],
   "source": [
    "x._age"
   ]
  },
  {
   "cell_type": "code",
   "execution_count": 123,
   "metadata": {},
   "outputs": [
    {
     "data": {
      "text/plain": [
       "40"
      ]
     },
     "execution_count": 123,
     "metadata": {},
     "output_type": "execute_result"
    }
   ],
   "source": [
    " x.age"
   ]
  },
  {
   "cell_type": "code",
   "execution_count": 124,
   "metadata": {},
   "outputs": [
    {
     "name": "stdout",
     "output_type": "stream",
     "text": [
      "set: job trainer\n"
     ]
    }
   ],
   "source": [
    " x.job = 'trainer'"
   ]
  },
  {
   "cell_type": "code",
   "execution_count": 125,
   "metadata": {},
   "outputs": [
    {
     "data": {
      "text/plain": [
       "'trainer'"
      ]
     },
     "execution_count": 125,
     "metadata": {},
     "output_type": "execute_result"
    }
   ],
   "source": [
    " x.job"
   ]
  },
  {
   "cell_type": "markdown",
   "metadata": {},
   "source": [
    "## Descriptor"
   ]
  },
  {
   "cell_type": "code",
   "execution_count": 126,
   "metadata": {},
   "outputs": [],
   "source": [
    "class AgeDesc(object):\n",
    "    def __get__(self, instance, owner): return 40\n",
    "    def __set__(self, instance, value): instance._age = value\n",
    "class descriptors(object):\n",
    "    age = AgeDesc()"
   ]
  },
  {
   "cell_type": "code",
   "execution_count": 127,
   "metadata": {},
   "outputs": [
    {
     "data": {
      "text/plain": [
       "40"
      ]
     },
     "execution_count": 127,
     "metadata": {},
     "output_type": "execute_result"
    }
   ],
   "source": [
    "x = descriptors()\n",
    "x.age"
   ]
  },
  {
   "cell_type": "code",
   "execution_count": 128,
   "metadata": {},
   "outputs": [
    {
     "data": {
      "text/plain": [
       "42"
      ]
     },
     "execution_count": 128,
     "metadata": {},
     "output_type": "execute_result"
    }
   ],
   "source": [
    "x.age = 42 # Runs AgeDesc.__set__\n",
    "x._age"
   ]
  },
  {
   "cell_type": "markdown",
   "metadata": {},
   "source": [
    "# 9.6 Static and class method"
   ]
  },
  {
   "cell_type": "code",
   "execution_count": 129,
   "metadata": {},
   "outputs": [],
   "source": [
    "class Spam:\n",
    "    numInstances = 0\n",
    "    def __init__(self):\n",
    "        Spam.numInstances = Spam.numInstances + 1\n",
    "    def printNumInstances():\n",
    "        print(\"Number of instances created: %s\" % Spam.numInstances)"
   ]
  },
  {
   "cell_type": "code",
   "execution_count": 130,
   "metadata": {},
   "outputs": [],
   "source": [
    "a = Spam() # Can call functions in class in 3.X\n",
    "b = Spam() # Calls through instances still pass a self\n",
    "c = Spam()"
   ]
  },
  {
   "cell_type": "code",
   "execution_count": 131,
   "metadata": {},
   "outputs": [
    {
     "name": "stdout",
     "output_type": "stream",
     "text": [
      "Number of instances created: 3\n"
     ]
    }
   ],
   "source": [
    "Spam.printNumInstances()"
   ]
  },
  {
   "cell_type": "markdown",
   "metadata": {},
   "source": [
    "Lỗi khi thực thể truy xuất.\n",
    "```python\n",
    "a.printNumInstances()\n",
    "```\n",
    "`Output: TypeError: printNumInstances() takes 0 positional arguments but 1 was given`"
   ]
  },
  {
   "cell_type": "code",
   "execution_count": 132,
   "metadata": {},
   "outputs": [],
   "source": [
    "def printNumInstances():\n",
    "    print(\"Number of instances created: %s\" % Spam.numInstances)\n",
    "class Spam:\n",
    "    numInstances = 0\n",
    "    def __init__(self):\n",
    "        Spam.numInstances = Spam.numInstances + 1"
   ]
  },
  {
   "cell_type": "code",
   "execution_count": 133,
   "metadata": {},
   "outputs": [],
   "source": [
    "a = Spam()\n",
    "b = Spam()\n",
    "c = Spam()"
   ]
  },
  {
   "cell_type": "code",
   "execution_count": 134,
   "metadata": {},
   "outputs": [
    {
     "name": "stdout",
     "output_type": "stream",
     "text": [
      "Number of instances created: 3\n"
     ]
    }
   ],
   "source": [
    "printNumInstances()"
   ]
  },
  {
   "cell_type": "code",
   "execution_count": 135,
   "metadata": {},
   "outputs": [
    {
     "data": {
      "text/plain": [
       "3"
      ]
     },
     "execution_count": 135,
     "metadata": {},
     "output_type": "execute_result"
    }
   ],
   "source": [
    "Spam.numInstances"
   ]
  },
  {
   "cell_type": "code",
   "execution_count": 136,
   "metadata": {},
   "outputs": [],
   "source": [
    "class Spam:\n",
    "    numInstances = 0\n",
    "    def __init__(self):\n",
    "        Spam.numInstances = Spam.numInstances + 1\n",
    "    def printNumInstances(self):\n",
    "        print(\"Number of instances created: %s\" % Spam.numInstances)"
   ]
  },
  {
   "cell_type": "code",
   "execution_count": 137,
   "metadata": {},
   "outputs": [
    {
     "name": "stdout",
     "output_type": "stream",
     "text": [
      "Number of instances created: 3\n"
     ]
    }
   ],
   "source": [
    "a, b, c = Spam(), Spam(), Spam()\n",
    "a.printNumInstances()"
   ]
  },
  {
   "cell_type": "code",
   "execution_count": 138,
   "metadata": {},
   "outputs": [
    {
     "name": "stdout",
     "output_type": "stream",
     "text": [
      "Number of instances created: 3\n"
     ]
    }
   ],
   "source": [
    "Spam.printNumInstances(a)"
   ]
  },
  {
   "cell_type": "code",
   "execution_count": 139,
   "metadata": {},
   "outputs": [
    {
     "name": "stdout",
     "output_type": "stream",
     "text": [
      "Number of instances created: 4\n"
     ]
    }
   ],
   "source": [
    "Spam().printNumInstances()"
   ]
  },
  {
   "cell_type": "code",
   "execution_count": 140,
   "metadata": {},
   "outputs": [],
   "source": [
    "class Methods:\n",
    "    def imeth(self, x): # Normal instance method: passed a self\n",
    "        print([self, x])\n",
    "    def smeth(x): # Static: no instance passed\n",
    "        print([x])\n",
    "    def cmeth(cls, x): # Class: gets class, not instance\n",
    "        print([cls, x])\n",
    "    smeth = staticmethod(smeth) # Make smeth a static method (or @: ahead)\n",
    "    cmeth = classmethod(cmeth) # Make cmeth a class method (or @: ahead)"
   ]
  },
  {
   "cell_type": "code",
   "execution_count": 141,
   "metadata": {},
   "outputs": [
    {
     "name": "stdout",
     "output_type": "stream",
     "text": [
      "[<__main__.Methods object at 0x0368FB30>, 1]\n"
     ]
    }
   ],
   "source": [
    "obj = Methods() # Callable through instance or class\n",
    "obj.imeth(1)"
   ]
  },
  {
   "cell_type": "code",
   "execution_count": 142,
   "metadata": {},
   "outputs": [
    {
     "name": "stdout",
     "output_type": "stream",
     "text": [
      "[<__main__.Methods object at 0x0368FB30>, 2]\n"
     ]
    }
   ],
   "source": [
    "Methods.imeth(obj, 2)"
   ]
  },
  {
   "cell_type": "code",
   "execution_count": 143,
   "metadata": {},
   "outputs": [
    {
     "name": "stdout",
     "output_type": "stream",
     "text": [
      "[3]\n"
     ]
    }
   ],
   "source": [
    "Methods.smeth(3)"
   ]
  },
  {
   "cell_type": "code",
   "execution_count": 144,
   "metadata": {},
   "outputs": [
    {
     "name": "stdout",
     "output_type": "stream",
     "text": [
      "[4]\n"
     ]
    }
   ],
   "source": [
    "obj.smeth(4)"
   ]
  },
  {
   "cell_type": "code",
   "execution_count": 145,
   "metadata": {},
   "outputs": [
    {
     "name": "stdout",
     "output_type": "stream",
     "text": [
      "[<class '__main__.Methods'>, 5]\n"
     ]
    }
   ],
   "source": [
    " Methods.cmeth(5)"
   ]
  },
  {
   "cell_type": "code",
   "execution_count": 146,
   "metadata": {},
   "outputs": [
    {
     "name": "stdout",
     "output_type": "stream",
     "text": [
      "[<class '__main__.Methods'>, 6]\n"
     ]
    }
   ],
   "source": [
    "obj.cmeth(6)"
   ]
  },
  {
   "cell_type": "code",
   "execution_count": 147,
   "metadata": {},
   "outputs": [],
   "source": [
    "class Spam:\n",
    "    numInstances = 0 # Use static method for class data\n",
    "    def __init__(self):\n",
    "        Spam.numInstances += 1\n",
    "    def printNumInstances():\n",
    "        print(\"Number of instances: %s\" % Spam.numInstances)\n",
    "    printNumInstances = staticmethod(printNumInstances)"
   ]
  },
  {
   "cell_type": "code",
   "execution_count": 148,
   "metadata": {},
   "outputs": [
    {
     "name": "stdout",
     "output_type": "stream",
     "text": [
      "Number of instances: 3\n"
     ]
    }
   ],
   "source": [
    "a = Spam()\n",
    "b = Spam()\n",
    "c = Spam()\n",
    "Spam.printNumInstances()"
   ]
  },
  {
   "cell_type": "code",
   "execution_count": 149,
   "metadata": {},
   "outputs": [
    {
     "name": "stdout",
     "output_type": "stream",
     "text": [
      "Number of instances: 3\n"
     ]
    }
   ],
   "source": [
    "a.printNumInstances()"
   ]
  },
  {
   "cell_type": "code",
   "execution_count": 150,
   "metadata": {},
   "outputs": [],
   "source": [
    "class Sub(Spam):\n",
    "    def printNumInstances(): # Override a static method\n",
    "        print(\"Extra stuff...\") # But call back to original\n",
    "        Spam.printNumInstances()\n",
    "    printNumInstances = staticmethod(printNumInstances)"
   ]
  },
  {
   "cell_type": "code",
   "execution_count": 151,
   "metadata": {},
   "outputs": [
    {
     "name": "stdout",
     "output_type": "stream",
     "text": [
      "Extra stuff...\n",
      "Number of instances: 5\n"
     ]
    }
   ],
   "source": [
    "a = Sub()\n",
    "b = Sub()\n",
    "a.printNumInstances()"
   ]
  },
  {
   "cell_type": "code",
   "execution_count": 152,
   "metadata": {},
   "outputs": [
    {
     "name": "stdout",
     "output_type": "stream",
     "text": [
      "Extra stuff...\n",
      "Number of instances: 5\n"
     ]
    }
   ],
   "source": [
    "Sub.printNumInstances()"
   ]
  },
  {
   "cell_type": "code",
   "execution_count": 153,
   "metadata": {},
   "outputs": [
    {
     "name": "stdout",
     "output_type": "stream",
     "text": [
      "Number of instances: 5\n"
     ]
    }
   ],
   "source": [
    "Spam.printNumInstances()"
   ]
  },
  {
   "cell_type": "code",
   "execution_count": 154,
   "metadata": {},
   "outputs": [
    {
     "name": "stdout",
     "output_type": "stream",
     "text": [
      "Number of instances: 6\n"
     ]
    }
   ],
   "source": [
    "class Other(Spam): pass # Inherit static method verbatim\n",
    "c = Other()\n",
    "c.printNumInstances()"
   ]
  },
  {
   "cell_type": "code",
   "execution_count": 155,
   "metadata": {},
   "outputs": [],
   "source": [
    "class Spam:\n",
    "    numInstances = 0 # Use class method instead of static\n",
    "    def __init__(self):\n",
    "        Spam.numInstances += 1\n",
    "    def printNumInstances(cls):\n",
    "        print(\"Number of instances: %s\" % cls.numInstances)\n",
    "    printNumInstances = classmethod(printNumInstances)"
   ]
  },
  {
   "cell_type": "code",
   "execution_count": 156,
   "metadata": {},
   "outputs": [
    {
     "name": "stdout",
     "output_type": "stream",
     "text": [
      "Number of instances: 2\n"
     ]
    }
   ],
   "source": [
    "a, b = Spam(), Spam()\n",
    "a.printNumInstances()"
   ]
  },
  {
   "cell_type": "code",
   "execution_count": 157,
   "metadata": {},
   "outputs": [
    {
     "name": "stdout",
     "output_type": "stream",
     "text": [
      "Number of instances: 2\n"
     ]
    }
   ],
   "source": [
    "Spam.printNumInstances()"
   ]
  },
  {
   "cell_type": "code",
   "execution_count": 158,
   "metadata": {},
   "outputs": [],
   "source": [
    "class Spam:\n",
    "    numInstances = 0 # Trace class passed in\n",
    "    def __init__(self):\n",
    "        Spam.numInstances += 1\n",
    "    def printNumInstances(cls):\n",
    "        print(\"Number of instances: %s %s\" % (cls.numInstances, cls))\n",
    "    printNumInstances = classmethod(printNumInstances)\n",
    "class Sub(Spam):\n",
    "    def printNumInstances(cls): # Override a class method\n",
    "        print(\"Extra stuff...\", cls) # But call back to original\n",
    "        Spam.printNumInstances()\n",
    "    printNumInstances = classmethod(printNumInstances)\n",
    "class Other(Spam): pass"
   ]
  },
  {
   "cell_type": "code",
   "execution_count": 159,
   "metadata": {},
   "outputs": [
    {
     "name": "stdout",
     "output_type": "stream",
     "text": [
      "Extra stuff... <class '__main__.Sub'>\n",
      "Number of instances: 2 <class '__main__.Spam'>\n"
     ]
    }
   ],
   "source": [
    "x = Sub()\n",
    "y = Spam()\n",
    "x.printNumInstances()"
   ]
  },
  {
   "cell_type": "code",
   "execution_count": 160,
   "metadata": {},
   "outputs": [
    {
     "name": "stdout",
     "output_type": "stream",
     "text": [
      "Extra stuff... <class '__main__.Sub'>\n",
      "Number of instances: 2 <class '__main__.Spam'>\n"
     ]
    }
   ],
   "source": [
    "Sub.printNumInstances()"
   ]
  },
  {
   "cell_type": "code",
   "execution_count": 161,
   "metadata": {},
   "outputs": [
    {
     "name": "stdout",
     "output_type": "stream",
     "text": [
      "Number of instances: 2 <class '__main__.Spam'>\n"
     ]
    }
   ],
   "source": [
    "y.printNumInstances()"
   ]
  },
  {
   "cell_type": "code",
   "execution_count": 162,
   "metadata": {},
   "outputs": [
    {
     "name": "stdout",
     "output_type": "stream",
     "text": [
      "Number of instances: 3 <class '__main__.Other'>\n"
     ]
    }
   ],
   "source": [
    "z = Other() # Call from lower sub's instance\n",
    "z.printNumInstances()"
   ]
  },
  {
   "cell_type": "code",
   "execution_count": 163,
   "metadata": {},
   "outputs": [],
   "source": [
    "class Spam:\n",
    "    numInstances = 0\n",
    "    def count(cls): # Per-class instance counters\n",
    "        cls.numInstances += 1 # cls is lowest class above instance\n",
    "    def __init__(self):\n",
    "        self.count() # Passes self.__class__ to count\n",
    "    count = classmethod(count)\n",
    "class Sub(Spam):\n",
    "    numInstances = 0\n",
    "    def __init__(self): # Redefines __init__\n",
    "        Spam.__init__(self)\n",
    "class Other(Spam): # Inherits __init__\n",
    "    numInstances = 0"
   ]
  },
  {
   "cell_type": "code",
   "execution_count": 164,
   "metadata": {},
   "outputs": [],
   "source": [
    "x = Spam()\n",
    "y1, y2 = Sub(), Sub()"
   ]
  },
  {
   "cell_type": "code",
   "execution_count": 165,
   "metadata": {},
   "outputs": [
    {
     "data": {
      "text/plain": [
       "(1, 2, 3)"
      ]
     },
     "execution_count": 165,
     "metadata": {},
     "output_type": "execute_result"
    }
   ],
   "source": [
    "z1, z2, z3 = Other(), Other(), Other()\n",
    "x.numInstances, y1.numInstances, z1.numInstances"
   ]
  },
  {
   "cell_type": "code",
   "execution_count": 166,
   "metadata": {},
   "outputs": [
    {
     "data": {
      "text/plain": [
       "(1, 2, 3)"
      ]
     },
     "execution_count": 166,
     "metadata": {},
     "output_type": "execute_result"
    }
   ],
   "source": [
    "Spam.numInstances, Sub.numInstances, Other.numInstances"
   ]
  },
  {
   "cell_type": "markdown",
   "metadata": {},
   "source": [
    "# 9.7  Decorators and Metaclasses"
   ]
  },
  {
   "cell_type": "code",
   "execution_count": 167,
   "metadata": {},
   "outputs": [],
   "source": [
    "class Spam:\n",
    "    numInstances = 0\n",
    "    def __init__(self):\n",
    "        Spam.numInstances = Spam.numInstances + 1\n",
    "    @staticmethod\n",
    "    def printNumInstances():\n",
    "        print(\"Number of instances created: %s\" % Spam.numInstances)"
   ]
  },
  {
   "cell_type": "code",
   "execution_count": 168,
   "metadata": {},
   "outputs": [
    {
     "name": "stdout",
     "output_type": "stream",
     "text": [
      "Number of instances created: 3\n"
     ]
    }
   ],
   "source": [
    "a = Spam()\n",
    "b = Spam()\n",
    "c = Spam()\n",
    "Spam.printNumInstances()"
   ]
  },
  {
   "cell_type": "code",
   "execution_count": 169,
   "metadata": {},
   "outputs": [
    {
     "name": "stdout",
     "output_type": "stream",
     "text": [
      "Number of instances created: 3\n"
     ]
    }
   ],
   "source": [
    "a.printNumInstances()"
   ]
  },
  {
   "cell_type": "code",
   "execution_count": 170,
   "metadata": {},
   "outputs": [],
   "source": [
    "class Methods(object): # object needed in 2.X for property setters\n",
    "    def imeth(self, x): # Normal instance method: passed a self\n",
    "        print([self, x])\n",
    "    @staticmethod\n",
    "    def smeth(x): # Static: no instance passed\n",
    "        print([x])\n",
    "    @classmethod\n",
    "    def cmeth(cls, x): # Class: gets class, not instance\n",
    "        print([cls, x])\n",
    "    @property # Property: computed on fetch\n",
    "    def name(self):\n",
    "        return 'Bob ' + self.__class__.__name__"
   ]
  },
  {
   "cell_type": "code",
   "execution_count": 171,
   "metadata": {},
   "outputs": [
    {
     "name": "stdout",
     "output_type": "stream",
     "text": [
      "[<__main__.Methods object at 0x036EEDB0>, 1]\n"
     ]
    }
   ],
   "source": [
    "obj = Methods()\n",
    "obj.imeth(1)"
   ]
  },
  {
   "cell_type": "code",
   "execution_count": 172,
   "metadata": {},
   "outputs": [
    {
     "name": "stdout",
     "output_type": "stream",
     "text": [
      "[2]\n"
     ]
    }
   ],
   "source": [
    "obj.smeth(2)"
   ]
  },
  {
   "cell_type": "code",
   "execution_count": 173,
   "metadata": {},
   "outputs": [
    {
     "name": "stdout",
     "output_type": "stream",
     "text": [
      "[<class '__main__.Methods'>, 3]\n"
     ]
    }
   ],
   "source": [
    "obj.cmeth(3)"
   ]
  },
  {
   "cell_type": "code",
   "execution_count": 174,
   "metadata": {},
   "outputs": [
    {
     "data": {
      "text/plain": [
       "'Bob Methods'"
      ]
     },
     "execution_count": 174,
     "metadata": {},
     "output_type": "execute_result"
    }
   ],
   "source": [
    "obj.name"
   ]
  },
  {
   "cell_type": "code",
   "execution_count": 175,
   "metadata": {},
   "outputs": [
    {
     "name": "stdout",
     "output_type": "stream",
     "text": [
      "call 1 to spam\n",
      "6\n",
      "call 2 to spam\n",
      "abc\n"
     ]
    }
   ],
   "source": [
    "class tracer:\n",
    "    def __init__(self, func): # Remember original, init counter\n",
    "        self.calls = 0\n",
    "        self.func = func\n",
    "    def __call__(self, *args): # On later calls: add logic, run original\n",
    "        self.calls += 1\n",
    "        print('call %s to %s' % (self.calls, self.func.__name__))\n",
    "        return self.func(*args)\n",
    "@tracer # Same as spam = tracer(spam)\n",
    "def spam(a, b, c): # Wrap spam in a decorator object\n",
    "    return a + b + c\n",
    "print(spam(1, 2, 3)) # Really calls the tracer wrapper object\n",
    "print(spam('a', 'b', 'c')) # Invokes __call__ in class   "
   ]
  },
  {
   "cell_type": "code",
   "execution_count": 176,
   "metadata": {},
   "outputs": [
    {
     "name": "stdout",
     "output_type": "stream",
     "text": [
      "call 1 to spam\n",
      "6\n",
      "call 2 to spam\n",
      "abc\n"
     ]
    }
   ],
   "source": [
    "def tracer(func): # Remember original\n",
    "    def oncall(*args): # On later calls\n",
    "        oncall.calls += 1\n",
    "        print('call %s to %s' % (oncall.calls, func.__name__))\n",
    "        return func(*args)\n",
    "    oncall.calls = 0\n",
    "    return oncall\n",
    "class C:\n",
    "    @tracer\n",
    "    def spam(self,a, b, c): return a + b + c\n",
    "x = C()\n",
    "print(x.spam(1, 2, 3))\n",
    "print(x.spam('a', 'b', 'c'))"
   ]
  },
  {
   "cell_type": "code",
   "execution_count": 177,
   "metadata": {},
   "outputs": [],
   "source": [
    "def decorator(cls): # On @ decoration\n",
    "    class Proxy:\n",
    "        def __init__(self, *args): # On instance creation: make a cls\n",
    "            self.wrapped = cls(*args)\n",
    "        def __getattr__(self, name): # On attribute fetch: extra ops here\n",
    "            return getattr(self.wrapped, name)\n",
    "    return Proxy"
   ]
  },
  {
   "cell_type": "markdown",
   "metadata": {},
   "source": [
    "# 9.8 The super built-in function"
   ]
  },
  {
   "cell_type": "code",
   "execution_count": 178,
   "metadata": {},
   "outputs": [],
   "source": [
    "class C: \n",
    "    def act(self):\n",
    "        print('spam')\n",
    "class D(C):\n",
    "    def act(self):\n",
    "        C.act(self) # Name superclass explicitly, pass self\n",
    "        print('eggs')"
   ]
  },
  {
   "cell_type": "code",
   "execution_count": 179,
   "metadata": {},
   "outputs": [
    {
     "name": "stdout",
     "output_type": "stream",
     "text": [
      "spam\n",
      "eggs\n"
     ]
    }
   ],
   "source": [
    "X = D()\n",
    "X.act()"
   ]
  },
  {
   "cell_type": "code",
   "execution_count": 180,
   "metadata": {},
   "outputs": [],
   "source": [
    "class C: \n",
    "    def act(self):\n",
    "        print('spam')\n",
    "class D(C):\n",
    "    def act(self):\n",
    "        super().act() # Reference superclass generically, omit self\n",
    "        print('eggs')"
   ]
  },
  {
   "cell_type": "code",
   "execution_count": 181,
   "metadata": {},
   "outputs": [
    {
     "name": "stdout",
     "output_type": "stream",
     "text": [
      "spam\n",
      "eggs\n"
     ]
    }
   ],
   "source": [
    "X = D()\n",
    "X.act()"
   ]
  },
  {
   "cell_type": "code",
   "execution_count": 182,
   "metadata": {},
   "outputs": [
    {
     "data": {
      "text/plain": [
       "super"
      ]
     },
     "execution_count": 182,
     "metadata": {},
     "output_type": "execute_result"
    }
   ],
   "source": [
    "super"
   ]
  },
  {
   "cell_type": "markdown",
   "metadata": {},
   "source": [
    "Ta thử khai báo hàm super()\n",
    "```python\n",
    "super()\n",
    "```\n",
    "`Output: RuntimeError: super(): no arguments`"
   ]
  },
  {
   "cell_type": "code",
   "execution_count": 183,
   "metadata": {},
   "outputs": [
    {
     "name": "stdout",
     "output_type": "stream",
     "text": [
      "<super: <class 'E'>, <E object>>\n",
      "spam\n"
     ]
    }
   ],
   "source": [
    "class E(C):\n",
    "    def method(self): # self is implicit in super...only!\n",
    "        proxy = super() # This form has no meaning outside a method\n",
    "        print(proxy) # Show the normally hidden proxy object\n",
    "        proxy.act() # No arguments: implicitly calls superclass method!\n",
    "E().method()"
   ]
  },
  {
   "cell_type": "code",
   "execution_count": 184,
   "metadata": {},
   "outputs": [],
   "source": [
    "class A: \n",
    "    def act(self): print('A')\n",
    "class B:\n",
    "    def act(self): print('B')\n",
    "class C(A):\n",
    "    def act(self):\n",
    "        super().act()"
   ]
  },
  {
   "cell_type": "code",
   "execution_count": 185,
   "metadata": {},
   "outputs": [
    {
     "name": "stdout",
     "output_type": "stream",
     "text": [
      "A\n"
     ]
    }
   ],
   "source": [
    "X = C()\n",
    "X.act()"
   ]
  },
  {
   "cell_type": "code",
   "execution_count": 186,
   "metadata": {},
   "outputs": [],
   "source": [
    "class C(B, A):\n",
    "    def act(self):\n",
    "        super().act() # If B is listed first, A.act() is no longer run!"
   ]
  },
  {
   "cell_type": "code",
   "execution_count": 187,
   "metadata": {},
   "outputs": [
    {
     "name": "stdout",
     "output_type": "stream",
     "text": [
      "B\n"
     ]
    }
   ],
   "source": [
    "X = C()\n",
    "X.act()"
   ]
  },
  {
   "cell_type": "code",
   "execution_count": 188,
   "metadata": {},
   "outputs": [
    {
     "name": "stdout",
     "output_type": "stream",
     "text": [
      "A\n",
      "B\n"
     ]
    }
   ],
   "source": [
    "class C(A, B): # Traditional form\n",
    "    def act(self): # You probably need to be more explicit here\n",
    "        A.act(self) # This form handles both single and multiple inher\n",
    "        B.act(self) # And works the same in both Python 3.X and 2.X\n",
    "X = C() # So why use the super() special case at all?\n",
    "X.act()"
   ]
  },
  {
   "cell_type": "code",
   "execution_count": 189,
   "metadata": {},
   "outputs": [],
   "source": [
    "class C:\n",
    "    def __getitem__(self, ix): # Indexing overload method\n",
    "        print('C index')\n",
    "class D(C):\n",
    "    def __getitem__(self, ix): # Redefine to extend here\n",
    "        print('D index')\n",
    "        C.__getitem__(self, ix) # Traditional call form works\n",
    "        super().__getitem__(ix) # Direct name calls work too\n",
    "        super()[ix]"
   ]
  },
  {
   "cell_type": "code",
   "execution_count": 190,
   "metadata": {},
   "outputs": [
    {
     "name": "stdout",
     "output_type": "stream",
     "text": [
      "C index\n"
     ]
    }
   ],
   "source": [
    "X = C()\n",
    "X[99]"
   ]
  },
  {
   "cell_type": "markdown",
   "metadata": {},
   "source": [
    "Gây ra lỗi ở lớp con \n",
    "```python\n",
    "X = D()\n",
    "X[99]\n",
    "```\n",
    "Output: \n",
    "```\n",
    "D index\n",
    "C index\n",
    "C index\n",
    "TypeError: 'super' object is not subscriptable\n",
    "```"
   ]
  },
  {
   "cell_type": "code",
   "execution_count": 191,
   "metadata": {},
   "outputs": [],
   "source": [
    "class X:\n",
    "    def m(self): print('X.m')\n",
    "class Y:\n",
    "    def m(self): print('Y.m')\n",
    "class C(X): # Start out inheriting from X\n",
    "    def m(self): super().m()"
   ]
  },
  {
   "cell_type": "code",
   "execution_count": 192,
   "metadata": {},
   "outputs": [
    {
     "name": "stdout",
     "output_type": "stream",
     "text": [
      "X.m\n"
     ]
    }
   ],
   "source": [
    "i = C()\n",
    "i.m()"
   ]
  },
  {
   "cell_type": "code",
   "execution_count": 193,
   "metadata": {},
   "outputs": [
    {
     "name": "stdout",
     "output_type": "stream",
     "text": [
      "Y.m\n"
     ]
    }
   ],
   "source": [
    "C.__bases__ = (Y,) # Change superclass at runtime!\n",
    "i.m()"
   ]
  },
  {
   "cell_type": "code",
   "execution_count": 194,
   "metadata": {},
   "outputs": [
    {
     "name": "stdout",
     "output_type": "stream",
     "text": [
      "X.m\n"
     ]
    }
   ],
   "source": [
    "class C(X):\n",
    "    def m(self): C.__bases__[0].m(self) # Special code for a special case\n",
    "i = C()\n",
    "i.m()"
   ]
  },
  {
   "cell_type": "code",
   "execution_count": 195,
   "metadata": {},
   "outputs": [
    {
     "name": "stdout",
     "output_type": "stream",
     "text": [
      "Y.m\n"
     ]
    }
   ],
   "source": [
    "C.__bases__ = (Y,) # Same effect, without super()\n",
    "i.m()"
   ]
  },
  {
   "cell_type": "code",
   "execution_count": 196,
   "metadata": {},
   "outputs": [],
   "source": [
    "class B:\n",
    "    def __init__(self): print('B.__init__') # Disjoint class tree branches\n",
    "class C:\n",
    "    def __init__(self): print('C.__init__')\n",
    "class D(B, C): pass"
   ]
  },
  {
   "cell_type": "code",
   "execution_count": 197,
   "metadata": {},
   "outputs": [
    {
     "name": "stdout",
     "output_type": "stream",
     "text": [
      "B.__init__\n"
     ]
    }
   ],
   "source": [
    " x = D()"
   ]
  },
  {
   "cell_type": "code",
   "execution_count": 198,
   "metadata": {},
   "outputs": [],
   "source": [
    "class D(B, C):\n",
    "    def __init__(self): # Traditional form\n",
    "        B.__init__(self) # Invoke supers by name\n",
    "        C.__init__(self)"
   ]
  },
  {
   "cell_type": "code",
   "execution_count": 199,
   "metadata": {},
   "outputs": [
    {
     "name": "stdout",
     "output_type": "stream",
     "text": [
      "B.__init__\n",
      "C.__init__\n"
     ]
    }
   ],
   "source": [
    "x = D()"
   ]
  },
  {
   "cell_type": "code",
   "execution_count": 200,
   "metadata": {},
   "outputs": [],
   "source": [
    "class A:\n",
    "    def __init__(self): print('A.__init__')\n",
    "class B(A):\n",
    "    def __init__(self): print('B.__init__'); A.__init__(self)\n",
    "class C(A):\n",
    "    def __init__(self): print('C.__init__'); A.__init__(self)"
   ]
  },
  {
   "cell_type": "code",
   "execution_count": 201,
   "metadata": {},
   "outputs": [
    {
     "name": "stdout",
     "output_type": "stream",
     "text": [
      "B.__init__\n",
      "A.__init__\n"
     ]
    }
   ],
   "source": [
    "x = B()"
   ]
  },
  {
   "cell_type": "code",
   "execution_count": 202,
   "metadata": {},
   "outputs": [
    {
     "name": "stdout",
     "output_type": "stream",
     "text": [
      "C.__init__\n",
      "A.__init__\n"
     ]
    }
   ],
   "source": [
    " x = C() # Each super works by itsel"
   ]
  },
  {
   "cell_type": "code",
   "execution_count": 203,
   "metadata": {},
   "outputs": [
    {
     "name": "stdout",
     "output_type": "stream",
     "text": [
      "B.__init__\n",
      "A.__init__\n"
     ]
    }
   ],
   "source": [
    "class D(B, C): pass # Still runs leftmost only\n",
    "x = D()"
   ]
  },
  {
   "cell_type": "code",
   "execution_count": 204,
   "metadata": {},
   "outputs": [],
   "source": [
    "class D(B, C):\n",
    "    def __init__(self): # Traditional form\n",
    "        B.__init__(self) # Invoke both supers by name\n",
    "        C.__init__(self)"
   ]
  },
  {
   "cell_type": "code",
   "execution_count": 205,
   "metadata": {},
   "outputs": [
    {
     "name": "stdout",
     "output_type": "stream",
     "text": [
      "B.__init__\n",
      "A.__init__\n",
      "C.__init__\n",
      "A.__init__\n"
     ]
    }
   ],
   "source": [
    "x = D()"
   ]
  },
  {
   "cell_type": "code",
   "execution_count": 206,
   "metadata": {},
   "outputs": [],
   "source": [
    "class A:\n",
    "    def __init__(self): print('A.__init__')\n",
    "class B(A):\n",
    "    def __init__(self): print('B.__init__'); super().__init__()\n",
    "class C(A):\n",
    "    def __init__(self): print('C.__init__'); super().__init__()"
   ]
  },
  {
   "cell_type": "code",
   "execution_count": 207,
   "metadata": {},
   "outputs": [
    {
     "name": "stdout",
     "output_type": "stream",
     "text": [
      "B.__init__\n",
      "A.__init__\n"
     ]
    }
   ],
   "source": [
    "x = B()"
   ]
  },
  {
   "cell_type": "code",
   "execution_count": 208,
   "metadata": {},
   "outputs": [
    {
     "name": "stdout",
     "output_type": "stream",
     "text": [
      "C.__init__\n",
      "A.__init__\n"
     ]
    }
   ],
   "source": [
    "x = C()"
   ]
  },
  {
   "cell_type": "code",
   "execution_count": 209,
   "metadata": {},
   "outputs": [
    {
     "name": "stdout",
     "output_type": "stream",
     "text": [
      "B.__init__\n",
      "C.__init__\n",
      "A.__init__\n"
     ]
    }
   ],
   "source": [
    "class D(B, C): pass\n",
    "x = D()"
   ]
  },
  {
   "cell_type": "code",
   "execution_count": 210,
   "metadata": {},
   "outputs": [
    {
     "data": {
      "text/plain": [
       "(__main__.B, __main__.A, object)"
      ]
     },
     "execution_count": 210,
     "metadata": {},
     "output_type": "execute_result"
    }
   ],
   "source": [
    " B.__mro__"
   ]
  },
  {
   "cell_type": "code",
   "execution_count": 211,
   "metadata": {},
   "outputs": [
    {
     "data": {
      "text/plain": [
       "(__main__.D, __main__.B, __main__.C, __main__.A, object)"
      ]
     },
     "execution_count": 211,
     "metadata": {},
     "output_type": "execute_result"
    }
   ],
   "source": [
    " D.__mro__"
   ]
  },
  {
   "cell_type": "code",
   "execution_count": 212,
   "metadata": {},
   "outputs": [],
   "source": [
    "class B:\n",
    "    def __init__(self): print('B.__init__'); super().__init__()\n",
    "class C:\n",
    "    def __init__(self): print('C.__init__'); super().__init__()"
   ]
  },
  {
   "cell_type": "code",
   "execution_count": 213,
   "metadata": {},
   "outputs": [
    {
     "name": "stdout",
     "output_type": "stream",
     "text": [
      "B.__init__\n"
     ]
    }
   ],
   "source": [
    "x = B()"
   ]
  },
  {
   "cell_type": "code",
   "execution_count": 214,
   "metadata": {},
   "outputs": [
    {
     "name": "stdout",
     "output_type": "stream",
     "text": [
      "C.__init__\n"
     ]
    }
   ],
   "source": [
    " x = C()"
   ]
  },
  {
   "cell_type": "code",
   "execution_count": 215,
   "metadata": {},
   "outputs": [
    {
     "name": "stdout",
     "output_type": "stream",
     "text": [
      "B.__init__\n",
      "C.__init__\n"
     ]
    }
   ],
   "source": [
    "class D(B, C): pass # Inherits B.__init__ but B's MRO differs for D\n",
    "x = D()"
   ]
  },
  {
   "cell_type": "code",
   "execution_count": 216,
   "metadata": {},
   "outputs": [
    {
     "data": {
      "text/plain": [
       "(__main__.B, object)"
      ]
     },
     "execution_count": 216,
     "metadata": {},
     "output_type": "execute_result"
    }
   ],
   "source": [
    "B.__mro__"
   ]
  },
  {
   "cell_type": "code",
   "execution_count": 217,
   "metadata": {},
   "outputs": [
    {
     "data": {
      "text/plain": [
       "(__main__.D, __main__.B, __main__.C, object)"
      ]
     },
     "execution_count": 217,
     "metadata": {},
     "output_type": "execute_result"
    }
   ],
   "source": [
    "D.__mro__"
   ]
  },
  {
   "cell_type": "code",
   "execution_count": 218,
   "metadata": {},
   "outputs": [],
   "source": [
    "class B:\n",
    "    def __init__(self): print('B.__init__')\n",
    "class C:\n",
    "    def __init__(self): print('C.__init__')\n",
    "class D(B, C):\n",
    "    def __init__(self): B.__init__(self); C.__init__(self)"
   ]
  },
  {
   "cell_type": "code",
   "execution_count": 219,
   "metadata": {},
   "outputs": [
    {
     "name": "stdout",
     "output_type": "stream",
     "text": [
      "B.__init__\n",
      "C.__init__\n"
     ]
    }
   ],
   "source": [
    "x = D()"
   ]
  },
  {
   "cell_type": "code",
   "execution_count": 220,
   "metadata": {},
   "outputs": [
    {
     "name": "stdout",
     "output_type": "stream",
     "text": [
      "D.__init__\n",
      "B.__init__\n",
      "C.__init__\n"
     ]
    }
   ],
   "source": [
    "class B:\n",
    "    def __init__(self): print('B.__init__'); super().__init__()\n",
    "class C:\n",
    "    def __init__(self): print('C.__init__'); super().__init__()\n",
    "class D(B, C):\n",
    "    def __init__(self): print('D.__init__'); super().__init__()\n",
    "X = D()"
   ]
  },
  {
   "cell_type": "code",
   "execution_count": 221,
   "metadata": {},
   "outputs": [
    {
     "data": {
      "text/plain": [
       "(__main__.D, __main__.B, __main__.C, object)"
      ]
     },
     "execution_count": 221,
     "metadata": {},
     "output_type": "execute_result"
    }
   ],
   "source": [
    " D.__mro__"
   ]
  },
  {
   "cell_type": "code",
   "execution_count": 222,
   "metadata": {},
   "outputs": [
    {
     "name": "stdout",
     "output_type": "stream",
     "text": [
      "D.__init__\n",
      "B.__init__\n"
     ]
    }
   ],
   "source": [
    "class B:\n",
    "    def __init__(self): print('B.__init__')\n",
    "class D(B, C):\n",
    "    def __init__(self): print('D.__init__'); super().__init__()\n",
    "X=D()"
   ]
  },
  {
   "cell_type": "code",
   "execution_count": 223,
   "metadata": {},
   "outputs": [
    {
     "name": "stdout",
     "output_type": "stream",
     "text": [
      "D.__init__\n",
      "C.__init__\n",
      "B.__init__\n",
      "C.__init__\n"
     ]
    }
   ],
   "source": [
    "class B:\n",
    "    def __init__(self): print('B.__init__'); super().__init__()\n",
    "class C:\n",
    "    def __init__(self): print('C.__init__'); super().__init__()\n",
    "class D(B, C):\n",
    "    def __init__(self): print('D.__init__'); C.__init__(self); B.__init__(self)\n",
    "X = D()"
   ]
  },
  {
   "cell_type": "code",
   "execution_count": 224,
   "metadata": {},
   "outputs": [
    {
     "name": "stdout",
     "output_type": "stream",
     "text": [
      "D.method\n",
      "B.method\n",
      "A.method\n",
      "C.method\n"
     ]
    }
   ],
   "source": [
    "class A:\n",
    "    def method(self): print('A.method'); super().method()\n",
    "class B(A):\n",
    "    def method(self): print('B.method'); super().method()\n",
    "class C:\n",
    "    def method(self): print('C.method') # No super: must anchor the chain!\n",
    "class D(B, C):\n",
    "    def method(self): print('D.method'); super().method()\n",
    "X = D()\n",
    "X.method()"
   ]
  },
  {
   "cell_type": "code",
   "execution_count": 225,
   "metadata": {},
   "outputs": [
    {
     "name": "stdout",
     "output_type": "stream",
     "text": [
      "D.method\n",
      "B.method\n"
     ]
    }
   ],
   "source": [
    "class B(A):\n",
    "    def method(self): print('B.method') # Drop super to replace A's method\n",
    "class D(B, C):\n",
    "    def method(self): print('D.method'); super().method()\n",
    "X = D()\n",
    "X.method()"
   ]
  },
  {
   "cell_type": "code",
   "execution_count": 226,
   "metadata": {},
   "outputs": [
    {
     "name": "stdout",
     "output_type": "stream",
     "text": [
      "D.method\n",
      "B.method\n",
      "C.method\n"
     ]
    }
   ],
   "source": [
    "class D(B, C):\n",
    "    def method(self): print('D.method'); B.method(self); C.method(self)\n",
    "D().method()"
   ]
  },
  {
   "cell_type": "code",
   "execution_count": 227,
   "metadata": {},
   "outputs": [],
   "source": [
    "class A:\n",
    "    def other(self): print('A.other')\n",
    "class Mixin(A):\n",
    "    def other(self): print('Mixin.other'); super().other()\n",
    "class B:\n",
    "    def method(self): print('B.method')\n",
    "class C(Mixin, B):\n",
    "    def method(self): print('C.method'); super().other(); super().method()"
   ]
  },
  {
   "cell_type": "code",
   "execution_count": 228,
   "metadata": {},
   "outputs": [
    {
     "name": "stdout",
     "output_type": "stream",
     "text": [
      "C.method\n",
      "Mixin.other\n",
      "A.other\n",
      "B.method\n"
     ]
    }
   ],
   "source": [
    " C().method()"
   ]
  },
  {
   "cell_type": "code",
   "execution_count": 229,
   "metadata": {},
   "outputs": [
    {
     "data": {
      "text/plain": [
       "(__main__.C, __main__.Mixin, __main__.A, __main__.B, object)"
      ]
     },
     "execution_count": 229,
     "metadata": {},
     "output_type": "execute_result"
    }
   ],
   "source": [
    "C.__mro__"
   ]
  },
  {
   "cell_type": "code",
   "execution_count": 230,
   "metadata": {},
   "outputs": [
    {
     "name": "stdout",
     "output_type": "stream",
     "text": [
      "C.method\n",
      "Mixin.other\n",
      "A.other\n",
      "B.method\n"
     ]
    }
   ],
   "source": [
    "class C(B, Mixin):\n",
    "    def method(self): print('C.method'); super().other(); super().method()\n",
    "C().method()"
   ]
  },
  {
   "cell_type": "code",
   "execution_count": 231,
   "metadata": {},
   "outputs": [
    {
     "data": {
      "text/plain": [
       "(__main__.C, __main__.B, __main__.Mixin, __main__.A, object)"
      ]
     },
     "execution_count": 231,
     "metadata": {},
     "output_type": "execute_result"
    }
   ],
   "source": [
    "C.__mro__"
   ]
  },
  {
   "cell_type": "code",
   "execution_count": 232,
   "metadata": {},
   "outputs": [
    {
     "name": "stdout",
     "output_type": "stream",
     "text": [
      "C.method\n",
      "Mixin.other\n",
      "A.other\n",
      "B.method\n"
     ]
    }
   ],
   "source": [
    "class A:\n",
    "    def other(self): print('A.other')\n",
    "class Mixin(A):\n",
    "    def other(self): print('Mixin.other'); super().other()\n",
    "class B(A):\n",
    "    def method(self): print('B.method')\n",
    "class C(Mixin, B):\n",
    "    def method(self): print('C.method'); super().other(); super().method()\n",
    "C().method()"
   ]
  },
  {
   "cell_type": "code",
   "execution_count": 233,
   "metadata": {},
   "outputs": [
    {
     "data": {
      "text/plain": [
       "(__main__.C, __main__.Mixin, __main__.B, __main__.A, object)"
      ]
     },
     "execution_count": 233,
     "metadata": {},
     "output_type": "execute_result"
    }
   ],
   "source": [
    "C.__mro__"
   ]
  },
  {
   "cell_type": "code",
   "execution_count": 234,
   "metadata": {},
   "outputs": [],
   "source": [
    "class C(B, Mixin):\n",
    "    def method(self): print('C.method'); super().other(); super().method()"
   ]
  },
  {
   "cell_type": "code",
   "execution_count": 235,
   "metadata": {},
   "outputs": [
    {
     "name": "stdout",
     "output_type": "stream",
     "text": [
      "C.method\n",
      "Mixin.other\n",
      "A.other\n",
      "B.method\n"
     ]
    }
   ],
   "source": [
    " C().method()"
   ]
  },
  {
   "cell_type": "code",
   "execution_count": 236,
   "metadata": {},
   "outputs": [
    {
     "data": {
      "text/plain": [
       "(__main__.C, __main__.B, __main__.Mixin, __main__.A, object)"
      ]
     },
     "execution_count": 236,
     "metadata": {},
     "output_type": "execute_result"
    }
   ],
   "source": [
    "C.__mro__"
   ]
  },
  {
   "cell_type": "code",
   "execution_count": 237,
   "metadata": {},
   "outputs": [],
   "source": [
    "class C(Mixin, B):\n",
    "    def method(self): print('C.method'); Mixin.other(self); B.method(self)"
   ]
  },
  {
   "cell_type": "code",
   "execution_count": 238,
   "metadata": {},
   "outputs": [
    {
     "name": "stdout",
     "output_type": "stream",
     "text": [
      "C.method\n",
      "Mixin.other\n",
      "A.other\n",
      "B.method\n"
     ]
    }
   ],
   "source": [
    "X = C()\n",
    "X.method()"
   ]
  },
  {
   "cell_type": "code",
   "execution_count": 239,
   "metadata": {},
   "outputs": [
    {
     "name": "stdout",
     "output_type": "stream",
     "text": [
      "Mixin.method\n",
      "A.method\n"
     ]
    }
   ],
   "source": [
    "class A:\n",
    "    def method(self): print('A.method')\n",
    "class Mixin(A):\n",
    "    def method(self): print('Mixin.method'); super().method()\n",
    "Mixin().method()"
   ]
  },
  {
   "cell_type": "code",
   "execution_count": 240,
   "metadata": {},
   "outputs": [
    {
     "name": "stdout",
     "output_type": "stream",
     "text": [
      "C.method\n",
      "Mixin.method\n",
      "B.method\n"
     ]
    }
   ],
   "source": [
    "class B(A):\n",
    "    def method(self): print('B.method') # super here would invoke A after B\n",
    "class C(Mixin, B):\n",
    "    def method(self): print('C.method'); super().method()\n",
    "C().method()"
   ]
  },
  {
   "cell_type": "code",
   "execution_count": 241,
   "metadata": {},
   "outputs": [
    {
     "name": "stdout",
     "output_type": "stream",
     "text": [
      "C.method\n",
      "Mixin.method\n",
      "A.method\n"
     ]
    }
   ],
   "source": [
    "class A:\n",
    "    def method(self): print('A.method')\n",
    "class Mixin(A):\n",
    "    def method(self): print('Mixin.method'); A.method(self) # C irrelevant\n",
    "class C(Mixin, B):\n",
    "    def method(self): print('C.method'); Mixin.method(self)\n",
    "C().method()"
   ]
  },
  {
   "cell_type": "code",
   "execution_count": 242,
   "metadata": {},
   "outputs": [],
   "source": [
    "class Employee:\n",
    "    def __init__(self, name, salary): # Common superclass\n",
    "        self.name = name\n",
    "        self.salary = salary\n",
    "class Chef1(Employee):\n",
    "    def __init__(self, name): # Differing arguments\n",
    "        Employee.__init__(self, name, 50000) # Dispatch by direct call\n",
    "class Server1(Employee):\n",
    "    def __init__(self, name):\n",
    "        Employee.__init__(self, name, 40000)"
   ]
  },
  {
   "cell_type": "code",
   "execution_count": 243,
   "metadata": {},
   "outputs": [
    {
     "data": {
      "text/plain": [
       "(50000, 40000)"
      ]
     },
     "execution_count": 243,
     "metadata": {},
     "output_type": "execute_result"
    }
   ],
   "source": [
    "bob = Chef1('Bob')\n",
    "sue = Server1('Sue')\n",
    "bob.salary, sue.salary"
   ]
  },
  {
   "cell_type": "code",
   "execution_count": 244,
   "metadata": {},
   "outputs": [],
   "source": [
    "class Chef2(Employee):\n",
    "    def __init__(self, name):\n",
    "        super().__init__(name, 50000) # Dispatch by super()\n",
    "class Server2(Employee):\n",
    "    def __init__(self, name):\n",
    "        super().__init__(name, 40000)"
   ]
  },
  {
   "cell_type": "code",
   "execution_count": 245,
   "metadata": {},
   "outputs": [
    {
     "data": {
      "text/plain": [
       "(50000, 40000)"
      ]
     },
     "execution_count": 245,
     "metadata": {},
     "output_type": "execute_result"
    }
   ],
   "source": [
    "bob = Chef2('Bob')\n",
    "sue = Server2('Sue')\n",
    "bob.salary, sue.salary"
   ]
  },
  {
   "cell_type": "code",
   "execution_count": 246,
   "metadata": {},
   "outputs": [],
   "source": [
    "class TwoJobs(Chef2, Server2): pass"
   ]
  },
  {
   "cell_type": "markdown",
   "metadata": {},
   "source": [
    "Khi sử dụng đa thừa kế với super().\n",
    "```python\n",
    "tom = TwoJobs('Tom')\n",
    "```\n",
    "`Output: TypeError: __init__() takes 2 positional arguments but 3 were given`"
   ]
  },
  {
   "cell_type": "code",
   "execution_count": 247,
   "metadata": {},
   "outputs": [
    {
     "data": {
      "text/plain": [
       "(__main__.TwoJobs, __main__.Chef2, __main__.Server2, __main__.Employee, object)"
      ]
     },
     "execution_count": 247,
     "metadata": {},
     "output_type": "execute_result"
    }
   ],
   "source": [
    "TwoJobs.__mro__"
   ]
  },
  {
   "cell_type": "code",
   "execution_count": 248,
   "metadata": {},
   "outputs": [
    {
     "data": {
      "text/plain": [
       "(__main__.Chef2, __main__.Employee, object)"
      ]
     },
     "execution_count": 248,
     "metadata": {},
     "output_type": "execute_result"
    }
   ],
   "source": [
    " Chef2.__mro__"
   ]
  },
  {
   "cell_type": "code",
   "execution_count": 249,
   "metadata": {},
   "outputs": [
    {
     "data": {
      "text/plain": [
       "50000"
      ]
     },
     "execution_count": 249,
     "metadata": {},
     "output_type": "execute_result"
    }
   ],
   "source": [
    "class TwoJobs(Chef1, Server1): pass\n",
    "tom = TwoJobs('Tom')\n",
    "tom.salary"
   ]
  },
  {
   "cell_type": "code",
   "execution_count": 250,
   "metadata": {},
   "outputs": [
    {
     "data": {
      "text/plain": [
       "70000"
      ]
     },
     "execution_count": 250,
     "metadata": {},
     "output_type": "execute_result"
    }
   ],
   "source": [
    "class TwoJobs(Chef1, Server1):\n",
    "    def __init__(self, name): Employee.__init__(self, name, 70000)\n",
    "tom = TwoJobs('Tom')\n",
    "tom.salary"
   ]
  },
  {
   "cell_type": "markdown",
   "metadata": {},
   "source": [
    "Đối với hàm super().\n",
    "```python\n",
    "class TwoJobs(Chef2, Server2):\n",
    "    def __init__(self, name): super().__init__(name, 70000)\n",
    "tom = TwoJobs('Tom')\n",
    "```\n",
    "`Output: TypeError: __init__() takes 2 positional arguments but 3 were given`"
   ]
  },
  {
   "cell_type": "markdown",
   "metadata": {},
   "source": [
    "# 9.9 Class Gotchas"
   ]
  },
  {
   "cell_type": "code",
   "execution_count": 251,
   "metadata": {},
   "outputs": [
    {
     "data": {
      "text/plain": [
       "1"
      ]
     },
     "execution_count": 251,
     "metadata": {},
     "output_type": "execute_result"
    }
   ],
   "source": [
    "class X:\n",
    "    a = 1 # Class attribute\n",
    "I = X()\n",
    "I.a # Inherited by instance"
   ]
  },
  {
   "cell_type": "code",
   "execution_count": 252,
   "metadata": {},
   "outputs": [
    {
     "data": {
      "text/plain": [
       "1"
      ]
     },
     "execution_count": 252,
     "metadata": {},
     "output_type": "execute_result"
    }
   ],
   "source": [
    "X.a"
   ]
  },
  {
   "cell_type": "code",
   "execution_count": 253,
   "metadata": {},
   "outputs": [
    {
     "data": {
      "text/plain": [
       "2"
      ]
     },
     "execution_count": 253,
     "metadata": {},
     "output_type": "execute_result"
    }
   ],
   "source": [
    "X.a = 2 # May change more than X\n",
    "I.a"
   ]
  },
  {
   "cell_type": "code",
   "execution_count": 254,
   "metadata": {},
   "outputs": [
    {
     "data": {
      "text/plain": [
       "2"
      ]
     },
     "execution_count": 254,
     "metadata": {},
     "output_type": "execute_result"
    }
   ],
   "source": [
    "J = X() # J inherits from X's runtime values\n",
    "J.a"
   ]
  },
  {
   "cell_type": "code",
   "execution_count": 255,
   "metadata": {},
   "outputs": [
    {
     "name": "stdout",
     "output_type": "stream",
     "text": [
      "0\n",
      "1\n",
      "2\n",
      "3\n",
      "4\n",
      "5\n"
     ]
    }
   ],
   "source": [
    "class X: pass # Make a few attribute namespaces\n",
    "class Y: pass\n",
    "\n",
    "X.a = 1 # Use class attributes as variables\n",
    "X.b = 2 # No instances anywhere to be found\n",
    "X.c = 3\n",
    "Y.a = X.a + X.b + X.c\n",
    "\n",
    "for X.i in range(Y.a): print(X.i) # Prints 0..5"
   ]
  },
  {
   "cell_type": "code",
   "execution_count": 256,
   "metadata": {},
   "outputs": [],
   "source": [
    "class Record: pass\n",
    "X = Record()\n",
    "X.name = 'bob'\n",
    "X.job = 'Pizza maker'"
   ]
  },
  {
   "cell_type": "code",
   "execution_count": 257,
   "metadata": {},
   "outputs": [],
   "source": [
    "class C:\n",
    "    shared = [] # Class attribute\n",
    "    def __init__(self):\n",
    "        self.perobj = [] # Instance attribute"
   ]
  },
  {
   "cell_type": "code",
   "execution_count": 258,
   "metadata": {},
   "outputs": [
    {
     "data": {
      "text/plain": [
       "([], [])"
      ]
     },
     "execution_count": 258,
     "metadata": {},
     "output_type": "execute_result"
    }
   ],
   "source": [
    "x = C() # Two instances\n",
    "y = C() # Implicitly share class attrs\n",
    "y.shared, y.perobj"
   ]
  },
  {
   "cell_type": "code",
   "execution_count": 259,
   "metadata": {},
   "outputs": [
    {
     "data": {
      "text/plain": [
       "(['spam'], ['spam'])"
      ]
     },
     "execution_count": 259,
     "metadata": {},
     "output_type": "execute_result"
    }
   ],
   "source": [
    "x.shared.append('spam') # Impacts y's view too!\n",
    "x.perobj.append('spam') # Impacts x's data only\n",
    "x.shared, x.perobj"
   ]
  },
  {
   "cell_type": "code",
   "execution_count": 260,
   "metadata": {},
   "outputs": [
    {
     "data": {
      "text/plain": [
       "(['spam'], [])"
      ]
     },
     "execution_count": 260,
     "metadata": {},
     "output_type": "execute_result"
    }
   ],
   "source": [
    " y.shared, y.perobj"
   ]
  },
  {
   "cell_type": "code",
   "execution_count": 261,
   "metadata": {},
   "outputs": [
    {
     "data": {
      "text/plain": [
       "['spam']"
      ]
     },
     "execution_count": 261,
     "metadata": {},
     "output_type": "execute_result"
    }
   ],
   "source": [
    "C.shared # Stored on class and share"
   ]
  },
  {
   "cell_type": "code",
   "execution_count": 262,
   "metadata": {},
   "outputs": [],
   "source": [
    "x.shared.append('spam') # Changes shared object attached to class in place\n",
    "x.shared = 'spam' # Changed or creates instance attribute attached to x"
   ]
  },
  {
   "cell_type": "code",
   "execution_count": 263,
   "metadata": {},
   "outputs": [
    {
     "name": "stdout",
     "output_type": "stream",
     "text": [
      "1\n"
     ]
    }
   ],
   "source": [
    "def generate():\n",
    "    class Spam: # Spam is a name in generate's local scope\n",
    "        count = 1\n",
    "        def method(self):\n",
    "            print(Spam.count) # Visible in generate's scope, per LEGB rule (E)\n",
    "    return Spam()\n",
    "generate().method()"
   ]
  },
  {
   "cell_type": "code",
   "execution_count": 264,
   "metadata": {},
   "outputs": [
    {
     "name": "stdout",
     "output_type": "stream",
     "text": [
      "1\n"
     ]
    }
   ],
   "source": [
    "def generate():\n",
    "    return Spam()\n",
    "class Spam: # Define at top level of module\n",
    "    count = 1\n",
    "    def method(self):\n",
    "        print(Spam.count) # Works: in global (enclosing module)\n",
    "generate().method()"
   ]
  },
  {
   "cell_type": "code",
   "execution_count": 265,
   "metadata": {},
   "outputs": [],
   "source": [
    "def generate(label): # Returns a class instead of an instance\n",
    "    class Spam:\n",
    "        count = 1\n",
    "        def method(self):\n",
    "            print(\"%s=%s\" % (label, Spam.count))\n",
    "    return Spam"
   ]
  },
  {
   "cell_type": "code",
   "execution_count": 266,
   "metadata": {},
   "outputs": [
    {
     "name": "stdout",
     "output_type": "stream",
     "text": [
      "Gotchas=1\n"
     ]
    }
   ],
   "source": [
    "aclass = generate('Gotchas')\n",
    "I = aclass()\n",
    "I.method()"
   ]
  },
  {
   "cell_type": "markdown",
   "metadata": {},
   "source": [
    "# Bài tập Excercise\n",
    "## A. Quiz\n",
    "**Câu 1:** Kể tên hai cách để mở rộng kiểu đối tượng built-in.\n",
    "\n",
    "**Câu 2:** Lớp kiểu mới new-style là gì?\n",
    "\n",
    "**Câu 3:** Lớp kiểu mới và lớp cổ điển khác nhau như thế nào?\n",
    "\n",
    "**Câu 4:** Phương thức bình thường và phương thức tĩnh static khác nhau như thế nào?\n",
    "\n",
    "**Câu 5:** Các công cụ như \\_\\_slots\\_\\_ và super có tác dụng ra sao trong mã của bạn?\n",
    "## B. Coding\n",
    "\n",
    "**Câu 6:** Thử nghiệm với lớp tập hợp  set mô tả trong “Các loại mở rộng bằng cách nhúng”. Chạy các lệnh để thực hiện các loại hoạt động sau:\n",
    "\n",
    "+ Tạo hai tập hợp các số nguyên và tính intersection và union của chúng bằng cách sử dụng toán tử & và |.\n",
    "\n",
    "+ Tạo một tập hợp từ một chuỗi và thử nghiệm index tập hợp của bạn. Cái mà các phương thức trong lớp được gọi là?\n",
    "\n",
    "+ Hãy thử lặp lại các items trong tập hợp chuỗi của bạn bằng vòng lặp for. Cái mà phương thức chạy lần này?\n",
    "\n",
    "+ Hãy thử tính toán intersection và union của tập hợp chuỗi của bạn và một chuỗi Python đơn giản. Nó có hoạt động không?\n",
    "\n",
    "+ Bây giờ, hãy mở rộng tập hợp của bạn bằng cách phân lớp để xử lý nhiều toán hạng tùy ý bằng cách sử dụng đối số * args. Tính toán các itersection và union của nhiều toán hạng với lớp con set của bạn. Làm thế nào bạn có thể giao nhau ba hoặc nhiều tập hợp, cho rằng & có chỉ có hai mặt?\n",
    "\n",
    "+ Bạn sẽ làm thế nào về việc mô phỏng các hoạt động danh sách khác trong lớp tập hợp? \n",
    "(Dấu:\\_\\_add\\_\\_ có thể bắt nối và \\_\\_getattr\\_\\_ có thể vượt qua hầu hết danh sách được đặt tên\n",
    "các cuộc gọi phương thức như append vào danh sách được bao bọc.)\n",
    "\n",
    "**Câu 7:** Phác thảo con vẹt. Xem xét cấu trúc nhúng đối tượng ở dưới\n",
    "\n",
    "Viết mã tập hợp các lớp Python để triển khai cấu trúc này với composition. Mã \n",
    "đối tượng Scene của bạn để xác định một phương thức action và nhúng các instance của Customer, Clerk và Parrot (mỗi lớp sẽ xác định một phương thức line\n",
    "in một thông điệp duy nhất). Các đối tượng nhúng có thể kế thừa từ một\n",
    "lớp cha xác định line và chỉ đơn giản là cung cấp văn bản thông báo hoặc tự định nghĩa line. \n",
    "\n",
    "<img align='center' src='images/Parrot_Sketch.jpg'>"
   ]
  },
  {
   "cell_type": "markdown",
   "metadata": {},
   "source": [
    "---\n",
    "# <span style= 'color:blue'> Đáp án </span>\n",
    "**1.** Bạn có thể nhúng một đối tượng built-in vào một lớp trình bao bọc  wrapper hoặc lớp con của kiểu built-in\n",
    "trực tiếp. Cách tiếp cận thứ hai có xu hướng đơn giản hơn, vì hầu hết các hành vi ban đầu được tự động kế thừa.\n",
    "\n",
    "**2.** Các lớp kiểu mới được viết bằng cách kế thừa từ lớp tích hợp đối tượng. Trong Python 3.X, tất cả các lớp đều tự động theo kiểu mới,trong 2.X các lớp kế thừa từ object này là kiểu mới và những lớp không có nó là classic.\n",
    "\n",
    "**3.** Các lớp kiểu mới tìm kiếm mô hình kim cương diamond pattern của cây đa kế thừa một cách khác nhau, về cơ bản chúng tìm kiếm theo chiều rộng đầu tiên (trên), thay vì tìm kiếm theo chiều sâu (lên) trong cây kim cương. \n",
    "\n",
    "Các lớp kiểu mới cũng thay đổi kết quả của kiểu được tích hợp sẵn cho\n",
    "phiên bản và lớp, không chạy các phương thức tìm nạp thuộc tính chung như \\_\\_get\n",
    "attr\\_\\_ cho các phương pháp hoạt động built-in và hỗ trợ một bộ công cụ bổ sung nâng cao\n",
    "bao gồm các property, descriptors, super và \\_\\_slots\\_\\_ danh sách thuộc tính của instance.\n",
    "\n",
    "**4.** Các phương thức bình thường (instance) nhận được một đối số tự (instance ngụ ý) nhưng\n",
    "phương thức tĩnh không. Phương thức tĩnh là các hàm đơn giản được lồng trong các đối tượng lớp.\n",
    "Để làm cho một phương thức tĩnh, nó phải được chạy qua một hàm built-in đặc biệt\n",
    "hoặc được trang trí bằng cú pháp decorator. \n",
    "\n",
    "Python 3.X cho phép các hàm số đơn giản trong một\n",
    "lớp sẽ được gọi thông qua lớp mà không có bước này, nhưng gọi qua các instance\n",
    "vẫn yêu cầu khai báo phương thức tĩnh.\n",
    "\n",
    "**5.** Bạn không nên tự động sử dụng các công cụ nâng cao mà không cẩn thận\n",
    "xem xét hàm ý của chúng. Các Slot, ví dụ, có thể phá vỡ mã; super có thể che giấu khi được sử dụng cho kế thừa đơn và trong đa kế thừa mang lại\n",
    "với nó phức tạp đáng kể cho một trường hợp sử dụng riêng biệt; và cả hai đều yêu cầu phổ quát\n",
    "triển khai để hữu ích nhất. \n",
    "\n",
    "Đánh giá các công cụ mới hoặc nâng cao là nhiệm vụ chính\n",
    "của bất kỳ kỹ sư nào."
   ]
  },
  {
   "cell_type": "code",
   "execution_count": 5,
   "metadata": {},
   "outputs": [
    {
     "data": {
      "text/plain": [
       "(Set:[3, 4], Set:[1, 2, 3, 4, 5])"
      ]
     },
     "execution_count": 5,
     "metadata": {},
     "output_type": "execute_result"
    }
   ],
   "source": [
    "# 6\n",
    "# File multiset.py\n",
    "from setwrapper import Set\n",
    "\n",
    "class MultiSet(Set):\n",
    "    def intersect(self,*others):\n",
    "        res=[]\n",
    "        for x in self:\n",
    "            for other in others:\n",
    "                if x not in other: break\n",
    "            else:\n",
    "                res.append(x)\n",
    "        return Set(res)\n",
    "    \n",
    "    def union(*args):\n",
    "        res=[]\n",
    "        for seq in args:\n",
    "            for x in seq:\n",
    "                if not x in res:\n",
    "                    res.append(x)\n",
    "        return Set(res)\n",
    "    \n",
    "x=MultiSet([1,2,3,4])\n",
    "y=MultiSet([3,4,5])\n",
    "z=MultiSet([0,1,2])\n",
    "x&y,x|y"
   ]
  },
  {
   "cell_type": "code",
   "execution_count": 6,
   "metadata": {},
   "outputs": [
    {
     "data": {
      "text/plain": [
       "Set:[]"
      ]
     },
     "execution_count": 6,
     "metadata": {},
     "output_type": "execute_result"
    }
   ],
   "source": [
    "x.intersect(y,z)"
   ]
  },
  {
   "cell_type": "code",
   "execution_count": 7,
   "metadata": {},
   "outputs": [
    {
     "data": {
      "text/plain": [
       "Set:[1, 2, 3, 4, 5, 0]"
      ]
     },
     "execution_count": 7,
     "metadata": {},
     "output_type": "execute_result"
    }
   ],
   "source": [
    "x.union(y,z)"
   ]
  },
  {
   "cell_type": "code",
   "execution_count": 9,
   "metadata": {},
   "outputs": [
    {
     "data": {
      "text/plain": [
       "Set:['s', 'p', 'a', 'm']"
      ]
     },
     "execution_count": 9,
     "metadata": {},
     "output_type": "execute_result"
    }
   ],
   "source": [
    "w=MultiSet('spam')\n",
    "w"
   ]
  },
  {
   "cell_type": "code",
   "execution_count": 12,
   "metadata": {},
   "outputs": [
    {
     "name": "stdout",
     "output_type": "stream",
     "text": [
      "customer: \"that's one ex-bird!\"\n",
      "clerk: \"no it isn't...\"\n",
      "parrot: None\n"
     ]
    }
   ],
   "source": [
    "# 7\n",
    "class Actor:\n",
    "    def line(self):\n",
    "        print(self.name+':',repr(self.says()))\n",
    "    \n",
    "class Customer(Actor):\n",
    "    name='customer'\n",
    "    def says(self):\n",
    "        return \"that's one ex-bird!\"\n",
    "    \n",
    "class Clerk(Actor):\n",
    "    name='clerk'\n",
    "    def says(self):\n",
    "        return \"no it isn't...\"\n",
    "    \n",
    "class Parrot(Actor):\n",
    "    name='parrot'\n",
    "    def says(self):\n",
    "        return None\n",
    "\n",
    "class Scece:\n",
    "    def __init__(self):\n",
    "        self.clerk=Clerk()          # Embed some instances\n",
    "        self.customer=Customer()    # Scece is a composite\n",
    "        self.subject=Parrot()\n",
    "    \n",
    "    def action(self):\n",
    "        self.customer.line()\n",
    "        self.clerk.line()\n",
    "        self.subject.line()\n",
    "        \n",
    "Scece().action()"
   ]
  },
  {
   "cell_type": "code",
   "execution_count": null,
   "metadata": {},
   "outputs": [],
   "source": []
  }
 ],
 "metadata": {
  "kernelspec": {
   "display_name": "Python 3",
   "language": "python",
   "name": "python3"
  },
  "language_info": {
   "codemirror_mode": {
    "name": "ipython",
    "version": 3
   },
   "file_extension": ".py",
   "mimetype": "text/x-python",
   "name": "python",
   "nbconvert_exporter": "python",
   "pygments_lexer": "ipython3",
   "version": "3.7.0"
  }
 },
 "nbformat": 4,
 "nbformat_minor": 2
}
