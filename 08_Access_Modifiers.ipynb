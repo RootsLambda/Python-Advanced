{
 "cells": [
  {
   "cell_type": "markdown",
   "metadata": {},
   "source": [
    "# 8.1 OOP and Inheritance: \"Is-a\" Relationships"
   ]
  },
  {
   "cell_type": "code",
   "execution_count": 1,
   "metadata": {},
   "outputs": [
    {
     "name": "stdout",
     "output_type": "stream",
     "text": [
      "<Employee: name=bob, salary=50000>\n",
      "bob makes pizza\n",
      "<Employee: name=bob, salary=60000.0>\n",
      "\n",
      "Employee does stuff\n",
      "Chef makes food\n",
      "Server interfaces with customer\n",
      "PizzaRobot makes pizza\n"
     ]
    }
   ],
   "source": [
    "# File employees.py\n",
    "from __future__ import print_function\n",
    "class Employee:\n",
    "    def __init__(self, name, salary=0):\n",
    "        self.name = name\n",
    "        self.salary = salary\n",
    "    def giveRaise(self, percent):\n",
    "        self.salary = self.salary + (self.salary * percent)\n",
    "    def work(self):\n",
    "        print(self.name, \"does stuff\")\n",
    "    def __repr__(self):\n",
    "        return \"<Employee: name=%s, salary=%s>\" % (self.name, self.salary)\n",
    "class Chef(Employee):\n",
    "    def __init__(self, name):\n",
    "        Employee.__init__(self, name, 50000)\n",
    "    def work(self):\n",
    "        print(self.name, \"makes food\")\n",
    "class Server(Employee):\n",
    "    def __init__(self, name):\n",
    "        Employee.__init__(self, name, 40000)\n",
    "    def work(self):\n",
    "        print(self.name, \"interfaces with customer\")\n",
    "class PizzaRobot(Chef):\n",
    "    def __init__(self, name):\n",
    "        Chef.__init__(self, name)\n",
    "    def work(self):\n",
    "        print(self.name, \"makes pizza\")\n",
    "if __name__ == \"__main__\":\n",
    "    bob = PizzaRobot('bob') # Make a robot named bob\n",
    "    print(bob) # Run inherited __repr__\n",
    "    bob.work() # Run type-specific action\n",
    "    bob.giveRaise(0.20) # Give bob a 20% raise\n",
    "    print(bob); print()\n",
    "    for klass in Employee, Chef, Server, PizzaRobot:\n",
    "        obj = klass(klass.__name__)\n",
    "        obj.work()"
   ]
  },
  {
   "cell_type": "markdown",
   "metadata": {},
   "source": [
    "## 8.2 OOP and Composition: \"Has a\" Relationships"
   ]
  },
  {
   "cell_type": "code",
   "execution_count": 2,
   "metadata": {},
   "outputs": [
    {
     "name": "stdout",
     "output_type": "stream",
     "text": [
      "Homer orders from <Employee: name=Pat, salary=40000>\n",
      "oven bakes\n",
      "Homer pays for item to <Employee: name=Pat, salary=40000>\n",
      "...\n",
      "Shaggy orders from <Employee: name=Pat, salary=40000>\n",
      "oven bakes\n",
      "Shaggy pays for item to <Employee: name=Pat, salary=40000>\n"
     ]
    }
   ],
   "source": [
    "# File pizzashop.py\n",
    "from __future__ import print_function\n",
    "from employees import PizzaRobot, Server\n",
    "class Customer:\n",
    "    def __init__(self, name):\n",
    "        self.name = name\n",
    "    def order(self, server):\n",
    "        print(self.name, \"orders from\", server)\n",
    "    def pay(self, server):\n",
    "        print(self.name, \"pays for item to\", server)\n",
    "class Oven:\n",
    "    def bake(self):\n",
    "        print(\"oven bakes\")\n",
    "class PizzaShop:\n",
    "    def __init__(self):\n",
    "        self.server = Server('Pat') # Embed other objects\n",
    "        self.chef = PizzaRobot('Bob') # A robot named bob\n",
    "        self.oven = Oven()\n",
    "    def order(self, name):\n",
    "        customer = Customer(name) # Activate other objects\n",
    "        customer.order(self.server) # Customer orders from server\n",
    "        self.oven.bake()\n",
    "        customer.pay(self.server)\n",
    "if __name__ == \"__main__\":\n",
    "    scene = PizzaShop() # Make the composite\n",
    "    scene.order('Homer') # Simulate Homer's order\n",
    "    print('...')\n",
    "    scene.order('Shaggy') # Simulate Shaggy's orde"
   ]
  },
  {
   "cell_type": "code",
   "execution_count": 3,
   "metadata": {},
   "outputs": [],
   "source": [
    "# File streams.py\n",
    "def processor(reader, converter, writer):\n",
    "    while True:\n",
    "        data = reader.read()\n",
    "        if not data: break\n",
    "        data = converter(data)\n",
    "        writer.write(data)\n",
    "class Processor:\n",
    "    def __init__(self, reader, writer):\n",
    "        self.reader = reader\n",
    "        self.writer = writer\n",
    "    def process(self):\n",
    "        while True:\n",
    "            data = self.reader.readline()\n",
    "            if not data: break\n",
    "            data = self.converter(data)\n",
    "            self.writer.write(data)\n",
    "    def converter(self, data):\n",
    "        assert False, 'converter must be defined'"
   ]
  },
  {
   "cell_type": "markdown",
   "metadata": {},
   "source": [
    "# 8.3 OOP and Delegation: \"Wrapper\" Objects"
   ]
  },
  {
   "cell_type": "code",
   "execution_count": 4,
   "metadata": {},
   "outputs": [],
   "source": [
    "# File trace.py\n",
    "class Wrapper:\n",
    "    def __init__(self, object):\n",
    "        self.wrapped = object # Save object\n",
    "    def __getattr__(self, attrname):\n",
    "        print('Trace: ' + attrname) # Trace fetch\n",
    "        return getattr(self.wrapped, attrname) # Delegate fetch"
   ]
  },
  {
   "cell_type": "code",
   "execution_count": 5,
   "metadata": {},
   "outputs": [
    {
     "name": "stdout",
     "output_type": "stream",
     "text": [
      "Trace: append\n"
     ]
    }
   ],
   "source": [
    "x = Wrapper([1, 2, 3])\n",
    "x.append(4)"
   ]
  },
  {
   "cell_type": "code",
   "execution_count": 6,
   "metadata": {},
   "outputs": [
    {
     "data": {
      "text/plain": [
       "[1, 2, 3, 4]"
      ]
     },
     "execution_count": 6,
     "metadata": {},
     "output_type": "execute_result"
    }
   ],
   "source": [
    "x.wrapped"
   ]
  },
  {
   "cell_type": "code",
   "execution_count": 7,
   "metadata": {},
   "outputs": [
    {
     "name": "stdout",
     "output_type": "stream",
     "text": [
      "Trace: keys\n"
     ]
    },
    {
     "data": {
      "text/plain": [
       "['a', 'b']"
      ]
     },
     "execution_count": 7,
     "metadata": {},
     "output_type": "execute_result"
    }
   ],
   "source": [
    "x=Wrapper({'a':1,'b':2})\n",
    "list(x.keys())"
   ]
  },
  {
   "cell_type": "markdown",
   "metadata": {},
   "source": [
    "# 8.4 Pseudoprivate Attributes"
   ]
  },
  {
   "cell_type": "code",
   "execution_count": 8,
   "metadata": {},
   "outputs": [],
   "source": [
    "class C1:       # Định nghĩa lớp bình thường\n",
    "    def meth1(self): self.X = 88 \n",
    "    def meth2(self): print(self.X)\n",
    "class C2:\n",
    "    def metha(self): self.X = 99 \n",
    "    def methb(self): print(self.X)"
   ]
  },
  {
   "cell_type": "code",
   "execution_count": 9,
   "metadata": {},
   "outputs": [],
   "source": [
    "class C1:\n",
    "    def meth1(self): self.__X = 88 \n",
    "    def meth2(self): print(self.__X) # Becomes _C1__X in I\n",
    "class C2:\n",
    "    def metha(self): self.__X = 99 \n",
    "    def methb(self): print(self.__X) # Becomes _C2__X in I\n",
    "class C3(C1, C2): pass"
   ]
  },
  {
   "cell_type": "code",
   "execution_count": 10,
   "metadata": {},
   "outputs": [],
   "source": [
    "I = C3()\n",
    "I.meth1(); I.metha()"
   ]
  },
  {
   "cell_type": "code",
   "execution_count": 11,
   "metadata": {},
   "outputs": [
    {
     "name": "stdout",
     "output_type": "stream",
     "text": [
      "{'_C1__X': 88, '_C2__X': 99}\n",
      "88\n",
      "99\n"
     ]
    }
   ],
   "source": [
    "print(I.__dict__)\n",
    "I.meth2(); I.methb()"
   ]
  },
  {
   "cell_type": "code",
   "execution_count": 12,
   "metadata": {},
   "outputs": [],
   "source": [
    "class Person:\n",
    "    name=\"Lambda\"  # Attribute class access\n",
    "    _age=21\n",
    "    __gender=\"Male\"\n",
    "    def __init__(self,name,age,gender):\n",
    "        self.name=name  # Attribute instance access\n",
    "        self._age=age\n",
    "        self.__gender=gender\n",
    "    def public(self):   # Method instance access\n",
    "        pass\n",
    "    def _protected(self):\n",
    "        pass\n",
    "    def __private(self):\n",
    "        pass"
   ]
  },
  {
   "cell_type": "markdown",
   "metadata": {},
   "source": [
    "# 8.5 Bound and Unbound methods"
   ]
  },
  {
   "cell_type": "code",
   "execution_count": 13,
   "metadata": {},
   "outputs": [
    {
     "name": "stdout",
     "output_type": "stream",
     "text": [
      "hello world\n"
     ]
    }
   ],
   "source": [
    "class Spam:\n",
    "    def doit(self, message):\n",
    "        print(message)\n",
    "object1 = Spam()\n",
    "object1.doit('hello world')"
   ]
  },
  {
   "cell_type": "code",
   "execution_count": 14,
   "metadata": {},
   "outputs": [
    {
     "data": {
      "text/plain": [
       "<bound method Spam.doit of <__main__.Spam object at 0x034059D0>>"
      ]
     },
     "execution_count": 14,
     "metadata": {},
     "output_type": "execute_result"
    }
   ],
   "source": [
    "object1 = Spam()\n",
    "object1.doit"
   ]
  },
  {
   "cell_type": "code",
   "execution_count": 15,
   "metadata": {},
   "outputs": [
    {
     "name": "stdout",
     "output_type": "stream",
     "text": [
      "hello world\n"
     ]
    }
   ],
   "source": [
    "object1 = Spam()\n",
    "x = object1.doit # Bound method object: instance+function\n",
    "x('hello world')  # instance.method"
   ]
  },
  {
   "cell_type": "code",
   "execution_count": 16,
   "metadata": {},
   "outputs": [
    {
     "name": "stdout",
     "output_type": "stream",
     "text": [
      "howdy\n"
     ]
    }
   ],
   "source": [
    "object1 = Spam()\n",
    "t = Spam.doit # Unbound method object (a function in 3.X: see ahead)\n",
    "t(object1, 'howdy') # class.method(instance,args,.....)"
   ]
  },
  {
   "cell_type": "code",
   "execution_count": 17,
   "metadata": {},
   "outputs": [
    {
     "name": "stdout",
     "output_type": "stream",
     "text": [
      "42\n"
     ]
    }
   ],
   "source": [
    "class Eggs:\n",
    "    def m1(self, n):\n",
    "        print(n)\n",
    "    def m2(self):\n",
    "        x = self.m1 # Another bound method object\n",
    "        x(42) # Looks like a simple function\n",
    "Eggs().m2() # Prints 42"
   ]
  },
  {
   "cell_type": "code",
   "execution_count": 18,
   "metadata": {},
   "outputs": [],
   "source": [
    "class Selfless:\n",
    "    def __init__(self, data):\n",
    "        self.data = data\n",
    "    def selfless(arg1, arg2): # A simple function in 3.X\n",
    "        return arg1 + arg2\n",
    "    def normal(self, arg1, arg2): # Instance expected when called\n",
    "        return self.data + arg1 + arg2"
   ]
  },
  {
   "cell_type": "code",
   "execution_count": 19,
   "metadata": {},
   "outputs": [
    {
     "data": {
      "text/plain": [
       "9"
      ]
     },
     "execution_count": 19,
     "metadata": {},
     "output_type": "execute_result"
    }
   ],
   "source": [
    "X = Selfless(2)\n",
    "X.normal(3, 4) # instance.method"
   ]
  },
  {
   "cell_type": "code",
   "execution_count": 20,
   "metadata": {},
   "outputs": [
    {
     "data": {
      "text/plain": [
       "9"
      ]
     },
     "execution_count": 20,
     "metadata": {},
     "output_type": "execute_result"
    }
   ],
   "source": [
    "Selfless.normal(X, 3, 4) # class.method"
   ]
  },
  {
   "cell_type": "code",
   "execution_count": 21,
   "metadata": {},
   "outputs": [
    {
     "data": {
      "text/plain": [
       "7"
      ]
     },
     "execution_count": 21,
     "metadata": {},
     "output_type": "execute_result"
    }
   ],
   "source": [
    "Selfless.selfless(3, 4)  # class.method"
   ]
  },
  {
   "cell_type": "markdown",
   "metadata": {},
   "source": [
    "Do trong phương thức selfless() không có đối số self nên sẽ gây lỗi.\n",
    "```python\n",
    "X.selfless(3, 4)  # instance.method\n",
    "```\n",
    "`Output: TypeError: selfless() takes 2 positional arguments but 3 were given`"
   ]
  },
  {
   "cell_type": "markdown",
   "metadata": {},
   "source": [
    "Không truyền đủ đối số nên cũng gây ra lỗi.\n",
    "```python\n",
    "Selfless.normal(3, 4) # class.method\n",
    "```\n",
    "`Output: TypeError: normal() missing 1 required positional argument: 'arg2'`"
   ]
  },
  {
   "cell_type": "code",
   "execution_count": 22,
   "metadata": {},
   "outputs": [],
   "source": [
    "class Number:\n",
    "    def __init__(self, base):\n",
    "        self.base = base\n",
    "    def double(self):\n",
    "        return self.base * 2\n",
    "    def triple(self):\n",
    "        return self.base * 3"
   ]
  },
  {
   "cell_type": "code",
   "execution_count": 23,
   "metadata": {},
   "outputs": [
    {
     "data": {
      "text/plain": [
       "4"
      ]
     },
     "execution_count": 23,
     "metadata": {},
     "output_type": "execute_result"
    }
   ],
   "source": [
    "x = Number(2) # Class instance objects\n",
    "y = Number(3) # State + methods\n",
    "z = Number(4)\n",
    "x.double()"
   ]
  },
  {
   "cell_type": "code",
   "execution_count": 24,
   "metadata": {},
   "outputs": [
    {
     "name": "stdout",
     "output_type": "stream",
     "text": [
      "4\n",
      "6\n",
      "9\n",
      "8\n"
     ]
    }
   ],
   "source": [
    "acts = [x.double, y.double, y.triple, z.double] # List of bound methods\n",
    "for act in acts: # Calls are deferred\n",
    "    print(act())"
   ]
  },
  {
   "cell_type": "code",
   "execution_count": 25,
   "metadata": {},
   "outputs": [
    {
     "data": {
      "text/plain": [
       "(<__main__.Number at 0x33fa7d0>, <function __main__.Number.double(self)>)"
      ]
     },
     "execution_count": 25,
     "metadata": {},
     "output_type": "execute_result"
    }
   ],
   "source": [
    "bound = x.double\n",
    "bound.__self__, bound.__func__"
   ]
  },
  {
   "cell_type": "code",
   "execution_count": 26,
   "metadata": {},
   "outputs": [
    {
     "data": {
      "text/plain": [
       "2"
      ]
     },
     "execution_count": 26,
     "metadata": {},
     "output_type": "execute_result"
    }
   ],
   "source": [
    "bound.__self__.base # self of base: x.base"
   ]
  },
  {
   "cell_type": "code",
   "execution_count": 27,
   "metadata": {},
   "outputs": [
    {
     "data": {
      "text/plain": [
       "4"
      ]
     },
     "execution_count": 27,
     "metadata": {},
     "output_type": "execute_result"
    }
   ],
   "source": [
    "bound() # return function"
   ]
  },
  {
   "cell_type": "code",
   "execution_count": 28,
   "metadata": {},
   "outputs": [],
   "source": [
    "def square(arg):       # function normal\n",
    "    return arg ** 2 "
   ]
  },
  {
   "cell_type": "code",
   "execution_count": 29,
   "metadata": {},
   "outputs": [],
   "source": [
    "class Sum:\n",
    "    def __init__(self, val): # Callable instances\n",
    "        self.val = val\n",
    "    def __call__(self, arg):\n",
    "        return self.val + arg"
   ]
  },
  {
   "cell_type": "code",
   "execution_count": 30,
   "metadata": {},
   "outputs": [],
   "source": [
    "class Product:\n",
    "    def __init__(self, val): # Bound methods\n",
    "        self.val = val\n",
    "    def method(self, arg):\n",
    "        return self.val * arg"
   ]
  },
  {
   "cell_type": "code",
   "execution_count": 31,
   "metadata": {},
   "outputs": [
    {
     "name": "stdout",
     "output_type": "stream",
     "text": [
      "25\n",
      "7\n",
      "15\n"
     ]
    }
   ],
   "source": [
    "sobject = Sum(2)\n",
    "pobject = Product(3)\n",
    "actions = [square, sobject, pobject.method]\n",
    "for act in actions: # All three called same way\n",
    "    print(act(5)) # Call any one-ar"
   ]
  },
  {
   "cell_type": "code",
   "execution_count": 32,
   "metadata": {},
   "outputs": [
    {
     "data": {
      "text/plain": [
       "15"
      ]
     },
     "execution_count": 32,
     "metadata": {},
     "output_type": "execute_result"
    }
   ],
   "source": [
    "actions[-1](5)"
   ]
  },
  {
   "cell_type": "code",
   "execution_count": 33,
   "metadata": {},
   "outputs": [
    {
     "data": {
      "text/plain": [
       "[25, 7, 15]"
      ]
     },
     "execution_count": 33,
     "metadata": {},
     "output_type": "execute_result"
    }
   ],
   "source": [
    "[act(5) for act in actions]"
   ]
  },
  {
   "cell_type": "code",
   "execution_count": 34,
   "metadata": {},
   "outputs": [
    {
     "data": {
      "text/plain": [
       "[25, 7, 15]"
      ]
     },
     "execution_count": 34,
     "metadata": {},
     "output_type": "execute_result"
    }
   ],
   "source": [
    " list(map(lambda act: act(5), actions))"
   ]
  },
  {
   "cell_type": "code",
   "execution_count": 35,
   "metadata": {},
   "outputs": [],
   "source": [
    "class Negate:\n",
    "    def __init__(self, val): # Classes are callables too\n",
    "        self.val = -val # But called for object, not work\n",
    "    def __repr__(self): # Instance print format\n",
    "        return str(self.val)"
   ]
  },
  {
   "cell_type": "code",
   "execution_count": 36,
   "metadata": {},
   "outputs": [
    {
     "name": "stdout",
     "output_type": "stream",
     "text": [
      "25\n",
      "7\n",
      "15\n",
      "-5\n"
     ]
    }
   ],
   "source": [
    "actions = [square, sobject, pobject.method, Negate] # Call a class too\n",
    "for act in actions:\n",
    "    print(act(5))"
   ]
  },
  {
   "cell_type": "code",
   "execution_count": 37,
   "metadata": {},
   "outputs": [
    {
     "data": {
      "text/plain": [
       "[25, 7, 15, -5]"
      ]
     },
     "execution_count": 37,
     "metadata": {},
     "output_type": "execute_result"
    }
   ],
   "source": [
    "[act(5) for act in actions] # Runs __repr__ not __str__"
   ]
  },
  {
   "cell_type": "code",
   "execution_count": 38,
   "metadata": {},
   "outputs": [
    {
     "data": {
      "text/plain": [
       "{25: <function __main__.square(arg)>,\n",
       " 7: <__main__.Sum at 0x341c1f0>,\n",
       " 15: <bound method Product.method of <__main__.Product object at 0x0341C250>>,\n",
       " -5: __main__.Negate}"
      ]
     },
     "execution_count": 38,
     "metadata": {},
     "output_type": "execute_result"
    }
   ],
   "source": [
    "table = {act(5): act for act in actions}\n",
    "table"
   ]
  },
  {
   "cell_type": "markdown",
   "metadata": {},
   "source": [
    "# 8.6 Object Factory"
   ]
  },
  {
   "cell_type": "code",
   "execution_count": 39,
   "metadata": {},
   "outputs": [],
   "source": [
    "# File factory.py\n",
    "def factory(aClass, *pargs, **kargs): # Varargs tuple, dict\n",
    "    return aClass(*pargs, **kargs) # Call aClass\n",
    "class Spam:\n",
    "    def doit(self, message):\n",
    "        print(message)\n",
    "class Person:\n",
    "    def __init__(self, name, job=None):\n",
    "        self.name = name\n",
    "        self.job = job"
   ]
  },
  {
   "cell_type": "code",
   "execution_count": 40,
   "metadata": {},
   "outputs": [],
   "source": [
    "object1 = factory(Spam) # Make a Spam object\n",
    "object2 = factory(Person, \"Arthur\", \"King\") # Make a Person object\n",
    "object3 = factory(Person, name='Brian')"
   ]
  },
  {
   "cell_type": "code",
   "execution_count": 41,
   "metadata": {},
   "outputs": [
    {
     "name": "stdout",
     "output_type": "stream",
     "text": [
      "99\n"
     ]
    }
   ],
   "source": [
    "object1.doit(99)"
   ]
  },
  {
   "cell_type": "code",
   "execution_count": 42,
   "metadata": {},
   "outputs": [
    {
     "data": {
      "text/plain": [
       "('Arthur', 'King')"
      ]
     },
     "execution_count": 42,
     "metadata": {},
     "output_type": "execute_result"
    }
   ],
   "source": [
    "object2.name, object2.job"
   ]
  },
  {
   "cell_type": "code",
   "execution_count": 43,
   "metadata": {},
   "outputs": [
    {
     "data": {
      "text/plain": [
       "('Brian', None)"
      ]
     },
     "execution_count": 43,
     "metadata": {},
     "output_type": "execute_result"
    }
   ],
   "source": [
    "object3.name, object3.job"
   ]
  },
  {
   "cell_type": "markdown",
   "metadata": {},
   "source": [
    "# 8.7 Multiple Inheritance"
   ]
  },
  {
   "cell_type": "code",
   "execution_count": 44,
   "metadata": {},
   "outputs": [
    {
     "name": "stdout",
     "output_type": "stream",
     "text": [
      "<__main__.Spam object at 0x0341CFB0>\n"
     ]
    }
   ],
   "source": [
    "class Spam:\n",
    "    def __init__(self): \n",
    "        self.data1 = \"food\"\n",
    "X = Spam()\n",
    "print(X)"
   ]
  },
  {
   "cell_type": "code",
   "execution_count": 45,
   "metadata": {},
   "outputs": [
    {
     "name": "stdout",
     "output_type": "stream",
     "text": [
      "<Instance of Sub, address 54691440:\n",
      "\tdata1=spam\n",
      "\tdata2=eggs\n",
      "\tdata3=42\n",
      ">\n"
     ]
    }
   ],
   "source": [
    "# File listinstance.py\n",
    "class ListInstance:\n",
    "    def __attrnames(self):\n",
    "        result = ''\n",
    "        for attr in sorted(self.__dict__):\n",
    "            result += '\\t%s=%s\\n' % (attr, self.__dict__[attr])\n",
    "        return result\n",
    "    def __str__(self):\n",
    "        return '<Instance of %s, address %s:\\n%s>' % (\n",
    "                    self.__class__.__name__, # My class's name\n",
    "                    id(self), # My address\n",
    "                    self.__attrnames()) # name=value list\n",
    "if __name__ == '__main__':\n",
    "    import testmixin\n",
    "    testmixin.tester(ListInstance)"
   ]
  },
  {
   "cell_type": "code",
   "execution_count": 46,
   "metadata": {},
   "outputs": [
    {
     "name": "stdout",
     "output_type": "stream",
     "text": [
      "<Instance of Sub, address 54692976:\n",
      "\tdata1=spam\n",
      "\tdata2=eggs\n",
      "\tdata3=42\n",
      ">\n"
     ]
    }
   ],
   "source": [
    "# File textmixin0.py\n",
    "class Super:\n",
    "    def __init__(self): # Superclass __init__\n",
    "        self.data1 = 'spam' # Create instance attrs\n",
    "    def ham(self):\n",
    "        pass\n",
    "class Sub(Super, ListInstance): # Mix in ham and a __str__\n",
    "    def __init__(self): # Listers have access to self\n",
    "        Super.__init__(self)\n",
    "        self.data2 = 'eggs' # More instance attrs\n",
    "        self.data3 = 42\n",
    "    def spam(self): # Define another method here\n",
    "        pass\n",
    "if __name__ == '__main__':\n",
    "    X = Sub()\n",
    "    print(X) # __str__"
   ]
  },
  {
   "cell_type": "code",
   "execution_count": 47,
   "metadata": {},
   "outputs": [
    {
     "name": "stdout",
     "output_type": "stream",
     "text": [
      "<Instance of Sub, address 54753104:\n",
      "\tdata1=spam\n",
      "\tdata2=eggs\n",
      "\tdata3=42\n",
      ">\n",
      "--------------------------------------------------------------------------------\n"
     ]
    }
   ],
   "source": [
    "# File testmixin.py\n",
    "import importlib\n",
    "def tester(listerclass, sept=False):\n",
    "    class Super:\n",
    "        def __init__(self): # Superclass __init__\n",
    "            self.data1 = 'spam' # Create instance attrs\n",
    "        def ham(self):\n",
    "            pass\n",
    "    class Sub(Super, listerclass): # Mix in ham and a __str__\n",
    "        def __init__(self): # Listers have access to self\n",
    "            Super.__init__(self)\n",
    "            self.data2 = 'eggs' # More instance attrs\n",
    "            self.data3 = 42\n",
    "        def spam(self): # Define another method here\n",
    "            pass\n",
    "    instance = Sub() # Return instance with lister's __str__\n",
    "    print(instance) # Run mixed-in __str__ (or via str(x))\n",
    "    if sept: print('-' * 80)\n",
    "        \n",
    "def testByNames(modname, classname, sept=False):\n",
    "    modobject = importlib.import_module(modname) # Import by namestring\n",
    "    listerclass = getattr(modobject, classname) # Fetch attr by namestring\n",
    "    tester(listerclass, sept)\n",
    "if __name__ == '__main__':\n",
    "    testByNames('listinstance', 'ListInstance', True) # Test all three here\n",
    "#     testByNames('listinherited', 'ListInherited', True)\n",
    "#     testByNames('listtree', 'ListTree', False)"
   ]
  },
  {
   "cell_type": "code",
   "execution_count": 48,
   "metadata": {},
   "outputs": [
    {
     "name": "stdout",
     "output_type": "stream",
     "text": [
      "<Instance of C, address 54643152:\n",
      "\ta=1\n",
      "\tb=2\n",
      "\tc=3\n",
      ">\n"
     ]
    }
   ],
   "source": [
    "import listinstance\n",
    "class C(listinstance.ListInstance): pass\n",
    "x = C()\n",
    "x.a, x.b, x.c = 1, 2, 3\n",
    "print(x)"
   ]
  },
  {
   "cell_type": "code",
   "execution_count": 49,
   "metadata": {},
   "outputs": [
    {
     "name": "stdout",
     "output_type": "stream",
     "text": [
      "<Instance of Sub, address 54752016:\n",
      "\t_ListInherited__attrnames=<bound method ListInherited.__attrnames of <testmixin.tester.<locals>.Sub object at 0x03437310>>\n",
      "\t__class__\n",
      "\t__delattr__\n",
      "\t__dict__\n",
      "\t__dir__\n",
      "\t__doc__\n",
      "\t__eq__\n",
      "\t__format__\n",
      "\t__ge__\n",
      "\t__getattribute__\n",
      "\t__gt__\n",
      "\t__hash__\n",
      "\t__init__\n",
      "\t__init_subclass__\n",
      "\t__le__\n",
      "\t__lt__\n",
      "\t__module__\n",
      "\t__ne__\n",
      "\t__new__\n",
      "\t__reduce__\n",
      "\t__reduce_ex__\n",
      "\t__repr__\n",
      "\t__setattr__\n",
      "\t__sizeof__\n",
      "\t__str__\n",
      "\t__subclasshook__\n",
      "\t__weakref__\n",
      "\tdata1=spam\n",
      "\tdata2=eggs\n",
      "\tdata3=42\n",
      "\tham=<bound method tester.<locals>.Super.ham of <testmixin.tester.<locals>.Sub object at 0x03437310>>\n",
      "\tspam=<bound method tester.<locals>.Sub.spam of <testmixin.tester.<locals>.Sub object at 0x03437310>>\n",
      ">\n"
     ]
    }
   ],
   "source": [
    "# File listinherited.py\n",
    "class ListInherited:\n",
    "    def __attrnames(self):\n",
    "        result = ''\n",
    "        for attr in dir(self):  # Instance dir()\n",
    "            if attr[:2] == '__' and attr[-2:] == '__':  # Skip internals\n",
    "                result += '\\t%s\\n' % attr\n",
    "            else:\n",
    "                result += '\\t%s=%s\\n' % (attr, getattr(self, attr))\n",
    "        return result\n",
    "\n",
    "    def __str__(self):\n",
    "        return '<Instance of %s, address %s:\\n%s>' % (\n",
    "            self.__class__.__name__,  # My class's name\n",
    "            id(self),  # My address\n",
    "            self.__attrnames())  # name=value list\n",
    "\n",
    "if __name__ == '__main__':\n",
    "    import testmixin\n",
    "    testmixin.tester(ListInherited)"
   ]
  },
  {
   "cell_type": "code",
   "execution_count": 50,
   "metadata": {},
   "outputs": [
    {
     "name": "stdout",
     "output_type": "stream",
     "text": [
      "<Instance of Sub, address 54768976:\n",
      " _ListTree__visited={}\n",
      " data1=spam\n",
      " data2=eggs\n",
      " data3=42\n",
      "\n",
      "....<Class Sub, address 54804528:\n",
      "     __doc__\n",
      "     __init__\n",
      "     __module__\n",
      "     spam=<function tester.<locals>.Sub.spam at 0x0342ADF8>\n",
      "\n",
      "........<Class Super, address 54721816:\n",
      "         __dict__\n",
      "         __doc__\n",
      "         __init__\n",
      "         __module__\n",
      "         __weakref__\n",
      "         ham=<function tester.<locals>.Super.ham at 0x0342AE88>\n",
      "\n",
      "............<Class object, address 1679650024:\n",
      "             __class__\n",
      "             __delattr__\n",
      "             __dir__\n",
      "             __doc__\n",
      "             __eq__\n",
      "             __format__\n",
      "             __ge__\n",
      "             __getattribute__\n",
      "             __gt__\n",
      "             __hash__\n",
      "             __init__\n",
      "             __init_subclass__\n",
      "             __le__\n",
      "             __lt__\n",
      "             __ne__\n",
      "             __new__\n",
      "             __reduce__\n",
      "             __reduce_ex__\n",
      "             __repr__\n",
      "             __setattr__\n",
      "             __sizeof__\n",
      "             __str__\n",
      "             __subclasshook__\n",
      "............>\n",
      "........>\n",
      "\n",
      "........<Class ListTree, address 54721344:\n",
      "         _ListTree__attrnames=<function ListTree.__attrnames at 0x0342AC48>\n",
      "         _ListTree__listclass=<function ListTree.__listclass at 0x0342AC00>\n",
      "         __dict__\n",
      "         __doc__\n",
      "         __module__\n",
      "         __str__\n",
      "         __weakref__\n",
      "\n",
      "............<Class object:, address 1679650024: (see above)>\n",
      "........>\n",
      "....>\n",
      ">\n"
     ]
    }
   ],
   "source": [
    "# File listtree.py\n",
    "class ListTree:\n",
    "    def __attrnames(self, obj, indent):\n",
    "        spaces = ' ' * (indent + 1)\n",
    "\n",
    "        result = ''\n",
    "        for attr in sorted(obj.__dict__):\n",
    "            if attr.startswith('__') and attr.endswith('__'):\n",
    "                result += spaces + '{0}\\n'.format(attr)\n",
    "            else:\n",
    "                result += spaces + '{0}={1}\\n'.format(attr, getattr(obj, attr))\n",
    "        return result\n",
    "\n",
    "    def __listclass(self, aClass, indent):\n",
    "        dots = '.' * indent\n",
    "\n",
    "        if aClass in self.__visited:\n",
    "            return '\\n{0}<Class {1}:, address {2}: (see above)>\\n'.format(\n",
    "            dots,\n",
    "            aClass.__name__,\n",
    "            id(aClass))\n",
    "        else:\n",
    "            self.__visited[aClass] = True\n",
    "            here = self.__attrnames(aClass, indent)\n",
    "            above = ''\n",
    "            for super in aClass.__bases__:\n",
    "                above += self.__listclass(super, indent + 4)\n",
    "            return '\\n{0}<Class {1}, address {2}:\\n{3}{4}{5}>\\n'.format(\n",
    "                    dots,\n",
    "                    aClass.__name__,\n",
    "                    id(aClass),\n",
    "                    here, above,\n",
    "                    dots)\n",
    "\n",
    "    def __str__(self):\n",
    "        self.__visited = {}\n",
    "\n",
    "        here = self.__attrnames(self, 0)\n",
    "        above = self.__listclass(self.__class__, 4)\n",
    "        return '<Instance of {0}, address {1}:\\n{2}{3}>'.format(\n",
    "            self.__class__.__name__,\n",
    "            id(self),\n",
    "            here, above)\n",
    "if __name__ == '__main__':\n",
    "    import testmixin\n",
    "    testmixin.tester(ListTree)"
   ]
  },
  {
   "cell_type": "code",
   "execution_count": null,
   "metadata": {},
   "outputs": [],
   "source": []
  }
 ],
 "metadata": {
  "kernelspec": {
   "display_name": "Python 3",
   "language": "python",
   "name": "python3"
  },
  "language_info": {
   "codemirror_mode": {
    "name": "ipython",
    "version": 3
   },
   "file_extension": ".py",
   "mimetype": "text/x-python",
   "name": "python",
   "nbconvert_exporter": "python",
   "pygments_lexer": "ipython3",
   "version": "3.7.0"
  }
 },
 "nbformat": 4,
 "nbformat_minor": 2
}
