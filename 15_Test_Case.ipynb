{
 "cells": [
  {
   "cell_type": "markdown",
   "metadata": {},
   "source": [
    "# 1. Giới thiệu về test code trong python\n",
    "\n",
    "Khi bạn làm một project hay dự án nào đó thì cần phải nên kiểm tra mã đó viết đúng yêu cầu hay chưa vì thế chúng ta cần một testcase để kiểm tra những trường hợp đó đúng chưa, trong bài này chúng ta sẽ biết cách testcase vượt qua như thế nào cũng như thất bại trông ra sao."
   ]
  },
  {
   "cell_type": "markdown",
   "metadata": {},
   "source": [
    "## Một testcase đơn giản\n",
    "\n",
    "Example 1: Kiểm tra hàm cộng hai số a và b"
   ]
  },
  {
   "cell_type": "code",
   "execution_count": 1,
   "metadata": {},
   "outputs": [
    {
     "name": "stdout",
     "output_type": "stream",
     "text": [
      "5\n"
     ]
    }
   ],
   "source": [
    "def add(a,b):\n",
    "    c=a+b\n",
    "    return c\n",
    "if __name__ == \"__main__\":\n",
    "    print(add(5,0))"
   ]
  },
  {
   "cell_type": "code",
   "execution_count": 2,
   "metadata": {},
   "outputs": [
    {
     "name": "stderr",
     "output_type": "stream",
     "text": [
      ".\n",
      "----------------------------------------------------------------------\n",
      "Ran 1 test in 0.002s\n",
      "\n",
      "OK\n"
     ]
    }
   ],
   "source": [
    "import unittest\n",
    "class TestCase_add(unittest.TestCase):\n",
    "    def test_add(self):\n",
    "        args = (105, 20)\n",
    "        self.assertEqual(add(*args),125 )\n",
    "        args = (0, 0)\n",
    "        self.assertEqual(add(*args), 0)\n",
    "        args = (-4, -5)\n",
    "        self.assertEqual(add(*args), -9)\n",
    "if __name__ == '__main__':\n",
    "    unittest.main(argv=['first-arg-is-ignored'], exit=False)"
   ]
  },
  {
   "cell_type": "markdown",
   "metadata": {},
   "source": [
    "# 2. Một số phương thức hay dùng trong thư viện unittest\n",
    "\n",
    "\n",
    "| Phương thức              | Ý nghĩa                                   |\n",
    "| :------------------      | ------------------------------------------|\n",
    "| **assertEqual(a, b)**    | Kiểm tra a có bằng b                      |\n",
    "| **assertNotEqual(a, b)** | Kiểm tra a có khác b                      |\n",
    "| **assertIn(a, b)**       | Kiểm tra a có nằm trong b                 |\n",
    "| **assertIs(a, b)**       | Kiểm tra a có phải là b                   |\n",
    "| **assertIsNone(a)**      | Kiểm tra a có phải là None                |\n",
    "| **assertTupleEqual(a,b)**| Kiểm tra a và b có phải là kiểu Tuple     |\n",
    "| **assertListEqual(a, b)**| Kiểm tra a và b có phải là kiểu list      |\n",
    "| **assertDictEqual(a, b)**| Kiểm tra a và b có phải là kiểu dictionary|\n",
    "| **assertSetEqual(a, b)** | Kiểm tra a và b có phải là kiểu set       |"
   ]
  },
  {
   "cell_type": "markdown",
   "metadata": {},
   "source": [
    "Example 2: Kiểm tra định dạng tên"
   ]
  },
  {
   "cell_type": "code",
   "execution_count": 3,
   "metadata": {},
   "outputs": [],
   "source": [
    "def format_name(first, last):\n",
    "    full_name = first + ' ' + last\n",
    "    return full_name.title()"
   ]
  },
  {
   "cell_type": "markdown",
   "metadata": {},
   "source": [
    "**Testcase trường hợp sai**\n",
    "\n",
    "Nhập thiếu chữ c trong chữ cracker thành craker khi đó testcase sẽ hiện thị ra lỗi."
   ]
  },
  {
   "cell_type": "code",
   "execution_count": 4,
   "metadata": {},
   "outputs": [
    {
     "name": "stderr",
     "output_type": "stream",
     "text": [
      ".F\n",
      "======================================================================\n",
      "FAIL: test_first_last_name (__main__.TestCase_fullname)\n",
      "----------------------------------------------------------------------\n",
      "Traceback (most recent call last):\n",
      "  File \"<ipython-input-4-64a1db774fe3>\", line 5, in test_first_last_name\n",
      "    self.assertEqual(fm_name, 'Cracker Lambda')\n",
      "AssertionError: 'Craker Lambda' != 'Cracker Lambda'\n",
      "- Craker Lambda\n",
      "+ Cracker Lambda\n",
      "?    +\n",
      "\n",
      "\n",
      "----------------------------------------------------------------------\n",
      "Ran 2 tests in 0.010s\n",
      "\n",
      "FAILED (failures=1)\n"
     ]
    }
   ],
   "source": [
    "import unittest\n",
    "class TestCase_fullname(unittest.TestCase):\n",
    "    def test_first_last_name(self):\n",
    "        fm_name = format_name('craker', 'lambda')\n",
    "        self.assertEqual(fm_name, 'Cracker Lambda')\n",
    "if __name__ == '__main__':\n",
    "    unittest.main(argv=['first-arg-is-ignored'], exit=False)"
   ]
  },
  {
   "cell_type": "markdown",
   "metadata": {},
   "source": [
    "Chúng ta hãy sửa lại cho đúng."
   ]
  },
  {
   "cell_type": "code",
   "execution_count": 5,
   "metadata": {},
   "outputs": [
    {
     "name": "stderr",
     "output_type": "stream",
     "text": [
      "..\n",
      "----------------------------------------------------------------------\n",
      "Ran 2 tests in 0.003s\n",
      "\n",
      "OK\n"
     ]
    }
   ],
   "source": [
    "import unittest\n",
    "class TestCase_fullname(unittest.TestCase):\n",
    "    def test_first_last_name(self):\n",
    "        fm_name = format_name('cracker', 'lambda')\n",
    "        self.assertEqual(fm_name, 'Cracker Lambda')\n",
    "if __name__ == '__main__':\n",
    "    unittest.main(argv=['first-arg-is-ignored'], exit=False)"
   ]
  },
  {
   "cell_type": "markdown",
   "metadata": {},
   "source": [
    "Example 3: Sử dụng testcase để kiểm tra lớp."
   ]
  },
  {
   "cell_type": "code",
   "execution_count": 6,
   "metadata": {},
   "outputs": [],
   "source": [
    "class AnonymousSurvey():\n",
    "    def __init__(self, question):\n",
    "        self.question = question\n",
    "        self.responses = []\n",
    "    def show_question(self):\n",
    "        print(question)\n",
    "    def store_response(self, new_response):\n",
    "        self.responses.append(new_response)\n",
    "    def show_results(self):\n",
    "        print(\"Survey results: \")\n",
    "        for response in self.responses:\n",
    "            print('-' + response)"
   ]
  },
  {
   "cell_type": "code",
   "execution_count": 7,
   "metadata": {},
   "outputs": [
    {
     "name": "stdout",
     "output_type": "stream",
     "text": [
      "What language did you first learn to speak?\n",
      "Enter 'q' at any time to quit.\n",
      "\n",
      "Language: english\n",
      "Language: q\n",
      "\n",
      "Thank you to everyone who participated in the survey!\n",
      "Survey results: \n",
      "-english\n"
     ]
    }
   ],
   "source": [
    "question = \"What language did you first learn to speak?\"\n",
    "my_survey = AnonymousSurvey(question)\n",
    "\n",
    "my_survey.show_question()\n",
    "print(\"Enter 'q' at any time to quit.\\n\")\n",
    "\n",
    "while True:\n",
    "    response = input(\"Language: \")\n",
    "    if response == 'q':\n",
    "        break\n",
    "    my_survey.store_response(response)\n",
    "print(\"\\nThank you to everyone who participated in the survey!\")\n",
    "my_survey.show_results()"
   ]
  },
  {
   "cell_type": "code",
   "execution_count": 8,
   "metadata": {},
   "outputs": [
    {
     "name": "stderr",
     "output_type": "stream",
     "text": [
      "F..\n",
      "======================================================================\n",
      "FAIL: test_store_single_response (__main__.TestAnonmyousSurvey)\n",
      "----------------------------------------------------------------------\n",
      "Traceback (most recent call last):\n",
      "  File \"<ipython-input-8-8f004dc4eda5>\", line 7, in test_store_single_response\n",
      "    self.assertIn(\"english\", my_survey.responses)\n",
      "AssertionError: 'english' not found in ['English']\n",
      "\n",
      "----------------------------------------------------------------------\n",
      "Ran 3 tests in 0.012s\n",
      "\n",
      "FAILED (failures=1)\n"
     ]
    }
   ],
   "source": [
    "import unittest\n",
    "class TestAnonmyousSurvey(unittest.TestCase):\n",
    "    def test_store_single_response(self):\n",
    "        question = \"What language did you first learn to speak?\"\n",
    "        my_survey = AnonymousSurvey(question)\n",
    "        my_survey.store_response('English')\n",
    "        self.assertIn(\"english\", my_survey.responses)\n",
    "if __name__ == '__main__':\n",
    "    unittest.main(argv=['first-arg-is-ignored'], exit=False)"
   ]
  },
  {
   "cell_type": "code",
   "execution_count": 9,
   "metadata": {},
   "outputs": [
    {
     "name": "stderr",
     "output_type": "stream",
     "text": [
      "...\n",
      "----------------------------------------------------------------------\n",
      "Ran 3 tests in 0.012s\n",
      "\n",
      "OK\n"
     ]
    }
   ],
   "source": [
    "import unittest\n",
    "class TestAnonmyousSurvey(unittest.TestCase):\n",
    "    def test_store_single_response(self):\n",
    "        question = \"What language did you first learn to speak?\"\n",
    "        my_survey = AnonymousSurvey(question)\n",
    "        my_survey.store_response('English')\n",
    "        self.assertIn(\"English\", my_survey.responses)\n",
    "if __name__ == '__main__':\n",
    "    unittest.main(argv=['first-arg-is-ignored'], exit=False)"
   ]
  },
  {
   "cell_type": "markdown",
   "metadata": {},
   "source": [
    "# 3. Bài tập Excercise"
   ]
  },
  {
   "cell_type": "markdown",
   "metadata": {},
   "source": [
    "## B. Coding"
   ]
  },
  {
   "cell_type": "markdown",
   "metadata": {},
   "source": [
    "**Câu 6:** Viết một testcase kiểm tra class Caculate gồm 3 hàm add, subtract, multi, divide.\n",
    "\n",
    "**Câu 7:** Viết một Testcase kiểm tra giá trị đánh giá và giá trị kiểm tra có bằng nhau, không bằng nhau, là giá trị None, có là tập con của nhau.\n",
    "\n",
    "**Câu 8:** Viết một Testcase kiểm tra giá trị đánh giá và giá trị kiểm tra các list, tuple, dictionary, set có bằng nhau hay không.\n",
    "\n",
    "**Câu 9:** Viết TestCase sử dụng hàm assertAlmostEqual() kiểm tra 2 số có bằng nhau tới chữ số thập phân thứ 5.\n",
    "\n",
    "**Câu 10:** Viết TestCase kiểm tra hàm so_uoc() đúng chưa?"
   ]
  },
  {
   "cell_type": "markdown",
   "metadata": {},
   "source": [
    "---\n",
    "# <span style= 'color:blue'> Đáp án </span> "
   ]
  },
  {
   "cell_type": "code",
   "execution_count": 10,
   "metadata": {},
   "outputs": [],
   "source": [
    "# 6\n",
    "class Caculate:\n",
    "    def __init__(self,operator,a,b):\n",
    "        self.operator=operator\n",
    "        self.a=a\n",
    "        self.b=b\n",
    "        \n",
    "    def add(self):\n",
    "        return self.a+self.b\n",
    "    \n",
    "    def subtract(self):\n",
    "        return self.a-self.b\n",
    "    \n",
    "    def multi(self):\n",
    "        return (self.a)*(self.b)\n",
    "    \n",
    "    def divide(self):\n",
    "        if self.b==0:\n",
    "            return None\n",
    "        else:\n",
    "            return self.a/self.b\n",
    "        \n",
    "    def evaluate(self):\n",
    "        if self.operator==\"+\":\n",
    "            return self.add()\n",
    "        elif self.operator==\"-\":\n",
    "            return self.subtract()\n",
    "        elif self.operator==\"*\":\n",
    "            return self.multi()\n",
    "        elif self.operator==\"/\":\n",
    "            return self.divide()\n",
    "        else:\n",
    "            raise Exception(f\"{self.operator} not known\")       "
   ]
  },
  {
   "cell_type": "code",
   "execution_count": 11,
   "metadata": {},
   "outputs": [
    {
     "name": "stderr",
     "output_type": "stream",
     "text": [
      ".......\n",
      "----------------------------------------------------------------------\n",
      "Ran 7 tests in 0.021s\n",
      "\n",
      "OK\n"
     ]
    }
   ],
   "source": [
    "import unittest\n",
    "class CaculateTest(unittest.TestCase):\n",
    "    \n",
    "    def test_add(self):\n",
    "        self.assertEqual(Caculate(\"+\",5,4).evaluate(),9)\n",
    "        self.assertEqual(Caculate(\"+\",105,54).evaluate(),159)\n",
    "        \n",
    "    def test_subtract(self):\n",
    "        self.assertEqual(Caculate(\"-\",5,4).evaluate(),1)\n",
    "        self.assertEqual(Caculate(\"-\",105,54).evaluate(),51)\n",
    "        \n",
    "    def test_multi(self):\n",
    "        self.assertEqual(Caculate(\"*\",20,4).evaluate(),80)\n",
    "        self.assertEqual(Caculate(\"*\",5,24).evaluate(),120)\n",
    "        \n",
    "    def test_divide(self):\n",
    "        self.assertEqual(Caculate(\"/\",20,4).evaluate(),5)\n",
    "        self.assertEqual(Caculate(\"/\",2,5).evaluate(),0.4)\n",
    "        self.assertEqual(Caculate(\"/\",3,0).evaluate(),None)\n",
    "        self.assertIsNone(Caculate(\"/\",100,0).evaluate())\n",
    "            \n",
    "if __name__ == \"__main__\":\n",
    "    unittest.main(argv=['first-arg-is-ignored'], exit=False) "
   ]
  },
  {
   "cell_type": "code",
   "execution_count": 1,
   "metadata": {},
   "outputs": [
    {
     "name": "stderr",
     "output_type": "stream",
     "text": [
      "....\n",
      "----------------------------------------------------------------------\n",
      "Ran 4 tests in 0.016s\n",
      "\n",
      "OK\n"
     ]
    }
   ],
   "source": [
    "# 7\n",
    "import unittest\n",
    "class Test_Sample(unittest.TestCase):\n",
    "    \n",
    "    def test_equal(self):\n",
    "        self.assertEqual(20,20)\n",
    "        \n",
    "    def test_notequal(self):\n",
    "        self.assertNotEqual(2,20)\n",
    "        \n",
    "    def test_None(self):\n",
    "        a=None\n",
    "        self.assertIsNone(a)\n",
    "        \n",
    "    def test_subset(self):\n",
    "        a=[\"1\",3]\n",
    "        self.assertIn(\"1\",a)\n",
    "        \n",
    "if __name__ == \"__main__\":\n",
    "    unittest.main(argv=['first-arg-is-ignored'], exit=False)     "
   ]
  },
  {
   "cell_type": "code",
   "execution_count": 13,
   "metadata": {},
   "outputs": [
    {
     "name": "stderr",
     "output_type": "stream",
     "text": [
      "...........\n",
      "----------------------------------------------------------------------\n",
      "Ran 11 tests in 0.046s\n",
      "\n",
      "OK\n"
     ]
    }
   ],
   "source": [
    "# 8\n",
    "import unittest\n",
    "class Test_Sample(unittest.TestCase):\n",
    "    def test_list_equal(self):\n",
    "        a=[1,2,3]\n",
    "        b=[1,2,3]\n",
    "        self.assertListEqual(a,b)\n",
    "        \n",
    "    def test_tuple_equal(self):\n",
    "        a=(1,2,\"None\")\n",
    "        b=(1,2,\"None\")\n",
    "        self.assertTupleEqual(a,b)\n",
    "        \n",
    "    def test_dict_equal(self):\n",
    "        a={1:\"Cracker\",2:\"Lambda\"}\n",
    "        b={1:\"Cracker\",2:\"Lambda\"}\n",
    "        self.assertDictEqual(a,b)\n",
    "        \n",
    "    def test_set_equal(self):\n",
    "        a={\"1\",3}\n",
    "        b={\"1\",3}\n",
    "        self.assertSetEqual(a,b)\n",
    "        \n",
    "if __name__ == \"__main__\":\n",
    "    unittest.main(argv=['first-arg-is-ignored'], exit=False)     "
   ]
  },
  {
   "cell_type": "code",
   "execution_count": 14,
   "metadata": {},
   "outputs": [
    {
     "name": "stderr",
     "output_type": "stream",
     "text": [
      ".........\n",
      "----------------------------------------------------------------------\n",
      "Ran 9 tests in 0.041s\n",
      "\n",
      "OK\n"
     ]
    }
   ],
   "source": [
    "# 9\n",
    "import unittest\n",
    "class Test_Sample(unittest.TestCase):\n",
    "    \n",
    "    def test_number1(self):\n",
    "        a=2.3945\n",
    "        b=2.3945\n",
    "        decimal=5\n",
    "        self.assertAlmostEqual(a,b,decimal)\n",
    "        \n",
    "    def test_number2(self):\n",
    "        a=2.3945\n",
    "        b=2.3939\n",
    "        delta=0.002\n",
    "        self.assertAlmostEqual(a,b,None,None,delta)\n",
    "        \n",
    "if __name__ == \"__main__\":\n",
    "    unittest.main(argv=['first-arg-is-ignored'], exit=False)     "
   ]
  },
  {
   "cell_type": "code",
   "execution_count": 3,
   "metadata": {},
   "outputs": [
    {
     "data": {
      "text/plain": [
       "4"
      ]
     },
     "execution_count": 3,
     "metadata": {},
     "output_type": "execute_result"
    }
   ],
   "source": [
    "# 10\n",
    "def so_uoc(m,n):\n",
    "    dem=0\n",
    "    if m>n:\n",
    "        for i in range(1,n+1):\n",
    "            if m%i==0:\n",
    "                if n%i==0:\n",
    "                    dem+=1\n",
    "    else:\n",
    "        for i in range(1,m+1):\n",
    "            if n%i==0:\n",
    "                if m%i==0:\n",
    "                    dem+=1\n",
    "    return dem\n",
    "so_uoc(12,6) "
   ]
  },
  {
   "cell_type": "code",
   "execution_count": 4,
   "metadata": {},
   "outputs": [
    {
     "name": "stderr",
     "output_type": "stream",
     "text": [
      ".....\n",
      "----------------------------------------------------------------------\n",
      "Ran 5 tests in 0.027s\n",
      "\n",
      "OK\n"
     ]
    }
   ],
   "source": [
    "import unittest\n",
    "class Test_Ngto(unittest.TestCase):\n",
    "    \n",
    "    def test_ngt_cungnhau(self):\n",
    "        self.assertEqual(so_uoc(2,3),1)\n",
    "        self.assertEqual(so_uoc(3,9),2)\n",
    "        self.assertEqual(so_uoc(9,9),3)\n",
    "        self.assertEqual(so_uoc(12,6),4)\n",
    "        \n",
    "if __name__ == \"__main__\":\n",
    "    unittest.main(argv=['first-arg-is-ignored'], exit=False)     "
   ]
  },
  {
   "cell_type": "code",
   "execution_count": null,
   "metadata": {},
   "outputs": [],
   "source": []
  }
 ],
 "metadata": {
  "kernelspec": {
   "display_name": "Python 3",
   "language": "python",
   "name": "python3"
  },
  "language_info": {
   "codemirror_mode": {
    "name": "ipython",
    "version": 3
   },
   "file_extension": ".py",
   "mimetype": "text/x-python",
   "name": "python",
   "nbconvert_exporter": "python",
   "pygments_lexer": "ipython3",
   "version": "3.7.0"
  }
 },
 "nbformat": 4,
 "nbformat_minor": 2
}
