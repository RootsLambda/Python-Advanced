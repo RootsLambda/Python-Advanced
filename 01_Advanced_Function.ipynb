{
 "cells": [
  {
   "cell_type": "markdown",
   "metadata": {},
   "source": [
    "# 1.1 Thiết kế hàm số"
   ]
  },
  {
   "cell_type": "markdown",
   "metadata": {},
   "source": [
    "Khi chúng ta tạo ra một hàm số, chúng ta phải biết về cách kết nối các thành phần lại với nhau ví dụ: cách phân tích một nhiệm vụ nào đó thành các hàm số có mục đích (được gọi là cohesion), cách các hàm số có thể giao tiếp qua lại (được gọi là coupling), kích thước của hàm số (được gọi là size).\n",
    "\n",
    "+ **Coupling:** \n",
    "    + Sử dụng đối số cho đầu vào và trả về cho đầu ra\n",
    "\n",
    "    + Chỉ sử dụng các biến toàn cục khi thực sự cần thiết\n",
    "\n",
    "    + Không nên thay đổi các đối số có thể thay đổi trừ khi lời gọi yêu cầu.\n",
    "    \n",
    "    + Tránh thay đổi trực tiếp các biến trong tệp module khác\n",
    "    \n",
    "+ **Cohesion:** Mỗi hàm số nên có một mục đích duy nhất, thống nhất.\n",
    "\n",
    "+ **Size:** Mỗi hàm số nên có kích thước tương đối nhỏ không quá lớn.\n",
    "\n",
    "Hình bên dưới mô tả môi trường thực thi của hàm số:\n",
    "<img align='left' src='images/Function_Execution.jpg'>"
   ]
  },
  {
   "cell_type": "markdown",
   "metadata": {},
   "source": [
    "# 1.2 Các đối tượng của hàm số\n",
    "\n",
    "## Gọi gián tiếp \"hàm hạng nhất\"\n",
    "\n",
    "Các hàm số thuộc cùng một loại chung như các đối tượng. Đây thường được gọi là mô hình đối tượng hạng nhất, nó phổ biến trong Python và cần thiết một phần của lập trình hàm. \n"
   ]
  },
  {
   "cell_type": "code",
   "execution_count": 1,
   "metadata": {},
   "outputs": [
    {
     "name": "stdout",
     "output_type": "stream",
     "text": [
      "Gọi trực tiếp\n"
     ]
    }
   ],
   "source": [
    "def echo(message):  \n",
    "    print(message)\n",
    "echo(\"Gọi trực tiếp\") # Lời gọi trực tiếp"
   ]
  },
  {
   "cell_type": "code",
   "execution_count": 2,
   "metadata": {},
   "outputs": [
    {
     "name": "stdout",
     "output_type": "stream",
     "text": [
      "Gọi gián tiếp\n"
     ]
    }
   ],
   "source": [
    "def echo(message):  \n",
    "    print(message)\n",
    "x=echo             # x sẽ tham chiếu đến object của hàm\n",
    "x(\"Gọi gián tiếp\") # Gọi object thông qua x"
   ]
  },
  {
   "cell_type": "code",
   "execution_count": 3,
   "metadata": {},
   "outputs": [
    {
     "name": "stdout",
     "output_type": "stream",
     "text": [
      "Gọi gián tiếp\n"
     ]
    }
   ],
   "source": [
    "def indirect(func,args): # Định nghĩa hàm số có đối số là một hàm\n",
    "    func(args)\n",
    "indirect(echo,\"Gọi gián tiếp\")"
   ]
  },
  {
   "cell_type": "code",
   "execution_count": 4,
   "metadata": {},
   "outputs": [
    {
     "name": "stdout",
     "output_type": "stream",
     "text": [
      "Spam:Ham\n"
     ]
    }
   ],
   "source": [
    "def make(label): \n",
    "    def echo(message): \n",
    "        print(label+\":\"+message)\n",
    "    return echo      # Return là một hàm và nhớ đối số của hàm số lúc trước\n",
    "F=make(\"Spam\")\n",
    "F(\"Ham\")"
   ]
  },
  {
   "cell_type": "markdown",
   "metadata": {},
   "source": [
    "## Introspection của hàm số"
   ]
  },
  {
   "cell_type": "code",
   "execution_count": 5,
   "metadata": {},
   "outputs": [
    {
     "data": {
      "text/plain": [
       "'spamspamspamspamspamspamspamspam'"
      ]
     },
     "execution_count": 5,
     "metadata": {},
     "output_type": "execute_result"
    }
   ],
   "source": [
    "def func(a):\n",
    "    b = 'spam'\n",
    "    return b * a\n",
    "func(8)"
   ]
  },
  {
   "cell_type": "code",
   "execution_count": 6,
   "metadata": {},
   "outputs": [
    {
     "data": {
      "text/plain": [
       "'func'"
      ]
     },
     "execution_count": 6,
     "metadata": {},
     "output_type": "execute_result"
    }
   ],
   "source": [
    "func.__name__  # Tên hàm số"
   ]
  },
  {
   "cell_type": "code",
   "execution_count": 7,
   "metadata": {},
   "outputs": [
    {
     "data": {
      "text/plain": [
       "<code object func at 0x032FA230, file \"<ipython-input-5-adb2cc85dbd5>\", line 1>"
      ]
     },
     "execution_count": 7,
     "metadata": {},
     "output_type": "execute_result"
    }
   ],
   "source": [
    "func.__code__ # Địa chỉ của hàm số"
   ]
  },
  {
   "cell_type": "code",
   "execution_count": 8,
   "metadata": {},
   "outputs": [
    {
     "data": {
      "text/plain": [
       "['__annotations__',\n",
       " '__call__',\n",
       " '__class__',\n",
       " '__closure__',\n",
       " '__code__',\n",
       " '__defaults__',\n",
       " '__delattr__',\n",
       " '__dict__',\n",
       " '__dir__',\n",
       " '__doc__',\n",
       " '__eq__',\n",
       " '__format__',\n",
       " '__ge__',\n",
       " '__get__',\n",
       " '__getattribute__',\n",
       " '__globals__',\n",
       " '__gt__',\n",
       " '__hash__',\n",
       " '__init__',\n",
       " '__init_subclass__',\n",
       " '__kwdefaults__',\n",
       " '__le__',\n",
       " '__lt__',\n",
       " '__module__',\n",
       " '__name__',\n",
       " '__ne__',\n",
       " '__new__',\n",
       " '__qualname__',\n",
       " '__reduce__',\n",
       " '__reduce_ex__',\n",
       " '__repr__',\n",
       " '__setattr__',\n",
       " '__sizeof__',\n",
       " '__str__',\n",
       " '__subclasshook__']"
      ]
     },
     "execution_count": 8,
     "metadata": {},
     "output_type": "execute_result"
    }
   ],
   "source": [
    "dir(func)   #  All Attribute fucntion"
   ]
  },
  {
   "cell_type": "code",
   "execution_count": 9,
   "metadata": {},
   "outputs": [
    {
     "data": {
      "text/plain": [
       "('a', 'b')"
      ]
     },
     "execution_count": 9,
     "metadata": {},
     "output_type": "execute_result"
    }
   ],
   "source": [
    "func.__code__.co_varnames  # Variable function"
   ]
  },
  {
   "cell_type": "code",
   "execution_count": 10,
   "metadata": {},
   "outputs": [
    {
     "data": {
      "text/plain": [
       "1"
      ]
     },
     "execution_count": 10,
     "metadata": {},
     "output_type": "execute_result"
    }
   ],
   "source": [
    "func.__code__.co_argcount # Varibale in function"
   ]
  },
  {
   "cell_type": "markdown",
   "metadata": {},
   "source": [
    "## Attributes hàm số\n"
   ]
  },
  {
   "cell_type": "code",
   "execution_count": 11,
   "metadata": {},
   "outputs": [
    {
     "data": {
      "text/plain": [
       "<function __main__.func(a)>"
      ]
     },
     "execution_count": 11,
     "metadata": {},
     "output_type": "execute_result"
    }
   ],
   "source": [
    "func"
   ]
  },
  {
   "cell_type": "code",
   "execution_count": 12,
   "metadata": {},
   "outputs": [],
   "source": [
    "func.count=0"
   ]
  },
  {
   "cell_type": "code",
   "execution_count": 13,
   "metadata": {},
   "outputs": [],
   "source": [
    "func.count+=1"
   ]
  },
  {
   "cell_type": "code",
   "execution_count": 14,
   "metadata": {},
   "outputs": [
    {
     "data": {
      "text/plain": [
       "1"
      ]
     },
     "execution_count": 14,
     "metadata": {},
     "output_type": "execute_result"
    }
   ],
   "source": [
    "func.count"
   ]
  },
  {
   "cell_type": "code",
   "execution_count": 15,
   "metadata": {},
   "outputs": [],
   "source": [
    "func.handles = 'Button-Press'"
   ]
  },
  {
   "cell_type": "code",
   "execution_count": 16,
   "metadata": {},
   "outputs": [
    {
     "data": {
      "text/plain": [
       "'Button-Press'"
      ]
     },
     "execution_count": 16,
     "metadata": {},
     "output_type": "execute_result"
    }
   ],
   "source": [
    "func.handles"
   ]
  },
  {
   "cell_type": "code",
   "execution_count": 17,
   "metadata": {},
   "outputs": [
    {
     "data": {
      "text/plain": [
       "['__annotations__',\n",
       " '__call__',\n",
       " '__class__',\n",
       " '__closure__',\n",
       " '__code__',\n",
       " '__defaults__',\n",
       " '__delattr__',\n",
       " '__dict__',\n",
       " '__dir__',\n",
       " '__doc__',\n",
       " '__eq__',\n",
       " '__format__',\n",
       " '__ge__',\n",
       " '__get__',\n",
       " '__getattribute__',\n",
       " '__globals__',\n",
       " '__gt__',\n",
       " '__hash__',\n",
       " '__init__',\n",
       " '__init_subclass__',\n",
       " '__kwdefaults__',\n",
       " '__le__',\n",
       " '__lt__',\n",
       " '__module__',\n",
       " '__name__',\n",
       " '__ne__',\n",
       " '__new__',\n",
       " '__qualname__',\n",
       " '__reduce__',\n",
       " '__reduce_ex__',\n",
       " '__repr__',\n",
       " '__setattr__',\n",
       " '__sizeof__',\n",
       " '__str__',\n",
       " '__subclasshook__',\n",
       " 'count',\n",
       " 'handles']"
      ]
     },
     "execution_count": 17,
     "metadata": {},
     "output_type": "execute_result"
    }
   ],
   "source": [
    "dir(func)"
   ]
  },
  {
   "cell_type": "markdown",
   "metadata": {},
   "source": [
    "Ta thấy hệ thống sẽ tự thêm các attribute count và handles của hàm."
   ]
  },
  {
   "cell_type": "markdown",
   "metadata": {},
   "source": [
    "## Annomtation của hàm số\n",
    "Trong C chúng khi khai báo tên biến chúng ta phải khai báo kiểu dữ liệu của biến đó, trong Python thì không cần phải làm vậy tuy nhiên đối với hàm số trong Python nhiều khi mong muốn các argument của hàm phải nằm trong phạm vi mong muốn không đi sai thiết kế ban đầu, điều này làm dẫn tới sinh ra Annomation giúp cho việc phát hiện lỗi tốt hơn."
   ]
  },
  {
   "cell_type": "code",
   "execution_count": 18,
   "metadata": {},
   "outputs": [
    {
     "data": {
      "text/plain": [
       "6"
      ]
     },
     "execution_count": 18,
     "metadata": {},
     "output_type": "execute_result"
    }
   ],
   "source": [
    "def func(a,b,c): # Chưa có annomtation\n",
    "    return a+b+c\n",
    "func(1,2,3)"
   ]
  },
  {
   "cell_type": "code",
   "execution_count": 19,
   "metadata": {},
   "outputs": [],
   "source": [
    "def func(a:'spam',b:(1,10),c:float)->int:\n",
    "    return a+b+c"
   ]
  },
  {
   "cell_type": "code",
   "execution_count": 20,
   "metadata": {},
   "outputs": [
    {
     "data": {
      "text/plain": [
       "6"
      ]
     },
     "execution_count": 20,
     "metadata": {},
     "output_type": "execute_result"
    }
   ],
   "source": [
    "func(1,2,3)"
   ]
  },
  {
   "cell_type": "code",
   "execution_count": 21,
   "metadata": {},
   "outputs": [
    {
     "data": {
      "text/plain": [
       "{'a': 'spam', 'b': (1, 10), 'c': float, 'return': int}"
      ]
     },
     "execution_count": 21,
     "metadata": {},
     "output_type": "execute_result"
    }
   ],
   "source": [
    "func.__annotations__  # Tất cả annomtation được lưu trong dict __annotations__"
   ]
  },
  {
   "cell_type": "code",
   "execution_count": 22,
   "metadata": {},
   "outputs": [],
   "source": [
    "def func(a:'spam',b,c:99):\n",
    "    return a+b+c"
   ]
  },
  {
   "cell_type": "code",
   "execution_count": 23,
   "metadata": {},
   "outputs": [
    {
     "data": {
      "text/plain": [
       "6"
      ]
     },
     "execution_count": 23,
     "metadata": {},
     "output_type": "execute_result"
    }
   ],
   "source": [
    "func(1,2,3)"
   ]
  },
  {
   "cell_type": "code",
   "execution_count": 24,
   "metadata": {},
   "outputs": [
    {
     "data": {
      "text/plain": [
       "{'a': 'spam', 'c': 99}"
      ]
     },
     "execution_count": 24,
     "metadata": {},
     "output_type": "execute_result"
    }
   ],
   "source": [
    "func.__annotations__"
   ]
  },
  {
   "cell_type": "code",
   "execution_count": 25,
   "metadata": {},
   "outputs": [
    {
     "data": {
      "text/plain": [
       "6"
      ]
     },
     "execution_count": 25,
     "metadata": {},
     "output_type": "execute_result"
    }
   ],
   "source": [
    "def func(a:'spam'=4,b:(1,10)=5,c:float=6)->int:\n",
    "    return a+b+c\n",
    "func(1,2,3)"
   ]
  },
  {
   "cell_type": "code",
   "execution_count": 26,
   "metadata": {},
   "outputs": [
    {
     "data": {
      "text/plain": [
       "15"
      ]
     },
     "execution_count": 26,
     "metadata": {},
     "output_type": "execute_result"
    }
   ],
   "source": [
    "func()"
   ]
  },
  {
   "cell_type": "code",
   "execution_count": 27,
   "metadata": {},
   "outputs": [
    {
     "data": {
      "text/plain": [
       "{'a': 'spam', 'b': (1, 10), 'c': float, 'return': int}"
      ]
     },
     "execution_count": 27,
     "metadata": {},
     "output_type": "execute_result"
    }
   ],
   "source": [
    "func.__annotations__"
   ]
  },
  {
   "cell_type": "markdown",
   "metadata": {},
   "source": [
    "# 1.3 Lambda nâng cao"
   ]
  },
  {
   "cell_type": "markdown",
   "metadata": {},
   "source": [
    "## Lambda với if expression"
   ]
  },
  {
   "cell_type": "markdown",
   "metadata": {},
   "source": [
    "### Example: So sánh hai giá trị x và y\n",
    "**Cách 1: Dùng lambda**"
   ]
  },
  {
   "cell_type": "code",
   "execution_count": 28,
   "metadata": {},
   "outputs": [
    {
     "data": {
      "text/plain": [
       "'aa'"
      ]
     },
     "execution_count": 28,
     "metadata": {},
     "output_type": "execute_result"
    }
   ],
   "source": [
    "lower=lambda x,y: x if x<y else y\n",
    "lower('bb','aa')"
   ]
  },
  {
   "cell_type": "markdown",
   "metadata": {},
   "source": [
    "**Cách 2: Dùng hàm số với def**"
   ]
  },
  {
   "cell_type": "code",
   "execution_count": 29,
   "metadata": {},
   "outputs": [
    {
     "data": {
      "text/plain": [
       "1"
      ]
     },
     "execution_count": 29,
     "metadata": {},
     "output_type": "execute_result"
    }
   ],
   "source": [
    "def func(x,y):\n",
    "    if x<y:\n",
    "        return x\n",
    "    else:\n",
    "        return y\n",
    "func(1,3)"
   ]
  },
  {
   "cell_type": "markdown",
   "metadata": {},
   "source": [
    "**Cách 3: Lược bỏ đi else đồng nghĩa so với cách 2**"
   ]
  },
  {
   "cell_type": "code",
   "execution_count": 30,
   "metadata": {},
   "outputs": [
    {
     "data": {
      "text/plain": [
       "1"
      ]
     },
     "execution_count": 30,
     "metadata": {},
     "output_type": "execute_result"
    }
   ],
   "source": [
    "def func(x,y):\n",
    "    if x<y:\n",
    "        return x\n",
    "    return y\n",
    "func(1,3)"
   ]
  },
  {
   "cell_type": "markdown",
   "metadata": {},
   "source": [
    "## Lambda lồng nhau(nested lambda)"
   ]
  },
  {
   "cell_type": "markdown",
   "metadata": {},
   "source": [
    "### Lambda lồng với def"
   ]
  },
  {
   "cell_type": "code",
   "execution_count": 31,
   "metadata": {},
   "outputs": [
    {
     "data": {
      "text/plain": [
       "<function __main__.action.<locals>.<lambda>(y)>"
      ]
     },
     "execution_count": 31,
     "metadata": {},
     "output_type": "execute_result"
    }
   ],
   "source": [
    "def action(x):\n",
    "    return (lambda y: x+y)\n",
    "act=action(99)\n",
    "act"
   ]
  },
  {
   "cell_type": "code",
   "execution_count": 32,
   "metadata": {},
   "outputs": [
    {
     "data": {
      "text/plain": [
       "101"
      ]
     },
     "execution_count": 32,
     "metadata": {},
     "output_type": "execute_result"
    }
   ],
   "source": [
    "act(2)"
   ]
  },
  {
   "cell_type": "markdown",
   "metadata": {},
   "source": [
    "### Hàm số lồng với hàm số"
   ]
  },
  {
   "cell_type": "code",
   "execution_count": 33,
   "metadata": {},
   "outputs": [
    {
     "data": {
      "text/plain": [
       "<function __main__.action.<locals>.add(y)>"
      ]
     },
     "execution_count": 33,
     "metadata": {},
     "output_type": "execute_result"
    }
   ],
   "source": [
    "def action(x):\n",
    "    def add(y):\n",
    "        return x+y\n",
    "    return add\n",
    "act=action(99)\n",
    "act"
   ]
  },
  {
   "cell_type": "code",
   "execution_count": 34,
   "metadata": {},
   "outputs": [
    {
     "data": {
      "text/plain": [
       "101"
      ]
     },
     "execution_count": 34,
     "metadata": {},
     "output_type": "execute_result"
    }
   ],
   "source": [
    "act(2)"
   ]
  },
  {
   "cell_type": "markdown",
   "metadata": {},
   "source": [
    "### Lồng 2 lambda với nhau"
   ]
  },
  {
   "cell_type": "code",
   "execution_count": 35,
   "metadata": {},
   "outputs": [
    {
     "data": {
      "text/plain": [
       "<function __main__.<lambda>.<locals>.<lambda>(y)>"
      ]
     },
     "execution_count": 35,
     "metadata": {},
     "output_type": "execute_result"
    }
   ],
   "source": [
    "action=(lambda x:(lambda y: x+y))\n",
    "act=action(99)\n",
    "act"
   ]
  },
  {
   "cell_type": "code",
   "execution_count": 36,
   "metadata": {},
   "outputs": [
    {
     "data": {
      "text/plain": [
       "101"
      ]
     },
     "execution_count": 36,
     "metadata": {},
     "output_type": "execute_result"
    }
   ],
   "source": [
    "act(2)"
   ]
  },
  {
   "cell_type": "markdown",
   "metadata": {},
   "source": [
    "# 1.4 Bài tập Excercise\n",
    "## A. Quiz\n",
    "**Câu 1:** Biểu thức lambda và câu lệnh def có liên quan như thế nào?\n",
    "\n",
    "**Câu 2:** Annotation của hàm là gì và chúng được sử dụng như thế nào?\n",
    "\n",
    "**Câu 3:** Một số hướng dẫn thiết kế chung cho các việc viết hàm là gì?\n",
    "\n",
    "**Câu 4:** Lợi ích của việc sử dụng lambda là gì?\n",
    "\n",
    "**Câu 5:** Kể tên các cách mà các hàm có thể giao tiếp các kết quả cho người gọi.\n",
    "\n",
    "## B.Coding\n",
    "\n",
    "**Câu 6:** Viết chương trình tạo ra đối tượng hạng nhất trong Python.\n",
    "\n",
    "**Câu 7:** Viết chương trình thêm attributes id vào một hàm số bất kỳ.\n",
    "\n",
    "**Câu 8:** Viết hàm mul có chức năng thực hiện nhân hai số a và b là kiểu int và kết quả của hàm trả về kiểu float.\n",
    "\n",
    "**Câu 9:** Viết chương trình cho biết địa chỉ mà hàm số mà nó tham chiếu tới object.\n",
    "\n",
    "**Câu 10:** Viết chương trình sử dụng hàm lambda lồng nhau để tính $x^n$.\n",
    "\n",
    "---"
   ]
  },
  {
   "cell_type": "markdown",
   "metadata": {},
   "source": [
    "# <span style= 'color:blue'> Đáp án </span>\n",
    "**1.** Cả lambda và def đều tạo ra các đối tượng hàm. Bởi vì lambda là một biểu thức\n",
    "tuy nhiên nó trả về một đối tượng hàm thay vì gán nó cho một tên và nó có thể được sử dụng để lồng một định nghĩa hàm ở những nơi mà một def sẽ không hoạt động về mặt cú pháp.\n",
    "\n",
    "Tuy nhiên một lambda chỉ cho phép một biểu thức trả về giá trị ngầm định và nó không hỗ trợ một khối câu lệnh, nó không phải là ideal tốt cho một hàm số lớn.\n",
    "\n",
    "**2.** Các Annotation hàm là phần bổ sung cú pháp chú thích \n",
    "đối số và kết quả của một hàm và được bỏ vào một từ điển được chỉ định\n",
    "của thuộc tính \\_\\_annotations\\_\\_ của hàm làm cho việc debug trở nên dễ dàng hơn.\n",
    "\n",
    "**3.** Các hàm số thường phải nhỏ và kín càng tốt có một nhiệm vụ duy nhất và giao tiếp với các thành phần khác thông qua các đối số đầu vào và giá trị trả về. Chúng ta có thể sử dụng các đối số thay đổi để truyền vào khi đó kết quả sẽ thay đổi như một cách giao tiếp với nhau.\n",
    "\n",
    "**4.** Hàm lambda cho phép chúng ta viết trên một dòng như thành phần nhỏ thực thi cho phép cung cấp cho nó scope và đối số, lambda có ích khi nhúng vào các công cụ lập trình hàm như map và filter có thể xử lý như một hàm def thông thường.\n",
    "\n",
    "**5.** Các hàm có thể gửi lại kết quả với các câu lệnh trả về, bằng cách thay đổi giá trị được chuyển vào các đối số có thể thay đổi và bằng cách đặt các biến toàn cục. Các hàm số cũng có thể\n",
    "cũng giao tiếp kết qủa trả về với các thiết bị hệ thống như files và sockets."
   ]
  },
  {
   "cell_type": "code",
   "execution_count": 37,
   "metadata": {},
   "outputs": [
    {
     "name": "stdout",
     "output_type": "stream",
     "text": [
      "Đây là tin nhắn gửi từ Lambda đến Juily\n"
     ]
    }
   ],
   "source": [
    "# 6\n",
    "def message(name):\n",
    "    print(\"Đây là tin nhắn gửi từ {} đến Juily\".format(name))\n",
    "a=message\n",
    "a(\"Lambda\")"
   ]
  },
  {
   "cell_type": "code",
   "execution_count": 38,
   "metadata": {},
   "outputs": [
    {
     "data": {
      "text/plain": [
       "['__annotations__',\n",
       " '__call__',\n",
       " '__class__',\n",
       " '__closure__',\n",
       " '__code__',\n",
       " '__defaults__',\n",
       " '__delattr__',\n",
       " '__dict__',\n",
       " '__dir__',\n",
       " '__doc__',\n",
       " '__eq__',\n",
       " '__format__',\n",
       " '__ge__',\n",
       " '__get__',\n",
       " '__getattribute__',\n",
       " '__globals__',\n",
       " '__gt__',\n",
       " '__hash__',\n",
       " '__init__',\n",
       " '__init_subclass__',\n",
       " '__kwdefaults__',\n",
       " '__le__',\n",
       " '__lt__',\n",
       " '__module__',\n",
       " '__name__',\n",
       " '__ne__',\n",
       " '__new__',\n",
       " '__qualname__',\n",
       " '__reduce__',\n",
       " '__reduce_ex__',\n",
       " '__repr__',\n",
       " '__setattr__',\n",
       " '__sizeof__',\n",
       " '__str__',\n",
       " '__subclasshook__',\n",
       " 'id']"
      ]
     },
     "execution_count": 38,
     "metadata": {},
     "output_type": "execute_result"
    }
   ],
   "source": [
    "# 7\n",
    "def func(seq):\n",
    "    print(8*seq)\n",
    "func.id=190\n",
    "dir(func)"
   ]
  },
  {
   "cell_type": "code",
   "execution_count": 39,
   "metadata": {},
   "outputs": [
    {
     "data": {
      "text/plain": [
       "20"
      ]
     },
     "execution_count": 39,
     "metadata": {},
     "output_type": "execute_result"
    }
   ],
   "source": [
    "# 8\n",
    "def mul(a:int,b:int)->float:\n",
    "    return a*b\n",
    "mul(4,5)"
   ]
  },
  {
   "cell_type": "code",
   "execution_count": 40,
   "metadata": {},
   "outputs": [
    {
     "data": {
      "text/plain": [
       "<code object add at 0x03C43EE8, file \"<ipython-input-40-b08a215a2a26>\", line 2>"
      ]
     },
     "execution_count": 40,
     "metadata": {},
     "output_type": "execute_result"
    }
   ],
   "source": [
    "# 9\n",
    "def add(a,b):\n",
    "    return a+b\n",
    "add.__code__"
   ]
  },
  {
   "cell_type": "code",
   "execution_count": 41,
   "metadata": {},
   "outputs": [
    {
     "data": {
      "text/plain": [
       "8"
      ]
     },
     "execution_count": 41,
     "metadata": {},
     "output_type": "execute_result"
    }
   ],
   "source": [
    "# 10\n",
    "pow_lam=lambda x:(lambda n:x**n)\n",
    "pow_lam(2)(3)"
   ]
  },
  {
   "cell_type": "code",
   "execution_count": null,
   "metadata": {},
   "outputs": [],
   "source": []
  }
 ],
 "metadata": {
  "kernelspec": {
   "display_name": "Python 3",
   "language": "python",
   "name": "python3"
  },
  "language_info": {
   "codemirror_mode": {
    "name": "ipython",
    "version": 3
   },
   "file_extension": ".py",
   "mimetype": "text/x-python",
   "name": "python",
   "nbconvert_exporter": "python",
   "pygments_lexer": "ipython3",
   "version": "3.7.0"
  }
 },
 "nbformat": 4,
 "nbformat_minor": 2
}
