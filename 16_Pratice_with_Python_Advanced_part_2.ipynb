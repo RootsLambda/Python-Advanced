{
 "cells": [
  {
   "cell_type": "markdown",
   "metadata": {},
   "source": [
    "**Câu 51:** Viết chương trình Python để tạo một instance có các attribute của nó và hiển thị namespace của instance ."
   ]
  },
  {
   "cell_type": "code",
   "execution_count": 1,
   "metadata": {},
   "outputs": [
    {
     "data": {
      "text/plain": [
       "{'name': 'Lambda', 'gender': 'Male', 'age': '21'}"
      ]
     },
     "execution_count": 1,
     "metadata": {},
     "output_type": "execute_result"
    }
   ],
   "source": [
    "class Student:\n",
    "    def __init__(self,name,gender,age):\n",
    "        self.name=name\n",
    "        self.gender=gender\n",
    "        self.age=age\n",
    "st=Student(\"Lambda\",\"Male\",\"21\")\n",
    "st.__dict__"
   ]
  },
  {
   "cell_type": "markdown",
   "metadata": {},
   "source": [
    "**Câu 52:** Viết chương trình tạo lớp Vehicle với maxspeed và meleage là attributes của instance. "
   ]
  },
  {
   "cell_type": "code",
   "execution_count": 4,
   "metadata": {},
   "outputs": [
    {
     "name": "stdout",
     "output_type": "stream",
     "text": [
      "180 18\n"
     ]
    }
   ],
   "source": [
    "class Vehicle:\n",
    "    def __init__(self, maxspeed, mileage):\n",
    "        self.maxspeed = maxspeed\n",
    "        self.mileage = mileage\n",
    "\n",
    "X = Vehicle(180, 18)\n",
    "print(X.maxspeed,X.mileage)"
   ]
  },
  {
   "cell_type": "markdown",
   "metadata": {},
   "source": [
    "**Câu 53:** Viết chương trình tạo lớp Vehicle rỗng không có attribute và method."
   ]
  },
  {
   "cell_type": "code",
   "execution_count": 6,
   "metadata": {},
   "outputs": [],
   "source": [
    "class Vehicle:\n",
    "    pass"
   ]
  },
  {
   "cell_type": "markdown",
   "metadata": {},
   "source": [
    "**Câu 54:** Tạo một Bus lớp con sẽ kế thừa tất cả các biến và phương thức của lớp Vehicle."
   ]
  },
  {
   "cell_type": "code",
   "execution_count": 9,
   "metadata": {},
   "outputs": [
    {
     "name": "stdout",
     "output_type": "stream",
     "text": [
      "Name bus: Hanoibus\n",
      "Max speed: 180\n",
      "Mileage: 12\n"
     ]
    }
   ],
   "source": [
    "class Vehicle:\n",
    "    def __init__(self, name, maxspeed, mileage):\n",
    "        self.name = name\n",
    "        self.maxspeed = maxspeed\n",
    "        self.mileage = mileage\n",
    "        \n",
    "class Bus(Vehicle):\n",
    "    pass\n",
    "\n",
    "b= Bus(\"Hanoibus\", 180, 12)\n",
    "print(\"Name bus:\",b.name)\n",
    "print(\"Max speed:\",b.maxspeed)\n",
    "print(\"Mileage:\",b.mileage)"
   ]
  },
  {
   "cell_type": "markdown",
   "metadata": {},
   "source": [
    "**Câu 55:** Tạo một lớp Bus kế thừa từ lớp Vehicle và có method capacity_seat(self,capcity) ở lớp cha, phương thức ở lớp con sẽ được mặc định tham số capcity là 50."
   ]
  },
  {
   "cell_type": "code",
   "execution_count": 15,
   "metadata": {},
   "outputs": [
    {
     "data": {
      "text/plain": [
       "'The seating capacity of a Hanoibus is 50 passengers'"
      ]
     },
     "execution_count": 15,
     "metadata": {},
     "output_type": "execute_result"
    }
   ],
   "source": [
    "class Vehicle:\n",
    "    def __init__(self, name, maxspeed, mileage):\n",
    "        self.name = name\n",
    "        self.maxspeed = maxspeed\n",
    "        self.mileage = mileage\n",
    "\n",
    "    def capacity_seat(self, capacity):\n",
    "        return \"The seating capacity of a {0} is {1} passengers\".format(self.name,capacity)\n",
    "\n",
    "class Bus(Vehicle):\n",
    "    def capacity_seat(self, capacity=50):\n",
    "        return Vehicle.capacity_seat(self,capacity=50)\n",
    "\n",
    "b = Bus(\"Hanoibus\", 180, 12)\n",
    "b.capacity_seat()"
   ]
  },
  {
   "cell_type": "markdown",
   "metadata": {},
   "source": [
    "**Câu 56:** Định nghĩa thuộc tính lớp của object Vehicle. "
   ]
  },
  {
   "cell_type": "code",
   "execution_count": 8,
   "metadata": {},
   "outputs": [
    {
     "name": "stdout",
     "output_type": "stream",
     "text": [
      "Color bus: Green\n",
      "Name bus: Hanoibus:\n",
      "Max speed: 180\n",
      "Mileage: 12\n",
      "------------------------------\n",
      "Color car: Green\n",
      "Name bus: Hanoibus:\n",
      "Max speed: 180\n",
      "Mileage: 12\n"
     ]
    }
   ],
   "source": [
    "class Vehicle:\n",
    "    color = \"Green\" #  share attribute class for instance\n",
    "\n",
    "    def __init__(self, name, maxspeed, mileage):\n",
    "        self.name = name\n",
    "        self.maxspeed = maxspeed\n",
    "        self.mileage = mileage\n",
    "\n",
    "class Bus(Vehicle):\n",
    "    pass\n",
    "\n",
    "class Car(Vehicle):\n",
    "    pass\n",
    "\n",
    "b= Bus(\"Hanoibus:\", 180, 12)\n",
    "print(\"Color bus:\",b.color)\n",
    "print(\"Name bus:\",b.name)\n",
    "print(\"Max speed:\",b.maxspeed)\n",
    "print(\"Mileage:\",b.mileage)\n",
    "print(\"-\"*30)\n",
    "c= Car(\"Audi\", 140, 14)\n",
    "print(\"Color car:\",c.color)\n",
    "print(\"Name bus:\",b.name)\n",
    "print(\"Max speed:\",b.maxspeed)\n",
    "print(\"Mileage:\",b.mileage)"
   ]
  },
  {
   "cell_type": "markdown",
   "metadata": {},
   "source": [
    "**Câu 57:** Tạo một lớp con Bus kế thừa từ lớp Vehicle. Giá vé mặc định của bất kỳ phương tiện nào là capacity * 100. Nếu phương tiện là Bus, chúng tôi cần thêm 10% trên toàn bộ giá vé làm phí bảo trì. Vì vậy, tổng giá vé cho ví dụ xe bus sẽ trở thành số tiền cuối cùng = tổng giá vé + 10% tổng giá vé."
   ]
  },
  {
   "cell_type": "code",
   "execution_count": 15,
   "metadata": {},
   "outputs": [
    {
     "name": "stdout",
     "output_type": "stream",
     "text": [
      "Total Bus fare is: 4400.0\n"
     ]
    }
   ],
   "source": [
    "class Vehicle:\n",
    "    def __init__(self, name, mileage, capacity):\n",
    "        self.name = name\n",
    "        self.mileage = mileage\n",
    "        self.capacity = capacity\n",
    "\n",
    "    def fare(self):\n",
    "        return self.capacity * 100\n",
    "\n",
    "class Bus(Vehicle):\n",
    "    def fare(self):\n",
    "        price=Vehicle.fare(self)*1.1\n",
    "        return price\n",
    "\n",
    "b=Bus(\"Hanoibus\", 12, 40)\n",
    "print(\"Total Bus fare is:\", b.fare())"
   ]
  },
  {
   "cell_type": "markdown",
   "metadata": {},
   "source": [
    "**Câu 58:** Viết chương trình để xác định đối tượng Bus đã cho thuộc lớp nào."
   ]
  },
  {
   "cell_type": "code",
   "execution_count": 21,
   "metadata": {},
   "outputs": [
    {
     "data": {
      "text/plain": [
       "__main__.Bus"
      ]
     },
     "execution_count": 21,
     "metadata": {},
     "output_type": "execute_result"
    }
   ],
   "source": [
    "class Vehicle:\n",
    "    def __init__(self, name, mileage, capacity):\n",
    "        self.name = name\n",
    "        self.mileage = mileage\n",
    "        self.capacity = capacity\n",
    "\n",
    "class Bus(Vehicle):\n",
    "    pass\n",
    "\n",
    "b = Bus(\"Hanoibus\", 15, 40)\n",
    "type(b)"
   ]
  },
  {
   "cell_type": "markdown",
   "metadata": {},
   "source": [
    "**Câu 59:** Xác định xem b có phải là một instance của lớp Vehicle hay không?"
   ]
  },
  {
   "cell_type": "code",
   "execution_count": 24,
   "metadata": {},
   "outputs": [
    {
     "data": {
      "text/plain": [
       "True"
      ]
     },
     "execution_count": 24,
     "metadata": {},
     "output_type": "execute_result"
    }
   ],
   "source": [
    "class Vehicle:\n",
    "    def __init__(self, name, mileage, capacity):\n",
    "        self.name = name\n",
    "        self.mileage = mileage\n",
    "        self.capacity = capacity\n",
    "\n",
    "class Bus(Vehicle):\n",
    "    pass\n",
    "\n",
    "b = Bus(\"Hanoibus\", 15, 40)\n",
    "isinstance(b,Vehicle)"
   ]
  },
  {
   "cell_type": "markdown",
   "metadata": {},
   "source": [
    "**Câu 60:** Viết một chương trình, để tạo một lớp con Teacher sẽ kế thừa các thuộc tính của lớp cha Staff và có role mặc định là \"Teacher\"."
   ]
  },
  {
   "cell_type": "code",
   "execution_count": 33,
   "metadata": {},
   "outputs": [
    {
     "name": "stdout",
     "output_type": "stream",
     "text": [
      "Name:  Manifa\n",
      "Role: Teacher\n",
      "Department: Mathematics\n",
      "Salary: 1000\n"
     ]
    }
   ],
   "source": [
    "class Staff:\n",
    "    def __init__(self, name,role, dept=None, salary=0): \n",
    "        self.name=name\n",
    "        self.role = role\n",
    "        self.dept = dept\n",
    "        self.salary = salary\n",
    "\n",
    "    def show_detail(self):\n",
    "        print(\"Name: \", self.name)\n",
    "        print(\"Role:\", self.role)\n",
    "        print(\"Department:\", self.dept)\n",
    "        print(\"Salary:\",self.salary)\n",
    "        \n",
    "class Teacher(Staff):\n",
    "    def __init__(self, name, dept,salary):\n",
    "        Staff.__init__(self,name,\"Teacher\", dept, salary)\n",
    "\n",
    "\n",
    "teacher = Teacher(\"Manifa\", \"Mathematics\",1000)\n",
    "\n",
    "teacher.show_detail()"
   ]
  },
  {
   "cell_type": "markdown",
   "metadata": {},
   "source": [
    "**Câu 61:** Tạo một lớp Teacher với các thuộc tính name, age và salary, trong đó salary phải là thuộc tính riêng tư không thể truy cập bên ngoài lớp."
   ]
  },
  {
   "cell_type": "code",
   "execution_count": 38,
   "metadata": {},
   "outputs": [
    {
     "name": "stdout",
     "output_type": "stream",
     "text": [
      "Name: Manifa\n",
      "Age: 27\n",
      "Salary: 2500\n"
     ]
    }
   ],
   "source": [
    "class Teacher():\n",
    "    def __init__(self, name, age, salary):\n",
    "        self.name = name\n",
    "        self.age = age\n",
    "        self.__salary = salary\n",
    "\n",
    "    def show_detail(self):\n",
    "        print(\"Name:\", self.name)\n",
    "        print(\"Age:\", self.age)\n",
    "        print(\"Salary:\", self.__salary)\n",
    "\n",
    "teacher = Teacher(\"Manifa\", 27, 2500)\n",
    "# print(teacher.__salary)   #error\n",
    "teacher.show_detail()"
   ]
  },
  {
   "cell_type": "markdown",
   "metadata": {},
   "source": [
    "**Câu 62:** Viết chương trình Python nạp chồng toán tử `+` và `>` cho một lớp bất kỳ."
   ]
  },
  {
   "cell_type": "code",
   "execution_count": 48,
   "metadata": {},
   "outputs": [
    {
     "name": "stdout",
     "output_type": "stream",
     "text": [
      "order1 + order2= [1, 2, 3, 4, 5, 6, 10, 20, 30]\n",
      "order1 > order2= True\n"
     ]
    }
   ],
   "source": [
    "class Orders:\n",
    "    def __init__(self, items):\n",
    "        self.items = items\n",
    "\n",
    "    def __add__(self, other):\n",
    "        return self.items+other.items\n",
    "    \n",
    "    def __gt__(self, other):\n",
    "        return len(self.items) > len(other.items)\n",
    "\n",
    "order1 = Orders([1, 2, 3, 4, 5, 6])\n",
    "order2 = Orders([10, 20, 30])\n",
    "\n",
    "print(\"order1 + order2=\", order1 + order2)\n",
    "print(\"order1 > order2=\", order1 > order2)"
   ]
  },
  {
   "cell_type": "markdown",
   "metadata": {},
   "source": [
    "**Câu 63:** Viết một chương trình Python liệt kê tất cả các thuộc tính mặc định cũng như tùy chỉnh của lớp."
   ]
  },
  {
   "cell_type": "code",
   "execution_count": 58,
   "metadata": {},
   "outputs": [
    {
     "data": {
      "text/plain": [
       "['__class__',\n",
       " '__delattr__',\n",
       " '__dict__',\n",
       " '__dir__',\n",
       " '__doc__',\n",
       " '__eq__',\n",
       " '__format__',\n",
       " '__ge__',\n",
       " '__getattribute__',\n",
       " '__gt__',\n",
       " '__hash__',\n",
       " '__init__',\n",
       " '__init_subclass__',\n",
       " '__le__',\n",
       " '__lt__',\n",
       " '__module__',\n",
       " '__ne__',\n",
       " '__new__',\n",
       " '__reduce__',\n",
       " '__reduce_ex__',\n",
       " '__repr__',\n",
       " '__setattr__',\n",
       " '__sizeof__',\n",
       " '__str__',\n",
       " '__subclasshook__',\n",
       " '__weakref__',\n",
       " 'age',\n",
       " 'name']"
      ]
     },
     "execution_count": 58,
     "metadata": {},
     "output_type": "execute_result"
    }
   ],
   "source": [
    "class Teacher:\n",
    "    def __init__(self,name,age):\n",
    "        self.name=name\n",
    "        self.age=age\n",
    "teacher=Teacher(\"Ruyi\",29)\n",
    "dir(teacher)"
   ]
  },
  {
   "cell_type": "markdown",
   "metadata": {},
   "source": [
    "**Câu 64:** Viết chương trình in tên lớp bằng cách sử dụng instance của nó."
   ]
  },
  {
   "cell_type": "code",
   "execution_count": 60,
   "metadata": {},
   "outputs": [
    {
     "data": {
      "text/plain": [
       "'Pig'"
      ]
     },
     "execution_count": 60,
     "metadata": {},
     "output_type": "execute_result"
    }
   ],
   "source": [
    "class Pig:\n",
    "    pass\n",
    "p=Pig()\n",
    "p.__class__.__name__"
   ]
  },
  {
   "cell_type": "markdown",
   "metadata": {},
   "source": [
    "**Câu 65:** \n",
    "Viết một lớp hình chữ nhật Rectangle có chiều dài length và chiều rộng width là thuộc tính, \n",
    "\n",
    "+ Tạo 2 method area() và perimeter() để tính diện tích và chu vi, \n",
    "\n",
    "+ Phương thức display() có nhiệm vụ hiển thị chiều dài, chiều rộng, chu vi, diện tích của hình chữ nhật.\n",
    "+ Lớp Parallelepipede kế thừa từ lớp Rectangle có thêm thuộc tính chiều cao height\n",
    "\n",
    "+ Trong lớp Parallelepipede có phương thức tính thể tích volume()."
   ]
  },
  {
   "cell_type": "code",
   "execution_count": 66,
   "metadata": {},
   "outputs": [
    {
     "name": "stdout",
     "output_type": "stream",
     "text": [
      "Length of Rectangle: 10\n",
      "Width of Rectangle: 18\n",
      "Area of Rectangle: 180\n",
      "Perimeter of Rectangle: 56\n",
      "------------------------------\n",
      "Volume: 900\n"
     ]
    }
   ],
   "source": [
    "class Rectangle:\n",
    "    def __init__(self,length,width):\n",
    "        self.length=length\n",
    "        self.width=width\n",
    "        \n",
    "    def area(self):\n",
    "        return self.length*self.width\n",
    "    \n",
    "    def perimeter(self):\n",
    "        return 2*(self.length+self.width)\n",
    "    \n",
    "    def display(self):\n",
    "        print(\"Length of Rectangle:\",self.length)\n",
    "        print(\"Width of Rectangle:\",self.width)\n",
    "        print(\"Area of Rectangle:\",self.area())\n",
    "        print(\"Perimeter of Rectangle:\",self.perimeter())\n",
    "        \n",
    "class Parallelepipede(Rectangle):\n",
    "    def __init__(self,length,width,height):\n",
    "        Rectangle.__init__(self,length,width)\n",
    "        self.height=height\n",
    "        \n",
    "    def volume(self):\n",
    "        return self.length*self.width*self.height\n",
    "\n",
    "if __name__==\"__main__\":\n",
    "    rec=Rectangle(10,18)\n",
    "    rec.display()\n",
    "    print(\"-\"*30)\n",
    "    par=Parallelepipede(10,18,5)\n",
    "    print(\"Volume:\",par.volume())"
   ]
  },
  {
   "cell_type": "markdown",
   "metadata": {},
   "source": [
    "**Câu 66:** Tạo một lớp tên là BankAccount đại diện cho một tài khoản ngân hàng, có các thuộc tính: accountnumber, name, balance lần lượt số tài khoản, tên, số dư tài khoản.\n",
    "\n",
    "+ Tạo một phương thức Deposit() để quản lý các hành động gửi tiền.\n",
    "+ Tạo một phương thức Withdrawal() để quản lý các hành động rút tiền.\n",
    "+ Tạo phương thức bankFees() để áp dụng phí ngân hàng với tỷ lệ phần trăm là 5% trên tài khoản số dư.\n",
    "+ Tạo phương thức display() để hiển thị chi tiết tài khoản."
   ]
  },
  {
   "cell_type": "code",
   "execution_count": 74,
   "metadata": {},
   "outputs": [
    {
     "name": "stdout",
     "output_type": "stream",
     "text": [
      "Account Number: 21984292\n",
      "Account Name: Henry\n",
      "Account Balance: 190.0  $\n"
     ]
    }
   ],
   "source": [
    "class BankAccount:\n",
    "    def __init__(self,accountnumber,name,balance):\n",
    "        self.accountnumber=accountnumber\n",
    "        self.name=name\n",
    "        self.balance=balance\n",
    "        \n",
    "    def deposit(self,money):\n",
    "        self.balance=self.balance+money\n",
    "        \n",
    "    def withdrawal(self,cash):\n",
    "        if self.balance < cash:\n",
    "            print(\"impossible operation! Insufficient balance !\")\n",
    "        else:\n",
    "            self.balance = self.balance - cash\n",
    "            \n",
    "    def bankFees(self):\n",
    "        self.balance = 0.95*self.balance\n",
    "    \n",
    "    def display(self):\n",
    "        print(\"Account Number:\" , self.accountnumber)\n",
    "        print(\"Account Name:\" , self.name)\n",
    "        print(\"Account Balance:\" , self.balance , \" $\")\n",
    "\n",
    "if __name__==\"__main__\":\n",
    "    b=BankAccount(21984292,\"Henry\",1600)\n",
    "    b.deposit(400)\n",
    "    b.withdrawal(1800)\n",
    "    b.bankFees()\n",
    "    b.display()"
   ]
  },
  {
   "cell_type": "markdown",
   "metadata": {},
   "source": [
    "**Câu 67:** Tạo một lớp Solution với constructor là rỗng cho phép thực hiện các phép tính khác nhau trên các số nguyên.\n",
    "\n",
    "+ Tạo một phương thức có tên là factorial() cho phép tính giai thừa của một số nguyên n bất kỳ.\n",
    "\n",
    "+ Tạo một phương thức có tên là sum() cho phép tính tổng của n số nguyên đầu tiên 1 + 2 + 3 + .. + n.\n",
    "\n",
    "+ Tạo một phương thức có tên là testprime() kiểm tra n có phải là số nguyên tố.\n",
    "\n",
    "+ Tạo một phương thức có tên là testcoprime() kiểm tra m và n có phải là hai số nguyên tố cùng nhau."
   ]
  },
  {
   "cell_type": "code",
   "execution_count": 93,
   "metadata": {},
   "outputs": [
    {
     "name": "stdout",
     "output_type": "stream",
     "text": [
      "Factorial is 5!: 120\n",
      "Sum 1 to 5: 16\n",
      "Test prime 4: False\n",
      "Test coprime 13 and 17: True\n"
     ]
    }
   ],
   "source": [
    "class Solution:\n",
    "    def __init__(self):\n",
    "        pass\n",
    "    \n",
    "    def factorial(self,n):\n",
    "        result=1\n",
    "        for i in range(1,n+1):\n",
    "            result*=i\n",
    "        return result\n",
    "    \n",
    "    def sum(self,n):\n",
    "        result=1\n",
    "        for i in range(1,n+1):\n",
    "            result+=i\n",
    "        return result\n",
    "    \n",
    "    def testprime(self,n):\n",
    "        count=0\n",
    "        for i in range(1,n+1):\n",
    "            if n%i==0:\n",
    "                count+=1\n",
    "        return count==2\n",
    "    \n",
    "    def testcoprime(self,m,n):\n",
    "        count=0\n",
    "        for i in range(1,n+1):\n",
    "            if m%i==0 and n%i==0:\n",
    "                count+=1\n",
    "        return count==1\n",
    "    \n",
    "    \n",
    "if __name__==\"__main__\": \n",
    "    sol=Solution()\n",
    "    n=5\n",
    "    print(\"Factorial is {}!:\".format(n),sol.factorial(n))\n",
    "    print(\"Sum 1 to {}:\".format(n),sol.sum(n))\n",
    "    a=4\n",
    "    print(\"Test prime {}:\".format(a),sol.testprime(a))\n",
    "    b,c=13,17\n",
    "    print(\"Test coprime {} and {}:\".format(b,c),sol.testcoprime(b,c))"
   ]
  },
  {
   "cell_type": "markdown",
   "metadata": {},
   "source": [
    "**Câu 68:** Tạo một lớp Caculate có constructor nhiệm vụ thực hiện giải các bài toán.\n",
    "\n",
    "+ Tạo phương thức slove_eq_1() giải phương trình bậc nhất ax + b = 0.\n",
    "+ Tạo phương thức slove_eq_2() giải phương trình bậc hai $ax^2+bx+c = 0$."
   ]
  },
  {
   "cell_type": "code",
   "execution_count": 23,
   "metadata": {},
   "outputs": [
    {
     "name": "stdout",
     "output_type": "stream",
     "text": [
      "The solution of the equation is -9.0\n",
      "The solution of the equation x1 = -0.594875162046673 and x2 = -8.405124837953327\n",
      "The solution of the equation is -3.0\n",
      "Impossible equation\n"
     ]
    }
   ],
   "source": [
    "from math import sqrt\n",
    "class Caculate:\n",
    "    def __init__(self,a,b,c):\n",
    "        self.a=a\n",
    "        self.b=b\n",
    "        self.c=c\n",
    "        \n",
    "    def slove_eq_1(self):\n",
    "        if self.b==0 and self.a!=0:\n",
    "            print(\"The solution of the equation is zeros\")\n",
    "        elif self.b!=0 and self.a==0:\n",
    "            print(\"Impossible equation\")\n",
    "        elif self.b==0 and self.a==0:\n",
    "            print(\"Infinitely many roots\")\n",
    "        else:\n",
    "            print(\"The solution of the equation is\",-(self.b/self.a))\n",
    "    \n",
    "    def slove_eq_2(self):\n",
    "        if self.a==0:\n",
    "            if self.c==0 and self.b!=0:\n",
    "                print(\"The solution of the equation is zeros\")\n",
    "            elif self.c!=0 and self.b==0:\n",
    "                print(\"Impossible equation\")\n",
    "            elif self.c==0 and self.b==0:\n",
    "                    print(\"Infinitely many roots\")\n",
    "            else:\n",
    "                print(\"The solution of the equation is\",-(self.c/self.b))\n",
    "                \n",
    "        else:\n",
    "            delta=self.b*self.b-4*self.a*self.c\n",
    "            if delta<0:\n",
    "                print(\"Impossible equation\")\n",
    "            elif delta==0:\n",
    "                print(\"Equation with double solutions is\",(-self.b)/(2*self.a))\n",
    "            else:\n",
    "                x1=((-self.b+sqrt(delta))/(2*self.a))\n",
    "                x2=((-self.b-sqrt(delta))/(2*self.a))\n",
    "                print(\"The solution of the equation x1 = {0} and x2 = {1}\".format(x1,x2))\n",
    "                \n",
    "                \n",
    "if __name__==\"__main__\":\n",
    "    c=Caculate(1,9,5)\n",
    "    c.slove_eq_1()\n",
    "    c.slove_eq_2()\n",
    "    c=Caculate(1,3,5)\n",
    "    c.slove_eq_1()\n",
    "    c.slove_eq_2()"
   ]
  },
  {
   "cell_type": "markdown",
   "metadata": {},
   "source": [
    "**Câu 69:** Tạo một lớp Book với ba thuộc tính tiêu đề, tác giả, giá lần lượt là title, author, price và hãy tạo một phương thức view() để có thể xem các thuộc tính đó."
   ]
  },
  {
   "cell_type": "code",
   "execution_count": 24,
   "metadata": {},
   "outputs": [
    {
     "name": "stdout",
     "output_type": "stream",
     "text": [
      "Book title: Crash Python\n",
      "Book author: Eric Matthes\n",
      "Book price: 21$\n"
     ]
    }
   ],
   "source": [
    "class Book:\n",
    "    def __init__(self,title,author,price):\n",
    "        self.title=title\n",
    "        self.author=author\n",
    "        self.price=price\n",
    "    \n",
    "    def view(self):\n",
    "        print(\"Book title:\",self.title)\n",
    "        print(\"Book author:\",self.author)\n",
    "        print(\"Book price:\",self.price)\n",
    "\n",
    "b=Book(\"Crash Python\",\"Eric Matthes\",\"21$\")\n",
    "b.view()"
   ]
  },
  {
   "cell_type": "markdown",
   "metadata": {},
   "source": [
    "**Câu 70:** Viết một lớp Python để chuyển một số la mã thành số nguyên."
   ]
  },
  {
   "cell_type": "code",
   "execution_count": 12,
   "metadata": {},
   "outputs": [
    {
     "data": {
      "text/plain": [
       "3986"
      ]
     },
     "execution_count": 12,
     "metadata": {},
     "output_type": "execute_result"
    }
   ],
   "source": [
    "class Solution:\n",
    "    def covert_roman_int(self,seq):\n",
    "        dict_ro_int={\"I\":1,\"V\":5,'X':10,'L':50,\"C\":100,'D':500,'M':1000}\n",
    "        \n",
    "        result=0\n",
    "        for i in range(len(seq)):\n",
    "            value_i=seq[i]\n",
    "            value_i_after=seq[i-1]\n",
    "            if i>0 and dict_ro_int[value_i]>dict_ro_int[value_i_after]:\n",
    "                result+=dict_ro_int[value_i]-2*dict_ro_int[value_i_after]\n",
    "            else:\n",
    "                result+=dict_ro_int[value_i]\n",
    "        return result\n",
    "    \n",
    "sol=Solution()\n",
    "sol.covert_roman_int(\"MMMCMLXXXVI\")"
   ]
  },
  {
   "cell_type": "markdown",
   "metadata": {},
   "source": [
    "**Câu 71:** Viết một lớp Python để tìm một cặp phần tử (chỉ số của hai số) từ một mảng đã cho có tổng của nó bằng một số mục tiêu cụ thể."
   ]
  },
  {
   "cell_type": "code",
   "execution_count": 14,
   "metadata": {},
   "outputs": [
    {
     "name": "stdout",
     "output_type": "stream",
     "text": [
      "index1=2, index2=3\n"
     ]
    }
   ],
   "source": [
    "class Solution:\n",
    "    def sumpair(self,arrs,target):\n",
    "        result={}\n",
    "        for index,element in enumerate(arrs):\n",
    "            if target-element in result:\n",
    "                return (result[target-element],index)\n",
    "            result[element]=index\n",
    "            \n",
    "print(\"index1=%d, index2=%d\" % Solution().sumpair((10,20,10,40,50,60,70),50))    "
   ]
  },
  {
   "cell_type": "markdown",
   "metadata": {},
   "source": [
    "**Câu 72:** Viết một lớp Python có tên là Student với hai thuộc tính name, id_code. Hãy sửa đổi các giá trị thuộc tính của lớp, in các giá trị ban đầu và đã sửa đổi của các thuộc tính bằng hai hàm getattr() và setattr()."
   ]
  },
  {
   "cell_type": "code",
   "execution_count": 6,
   "metadata": {},
   "outputs": [
    {
     "name": "stdout",
     "output_type": "stream",
     "text": [
      "Lambda\n",
      "Roots\n"
     ]
    }
   ],
   "source": [
    "class Student:\n",
    "    name=\"Lambda\"\n",
    "    id_code=1914857\n",
    "    \n",
    "print(getattr(Student,'name'))\n",
    "setattr(Student,'name','Roots')\n",
    "print(getattr(Student,'name'))"
   ]
  },
  {
   "cell_type": "markdown",
   "metadata": {},
   "source": [
    "**Câu 73:** Viết chương trình Python tạo hai lớp rỗng Student và Mark là lớp con của Student. Hãy kiểm tra các là instance của chúng và lớp con của hai lớp trên là gì."
   ]
  },
  {
   "cell_type": "code",
   "execution_count": 18,
   "metadata": {},
   "outputs": [
    {
     "name": "stdout",
     "output_type": "stream",
     "text": [
      "True\n",
      "--------------------\n",
      "False\n",
      "--------------------\n",
      "True\n",
      "--------------------\n",
      "True\n",
      "--------------------\n",
      "True\n"
     ]
    }
   ],
   "source": [
    "class Student:\n",
    "    pass\n",
    "\n",
    "class Mark(Student):\n",
    "    pass\n",
    "\n",
    "st=Student()\n",
    "mk=Mark()\n",
    "print(isinstance(st,Student))\n",
    "print(\"-\"*20)\n",
    "print(isinstance(st,Mark))\n",
    "print(\"-\"*20)\n",
    "print(issubclass(Mark,Student))\n",
    "print(\"-\"*20)\n",
    "print(issubclass(Mark,object))\n",
    "print(\"-\"*20)\n",
    "print(issubclass(Student,object))"
   ]
  },
  {
   "cell_type": "markdown",
   "metadata": {},
   "source": [
    "**Câu 74:** Viết chương trình Python tạo một lớp MyClass có một thuộc tính của class attriubte hãy kiểm tra các instance của lớp đó bằng cách equality, truth reference. "
   ]
  },
  {
   "cell_type": "code",
   "execution_count": 23,
   "metadata": {},
   "outputs": [
    {
     "name": "stdout",
     "output_type": "stream",
     "text": [
      "True\n",
      "True\n"
     ]
    }
   ],
   "source": [
    "class MyClass:\n",
    "    bag=\"Sam\"\n",
    "\n",
    "a=MyClass()\n",
    "b=MyClass()\n",
    "\n",
    "print(a.bag==b.bag)\n",
    "print(a.bag is b.bag)"
   ]
  },
  {
   "cell_type": "markdown",
   "metadata": {},
   "source": [
    "**Câu 75:** Hãy viết một lớp Point gồm có hai thuộc tính x và y là tọa độ của một điểm bất kỳ chúng ta hãy tạo ra:\n",
    "+ Phương thức hiển thị tọa độ điểm\n",
    "+ Phương thức di chuyển để thay đổi tạo độ này\n",
    "+ Phương thức tính khoảng cách giữa hai điểm"
   ]
  },
  {
   "cell_type": "code",
   "execution_count": 37,
   "metadata": {},
   "outputs": [
    {
     "name": "stdout",
     "output_type": "stream",
     "text": [
      "(3, 5)\n",
      "--------------------\n",
      "(4, 9)\n",
      "--------------------\n",
      "7.810249675906654\n"
     ]
    }
   ],
   "source": [
    "from math import sqrt\n",
    "\n",
    "class Point:\n",
    "    def __init__(self,x:int,y:int):\n",
    "        self.x=x\n",
    "        self.y=y\n",
    "    \n",
    "    def view(self)->tuple:\n",
    "        return (self.x,self.y)\n",
    "    \n",
    "    def move(self,xi,yi):\n",
    "        self.x=self.x+xi\n",
    "        self.y=self.y+yi\n",
    "        \n",
    "    def distance(self,other)->float:\n",
    "        dx=self.x-other.x\n",
    "        dy=self.y-other.y\n",
    "        return sqrt(dx**2+dy**2)\n",
    "\n",
    "a=Point(3,5)\n",
    "b=Point(9,3)\n",
    "print(a.view())\n",
    "print('-'*20)\n",
    "a.move(1,4)\n",
    "print(a.view())\n",
    "print('-'*20)\n",
    "print(a.distance(b))"
   ]
  },
  {
   "cell_type": "markdown",
   "metadata": {},
   "source": [
    "**Câu 76:** Tạo một lớp Triangle có các thuộc tính là các góc của một tam giác kiểm tra tổng các góc có tạo thành một tam giác hay không? Và lớp Equilateral là tam giác đều kế thừa từ Triangle. "
   ]
  },
  {
   "cell_type": "code",
   "execution_count": 47,
   "metadata": {},
   "outputs": [
    {
     "name": "stdout",
     "output_type": "stream",
     "text": [
      "False\n",
      "True\n"
     ]
    }
   ],
   "source": [
    "class Triangle:\n",
    "    def __init__(self,angle1,angle2,angle3):\n",
    "        self.angle1=angle1\n",
    "        self.angle2=angle2\n",
    "        self.angle3=angle3\n",
    "    \n",
    "    def check(self):\n",
    "        if self.angle1+ self.angle2+self.angle3==180:\n",
    "            return True\n",
    "        return False\n",
    "\n",
    "class Equilateral(Triangle):\n",
    "    def __init__(self):\n",
    "        Triangle.__init__(self,angle1=60,angle2=60,angle3=60)\n",
    "\n",
    "tr=Triangle(50,41,90)\n",
    "print(tr.check())\n",
    "eq=Equilateral()\n",
    "print(eq.check())"
   ]
  },
  {
   "cell_type": "markdown",
   "metadata": {},
   "source": [
    "**Câu 77:** Viết chương trình tạo lớp Point3D có các thuộc tính là tọa độ các điểm trong không gian ba chiều. Hãy sử dụng phương thức operator overloading để in ra màn hình tạo độ điểm vừa tạo."
   ]
  },
  {
   "cell_type": "code",
   "execution_count": 54,
   "metadata": {},
   "outputs": [
    {
     "name": "stdout",
     "output_type": "stream",
     "text": [
      "The coordinate just created is:(3,4,5)\n"
     ]
    }
   ],
   "source": [
    "class Point3D:\n",
    "    def __init__(self,x,y,z):\n",
    "        self.x=x\n",
    "        self.y=y\n",
    "        self.z=z\n",
    "        \n",
    "    def __repr__(self):\n",
    "        return \"The coordinate just created is:(%d,%d,%d)\"%(self.x,self.y,self.z)\n",
    "    \n",
    "p=Point3D(3,4,5)\n",
    "print(p)"
   ]
  },
  {
   "cell_type": "markdown",
   "metadata": {},
   "source": [
    "**Câu 78:** Hãy tạo một lớp Lunch có thuộc tính là menu giúp chọn món ăn, hãy tạo một phương thức \n",
    "xác định xem giá của món ăn với menu = \"menu 1\" thì có giá 9\\$ , menu = \"menu 2\" thì có giá 14\\\\$ nếu người dùng chọn khác những menu đó chương trình sẽ hiện ra thông báo \"Error in menu\". "
   ]
  },
  {
   "cell_type": "code",
   "execution_count": 56,
   "metadata": {},
   "outputs": [
    {
     "name": "stdout",
     "output_type": "stream",
     "text": [
      "Price menu 1 is 9$\n"
     ]
    }
   ],
   "source": [
    "class Lunch:\n",
    "    def __init__(self,menu):\n",
    "        self.menu=menu\n",
    "    \n",
    "    def price(self):\n",
    "        if self.menu=='menu 1':\n",
    "            print('Price menu 1 is 9$')\n",
    "        elif self.menu=='menu 2':\n",
    "            print('Price menu 2 is 14$')\n",
    "        else:\n",
    "            print(\"Error in menu\")\n",
    "\n",
    "bray=Lunch(\"menu 1\")\n",
    "bray.price()"
   ]
  },
  {
   "cell_type": "markdown",
   "metadata": {},
   "source": [
    "**Câu 79:** Tạo một lớp Song có thuộc tính lyrics là danh sách các bài hát, hãy tạo phương thức sing_my_song để hiện thị ra các bài hát đó."
   ]
  },
  {
   "cell_type": "code",
   "execution_count": 59,
   "metadata": {},
   "outputs": [
    {
     "name": "stdout",
     "output_type": "stream",
     "text": [
      "May god bless you, \n",
      "Have a sunshine on you,\n",
      "Happy Birthday to you !\n"
     ]
    }
   ],
   "source": [
    "class Song:\n",
    "    def __init__(self,lyrics=[]):\n",
    "        self.lyrics=lyrics\n",
    "    \n",
    "    def sing_my_song(self):\n",
    "        for item in self.lyrics:\n",
    "            print(item)\n",
    "\n",
    "Luis=Song([\"May god bless you, \",\n",
    "            \"Have a sunshine on you,\",\n",
    "            \"Happy Birthday to you !\"])\n",
    "\n",
    "Luis.sing_my_song()"
   ]
  },
  {
   "cell_type": "markdown",
   "metadata": {},
   "source": [
    "**Câu 80:** Tạo một lớp Car có các thuộc tính của instance là model, color, mpg lần lượt là kiểu xe, màu sắc của xe, số dặm đi được trên một gallon, thuộc tính của class condition mặc định là \"new\". \n",
    "+ Tạo phương thức hiện thị thông số của xe\n",
    "+ Hãy tạo phương thức drive_car để modify condition của xe là đã được sử dụng thành \"used\"\n",
    "+ Tạo một lớp xe điện ElectricalCar kế thừa từ lớp xe nhưng có thêm thuộc tính loại pin battery_type"
   ]
  },
  {
   "cell_type": "code",
   "execution_count": 67,
   "metadata": {},
   "outputs": [
    {
     "name": "stdout",
     "output_type": "stream",
     "text": [
      "[Car:Ford,silver,80]\n",
      "--------------------\n",
      "used\n",
      "--------------------\n",
      "[Car:Tesla,black,72]\n",
      "--------------------\n",
      "new\n",
      "--------------------\n",
      "used\n"
     ]
    }
   ],
   "source": [
    "class Car:\n",
    "    condition=\"new\"\n",
    "    def __init__(self,model,color,mpg):\n",
    "        self.model=model\n",
    "        self.color=color\n",
    "        self.mpg=mpg\n",
    "    \n",
    "    def __str__(self):\n",
    "        return \"[Car:%s,%s,%d]\"%(self.model,self.color,self.mpg)\n",
    "    \n",
    "    def drive_car(self):\n",
    "        self.condition='used'\n",
    "    \n",
    "class ElectricalCar(Car):\n",
    "    def __init__(self,model,color,mpg,battery_type):\n",
    "        Car.__init__(self,model,color,mpg)\n",
    "        self.battery_type=battery_type\n",
    "\n",
    "c=Car(\"Ford\",\"silver\",80)\n",
    "print(c)\n",
    "print(\"-\"*20)\n",
    "c.drive_car()\n",
    "print(c.condition)\n",
    "print(\"-\"*20)\n",
    "ec=ElectricalCar(\"Tesla\",\"black\",72,\"lithium ion\")\n",
    "print(ec)\n",
    "print('-'*20)\n",
    "print(ec.condition)\n",
    "print(\"-\"*20)\n",
    "ec.drive_car()\n",
    "print(ec.condition)"
   ]
  },
  {
   "cell_type": "markdown",
   "metadata": {},
   "source": [
    "**Câu 81:** Xây dựng một flashcard bằng cách sử dụng class trong python, flashcard là một thẻ có thông tin ở cả hai mặt, có thể được sử dụng như một sự hỗ trợ trong việc ghi nhớ. Flashcards thường có một bên là câu hỏi và một bên là câu trả lời.\n",
    "\n",
    "+ Tạo một lớp có tên là flashcard, sử dụng hàm \\_\\_init\\_\\_ để gán giá trị cho word và meaning.\n",
    "+ Chúng ta sử dụng hàm \\_\\_str\\_\\_ để trả về một chuỗi hiển thị ra word và meaning.\n",
    "+ Lưu trữ các chuỗi được trả về trong một danh sách có tên là flash.\n",
    "+ Sử dụng vòng lặp trong khi để in tất cả các thẻ flashcard đã lưu trữ."
   ]
  },
  {
   "cell_type": "code",
   "execution_count": 9,
   "metadata": {},
   "outputs": [
    {
     "name": "stdout",
     "output_type": "stream",
     "text": [
      "Welcome to flashcard application\n",
      "Enter the name you want to add to flashcard : Lambda\n",
      "Enter the meaning of the word : Python mean\n",
      "Enter 0 , if you want to add another flashcard : 2\n",
      "\n",
      "Your flashcards\n",
      "+ Lambda: \"Python mean\"\n"
     ]
    }
   ],
   "source": [
    "class flashcard:\n",
    "    def __init__(self,word,meaning):\n",
    "        self.word=word\n",
    "        self.meaning=meaning\n",
    "        \n",
    "    def __str__(self):\n",
    "        return '%s: \"%s\"'%(self.word,self.meaning) \n",
    "    \n",
    "flash=[]\n",
    "print(\"Welcome to flashcard application\")\n",
    "while True:\n",
    "    word = input(\"Enter the name you want to add to flashcard : \")\n",
    "    meaning = input(\"Enter the meaning of the word : \")\n",
    "    flash.append(flashcard(word, meaning))\n",
    "    \n",
    "    option = int(input(\"Enter 0 , if you want to add another flashcard : \"))\n",
    "    if option: # option ==True\n",
    "        break\n",
    "\n",
    "print(\"\\nYour flashcards\")\n",
    "for i in flash:\n",
    "    print(\"+\", i)"
   ]
  },
  {
   "cell_type": "markdown",
   "metadata": {},
   "source": [
    "**Câu 82:** Tạo một lớp rỗng trong python sau đó thêm từng thuộc tính của instance vào lớp."
   ]
  },
  {
   "cell_type": "code",
   "execution_count": 12,
   "metadata": {},
   "outputs": [
    {
     "name": "stdout",
     "output_type": "stream",
     "text": [
      "Doctor\n"
     ]
    }
   ],
   "source": [
    "class Mama:\n",
    "    pass\n",
    "m=Mama\n",
    "Mama.name=\"Hola\"\n",
    "Mama.job=\"Doctor\"\n",
    "print(Mama.job)"
   ]
  },
  {
   "cell_type": "markdown",
   "metadata": {},
   "source": [
    "**Câu 83:** Thực hiện tạo lớp A có thuộc tính của instance là value, thực hiện khởi tạo một list các instance có value từ 0 đến 5."
   ]
  },
  {
   "cell_type": "code",
   "execution_count": 22,
   "metadata": {},
   "outputs": [
    {
     "data": {
      "text/plain": [
       "[<__main__.A at 0x367def0>,\n",
       " <__main__.A at 0x367de90>,\n",
       " <__main__.A at 0x367d390>,\n",
       " <__main__.A at 0x367d0d0>,\n",
       " <__main__.A at 0x367d790>]"
      ]
     },
     "execution_count": 22,
     "metadata": {},
     "output_type": "execute_result"
    }
   ],
   "source": [
    "class A:\n",
    "    def __init__(self,value):\n",
    "        self.value=value\n",
    "listA=[A(i) for i in range(5)]\n",
    "listA"
   ]
  },
  {
   "cell_type": "markdown",
   "metadata": {},
   "source": [
    "**Câu 84:** Viết một chương trình đơn giản để quản lý sinh viên\n",
    "+ Tạo phương thức accept lấy thông tin chi tiết từ người dùng như name, roll number và mark cho hai đối tượng khác nhau.\n",
    "+ Tạo phương thức display giúp hiển thị thông tin chi tiết của mọi học sinh.\n",
    "+ Tạo phương thức search này tìm kiếm một học sinh cụ thể từ danh sách các học sinh. Phương thức này tìm kiếm theo roll number.\n",
    "+ Tạo phương thức delete xóa bản ghi của một học sinh cụ thể có roll number phù hợp.\n",
    "+ Tạo phương thức update cập nhật roll number của học sinh. Phương thức này sẽ yêu cầu roll number cũ và roll number mới được thay thế."
   ]
  },
  {
   "cell_type": "code",
   "execution_count": 16,
   "metadata": {},
   "outputs": [
    {
     "name": "stdout",
     "output_type": "stream",
     "text": [
      "\n",
      "List of Students\n",
      "\n",
      "Name: A\n",
      "Roll number: 1\n",
      "Mark 1: 100\n",
      "Mark 2: 100\n",
      "Name: B\n",
      "Roll number: 2\n",
      "Mark 1: 90\n",
      "Mark 2: 90\n",
      "Name: C\n",
      "Roll number: 3\n",
      "Mark 1: 80\n",
      "Mark 2: 80\n",
      "----------------------------------------\n",
      "\n",
      "Student Found \n",
      "Name: B\n",
      "Roll number: 2\n",
      "Mark 1: 90\n",
      "Mark 2: 90\n",
      "----------------------------------------\n",
      "List after deletion\n",
      "Name: A\n",
      "Roll number: 1\n",
      "Mark 1: 100\n",
      "Mark 2: 100\n",
      "Name: C\n",
      "Roll number: 3\n",
      "Mark 1: 80\n",
      "Mark 2: 80\n",
      "----------------------------------------\n",
      "List after updation\n",
      "Name: A\n",
      "Roll number: 1\n",
      "Mark 1: 100\n",
      "Mark 2: 100\n",
      "Name: C\n",
      "Roll number: 2\n",
      "Mark 1: 80\n",
      "Mark 2: 80\n"
     ]
    }
   ],
   "source": [
    "class Student:\n",
    "    def __init__(self,name,roll,m1,m2):\n",
    "        self.name=name\n",
    "        self.roll=roll\n",
    "        self.m1=m1\n",
    "        self.m2=m2\n",
    "        \n",
    "    def accept(self,Name,Roll,mark1,mark2):\n",
    "        st=Student(Name,Roll,mark1,mark2)\n",
    "        list_st.append(st)\n",
    "    \n",
    "    def display(self,st):\n",
    "        print(\"Name:\",st.name)\n",
    "        print('Roll number:',st.roll)\n",
    "        print(\"Mark 1:\",st.m1)\n",
    "        print(\"Mark 2:\",st.m2)\n",
    "        \n",
    "    def search(self,target):\n",
    "        for i in range(list_st.__len__()):\n",
    "            if list_st[i].roll==target:\n",
    "                return i\n",
    "    def delete(self,target):\n",
    "        i=obj.search(target)\n",
    "        del list_st[i]\n",
    "        \n",
    "    def update(self,target,roll_new):\n",
    "        i=obj.search(target)\n",
    "        temp=roll_new\n",
    "        list_st[i].roll=roll_new\n",
    "        \n",
    "if __name__==\"__main__\":\n",
    "    list_st=[]\n",
    "    obj = Student('', 0, 0, 0)\n",
    "    obj.accept(\"A\", 1, 100, 100)\n",
    "    obj.accept(\"B\", 2, 90, 90)\n",
    "    obj.accept(\"C\", 3, 80, 80)\n",
    "    print(\"\\nList of Students\\n\")\n",
    "    for i in range(list_st.__len__()):\n",
    "        obj.display(list_st[i])\n",
    "    print(\"-\"*40)  \n",
    "    print(\"\\nStudent Found \")\n",
    "    s = obj.search(2)\n",
    "    obj.display(list_st[s])\n",
    "    print(\"-\"*40)  \n",
    "    obj.delete(2)\n",
    "    print(\"List after deletion\")\n",
    "    for i in range(list_st.__len__()):\n",
    "        obj.display(list_st[i])\n",
    "    print(\"-\"*40)  \n",
    "    obj.update(3, 2)\n",
    "    print(\"List after updation\")\n",
    "    for i in range(list_st.__len__()):\n",
    "        obj.display(list_st[i])   "
   ]
  },
  {
   "cell_type": "markdown",
   "metadata": {},
   "source": [
    "**Câu 85:** Tạo lớp Student có hai thuộc tính id_st và name_st là thuộc tính của lớp, và phương thức display để in ra màn hình thông số của sinh viên đó."
   ]
  },
  {
   "cell_type": "code",
   "execution_count": 19,
   "metadata": {},
   "outputs": [
    {
     "name": "stdout",
     "output_type": "stream",
     "text": [
      "Student id:1912033 and name:Lambda\n"
     ]
    }
   ],
   "source": [
    "class Student:\n",
    "    id_st=1912033\n",
    "    name_st=\"Lambda\"\n",
    "    def display():\n",
    "        print(\"Student id:{0} and name:{1}\".format(Student.id_st,Student.name_st))\n",
    "Student.display()"
   ]
  },
  {
   "cell_type": "markdown",
   "metadata": {},
   "source": [
    "**Câu 86:** Tạo một lớp Solution có nhiệm vụ giải các bài toán sau đây:\n",
    "\n",
    "+ Thực hiện in bảng nhân của số n\n",
    "+ Thực hiện in bảng cửa chương\n",
    "+ In các danh sách các số chẵn từ 0 đến n"
   ]
  },
  {
   "cell_type": "code",
   "execution_count": 44,
   "metadata": {},
   "outputs": [
    {
     "name": "stdout",
     "output_type": "stream",
     "text": [
      "1*4=4\n",
      "2*4=8\n",
      "3*4=12\n",
      "4*4=16\n",
      "5*4=20\n",
      "6*4=24\n",
      "7*4=28\n",
      "8*4=32\n",
      "9*4=36\n",
      "--------------------------------------------------------------------------------\n",
      "\n",
      "1*1=1\t2*1=2\t3*1=3\t4*1=4\t5*1=5\t6*1=6\t7*1=7\t8*1=8\t9*1=9\t\n",
      "1*2=2\t2*2=4\t3*2=6\t4*2=8\t5*2=10\t6*2=12\t7*2=14\t8*2=16\t9*2=18\t\n",
      "1*3=3\t2*3=6\t3*3=9\t4*3=12\t5*3=15\t6*3=18\t7*3=21\t8*3=24\t9*3=27\t\n",
      "1*4=4\t2*4=8\t3*4=12\t4*4=16\t5*4=20\t6*4=24\t7*4=28\t8*4=32\t9*4=36\t\n",
      "1*5=5\t2*5=10\t3*5=15\t4*5=20\t5*5=25\t6*5=30\t7*5=35\t8*5=40\t9*5=45\t\n",
      "1*6=6\t2*6=12\t3*6=18\t4*6=24\t5*6=30\t6*6=36\t7*6=42\t8*6=48\t9*6=54\t\n",
      "1*7=7\t2*7=14\t3*7=21\t4*7=28\t5*7=35\t6*7=42\t7*7=49\t8*7=56\t9*7=63\t\n",
      "1*8=8\t2*8=16\t3*8=24\t4*8=32\t5*8=40\t6*8=48\t7*8=56\t8*8=64\t9*8=72\t\n",
      "1*9=9\t2*9=18\t3*9=27\t4*9=36\t5*9=45\t6*9=54\t7*9=63\t8*9=72\t9*9=81\t\n",
      "--------------------------------------------------------------------------------\n",
      "[0, 2, 4, 6, 8, 10, 12, 14, 16]\n"
     ]
    }
   ],
   "source": [
    "class Solution:\n",
    "    def tablen(self,n):\n",
    "        for i in range(1,10):\n",
    "            print('{0}*{1}={2}'.format(i,n,i*n))\n",
    "            \n",
    "    def alltable(self):\n",
    "        for k in range (1,10):\n",
    "            print()\n",
    "            for i in range (1,10):\n",
    "                print ('{0}*{1}={2}'.format(i,k,i*k),end='\\t')\n",
    "                \n",
    "    def listeven(self,n):\n",
    "        return [ i for i in range(n+1) if i%2==0]\n",
    "    \n",
    "s=Solution()\n",
    "s.tablen(4)\n",
    "print('-'*80)\n",
    "s.alltable()\n",
    "print('\\n'+'-'*80)\n",
    "print(s.listeven(17))"
   ]
  },
  {
   "cell_type": "markdown",
   "metadata": {},
   "source": [
    "**Câu 87:** Tạo lớp Cricle liên quan đến tính toán đối với hình tròn có O(x,y) là tọa độ tâm và bánh kính r.\n",
    "\n",
    "+ Tính diện tích hình tròn\n",
    "+ Tính chu vi hình tròn\n",
    "+ Tính vị trí tương đối của một điểm A(x,y) bất kỳ đối với hình tròn"
   ]
  },
  {
   "cell_type": "code",
   "execution_count": 50,
   "metadata": {},
   "outputs": [
    {
     "name": "stdout",
     "output_type": "stream",
     "text": [
      "28.26\n",
      "18.84\n",
      "The point (1,2) does not belongs to the circle \n"
     ]
    }
   ],
   "source": [
    "class Cricle:\n",
    "    def __init__(self,x,y,r):\n",
    "        self.x=x\n",
    "        self.y=y\n",
    "        self.r=r\n",
    "    \n",
    "    def area(self):\n",
    "        return self.r**2*3.14\n",
    "    \n",
    "    def perimeter(self):\n",
    "        return self.r*2*3.14\n",
    "    \n",
    "    def test_belong(self,x,y):\n",
    "        dx=x-self.x\n",
    "        dy=y-self.y\n",
    "        if dx**2+dy**2==self.r**2:\n",
    "            print(\"The point ({0},{1}) belongs to the circle \".format(x,y))\n",
    "        else:\n",
    "            print(\"The point ({0},{1}) does not belongs to the circle \".format(x,y))\n",
    "\n",
    "c=Cricle(3,4,3)\n",
    "print(c.area())\n",
    "print(c.perimeter())\n",
    "c.test_belong(1,2)"
   ]
  },
  {
   "cell_type": "markdown",
   "metadata": {},
   "source": [
    "**Câu 88:** Tạo lớp Geometry thực hiện tính toán hai điểm A(x1,y1) và B(x2,y2).\n",
    "+ Tính khoảng cách hai điểm A và B\n",
    "+ Tìm điểm chính giữa của A và B"
   ]
  },
  {
   "cell_type": "code",
   "execution_count": 57,
   "metadata": {},
   "outputs": [
    {
     "name": "stdout",
     "output_type": "stream",
     "text": [
      "2.23606797749979\n",
      "--------------------\n",
      "(3.0, 2.5)\n"
     ]
    }
   ],
   "source": [
    "from math import sqrt\n",
    "class Geometry:\n",
    "    def distance(self,a,b):\n",
    "        dx=a[0]-b[0]\n",
    "        dy=a[1]-b[1]\n",
    "        return sqrt(dx**2+dy**2)\n",
    "    \n",
    "    def middle(self,a,b):\n",
    "        xm=(a[0]+b[0])/2\n",
    "        ym=(a[1]+b[1])/2\n",
    "        return xm,ym\n",
    "    \n",
    "g=Geometry()\n",
    "print(g.distance((4,2),(2,3)))\n",
    "print('-'*20)\n",
    "print(g.middle((4,2),(2,3)))"
   ]
  },
  {
   "cell_type": "markdown",
   "metadata": {},
   "source": [
    "**Câu 89:** Tạo một lớp String có có các phương thức để nhập dữ liệu và in chữ viết hoa ra màn hình."
   ]
  },
  {
   "cell_type": "code",
   "execution_count": 1,
   "metadata": {},
   "outputs": [
    {
     "name": "stdout",
     "output_type": "stream",
     "text": [
      "Mai a mi\n",
      "MAI A MI\n"
     ]
    }
   ],
   "source": [
    "class String:\n",
    "    def __init__(self):\n",
    "        self.string=''\n",
    "    \n",
    "    def getstring(self):\n",
    "        self.string=input()\n",
    "        \n",
    "    def printstring(self):\n",
    "        print(self.string.upper())\n",
    "        \n",
    "s=String()\n",
    "s.getstring()\n",
    "s.printstring()"
   ]
  },
  {
   "cell_type": "markdown",
   "metadata": {},
   "source": [
    "**Câu 90:** Viết chương trình tạo một lớp Student rỗng kiểm tra xem lớp đó type là gì và những thuộc tích của lớp đó là."
   ]
  },
  {
   "cell_type": "code",
   "execution_count": 4,
   "metadata": {},
   "outputs": [
    {
     "name": "stdout",
     "output_type": "stream",
     "text": [
      "<class 'type'>\n"
     ]
    },
    {
     "data": {
      "text/plain": [
       "mappingproxy({'__module__': '__main__',\n",
       "              '__dict__': <attribute '__dict__' of 'Student' objects>,\n",
       "              '__weakref__': <attribute '__weakref__' of 'Student' objects>,\n",
       "              '__doc__': None})"
      ]
     },
     "execution_count": 4,
     "metadata": {},
     "output_type": "execute_result"
    }
   ],
   "source": [
    "class Student:\n",
    "    pass\n",
    "print(type(Student))\n",
    "Student.__dict__"
   ]
  },
  {
   "cell_type": "code",
   "execution_count": null,
   "metadata": {},
   "outputs": [],
   "source": [
    "**Câu 91:** "
   ]
  }
 ],
 "metadata": {
  "kernelspec": {
   "display_name": "Python 3",
   "language": "python",
   "name": "python3"
  },
  "language_info": {
   "codemirror_mode": {
    "name": "ipython",
    "version": 3
   },
   "file_extension": ".py",
   "mimetype": "text/x-python",
   "name": "python",
   "nbconvert_exporter": "python",
   "pygments_lexer": "ipython3",
   "version": "3.7.0"
  }
 },
 "nbformat": 4,
 "nbformat_minor": 2
}
