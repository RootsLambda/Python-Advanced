{
 "cells": [
  {
   "cell_type": "markdown",
   "metadata": {},
   "source": [
    "# 12.1 Decorator là gì\n",
    "\n",
    "Decorator là những functions thay đổi tính năng của một function, method hay class một cách dynamic, mà không phải sử dụng lớp con. Nó rất tiện lợi khi bạn muốn mở rộng tính năng của một function mà bạn không muốn thay đổi nó."
   ]
  },
  {
   "cell_type": "markdown",
   "metadata": {},
   "source": [
    "# 12.2 Function Decorator\n",
    "**Cú pháp:** Phải có dấu @ trước hàm cần mở rộng tính năng.\n",
    "```python\n",
    "@decorator \n",
    "def func(arg):\n",
    "    ...\n",
    "func(99)\n",
    "```\n",
    "Sẽ thay thế cho các dòng lệnh sau đây:\n",
    "```python\n",
    "def func(arg):\n",
    "    ...\n",
    "func=decorator(func)  # decorator(func)(99)\n",
    "func(99)\n",
    "```\n"
   ]
  },
  {
   "cell_type": "code",
   "execution_count": 10,
   "metadata": {},
   "outputs": [
    {
     "name": "stdout",
     "output_type": "stream",
     "text": [
      "x\n"
     ]
    }
   ],
   "source": [
    "def decorator(F):\n",
    "    return F\n",
    "@decorator\n",
    "def func():\n",
    "    print('x')\n",
    "func()"
   ]
  },
  {
   "cell_type": "markdown",
   "metadata": {},
   "source": [
    "# 12.2 Class Decorator"
   ]
  },
  {
   "cell_type": "code",
   "execution_count": 15,
   "metadata": {},
   "outputs": [
    {
     "name": "stdout",
     "output_type": "stream",
     "text": [
      "spam\n"
     ]
    }
   ],
   "source": [
    "def decorator(cls): \n",
    "    class Wrapper:\n",
    "        def __init__(self, *args):   # On instance creation\n",
    "            self.wrapped = cls(*args)\n",
    "        def __getattr__(self, name): # On attribute fetch\n",
    "            return getattr(self.wrapped, name)\n",
    "    return Wrapper\n",
    "\n",
    "@decorator\n",
    "class C: \n",
    "    def __init__(self, x, y): # Run by Wrapper.__init__\n",
    "        self.attr = 'spam'\n",
    "        \n",
    "x = C(6, 7)\n",
    "print(x.attr)"
   ]
  },
  {
   "cell_type": "markdown",
   "metadata": {},
   "source": [
    "## Nested decorator"
   ]
  },
  {
   "cell_type": "code",
   "execution_count": 16,
   "metadata": {},
   "outputs": [
    {
     "name": "stdout",
     "output_type": "stream",
     "text": [
      "spam\n"
     ]
    }
   ],
   "source": [
    "def d1(F): return F\n",
    "def d2(F): return F\n",
    "def d3(F): return F\n",
    "@d1\n",
    "@d2\n",
    "@d3\n",
    "def func():        # func = d1(d2(d3(func)))\n",
    "    print('spam')\n",
    "func()"
   ]
  },
  {
   "cell_type": "code",
   "execution_count": 17,
   "metadata": {},
   "outputs": [
    {
     "name": "stdout",
     "output_type": "stream",
     "text": [
      "XYZspam\n"
     ]
    }
   ],
   "source": [
    "def d1(F): return lambda: 'X' + F()\n",
    "def d2(F): return lambda: 'Y' + F()\n",
    "def d3(F): return lambda: 'Z' + F()\n",
    "@d1\n",
    "@d2\n",
    "@d3\n",
    "def func():          # func = d1(d2(d3(func)))\n",
    "    return 'spam'\n",
    "print(func()) "
   ]
  },
  {
   "cell_type": "markdown",
   "metadata": {},
   "source": [
    "# 12.3 Argument decorator"
   ]
  },
  {
   "cell_type": "code",
   "execution_count": 19,
   "metadata": {},
   "outputs": [
    {
     "name": "stdout",
     "output_type": "stream",
     "text": [
      "call 1 to spam\n",
      "6\n"
     ]
    }
   ],
   "source": [
    "class tracer:\n",
    "    def __init__(self, func): # On @ decoration: save original func\n",
    "        self.calls = 0\n",
    "        self.func = func\n",
    "    def __call__(self, *args): # On later calls: run original func\n",
    "        self.calls += 1\n",
    "        print('call %s to %s' % (self.calls, self.func.__name__))\n",
    "        self.func(*args)\n",
    "        \n",
    "@tracer\n",
    "def spam(a, b, c): # spam = tracer(spam)\n",
    "    print(a + b + c)\n",
    "    \n",
    "spam(1,2,3)"
   ]
  },
  {
   "cell_type": "code",
   "execution_count": 20,
   "metadata": {},
   "outputs": [
    {
     "name": "stdout",
     "output_type": "stream",
     "text": [
      "call 2 to spam\n",
      "abc\n"
     ]
    }
   ],
   "source": [
    "spam('a', 'b', 'c')"
   ]
  },
  {
   "cell_type": "code",
   "execution_count": 21,
   "metadata": {},
   "outputs": [
    {
     "data": {
      "text/plain": [
       "2"
      ]
     },
     "execution_count": 21,
     "metadata": {},
     "output_type": "execute_result"
    }
   ],
   "source": [
    "spam.calls"
   ]
  },
  {
   "cell_type": "code",
   "execution_count": 22,
   "metadata": {},
   "outputs": [
    {
     "data": {
      "text/plain": [
       "<__main__.tracer at 0x3647150>"
      ]
     },
     "execution_count": 22,
     "metadata": {},
     "output_type": "execute_result"
    }
   ],
   "source": [
    "spam"
   ]
  },
  {
   "cell_type": "code",
   "execution_count": 23,
   "metadata": {},
   "outputs": [
    {
     "name": "stdout",
     "output_type": "stream",
     "text": [
      "1 2 3\n"
     ]
    }
   ],
   "source": [
    "calls = 0\n",
    "def tracer(func, *args):\n",
    "    global calls\n",
    "    calls += 1\n",
    "    print('call %s to %s' % (calls, func.__name__))\n",
    "    func(*args)\n",
    "    \n",
    "def spam(a, b, c):\n",
    "    print(a, b, c)\n",
    "\n",
    "spam(1, 2, 3)"
   ]
  },
  {
   "cell_type": "code",
   "execution_count": 15,
   "metadata": {},
   "outputs": [
    {
     "name": "stdout",
     "output_type": "stream",
     "text": [
      "call 1 to spam\n",
      "1 2 3\n"
     ]
    }
   ],
   "source": [
    "tracer(spam, 1, 2, 3)"
   ]
  },
  {
   "cell_type": "code",
   "execution_count": 24,
   "metadata": {},
   "outputs": [
    {
     "name": "stdout",
     "output_type": "stream",
     "text": [
      "call 1 to spam\n",
      "6\n",
      "call 2 to spam\n",
      "15\n",
      "call 1 to eggs\n",
      "65536\n",
      "call 2 to eggs\n",
      "256\n"
     ]
    }
   ],
   "source": [
    "# Class instance attribute\n",
    "class tracer: \n",
    "    def __init__(self, func): \n",
    "        self.calls = 0                    # Save func for later call\n",
    "        self.func = func\n",
    "    def __call__(self, *args, **kwargs): # On call to original function\n",
    "        self.calls += 1\n",
    "        print('call %s to %s' % (self.calls, self.func.__name__))\n",
    "        return self.func(*args, **kwargs)\n",
    "    \n",
    "@tracer\n",
    "def spam(a, b, c): # Same as: spam = tracer(spam)\n",
    "    print(a + b + c) # Triggers tracer.__init__\n",
    "    \n",
    "@tracer\n",
    "def eggs(x, y): # Same as: eggs = tracer(eggs)\n",
    "    print(x ** y) # Wraps eggs in a tracer object\n",
    "    \n",
    "spam(1, 2, 3)      # Really calls tracer instance: runs tracer.__call__\n",
    "\n",
    "spam(a=4, b=5, c=6) # spam is an instance attribute\n",
    "\n",
    "eggs(2, 16) # Really calls tracer instance, self.func is eggs\n",
    "\n",
    "eggs(4, y=4) # self.calls is per-decoration here"
   ]
  },
  {
   "cell_type": "code",
   "execution_count": 17,
   "metadata": {},
   "outputs": [
    {
     "name": "stdout",
     "output_type": "stream",
     "text": [
      "call 1 to spam\n",
      "6\n",
      "call 2 to spam\n",
      "15\n",
      "call 3 to eggs\n",
      "65536\n",
      "call 4 to eggs\n",
      "256\n"
     ]
    }
   ],
   "source": [
    "# Enclosing scope and gobal\n",
    "calls = 0\n",
    "def tracer(func): # State via enclosing scope and global\n",
    "    def wrapper(*args, **kwargs): # Instead of class attributes\n",
    "        global calls # calls is global, not per-function\n",
    "        calls += 1\n",
    "        print('call %s to %s' % (calls, func.__name__))\n",
    "        return func(*args, **kwargs)\n",
    "    return wrapper\n",
    "\n",
    "@tracer\n",
    "def spam(a, b, c): # Same as: spam = tracer(spam)\n",
    "    print(a + b + c)\n",
    "    \n",
    "@tracer\n",
    "def eggs(x, y): # Same as: eggs = tracer(eggs)\n",
    "    print(x ** y)\n",
    "    \n",
    "spam(1, 2, 3) # Really calls wrapper, assigned to spam\n",
    "spam(a=4, b=5, c=6) # wrapper calls spam\n",
    "\n",
    "eggs(2, 16) # Really calls wrapper, assigned to eggs\n",
    "eggs(4, y=4)"
   ]
  },
  {
   "cell_type": "code",
   "execution_count": 18,
   "metadata": {},
   "outputs": [
    {
     "name": "stdout",
     "output_type": "stream",
     "text": [
      "call 1 to spam\n",
      "6\n",
      "call 2 to spam\n",
      "15\n",
      "call 1 to eggs\n",
      "65536\n",
      "call 2 to eggs\n",
      "256\n"
     ]
    }
   ],
   "source": [
    "# Enclosing scope and nonlocal\n",
    "def tracer(func): # State via enclosing scope and nonlocal\n",
    "    calls = 0 # Instead of class attrs or global\n",
    "    def wrapper(*args, **kwargs): # calls is per-function, not global\n",
    "        nonlocal calls\n",
    "        calls += 1\n",
    "        print('call %s to %s' % (calls, func.__name__))\n",
    "        return func(*args, **kwargs)\n",
    "    return wrapper\n",
    "\n",
    "@tracer\n",
    "def spam(a, b, c): # Same as: spam = tracer(spam)\n",
    "    print(a + b + c)\n",
    "    \n",
    "@tracer\n",
    "def eggs(x, y): # Same as: eggs = tracer(eggs)\n",
    "    print(x ** y)\n",
    "    \n",
    "spam(1, 2, 3) # Really calls wrapper, bound to func\n",
    "spam(a=4, b=5, c=6) # wrapper calls spam\n",
    "eggs(2, 16) # Really calls wrapper, bound to eggs\n",
    "eggs(4, y=4) # Nonlocal calls _is_ per-decoration here"
   ]
  },
  {
   "cell_type": "code",
   "execution_count": 19,
   "metadata": {},
   "outputs": [
    {
     "name": "stdout",
     "output_type": "stream",
     "text": [
      "call 1 to spam\n",
      "6\n",
      "call 2 to spam\n",
      "15\n",
      "call 1 to eggs\n",
      "65536\n",
      "call 2 to eggs\n",
      "256\n"
     ]
    }
   ],
   "source": [
    "# Function attribute\n",
    "def tracer(func): # State via enclosing scope and func attr\n",
    "    def wrapper(*args, **kwargs): # calls is per-function, not global\n",
    "        wrapper.calls += 1\n",
    "        print('call %s to %s' % (wrapper.calls, func.__name__))\n",
    "        return func(*args, **kwargs)\n",
    "    wrapper.calls = 0\n",
    "    return wrapper\n",
    "\n",
    "@tracer\n",
    "def spam(a, b, c): # Same as: spam = tracer(spam)\n",
    "    print(a + b + c)\n",
    "    \n",
    "@tracer\n",
    "def eggs(x, y): # Same as: eggs = tracer(eggs)\n",
    "    print(x ** y)\n",
    "    \n",
    "spam(1, 2, 3) # Really calls wrapper, assigned to spam\n",
    "spam(a=4, b=5, c=6) # wrapper calls spam\n",
    "eggs(2, 16) # Really calls wrapper, assigned to eggs\n",
    "eggs(4, y=4) # wrapper.calls _is_ per-decoration here"
   ]
  },
  {
   "cell_type": "markdown",
   "metadata": {},
   "source": [
    "# 12.4 Sai lầm khi sử dụng Decorator"
   ]
  },
  {
   "cell_type": "code",
   "execution_count": 26,
   "metadata": {},
   "outputs": [
    {
     "name": "stdout",
     "output_type": "stream",
     "text": [
      "call 1 to spam\n",
      "6\n",
      "call 2 to spam\n",
      "15\n"
     ]
    }
   ],
   "source": [
    "class tracer:\n",
    "    def __init__(self, func): # On @ decorator\n",
    "        self.calls = 0 # Save func for later call\n",
    "        self.func = func\n",
    "    def __call__(self, *args, **kwargs): # On call to original function\n",
    "        self.calls += 1\n",
    "        print('call %s to %s' % (self.calls, self.func.__name__))\n",
    "        return self.func(*args, **kwargs)\n",
    "\n",
    "@tracer\n",
    "def spam(a, b, c): # spam = tracer(spam)\n",
    "    print(a + b + c)\n",
    "\n",
    "spam(1, 2, 3)\n",
    "spam(a=4, b=5, c=6)"
   ]
  },
  {
   "cell_type": "code",
   "execution_count": 27,
   "metadata": {},
   "outputs": [],
   "source": [
    "class Person:\n",
    "    def __init__(self, name, pay):\n",
    "        self.name = name\n",
    "        self.pay = pay\n",
    "        \n",
    "    @tracer\n",
    "    def giveRaise(self, percent): # giveRaise = tracer(giveRaise)\n",
    "        self.pay *= (1.0 + percent)\n",
    "        \n",
    "    @tracer\n",
    "    def lastName(self): # lastName = tracer(lastName)\n",
    "        return self.name.split()[-1]"
   ]
  },
  {
   "cell_type": "markdown",
   "metadata": {},
   "source": [
    "```python\n",
    "bob = Person('Bob Smith', 50000) # tracer remembers method funcs\n",
    "bob.giveRaise(.25)\n",
    "```\n",
    "**Output:**\n",
    "```python\n",
    "call 1 to giveRaise\n",
    "----------------------------------------------------------------\n",
    "TypeError                      Traceback (most recent call last)\n",
    "<ipython-input-25-788199bebc0b> in <module>()\n",
    "      1 bob = Person('Bob Smith', 50000) # tracer remembers method funcs\n",
    "----> 2 bob.giveRaise(.25)\n",
    "\n",
    "<ipython-input-20-e04dfdc1d359> in __call__(self, *args, **kwargs)\n",
    "      6         self.calls += 1\n",
    "      7         print('call %s to %s' % (self.calls, self.func.__name__))\n",
    "----> 8         return self.func(*args, **kwargs)\n",
    "\n",
    "TypeError: giveRaise() missing 1 required positional argument: 'percent'\n",
    "```"
   ]
  },
  {
   "cell_type": "code",
   "execution_count": 30,
   "metadata": {},
   "outputs": [
    {
     "name": "stdout",
     "output_type": "stream",
     "text": [
      "call 1 to spam\n",
      "6\n",
      "call 2 to spam\n",
      "15\n",
      "call 1 to eggs\n",
      "4294967296\n",
      "methods...\n",
      "Bob Smith Sue Jones\n",
      "call 1 to giveRaise\n",
      "110000\n",
      "call 1 to lastName\n",
      "call 2 to lastName\n",
      "Smith Jones\n"
     ]
    }
   ],
   "source": [
    "def tracer(func): # Use function, not class with __call__\n",
    "    calls = 0 # Else \"self\" is decorator instance only!\n",
    "    def onCall(*args, **kwargs): # Or in 2.X+3.X: use [onCall.calls += 1]\n",
    "        nonlocal calls\n",
    "        calls += 1\n",
    "        print('call %s to %s' % (calls, func.__name__))\n",
    "        return func(*args, **kwargs)\n",
    "    return onCall\n",
    "\n",
    "if __name__ == '__main__':\n",
    "# Applies to simple functions\n",
    "    @tracer\n",
    "    def spam(a, b, c): # spam = tracer(spam)\n",
    "        print(a + b + c) # onCall remembers spam\n",
    "        \n",
    "    @tracer\n",
    "    def eggs(N):\n",
    "        return 2 ** N\n",
    "    spam(1, 2, 3) # Runs onCall(1, 2, 3)\n",
    "    spam(a=4, b=5, c=6)\n",
    "    print(eggs(32))\n",
    "    \n",
    "    class Person:\n",
    "        def __init__(self, name, pay):\n",
    "            self.name = name\n",
    "            self.pay = pay\n",
    "            \n",
    "        @tracer\n",
    "        def giveRaise(self, percent): # giveRaise = tracer(giveRaise)\n",
    "            self.pay *= (1.0 + percent) # onCall remembers giveRaise\n",
    "            \n",
    "        @tracer\n",
    "        def lastName(self): # lastName = tracer(lastName)\n",
    "            return self.name.split()[-1]\n",
    "        \n",
    "    print('methods...')\n",
    "    bob = Person('Bob Smith', 50000)\n",
    "    sue = Person('Sue Jones', 100000)\n",
    "    print(bob.name, sue.name)\n",
    "    sue.giveRaise(.10) # Runs onCall(sue, .10)\n",
    "    print(int(sue.pay))\n",
    "    print(bob.lastName(), sue.lastName())"
   ]
  },
  {
   "cell_type": "markdown",
   "metadata": {},
   "source": [
    "## Timing call"
   ]
  },
  {
   "cell_type": "code",
   "execution_count": 34,
   "metadata": {},
   "outputs": [
    {
     "name": "stdout",
     "output_type": "stream",
     "text": [
      "listcomp: 0.00001, 0.00001\n",
      "listcomp: 0.00847, 0.00848\n",
      "listcomp: 0.10537, 0.11385\n",
      "listcomp: 0.20245, 0.31630\n",
      "[0, 2, 4, 6, 8]\n",
      "allTime = 0.3163037799995436\n",
      "\n",
      "mapcall: 0.00001, 0.00001\n",
      "mapcall: 0.01281, 0.01282\n",
      "mapcall: 0.14939, 0.16221\n",
      "mapcall: 0.30407, 0.46628\n",
      "[0, 2, 4, 6, 8]\n",
      "allTime = 0.4662753780003186\n",
      "\n",
      "**map/comp = 1.474\n"
     ]
    }
   ],
   "source": [
    "import time, sys\n",
    "force = list if sys.version_info[0] == 3 else (lambda X: X)\n",
    "\n",
    "class timer:\n",
    "    def __init__(self, func):\n",
    "        self.func = func\n",
    "        self.alltime = 0\n",
    "    def __call__(self, *args, **kargs):\n",
    "        start = time.perf_counter()\n",
    "        result = self.func(*args, **kargs)\n",
    "        elapsed = time.perf_counter() - start\n",
    "        self.alltime += elapsed\n",
    "        print('%s: %.5f, %.5f' % (self.func.__name__, elapsed, self.alltime))\n",
    "        return result\n",
    "    \n",
    "@timer\n",
    "def listcomp(N):\n",
    "    return [x * 2 for x in range(N)]\n",
    "\n",
    "@timer\n",
    "def mapcall(N):\n",
    "    return force(map((lambda x: x * 2), range(N)))\n",
    "\n",
    "result = listcomp(5) # Time for this call, all calls, return value\n",
    "listcomp(50000)\n",
    "listcomp(500000)\n",
    "listcomp(1000000)\n",
    "print(result)\n",
    "print('allTime = %s' % listcomp.alltime) # Total time for all listcomp calls\n",
    "\n",
    "print('')\n",
    "result = mapcall(5)\n",
    "mapcall(50000)\n",
    "mapcall(500000)\n",
    "mapcall(1000000)\n",
    "print(result)\n",
    "print('allTime = %s' % mapcall.alltime) # Total time for all mapcall calls\n",
    "print('\\n**map/comp = %s' % round(mapcall.alltime / listcomp.alltime, 3))"
   ]
  },
  {
   "cell_type": "code",
   "execution_count": 37,
   "metadata": {},
   "outputs": [
    {
     "data": {
      "text/plain": [
       "0.23622975000012048"
      ]
     },
     "execution_count": 37,
     "metadata": {},
     "output_type": "execute_result"
    }
   ],
   "source": [
    "import timeit\n",
    "timeit.timeit(number=1, stmt=lambda: listcomp(1000000))"
   ]
  },
  {
   "cell_type": "code",
   "execution_count": 37,
   "metadata": {},
   "outputs": [
    {
     "name": "stdout",
     "output_type": "stream",
     "text": [
      "[CCC]==> listcomp: 0.00001, 0.00001\n",
      "[CCC]==> listcomp: 0.00757, 0.00758\n",
      "[CCC]==> listcomp: 0.10688, 0.11446\n",
      "[CCC]==> listcomp: 0.19828, 0.31274\n",
      "[0, 2, 4, 6, 8]\n",
      "allTime = 0.31274153100093827\n",
      "\n",
      "[MMM]==> mapcall: 0.00001, 0.00001\n",
      "[MMM]==> mapcall: 0.01250, 0.01251\n",
      "[MMM]==> mapcall: 0.15113, 0.16364\n",
      "[MMM]==> mapcall: 0.30536, 0.46900\n",
      "[0, 2, 4, 6, 8]\n",
      "allTime = 0.4689955550011291\n",
      "\n",
      "**map/comp = 1.5\n"
     ]
    }
   ],
   "source": [
    "# Add Decorator Argument\n",
    "import time\n",
    "\n",
    "def timer(label='', trace=True): # On decorator args: retain args\n",
    "    class Timer:\n",
    "        def __init__(self, func): # On @: retain decorated func\n",
    "            self.func = func\n",
    "            self.alltime = 0\n",
    "        def __call__(self, *args, **kargs): # On calls: call original\n",
    "            start = time.perf_counter()\n",
    "            result = self.func(*args, **kargs)\n",
    "            elapsed = time.perf_counter() - start\n",
    "            self.alltime += elapsed\n",
    "            if trace:\n",
    "                format = '%s %s: %.5f, %.5f'\n",
    "                values = (label, self.func.__name__, elapsed, self.alltime)\n",
    "                print(format % values)\n",
    "            return result\n",
    "    return Timer\n",
    "\n",
    "import sys\n",
    "force = list if sys.version_info[0] == 3 else (lambda X: X)\n",
    "\n",
    "@timer(label='[CCC]==>')\n",
    "def listcomp(N):        # Like listcomp = timer(...)(listcomp)\n",
    "    return [x * 2 for x in range(N)]\n",
    "\n",
    "@timer(trace=True, label='[MMM]==>')\n",
    "def mapcall(N):\n",
    "    return force(map((lambda x: x * 2), range(N)))\n",
    "\n",
    "for func in (listcomp, mapcall):\n",
    "    result = func(5)   # Time for this call, all calls, return value\n",
    "    func(50000)\n",
    "    func(500000)\n",
    "    func(1000000)\n",
    "    print(result)\n",
    "    print('allTime = %s\\n' % func.alltime) # Total time for all calls\n",
    "print('**map/comp = %s' % round(mapcall.alltime / listcomp.alltime, 3))"
   ]
  },
  {
   "cell_type": "code",
   "execution_count": 39,
   "metadata": {},
   "outputs": [
    {
     "data": {
      "text/plain": [
       "0.0006686269998681382"
      ]
     },
     "execution_count": 39,
     "metadata": {},
     "output_type": "execute_result"
    }
   ],
   "source": [
    "@timer(trace=False) # No tracing, collect total time\n",
    "def listcomp(N):\n",
    "    return [x * 2 for x in range(N)]\n",
    "x = listcomp(5000)\n",
    "listcomp.alltime"
   ]
  },
  {
   "cell_type": "code",
   "execution_count": 42,
   "metadata": {},
   "outputs": [
    {
     "data": {
      "text/plain": [
       "<__main__.timer.<locals>.Timer at 0x3868ab0>"
      ]
     },
     "execution_count": 42,
     "metadata": {},
     "output_type": "execute_result"
    }
   ],
   "source": [
    "listcomp"
   ]
  },
  {
   "cell_type": "code",
   "execution_count": 44,
   "metadata": {},
   "outputs": [
    {
     "data": {
      "text/plain": [
       "0.002036711999835461"
      ]
     },
     "execution_count": 44,
     "metadata": {},
     "output_type": "execute_result"
    }
   ],
   "source": [
    "listcomp.alltime"
   ]
  },
  {
   "cell_type": "markdown",
   "metadata": {},
   "source": [
    "# 12.5 Pattern Singleton"
   ]
  },
  {
   "cell_type": "code",
   "execution_count": 40,
   "metadata": {},
   "outputs": [
    {
     "name": "stdout",
     "output_type": "stream",
     "text": [
      "Bob 400\n",
      "Bob 400\n",
      "42 42\n"
     ]
    }
   ],
   "source": [
    "instances = {}\n",
    "def singleton(aClass): # On @ decoration\n",
    "    def onCall(*args, **kwargs): # On instance creation\n",
    "        if aClass not in instances: # One dict entry per class\n",
    "            instances[aClass] = aClass(*args, **kwargs)\n",
    "        return instances[aClass]\n",
    "    return onCall\n",
    "\n",
    "@singleton # Person = singleton(Person)\n",
    "class Person: # Rebinds Person to onCall\n",
    "    def __init__(self, name, hours, rate): # onCall remembers Person\n",
    "        self.name = name\n",
    "        self.hours = hours\n",
    "        self.rate = rate\n",
    "    def pay(self):\n",
    "        return self.hours * self.rate\n",
    "    \n",
    "@singleton # Spam = singleton(Spam)\n",
    "class Spam: # Rebinds Spam to onCall\n",
    "    def __init__(self, val): # onCall remembers Spam\n",
    "        self.attr = val\n",
    "        \n",
    "bob = Person('Bob', 40, 10) # Really calls onCall\n",
    "print(bob.name, bob.pay())\n",
    "\n",
    "sue = Person('Sue', 50, 20) # Same, single object\n",
    "print(sue.name, sue.pay())\n",
    "\n",
    "X = Spam(val=42) # One Person, one Spam\n",
    "Y = Spam(99)\n",
    "print(X.attr, Y.attr)"
   ]
  },
  {
   "cell_type": "code",
   "execution_count": 47,
   "metadata": {},
   "outputs": [],
   "source": [
    "# nonlocal\n",
    "def singleton(aClass): # On @ decoration\n",
    "    instance = None\n",
    "    def onCall(*args, **kwargs): # On instance creation\n",
    "        nonlocal instance # 3.X and later nonlocal\n",
    "        if instance == None:\n",
    "            instance = aClass(*args, **kwargs) # One scope per class\n",
    "        return instance\n",
    "    return onCall"
   ]
  },
  {
   "cell_type": "code",
   "execution_count": 41,
   "metadata": {},
   "outputs": [],
   "source": [
    "# function attribute\n",
    "def singleton(aClass): # On @ decoration\n",
    "    def onCall(*args, **kwargs): # On instance creation\n",
    "        if onCall.instance == None:\n",
    "            onCall.instance = aClass(*args, **kwargs) # One function per class\n",
    "        return onCall.instance\n",
    "    onCall.instance = None\n",
    "    return onCall\n",
    "\n",
    "class singleton:\n",
    "    def __init__(self, aClass): # On @ decoration\n",
    "        self.aClass = aClass\n",
    "        self.instance = None\n",
    "    def __call__(self, *args, **kwargs): # On instance creation\n",
    "        if self.instance == None:\n",
    "            self.instance = self.aClass(*args, **kwargs) # One instance per class\n",
    "        return self.instance"
   ]
  },
  {
   "cell_type": "code",
   "execution_count": 43,
   "metadata": {},
   "outputs": [],
   "source": [
    "class Wrapper:\n",
    "    def __init__(self, object):\n",
    "        self.wrapped = object # Save object\n",
    "    def __getattr__(self, attrname):\n",
    "        print('Trace:', attrname) # Trace fetch\n",
    "        return getattr(self.wrapped, attrname) # Delegate fetch"
   ]
  },
  {
   "cell_type": "code",
   "execution_count": 44,
   "metadata": {},
   "outputs": [
    {
     "name": "stdout",
     "output_type": "stream",
     "text": [
      "Trace: append\n"
     ]
    }
   ],
   "source": [
    "x = Wrapper([1,2,3])\n",
    "x.append(4)"
   ]
  },
  {
   "cell_type": "code",
   "execution_count": 45,
   "metadata": {},
   "outputs": [
    {
     "data": {
      "text/plain": [
       "[1, 2, 3, 4]"
      ]
     },
     "execution_count": 45,
     "metadata": {},
     "output_type": "execute_result"
    }
   ],
   "source": [
    "x.wrapped"
   ]
  },
  {
   "cell_type": "code",
   "execution_count": 46,
   "metadata": {},
   "outputs": [
    {
     "name": "stdout",
     "output_type": "stream",
     "text": [
      "Trace: keys\n"
     ]
    },
    {
     "data": {
      "text/plain": [
       "['a', 'b']"
      ]
     },
     "execution_count": 46,
     "metadata": {},
     "output_type": "execute_result"
    }
   ],
   "source": [
    "x = Wrapper({\"a\": 1, \"b\": 2}) # Wrap a dictionary\n",
    "list(x.keys())"
   ]
  },
  {
   "cell_type": "code",
   "execution_count": 47,
   "metadata": {},
   "outputs": [
    {
     "name": "stdout",
     "output_type": "stream",
     "text": [
      "Trace: display\n",
      "Spam!Spam!Spam!Spam!Spam!Spam!Spam!Spam!\n",
      "[1]\n",
      "Trace: name\n",
      "Bob\n",
      "Trace: pay\n",
      "2000\n",
      "\n",
      "Trace: name\n",
      "Sue\n",
      "Trace: pay\n",
      "6000\n",
      "Trace: name\n",
      "Bob\n",
      "Trace: pay\n",
      "2000\n",
      "[4, 2]\n"
     ]
    }
   ],
   "source": [
    "def Tracer(aClass): # On @ decorator\n",
    "    class Wrapper:\n",
    "        def __init__(self, *args, **kargs): # On instance creation\n",
    "            self.fetches = 0\n",
    "            self.wrapped = aClass(*args, **kargs) # Use enclosing scope name\n",
    "        def __getattr__(self, attrname):\n",
    "            print('Trace: ' + attrname) # Catches all but own attrs\n",
    "            self.fetches += 1\n",
    "            return getattr(self.wrapped, attrname) # Delegate to wrapped obj\n",
    "    return Wrapper\n",
    "\n",
    "if __name__ == '__main__':\n",
    "    \n",
    "    @Tracer\n",
    "    class Spam: # Spam = Tracer(Spam)\n",
    "        def display(self): # Spam is rebound to Wrapper\n",
    "            print('Spam!' * 8)\n",
    "            \n",
    "    @Tracer\n",
    "    class Person: # Person = Tracer(Person)\n",
    "        def __init__(self, name, hours, rate): # Wrapper remembers Person\n",
    "            self.name = name\n",
    "            self.hours = hours\n",
    "            self.rate = rate\n",
    "        def pay(self): # Accesses outside class traced\n",
    "            return self.hours * self.rate # In-method accesses not traced\n",
    "        \n",
    "food = Spam() # Triggers Wrapper()\n",
    "food.display() # Triggers __getattr__\n",
    "print([food.fetches])\n",
    "\n",
    "bob = Person('Bob', 40, 50) # bob is really a Wrapper\n",
    "print(bob.name) # Wrapper embeds a Person\n",
    "print(bob.pay())\n",
    "\n",
    "print('')\n",
    "sue = Person('Sue', rate=100, hours=60) # sue is a different Wrapper\n",
    "print(sue.name) # with a different Person\n",
    "print(sue.pay())\n",
    "\n",
    "print(bob.name) # bob has different state\n",
    "print(bob.pay())\n",
    "print([bob.fetches, sue.fetches])"
   ]
  },
  {
   "cell_type": "code",
   "execution_count": 56,
   "metadata": {},
   "outputs": [
    {
     "name": "stdout",
     "output_type": "stream",
     "text": [
      "Trace: append\n"
     ]
    }
   ],
   "source": [
    "@Tracer\n",
    "class MyList(list): pass\n",
    "x = MyList([1, 2, 3])\n",
    "x.append(4)"
   ]
  },
  {
   "cell_type": "code",
   "execution_count": 57,
   "metadata": {},
   "outputs": [
    {
     "data": {
      "text/plain": [
       "[1, 2, 3, 4]"
      ]
     },
     "execution_count": 57,
     "metadata": {},
     "output_type": "execute_result"
    }
   ],
   "source": [
    " x.wrapped"
   ]
  },
  {
   "cell_type": "code",
   "execution_count": 58,
   "metadata": {},
   "outputs": [
    {
     "name": "stdout",
     "output_type": "stream",
     "text": [
      "Trace: append\n"
     ]
    }
   ],
   "source": [
    "WrapList = Tracer(list) # Or perform decoration manually\n",
    "x = WrapList([4, 5, 6]) # Else subclass statement required\n",
    "x.append(7)"
   ]
  },
  {
   "cell_type": "code",
   "execution_count": 59,
   "metadata": {},
   "outputs": [
    {
     "data": {
      "text/plain": [
       "[4, 5, 6, 7]"
      ]
     },
     "execution_count": 59,
     "metadata": {},
     "output_type": "execute_result"
    }
   ],
   "source": [
    "x.wrapped"
   ]
  },
  {
   "cell_type": "code",
   "execution_count": 60,
   "metadata": {},
   "outputs": [],
   "source": [
    "# Retaining multiple instance\n",
    "class Tracer:\n",
    "    def __init__(self, aClass): # On @decorator\n",
    "        self.aClass = aClass # Use instance attribute\n",
    "    def __call__(self, *args): # On instance creation\n",
    "        self.wrapped = self.aClass(*args) # ONE (LAST) INSTANCE PER CLASS!\n",
    "        return self\n",
    "    def __getattr__(self, attrname):\n",
    "        print('Trace: ' + attrname)\n",
    "        return getattr(self.wrapped, attrname)\n",
    "    \n",
    "@Tracer # Triggers __init__\n",
    "class Spam: # Like: Spam = Tracer(Spam)\n",
    "    def display(self):\n",
    "        print('Spam!' * 8)"
   ]
  },
  {
   "cell_type": "code",
   "execution_count": 61,
   "metadata": {},
   "outputs": [
    {
     "name": "stdout",
     "output_type": "stream",
     "text": [
      "Trace: name\n",
      "Bob\n",
      "Trace: name\n",
      "Sue\n",
      "Trace: name\n",
      "Sue\n"
     ]
    }
   ],
   "source": [
    "@Tracer\n",
    "class Person: # Person = Tracer(Person)\n",
    "    def __init__(self, name): # Wrapper bound to Person\n",
    "        self.name = name\n",
    "        \n",
    "bob = Person('Bob') # bob is really a Wrapper\n",
    "print(bob.name) # Wrapper embeds a Person\n",
    "Sue = Person('Sue')\n",
    "print(sue.name) # sue overwrites bob\n",
    "print(bob.name)"
   ]
  },
  {
   "cell_type": "code",
   "execution_count": 50,
   "metadata": {},
   "outputs": [],
   "source": [
    "# Manager function\n",
    "instances = {}\n",
    "def getInstance(aClass, *args, **kwargs):\n",
    "    if aClass not in instances:\n",
    "        instances[aClass] = aClass(*args, **kwargs)\n",
    "    return instances[aClass]\n",
    "\n",
    "bob = getInstance(Person, 'Bob', 40, 10) "
   ]
  },
  {
   "cell_type": "code",
   "execution_count": 51,
   "metadata": {},
   "outputs": [],
   "source": [
    "instances = {}\n",
    "def getInstance(object):\n",
    "    aClass = object.__class__\n",
    "    if aClass not in instances:\n",
    "        instances[aClass] = object\n",
    "    return instances[aClass]\n",
    "\n",
    "bob = getInstance(Person('Bob', 40, 10))"
   ]
  },
  {
   "cell_type": "code",
   "execution_count": 64,
   "metadata": {},
   "outputs": [
    {
     "name": "stdout",
     "output_type": "stream",
     "text": [
      "Registry:\n",
      "spam => <function spam at 0x0544EA50> <class 'function'>\n",
      "ham => <function ham at 0x03819B70> <class 'function'>\n",
      "Eggs => <class '__main__.Eggs'> <class 'type'>\n",
      "\n",
      "Manual calls:\n",
      "4\n",
      "8\n",
      "<__main__.Eggs object at 0x054645F0>\n",
      "\n",
      "Registry calls:\n",
      "spam => 4\n",
      "ham => 8\n",
      "Eggs => <__main__.Eggs object at 0x05464AF0>\n"
     ]
    }
   ],
   "source": [
    "# Managing function\n",
    "registry = {}\n",
    "def register(obj): # Both class and func decorator\n",
    "    registry[obj.__name__] = obj # Add to registry\n",
    "    return obj # Return obj itself, not a wrapper\n",
    "\n",
    "@register\n",
    "def spam(x):\n",
    "    return(x ** 2) # spam = register(spam)\n",
    "\n",
    "@register\n",
    "def ham(x):\n",
    "    return(x ** 3)\n",
    "\n",
    "@register\n",
    "class Eggs: # Eggs = register(Eggs)\n",
    "    def __init__(self, x):\n",
    "        self.data = x ** 4\n",
    "        \n",
    "def __str__(self):\n",
    "    return str(self.data)\n",
    "\n",
    "print('Registry:')\n",
    "for name in registry:\n",
    "    print(name, '=>', registry[name], type(registry[name]))\n",
    "    \n",
    "print('\\nManual calls:')\n",
    "print(spam(2)) # Invoke objects manually\n",
    "print(ham(2)) # Later calls not intercepted\n",
    "X = Eggs(2)\n",
    "print(X)\n",
    "\n",
    "print('\\nRegistry calls:')\n",
    "for name in registry:\n",
    "    print(name, '=>', registry[name](2)) # Invoke from registry"
   ]
  },
  {
   "cell_type": "code",
   "execution_count": 52,
   "metadata": {},
   "outputs": [
    {
     "data": {
      "text/plain": [
       "True"
      ]
     },
     "execution_count": 52,
     "metadata": {},
     "output_type": "execute_result"
    }
   ],
   "source": [
    "def decorate(func):\n",
    "    func.marked = True # Assign function attribute for later use\n",
    "    return func\n",
    "\n",
    "@decorate\n",
    "def spam(a, b):\n",
    "    return a + b\n",
    "spam.marked"
   ]
  },
  {
   "cell_type": "code",
   "execution_count": 54,
   "metadata": {},
   "outputs": [
    {
     "data": {
      "text/plain": [
       "(3, 'spam data')"
      ]
     },
     "execution_count": 54,
     "metadata": {},
     "output_type": "execute_result"
    }
   ],
   "source": [
    "def annotate(text): # Same, but value is decorator argument\n",
    "    def decorate(func):\n",
    "        func.label = text\n",
    "        return func\n",
    "    return decorate\n",
    "\n",
    "@annotate('spam data')\n",
    "def spam(a, b): # spam = annotate(...)(spam)\n",
    "    return a + b\n",
    "\n",
    "spam(1, 2), spam.label"
   ]
  },
  {
   "cell_type": "markdown",
   "metadata": {},
   "source": [
    "# 12.6 Private and public attribute"
   ]
  },
  {
   "cell_type": "code",
   "execution_count": 55,
   "metadata": {},
   "outputs": [
    {
     "name": "stdout",
     "output_type": "stream",
     "text": [
      "[set: wrapped <__main__.Doubler object at 0x03671C70>]\n",
      "[set: wrapped <__main__.Doubler object at 0x03671D50>]\n",
      "[get: label]\n",
      "X is\n",
      "[get: display]\n",
      "X is => [1, 2, 3]\n",
      "[get: double]\n",
      "[get: display]\n",
      "X is => [2, 4, 6]\n",
      "[get: label]\n",
      "Y is\n",
      "[get: display]\n",
      "Y is => [-10, -20, -30]\n",
      "[get: double]\n",
      "[set: label Spam]\n",
      "[get: display]\n",
      "Spam => [-20, -40, -60]\n"
     ]
    }
   ],
   "source": [
    "# File access1.py\n",
    "traceMe = False\n",
    "def trace(*args):\n",
    "    if traceMe: print('[' + ' '.join(map(str, args)) + ']')\n",
    "        \n",
    "def Private(*privates): # privates in enclosing scope\n",
    "    def onDecorator(aClass): # aClass in enclosing scope\n",
    "        class onInstance: # wrapped in instance attribute\n",
    "            def __init__(self, *args, **kargs):\n",
    "                self.wrapped = aClass(*args, **kargs)\n",
    "                \n",
    "            def __getattr__(self, attr): # My attrs don't call getattr\n",
    "                trace('get:', attr) # Others assumed in wrapped\n",
    "                if attr in privates:\n",
    "                    raise TypeError('private attribute fetch: ' + attr)\n",
    "                else:\n",
    "                    return getattr(self.wrapped, attr)\n",
    "                \n",
    "            def __setattr__(self, attr, value): # Outside accesses\n",
    "                trace('set:', attr, value) # Others run normally\n",
    "                if attr == 'wrapped': # Allow my attrs\n",
    "                    self.__dict__[attr] = value # Avoid looping\n",
    "                elif attr in privates:\n",
    "                    raise TypeError('private attribute change: ' + attr)\n",
    "                else:\n",
    "                    setattr(self.wrapped, attr, value) # Wrapped obj attrs\n",
    "        return onInstance # Or use __dict__\n",
    "    return onDecorator\n",
    "\n",
    "if __name__ == '__main__':\n",
    "    traceMe = True\n",
    "    \n",
    "    @Private('data', 'size') # Doubler = Private(...)(Doubler)\n",
    "    class Doubler:\n",
    "        def __init__(self, label, start):\n",
    "            self.label = label # Accesses inside the subject class\n",
    "            self.data = start # Not intercepted: run normally\n",
    "        def size(self):\n",
    "            return len(self.data) # Methods run with no checking\n",
    "        def double(self): # Because privacy not inherited\n",
    "            for i in range(self.size()):\n",
    "                self.data[i] = self.data[i] * 2\n",
    "        def display(self):\n",
    "            print('%s => %s' % (self.label, self.data))\n",
    "            \n",
    "    X = Doubler('X is', [1, 2, 3])\n",
    "    Y = Doubler('Y is', [-10,-20,-30])\n",
    "    print(X.label) # Accesses outside subject class\n",
    "    X.display(); X.double(); X.display() # Intercepted: validated, delegated\n",
    "    print(Y.label)\n",
    "    Y.display(); Y.double()\n",
    "    Y.label = 'Spam'\n",
    "    Y.display()"
   ]
  },
  {
   "cell_type": "code",
   "execution_count": 63,
   "metadata": {},
   "outputs": [],
   "source": [
    "# File access2.py\n",
    "traceMe = False\n",
    "def trace(*args):\n",
    "    if traceMe: print('[' + ' '.join(map(str, args)) + ']')\n",
    "        \n",
    "def accessControl(failIf):\n",
    "    def onDecorator(aClass):\n",
    "        class onInstance:\n",
    "            def __init__(self, *args, **kargs):\n",
    "                self.__wrapped = aClass(*args, **kargs)\n",
    "            def __getattr__(self, attr):\n",
    "                trace('get:', attr)\n",
    "                if failIf(attr):\n",
    "                    raise TypeError('private attribute fetch: ' + attr)\n",
    "                else:\n",
    "                    return getattr(self.__wrapped, attr)\n",
    "                \n",
    "    def __setattr__(self, attr, value):\n",
    "        trace('set:', attr, value)\n",
    "        if attr == '_onInstance__wrapped':\n",
    "            self.__dict__[attr] = value\n",
    "        elif failIf(attr):\n",
    "            raise TypeError('private attribute change: ' + attr)\n",
    "        else:\n",
    "            setattr(self.__wrapped, attr, value)\n",
    "        return onInstance\n",
    "    return onDecorator\n",
    "\n",
    "def Private(*attributes):\n",
    "    return accessControl(failIf=(lambda attr: attr in attributes))\n",
    "\n",
    "def Public(*attributes):\n",
    "    return accessControl(failIf=(lambda attr: attr not in attributes))\n",
    "\n",
    "@Private('age') # Person = Private('age')(Person)\n",
    "class Person: # Person = onInstance with state\n",
    "    def __init__(self, name, age):\n",
    "        self.name = name\n",
    "        self.age = age\n"
   ]
  },
  {
   "cell_type": "markdown",
   "metadata": {},
   "source": [
    "# Bài tập Excercise\n",
    "## A. Quiz\n",
    "\n",
    "**Câu 1:** Decorator class và function được sử dụng để làm gì?\n",
    "## B. Coding"
   ]
  },
  {
   "cell_type": "markdown",
   "metadata": {},
   "source": [
    "---\n",
    "# <span style= 'color:blue'> Đáp án </span>\n",
    "\n",
    "**1.** Decorator function thường được sử dụng để quản lý một hàm hoặc phương thức, hoặc thêm vào\n",
    "nó là một lớp logic được chạy mỗi khi hàm hoặc phương thức được gọi. Người ta có thể\n",
    "được sử dụng để ghi hoặc đếm các cuộc gọi đến một hàm, kiểm tra các loại đối số của nó, ...\n",
    "Chúng cũng được sử dụng để \"khai báo\" các phương thức tĩnh (các hàm đơn giản trong một lớp\n",
    "không được truyền một instance khi được gọi), cũng như các phương thức và thuộc tính của lớp. Lớp\n",
    "decorator cũng tương tự, nhưng quản lý toàn bộ đối tượng và giao diện của chúng thay vì\n",
    "gọi hàm."
   ]
  },
  {
   "cell_type": "code",
   "execution_count": null,
   "metadata": {},
   "outputs": [],
   "source": []
  }
 ],
 "metadata": {
  "kernelspec": {
   "display_name": "Python 3",
   "language": "python",
   "name": "python3"
  },
  "language_info": {
   "codemirror_mode": {
    "name": "ipython",
    "version": 3
   },
   "file_extension": ".py",
   "mimetype": "text/x-python",
   "name": "python",
   "nbconvert_exporter": "python",
   "pygments_lexer": "ipython3",
   "version": "3.7.0"
  }
 },
 "nbformat": 4,
 "nbformat_minor": 2
}
