{
 "cells": [
  {
   "cell_type": "markdown",
   "metadata": {},
   "source": [
    "# 13.1  Class là instance của type"
   ]
  },
  {
   "cell_type": "code",
   "execution_count": 1,
   "metadata": {},
   "outputs": [
    {
     "data": {
      "text/plain": [
       "(type, type)"
      ]
     },
     "execution_count": 1,
     "metadata": {},
     "output_type": "execute_result"
    }
   ],
   "source": [
    "type(list),type(type)"
   ]
  },
  {
   "cell_type": "code",
   "execution_count": 2,
   "metadata": {},
   "outputs": [
    {
     "data": {
      "text/plain": [
       "(type, __main__.C)"
      ]
     },
     "execution_count": 2,
     "metadata": {},
     "output_type": "execute_result"
    }
   ],
   "source": [
    "class C:\n",
    "    pass\n",
    "I=C()\n",
    "type(C),type(I)"
   ]
  },
  {
   "cell_type": "code",
   "execution_count": 3,
   "metadata": {},
   "outputs": [
    {
     "data": {
      "text/plain": [
       "(type, __main__.C)"
      ]
     },
     "execution_count": 3,
     "metadata": {},
     "output_type": "execute_result"
    }
   ],
   "source": [
    "C.__class__,I.__class__"
   ]
  },
  {
   "cell_type": "markdown",
   "metadata": {},
   "source": [
    "**Cú pháp khai báo lớp:** \n",
    "\n",
    "`class=type(classname,superclass,attributedict)`"
   ]
  },
  {
   "cell_type": "code",
   "execution_count": 4,
   "metadata": {},
   "outputs": [
    {
     "data": {
      "text/plain": [
       "__main__.Spam"
      ]
     },
     "execution_count": 4,
     "metadata": {},
     "output_type": "execute_result"
    }
   ],
   "source": [
    "Spam=type('Spam',(),{'data':1})\n",
    "Spam"
   ]
  },
  {
   "cell_type": "code",
   "execution_count": 5,
   "metadata": {},
   "outputs": [
    {
     "data": {
      "text/plain": [
       "__main__.Spam"
      ]
     },
     "execution_count": 5,
     "metadata": {},
     "output_type": "execute_result"
    }
   ],
   "source": [
    "class Spam:\n",
    "    data=1\n",
    "    pass\n",
    "Spam"
   ]
  },
  {
   "cell_type": "code",
   "execution_count": 6,
   "metadata": {},
   "outputs": [
    {
     "data": {
      "text/plain": [
       "(__main__.Spam, <__main__.Spam at 0x3408b30>)"
      ]
     },
     "execution_count": 6,
     "metadata": {},
     "output_type": "execute_result"
    }
   ],
   "source": [
    "x = type('Spam', (), {'data': 1, 'meth': (lambda x, y: x.data + y)})\n",
    "i = x()\n",
    "x, i"
   ]
  },
  {
   "cell_type": "code",
   "execution_count": 7,
   "metadata": {},
   "outputs": [
    {
     "data": {
      "text/plain": [
       "(1, 3)"
      ]
     },
     "execution_count": 7,
     "metadata": {},
     "output_type": "execute_result"
    }
   ],
   "source": [
    "i.data, i.meth(2)"
   ]
  },
  {
   "cell_type": "code",
   "execution_count": 8,
   "metadata": {},
   "outputs": [
    {
     "data": {
      "text/plain": [
       "(object,)"
      ]
     },
     "execution_count": 8,
     "metadata": {},
     "output_type": "execute_result"
    }
   ],
   "source": [
    "x.__bases__"
   ]
  },
  {
   "cell_type": "code",
   "execution_count": 9,
   "metadata": {},
   "outputs": [
    {
     "data": {
      "text/plain": [
       "[('data', 1), ('meth', <function __main__.<lambda>(x, y)>)]"
      ]
     },
     "execution_count": 9,
     "metadata": {},
     "output_type": "execute_result"
    }
   ],
   "source": [
    " [(a, v) for (a, v) in x.__dict__.items() if not a.startswith('__')]"
   ]
  },
  {
   "cell_type": "markdown",
   "metadata": {},
   "source": [
    "**Cú pháp khai báo metaclasses:**\n",
    "\n",
    "`class Spam(metaclass=Meta)`"
   ]
  },
  {
   "cell_type": "code",
   "execution_count": 10,
   "metadata": {},
   "outputs": [],
   "source": [
    "class Meta(type):\n",
    "    def __new__(meta, classname, supers, classdict):\n",
    "        # Run by inherited type.__call__\n",
    "        return type.__new__(meta, classname, supers, classdict)"
   ]
  },
  {
   "cell_type": "code",
   "execution_count": 11,
   "metadata": {},
   "outputs": [
    {
     "name": "stdout",
     "output_type": "stream",
     "text": [
      "making class\n",
      "In MetaOne.new:\n",
      "...<class '__main__.MetaOne'>\n",
      "...Spam\n",
      "...(<class '__main__.Eggs'>,)\n",
      "...{'__module__': '__main__', '__qualname__': 'Spam', 'data': 1, 'meth': <function Spam.meth at 0x0343C030>}\n",
      "making instance\n",
      "data: 1 3\n"
     ]
    }
   ],
   "source": [
    "class MetaOne(type):\n",
    "    def __new__(meta, classname, supers, classdict):\n",
    "        print('In MetaOne.new:', meta, classname, supers, classdict, sep='\\n...')\n",
    "        return type.__new__(meta, classname, supers, classdict)\n",
    "    \n",
    "class Eggs:\n",
    "    pass\n",
    "\n",
    "print('making class')\n",
    "\n",
    "class Spam(Eggs, metaclass=MetaOne): # Inherits from Eggs, instance of MetaOne\n",
    "    data = 1 # Class data attribute\n",
    "    def meth(self, arg): # Class method attribute\n",
    "        return self.data + arg\n",
    "    \n",
    "print('making instance')\n",
    "X = Spam()\n",
    "print('data:', X.data, X.meth(2))"
   ]
  },
  {
   "cell_type": "markdown",
   "metadata": {},
   "source": [
    "## Customize costructor and init"
   ]
  },
  {
   "cell_type": "code",
   "execution_count": 12,
   "metadata": {},
   "outputs": [
    {
     "name": "stdout",
     "output_type": "stream",
     "text": [
      "making class\n",
      "In MetaTwo.new: \n",
      "...Spam\n",
      "...(<class '__main__.Eggs'>,)\n",
      "...{'__module__': '__main__', '__qualname__': 'Spam', 'data': 1, 'meth': <function Spam.meth at 0x0343C348>}\n",
      "In MetaTwo.init:\n",
      "...Spam\n",
      "...(<class '__main__.Eggs'>,)\n",
      "...{'__module__': '__main__', '__qualname__': 'Spam', 'data': 1, 'meth': <function Spam.meth at 0x0343C348>}\n",
      "...init class object: ['__module__', 'data', 'meth', '__doc__']\n",
      "making instance\n",
      "data: 1 3\n"
     ]
    }
   ],
   "source": [
    "class MetaTwo(type):\n",
    "    def __new__(meta, classname, supers, classdict):\n",
    "        print('In MetaTwo.new: ', classname, supers, classdict, sep='\\n...')\n",
    "        return type.__new__(meta, classname, supers, classdict)\n",
    "    def __init__(Class, classname, supers, classdict):\n",
    "        print('In MetaTwo.init:', classname, supers, classdict, sep='\\n...')\n",
    "        print('...init class object:', list(Class.__dict__.keys()))\n",
    "        \n",
    "class Eggs:\n",
    "    pass\n",
    "print('making class')\n",
    "\n",
    "class Spam(Eggs, metaclass=MetaTwo): # Inherits from Eggs, instance of MetaTwo\n",
    "    data = 1 # Class data attribute\n",
    "    def meth(self, arg): # Class method attribute\n",
    "        return self.data + arg\n",
    "    \n",
    "print('making instance')\n",
    "X = Spam()\n",
    "print('data:', X.data, X.meth(2))"
   ]
  },
  {
   "cell_type": "code",
   "execution_count": 13,
   "metadata": {},
   "outputs": [
    {
     "name": "stdout",
     "output_type": "stream",
     "text": [
      "making class\n",
      "In MetaFunc: \n",
      "...Spam\n",
      "...(<class '__main__.Eggs'>,)\n",
      "...{'__module__': '__main__', '__qualname__': 'Spam', 'data': 1, 'meth': <function Spam.meth at 0x0343C930>}\n",
      "making instance\n",
      "data: 1 3\n"
     ]
    }
   ],
   "source": [
    "def MetaFunc(classname, supers, classdict):\n",
    "    print('In MetaFunc: ', classname, supers, classdict, sep='\\n...')\n",
    "    return type(classname, supers, classdict)\n",
    "\n",
    "class Eggs:\n",
    "    pass\n",
    "\n",
    "print('making class')\n",
    "class Spam(Eggs, metaclass=MetaFunc): # Run simple function at end\n",
    "    data = 1 # Function returns class\n",
    "    def meth(self, arg):\n",
    "        return self.data + arg\n",
    "    \n",
    "print('making instance')\n",
    "X = Spam()\n",
    "print('data:', X.data, X.meth(2))"
   ]
  },
  {
   "cell_type": "code",
   "execution_count": 14,
   "metadata": {},
   "outputs": [
    {
     "name": "stdout",
     "output_type": "stream",
     "text": [
      "making class\n",
      "In MetaObj.call: \n",
      "...Spam\n",
      "...(<class '__main__.Eggs'>,)\n",
      "...{'__module__': '__main__', '__qualname__': 'Spam', 'data': 1, 'meth': <function Spam.meth at 0x0343C348>}\n",
      "In MetaObj.new: \n",
      "...Spam\n",
      "...(<class '__main__.Eggs'>,)\n",
      "...{'__module__': '__main__', '__qualname__': 'Spam', 'data': 1, 'meth': <function Spam.meth at 0x0343C348>}\n",
      "In MetaObj.init:\n",
      "...Spam\n",
      "...(<class '__main__.Eggs'>,)\n",
      "...{'__module__': '__main__', '__qualname__': 'Spam', 'data': 1, 'meth': <function Spam.meth at 0x0343C348>}\n",
      "...init class object: ['__module__', 'data', 'meth', '__doc__']\n",
      "making instance\n",
      "data: 1 3\n"
     ]
    }
   ],
   "source": [
    "class MetaObj:\n",
    "    def __call__(self, classname, supers, classdict):\n",
    "        print('In MetaObj.call: ', classname, supers, classdict, sep='\\n...')\n",
    "        Class = self.__New__(classname, supers, classdict)\n",
    "        self.__Init__(Class, classname, supers, classdict)\n",
    "        return Class\n",
    "    \n",
    "    def __New__(self, classname, supers, classdict):\n",
    "        print('In MetaObj.new: ', classname, supers, classdict, sep='\\n...')\n",
    "        return type(classname, supers, classdict)\n",
    "    \n",
    "    def __Init__(self, Class, classname, supers, classdict):\n",
    "        print('In MetaObj.init:', classname, supers, classdict, sep='\\n...')\n",
    "        print('...init class object:', list(Class.__dict__.keys()))\n",
    "        \n",
    "class Eggs:\n",
    "    pass\n",
    "\n",
    "print('making class')\n",
    "class Spam(Eggs, metaclass=MetaObj()): # MetaObj is normal class instance\n",
    "    data = 1 # Called at end of statement\n",
    "    def meth(self, arg):\n",
    "        return self.data + arg\n",
    "    \n",
    "print('making instance')\n",
    "X = Spam()\n",
    "print('data:', X.data, X.meth(2))"
   ]
  },
  {
   "cell_type": "code",
   "execution_count": 15,
   "metadata": {},
   "outputs": [
    {
     "name": "stdout",
     "output_type": "stream",
     "text": [
      "In SuperMetaObj.call: \n",
      "...Spam\n",
      "...(<class '__main__.Eggs'>,)\n",
      "...{'__module__': '__main__', '__qualname__': 'Spam', 'data': 1, 'meth': <function Spam.meth at 0x0343CC00>}\n",
      "In SubMetaObj.new: \n",
      "...Spam\n",
      "...(<class '__main__.Eggs'>,)\n",
      "...{'__module__': '__main__', '__qualname__': 'Spam', 'data': 1, 'meth': <function Spam.meth at 0x0343CC00>}\n",
      "In SubMetaObj.init:\n",
      "...Spam\n",
      "...(<class '__main__.Eggs'>,)\n",
      "...{'__module__': '__main__', '__qualname__': 'Spam', 'data': 1, 'meth': <function Spam.meth at 0x0343CC00>}\n",
      "...init class object: ['__module__', 'data', 'meth', '__doc__']\n",
      "making instance\n",
      "data: 1 3\n"
     ]
    }
   ],
   "source": [
    "class SuperMetaObj:\n",
    "    def __call__(self, classname, supers, classdict):\n",
    "        print('In SuperMetaObj.call: ', classname, supers, classdict, sep='\\n...')\n",
    "        Class = self.__New__(classname, supers, classdict)\n",
    "        self.__Init__(Class, classname, supers, classdict)\n",
    "        return Class\n",
    "    \n",
    "class SubMetaObj(SuperMetaObj):\n",
    "    def __New__(self, classname, supers, classdict):\n",
    "        print('In SubMetaObj.new: ', classname, supers, classdict, sep='\\n...')\n",
    "        return type(classname, supers, classdict)\n",
    "    \n",
    "    def __Init__(self, Class, classname, supers, classdict):\n",
    "        print('In SubMetaObj.init:', classname, supers, classdict, sep='\\n...')\n",
    "        print('...init class object:', list(Class.__dict__.keys()))\n",
    "        \n",
    "class Spam(Eggs, metaclass=SubMetaObj()):\n",
    "    data = 1 # Called at end of statement\n",
    "    def meth(self, arg):\n",
    "        return self.data + arg\n",
    "    \n",
    "print('making instance')\n",
    "X = Spam()\n",
    "print('data:', X.data, X.meth(2))"
   ]
  },
  {
   "cell_type": "code",
   "execution_count": 16,
   "metadata": {},
   "outputs": [
    {
     "name": "stdout",
     "output_type": "stream",
     "text": [
      "making metaclass\n",
      "In SuperMeta init:\n",
      "...SubMeta\n",
      "...(<class 'type'>,)\n",
      "...{'__module__': '__main__', '__qualname__': 'SubMeta', '__new__': <function SubMeta.__new__ at 0x0343C420>, '__init__': <function SubMeta.__init__ at 0x0343C270>}\n",
      "...init class object: ['__module__', '__new__', '__init__', '__doc__']\n",
      "making class\n",
      "In SuperMeta.call: \n",
      "...Spam\n",
      "...(<class '__main__.Eggs'>,)\n",
      "...{'__module__': '__main__', '__qualname__': 'Spam', 'data': 1, 'meth': <function Spam.meth at 0x0343CFA8>}\n",
      "In SubMeta.new: \n",
      "...Spam\n",
      "...(<class '__main__.Eggs'>,)\n",
      "...{'__module__': '__main__', '__qualname__': 'Spam', 'data': 1, 'meth': <function Spam.meth at 0x0343CFA8>}\n",
      "In SubMeta init:\n",
      "...Spam\n",
      "...(<class '__main__.Eggs'>,)\n",
      "...{'__module__': '__main__', '__qualname__': 'Spam', 'data': 1, 'meth': <function Spam.meth at 0x0343CFA8>}\n",
      "...init class object: ['__module__', 'data', 'meth', '__doc__']\n",
      "making instance\n",
      "data: 1 3\n"
     ]
    }
   ],
   "source": [
    "class SuperMeta(type):\n",
    "    def __call__(meta, classname, supers, classdict):\n",
    "        print('In SuperMeta.call: ', classname, supers, classdict, sep='\\n...')\n",
    "        return type.__call__(meta, classname, supers, classdict)\n",
    "    \n",
    "    def __init__(Class, classname, supers, classdict):\n",
    "        print('In SuperMeta init:', classname, supers, classdict, sep='\\n...')\n",
    "        print('...init class object:', list(Class.__dict__.keys()))\n",
    "        \n",
    "print('making metaclass')\n",
    "class SubMeta(type, metaclass=SuperMeta):\n",
    "    def __new__(meta, classname, supers, classdict):\n",
    "        print('In SubMeta.new: ', classname, supers, classdict, sep='\\n...')\n",
    "        return type.__new__(meta, classname, supers, classdict)\n",
    "    \n",
    "    def __init__(Class, classname, supers, classdict):\n",
    "        print('In SubMeta init:', classname, supers, classdict, sep='\\n...')\n",
    "        print('...init class object:', list(Class.__dict__.keys()))\n",
    "        \n",
    "class Eggs:\n",
    "    pass\n",
    "\n",
    "print('making class')\n",
    "class Spam(Eggs, metaclass=SubMeta): # Invoke SubMeta, via SuperMeta.__call__\n",
    "    data = 1\n",
    "    def meth(self, arg):\n",
    "        return self.data + arg\n",
    "    \n",
    "print('making instance')\n",
    "X = Spam()\n",
    "print('data:', X.data, X.meth(2))"
   ]
  },
  {
   "cell_type": "code",
   "execution_count": 17,
   "metadata": {},
   "outputs": [
    {
     "name": "stdout",
     "output_type": "stream",
     "text": [
      "<class 'type'>\n",
      "['SubMeta', 'SuperMeta', 'type', 'object']\n",
      "\n",
      "<function SuperMeta.__call__ at 0x03406DB0>\n",
      "\n",
      "In SuperMeta.call: xxx\n",
      "In SubMeta init: xxx\n",
      "\n",
      "In SubMeta init: yyy\n"
     ]
    },
    {
     "data": {
      "text/plain": [
       "__main__.yyy"
      ]
     },
     "execution_count": 17,
     "metadata": {},
     "output_type": "execute_result"
    }
   ],
   "source": [
    "class SuperMeta(type):\n",
    "    def __call__(meta, classname, supers, classdict): # By name, not built-in\n",
    "        print('In SuperMeta.call:', classname)\n",
    "        return type.__call__(meta, classname, supers, classdict)\n",
    "    \n",
    "class SubMeta(SuperMeta): # Created by type default\n",
    "    def __init__(Class, classname, supers, classdict): # Overrides type.__init__\n",
    "        print('In SubMeta init:', classname)\n",
    "        \n",
    "print(SubMeta.__class__)\n",
    "print([n.__name__ for n in SubMeta.__mro__])\n",
    "print()\n",
    "print(SubMeta.__call__) # Not a data descriptor if found by name\n",
    "print()\n",
    "SubMeta.__call__(SubMeta, 'xxx', (), {}) # Explicit calls work: class inheritance\n",
    "print()\n",
    "SubMeta('yyy', (), {})"
   ]
  },
  {
   "cell_type": "markdown",
   "metadata": {},
   "source": [
    "## Inheritance and Instance"
   ]
  },
  {
   "cell_type": "code",
   "execution_count": 18,
   "metadata": {},
   "outputs": [
    {
     "name": "stdout",
     "output_type": "stream",
     "text": [
      "In MetaOne.new: Super\n",
      "In MetaOne.new: Sub\n"
     ]
    }
   ],
   "source": [
    "class MetaOne(type):\n",
    "    def __new__(meta, classname, supers, classdict): # Redefine\n",
    "        print('In MetaOne.new:', classname)\n",
    "        return type.__new__(meta, classname, supers, classdict)\n",
    "    \n",
    "    def toast(self):\n",
    "        return 'toast'\n",
    "    \n",
    "class Super(metaclass=MetaOne): # Metaclass inherited by subs too\n",
    "    def spam(self): # MetaOne run twice for two classes\n",
    "        return 'spam'\n",
    "    \n",
    "class Sub(Super): # Superclass: inheritance versus instance\n",
    "    def eggs(self): # Classes inherit from superclasses\n",
    "        return 'eggs' # But not from metaclasse"
   ]
  },
  {
   "cell_type": "code",
   "execution_count": 19,
   "metadata": {},
   "outputs": [
    {
     "data": {
      "text/plain": [
       "'eggs'"
      ]
     },
     "execution_count": 19,
     "metadata": {},
     "output_type": "execute_result"
    }
   ],
   "source": [
    "X = Sub()\n",
    "X.eggs()"
   ]
  },
  {
   "cell_type": "code",
   "execution_count": 20,
   "metadata": {},
   "outputs": [
    {
     "data": {
      "text/plain": [
       "'spam'"
      ]
     },
     "execution_count": 20,
     "metadata": {},
     "output_type": "execute_result"
    }
   ],
   "source": [
    "X.spam()"
   ]
  },
  {
   "cell_type": "markdown",
   "metadata": {},
   "source": [
    "Ta thử truy cập vào phương thức của lớp MetaOne.\n",
    "```python\n",
    "X.toast() \n",
    "```\n",
    "`Output: AttributeError: 'Sub' object has no attribute 'toast'`"
   ]
  },
  {
   "cell_type": "code",
   "execution_count": 21,
   "metadata": {},
   "outputs": [
    {
     "data": {
      "text/plain": [
       "<bound method MetaOne.toast of <class '__main__.Sub'>>"
      ]
     },
     "execution_count": 21,
     "metadata": {},
     "output_type": "execute_result"
    }
   ],
   "source": [
    "Sub.toast"
   ]
  },
  {
   "cell_type": "code",
   "execution_count": 22,
   "metadata": {},
   "outputs": [
    {
     "data": {
      "text/plain": [
       "<function __main__.Super.spam(self)>"
      ]
     },
     "execution_count": 22,
     "metadata": {},
     "output_type": "execute_result"
    }
   ],
   "source": [
    " Sub.spam"
   ]
  },
  {
   "cell_type": "code",
   "execution_count": 23,
   "metadata": {},
   "outputs": [
    {
     "data": {
      "text/plain": [
       "<bound method Super.spam of <__main__.Sub object at 0x0343BCB0>>"
      ]
     },
     "execution_count": 23,
     "metadata": {},
     "output_type": "execute_result"
    }
   ],
   "source": [
    "X.spam"
   ]
  },
  {
   "cell_type": "code",
   "execution_count": 24,
   "metadata": {},
   "outputs": [
    {
     "data": {
      "text/plain": [
       "1"
      ]
     },
     "execution_count": 24,
     "metadata": {},
     "output_type": "execute_result"
    }
   ],
   "source": [
    "class A(type): attr = 1\n",
    "class B(metaclass=A): pass\n",
    "I = B() # I inherits from class but not meta!\n",
    "B.attr  # Error with I.attr"
   ]
  },
  {
   "cell_type": "code",
   "execution_count": 25,
   "metadata": {},
   "outputs": [
    {
     "data": {
      "text/plain": [
       "(False, True)"
      ]
     },
     "execution_count": 25,
     "metadata": {},
     "output_type": "execute_result"
    }
   ],
   "source": [
    "'attr' in B.__dict__, 'attr' in A.__dict__"
   ]
  },
  {
   "cell_type": "code",
   "execution_count": 26,
   "metadata": {},
   "outputs": [
    {
     "data": {
      "text/plain": [
       "1"
      ]
     },
     "execution_count": 26,
     "metadata": {},
     "output_type": "execute_result"
    }
   ],
   "source": [
    "class A: attr = 1\n",
    "class B(A): pass # I inherits from class and super\n",
    "I = B()\n",
    "B.attr"
   ]
  },
  {
   "cell_type": "code",
   "execution_count": 27,
   "metadata": {},
   "outputs": [
    {
     "data": {
      "text/plain": [
       "1"
      ]
     },
     "execution_count": 27,
     "metadata": {},
     "output_type": "execute_result"
    }
   ],
   "source": [
    "I.attr"
   ]
  },
  {
   "cell_type": "code",
   "execution_count": 28,
   "metadata": {},
   "outputs": [
    {
     "data": {
      "text/plain": [
       "(False, True)"
      ]
     },
     "execution_count": 28,
     "metadata": {},
     "output_type": "execute_result"
    }
   ],
   "source": [
    "'attr' in B.__dict__, 'attr' in A.__dict__"
   ]
  },
  {
   "cell_type": "code",
   "execution_count": 29,
   "metadata": {},
   "outputs": [
    {
     "data": {
      "text/plain": [
       "(2, 2)"
      ]
     },
     "execution_count": 29,
     "metadata": {},
     "output_type": "execute_result"
    }
   ],
   "source": [
    "class M(type): attr = 1\n",
    "class A: attr = 2\n",
    "class B(A, metaclass=M): pass\n",
    "I = B()\n",
    "B.attr, I.attr"
   ]
  },
  {
   "cell_type": "code",
   "execution_count": 30,
   "metadata": {},
   "outputs": [
    {
     "data": {
      "text/plain": [
       "(False, True, True)"
      ]
     },
     "execution_count": 30,
     "metadata": {},
     "output_type": "execute_result"
    }
   ],
   "source": [
    "'attr' in B.__dict__, 'attr' in A.__dict__, 'attr' in M.__dict__"
   ]
  },
  {
   "cell_type": "code",
   "execution_count": 31,
   "metadata": {},
   "outputs": [
    {
     "data": {
      "text/plain": [
       "(2, 2)"
      ]
     },
     "execution_count": 31,
     "metadata": {},
     "output_type": "execute_result"
    }
   ],
   "source": [
    "class M(type): attr = 1\n",
    "class A: attr = 2\n",
    "class B(A): pass\n",
    "class C(B, metaclass=M): pass # Super two levels above meta: still wins\n",
    "I = C()\n",
    "I.attr, C.attr"
   ]
  },
  {
   "cell_type": "code",
   "execution_count": 32,
   "metadata": {},
   "outputs": [
    {
     "data": {
      "text/plain": [
       "['C', 'B', 'A', 'object']"
      ]
     },
     "execution_count": 32,
     "metadata": {},
     "output_type": "execute_result"
    }
   ],
   "source": [
    "[x.__name__ for x in C.__mro__]"
   ]
  },
  {
   "cell_type": "code",
   "execution_count": 33,
   "metadata": {},
   "outputs": [
    {
     "data": {
      "text/plain": [
       "__main__.C"
      ]
     },
     "execution_count": 33,
     "metadata": {},
     "output_type": "execute_result"
    }
   ],
   "source": [
    "I.__class__ # Followed by inheritance: instance's clas"
   ]
  },
  {
   "cell_type": "code",
   "execution_count": 34,
   "metadata": {},
   "outputs": [
    {
     "data": {
      "text/plain": [
       "(__main__.B,)"
      ]
     },
     "execution_count": 34,
     "metadata": {},
     "output_type": "execute_result"
    }
   ],
   "source": [
    " C.__bases__"
   ]
  },
  {
   "cell_type": "code",
   "execution_count": 35,
   "metadata": {},
   "outputs": [
    {
     "data": {
      "text/plain": [
       "__main__.M"
      ]
     },
     "execution_count": 35,
     "metadata": {},
     "output_type": "execute_result"
    }
   ],
   "source": [
    "C.__class__"
   ]
  },
  {
   "cell_type": "code",
   "execution_count": 36,
   "metadata": {},
   "outputs": [
    {
     "data": {
      "text/plain": [
       "1"
      ]
     },
     "execution_count": 36,
     "metadata": {},
     "output_type": "execute_result"
    }
   ],
   "source": [
    "C.__class__.attr # Another way to get to metaclass attribute"
   ]
  },
  {
   "cell_type": "code",
   "execution_count": 37,
   "metadata": {},
   "outputs": [],
   "source": [
    "class M1(type): attr1 = 1 # Metaclass inheritance tree\n",
    "class M2(M1): attr2 = 2"
   ]
  },
  {
   "cell_type": "code",
   "execution_count": 38,
   "metadata": {},
   "outputs": [],
   "source": [
    "class C1: attr3 = 3 # Superclass inheritance tree\n",
    "class C2(C1,metaclass=M2): attr4 = 4"
   ]
  },
  {
   "cell_type": "code",
   "execution_count": 39,
   "metadata": {},
   "outputs": [
    {
     "data": {
      "text/plain": [
       "(3, 4)"
      ]
     },
     "execution_count": 39,
     "metadata": {},
     "output_type": "execute_result"
    }
   ],
   "source": [
    "I = C2() # I gets __class__ but not others\n",
    "I.attr3, I.attr4"
   ]
  },
  {
   "cell_type": "code",
   "execution_count": 40,
   "metadata": {},
   "outputs": [
    {
     "data": {
      "text/plain": [
       "(1, 2, 3, 4)"
      ]
     },
     "execution_count": 40,
     "metadata": {},
     "output_type": "execute_result"
    }
   ],
   "source": [
    "C2.attr1, C2.attr2, C2.attr3, C2.attr4"
   ]
  },
  {
   "cell_type": "code",
   "execution_count": 41,
   "metadata": {},
   "outputs": [
    {
     "data": {
      "text/plain": [
       "(1, 2)"
      ]
     },
     "execution_count": 41,
     "metadata": {},
     "output_type": "execute_result"
    }
   ],
   "source": [
    " M2.attr1, M2.attr2"
   ]
  },
  {
   "cell_type": "code",
   "execution_count": 42,
   "metadata": {},
   "outputs": [
    {
     "data": {
      "text/plain": [
       "__main__.C2"
      ]
     },
     "execution_count": 42,
     "metadata": {},
     "output_type": "execute_result"
    }
   ],
   "source": [
    "I.__class__ # Links followed at instance with no __base"
   ]
  },
  {
   "cell_type": "code",
   "execution_count": 43,
   "metadata": {},
   "outputs": [
    {
     "data": {
      "text/plain": [
       "(__main__.C1,)"
      ]
     },
     "execution_count": 43,
     "metadata": {},
     "output_type": "execute_result"
    }
   ],
   "source": [
    "C2.__bases__"
   ]
  },
  {
   "cell_type": "code",
   "execution_count": 44,
   "metadata": {},
   "outputs": [
    {
     "data": {
      "text/plain": [
       "__main__.M2"
      ]
     },
     "execution_count": 44,
     "metadata": {},
     "output_type": "execute_result"
    }
   ],
   "source": [
    "C2.__class__ # Links followed at class after __base"
   ]
  },
  {
   "cell_type": "code",
   "execution_count": 45,
   "metadata": {},
   "outputs": [
    {
     "data": {
      "text/plain": [
       "(__main__.M1,)"
      ]
     },
     "execution_count": 45,
     "metadata": {},
     "output_type": "execute_result"
    }
   ],
   "source": [
    "M2.__bases__"
   ]
  },
  {
   "cell_type": "code",
   "execution_count": 46,
   "metadata": {},
   "outputs": [
    {
     "data": {
      "text/plain": [
       "1"
      ]
     },
     "execution_count": 46,
     "metadata": {},
     "output_type": "execute_result"
    }
   ],
   "source": [
    "I.__class__.attr1 # Route inheritance to the class's meta tree"
   ]
  },
  {
   "cell_type": "code",
   "execution_count": 47,
   "metadata": {},
   "outputs": [
    {
     "data": {
      "text/plain": [
       "type"
      ]
     },
     "execution_count": 47,
     "metadata": {},
     "output_type": "execute_result"
    }
   ],
   "source": [
    "M2.__class__"
   ]
  },
  {
   "cell_type": "code",
   "execution_count": 48,
   "metadata": {},
   "outputs": [
    {
     "data": {
      "text/plain": [
       "['C2', 'C1', 'object']"
      ]
     },
     "execution_count": 48,
     "metadata": {},
     "output_type": "execute_result"
    }
   ],
   "source": [
    "[x.__name__ for x in C2.__mro__]"
   ]
  },
  {
   "cell_type": "code",
   "execution_count": 49,
   "metadata": {},
   "outputs": [
    {
     "data": {
      "text/plain": [
       "['M2', 'M1', 'type', 'object']"
      ]
     },
     "execution_count": 49,
     "metadata": {},
     "output_type": "execute_result"
    }
   ],
   "source": [
    "[x.__name__ for x in M2.__mro__]"
   ]
  },
  {
   "cell_type": "code",
   "execution_count": 50,
   "metadata": {},
   "outputs": [
    {
     "data": {
      "text/plain": [
       "(__main__.C, {})"
      ]
     },
     "execution_count": 50,
     "metadata": {},
     "output_type": "execute_result"
    }
   ],
   "source": [
    "class C: pass # Inheritance special case #1...\n",
    "I = C() # Class data descriptors have precedence\n",
    "I.__class__, I.__dict__"
   ]
  },
  {
   "cell_type": "code",
   "execution_count": 51,
   "metadata": {},
   "outputs": [],
   "source": [
    "I.__dict__['name'] = 'bob' # Dynamic data in the instance\n",
    "I.__dict__['__class__'] = 'spam' # Assign keys, not attributes\n",
    "I.__dict__['__dict__'] = {}"
   ]
  },
  {
   "cell_type": "code",
   "execution_count": 52,
   "metadata": {},
   "outputs": [
    {
     "data": {
      "text/plain": [
       "'bob'"
      ]
     },
     "execution_count": 52,
     "metadata": {},
     "output_type": "execute_result"
    }
   ],
   "source": [
    "I.name"
   ]
  },
  {
   "cell_type": "code",
   "execution_count": 53,
   "metadata": {},
   "outputs": [
    {
     "data": {
      "text/plain": [
       "(__main__.C, {'name': 'bob', '__class__': 'spam', '__dict__': {}})"
      ]
     },
     "execution_count": 53,
     "metadata": {},
     "output_type": "execute_result"
    }
   ],
   "source": [
    "I.__class__, I.__dict__"
   ]
  },
  {
   "cell_type": "code",
   "execution_count": 54,
   "metadata": {},
   "outputs": [],
   "source": [
    "class D:\n",
    "    def __get__(self, instance, owner): print('__get__')\n",
    "    def __set__(self, instance, value): print('__set__')"
   ]
  },
  {
   "cell_type": "code",
   "execution_count": 55,
   "metadata": {},
   "outputs": [
    {
     "name": "stdout",
     "output_type": "stream",
     "text": [
      "__get__\n"
     ]
    }
   ],
   "source": [
    "class C: d = D() # Data descriptor attribute\n",
    "I = C()\n",
    "I.d"
   ]
  },
  {
   "cell_type": "code",
   "execution_count": 56,
   "metadata": {},
   "outputs": [
    {
     "name": "stdout",
     "output_type": "stream",
     "text": [
      "__set__\n"
     ]
    }
   ],
   "source": [
    "I.d = 1"
   ]
  },
  {
   "cell_type": "code",
   "execution_count": 57,
   "metadata": {},
   "outputs": [
    {
     "name": "stdout",
     "output_type": "stream",
     "text": [
      "__get__\n"
     ]
    }
   ],
   "source": [
    "I.__dict__['d'] = 'spam'\n",
    "I.d"
   ]
  },
  {
   "cell_type": "code",
   "execution_count": 58,
   "metadata": {},
   "outputs": [
    {
     "name": "stdout",
     "output_type": "stream",
     "text": [
      "__get__\n"
     ]
    }
   ],
   "source": [
    "class D:\n",
    "    def __get__(self, instance, owner): print('__get__')\n",
    "class C: d = D()\n",
    "I = C()\n",
    "I.d"
   ]
  },
  {
   "cell_type": "code",
   "execution_count": 59,
   "metadata": {},
   "outputs": [
    {
     "data": {
      "text/plain": [
       "'spam'"
      ]
     },
     "execution_count": 59,
     "metadata": {},
     "output_type": "execute_result"
    }
   ],
   "source": [
    "I.__dict__['d'] = 'spam' # Hides class names per normal inheritance rules\n",
    "I.d"
   ]
  },
  {
   "cell_type": "code",
   "execution_count": 60,
   "metadata": {},
   "outputs": [
    {
     "data": {
      "text/plain": [
       "('class', 'class')"
      ]
     },
     "execution_count": 60,
     "metadata": {},
     "output_type": "execute_result"
    }
   ],
   "source": [
    "class C: # Inheritance special case #2...\n",
    "    attr = 1 # Built-ins skip a step\n",
    "    def __str__(self): return('class')\n",
    "I = C()\n",
    "I.__str__(), str(I)"
   ]
  },
  {
   "cell_type": "code",
   "execution_count": 61,
   "metadata": {},
   "outputs": [
    {
     "data": {
      "text/plain": [
       "('instance', 'class')"
      ]
     },
     "execution_count": 61,
     "metadata": {},
     "output_type": "execute_result"
    }
   ],
   "source": [
    "I.__str__ = lambda: 'instance'\n",
    "I.__str__(), str(I)"
   ]
  },
  {
   "cell_type": "code",
   "execution_count": 62,
   "metadata": {},
   "outputs": [
    {
     "data": {
      "text/plain": [
       "1"
      ]
     },
     "execution_count": 62,
     "metadata": {},
     "output_type": "execute_result"
    }
   ],
   "source": [
    "I.attr # Asymmetric with normal or explicit name"
   ]
  },
  {
   "cell_type": "code",
   "execution_count": 63,
   "metadata": {},
   "outputs": [
    {
     "data": {
      "text/plain": [
       "2"
      ]
     },
     "execution_count": 63,
     "metadata": {},
     "output_type": "execute_result"
    }
   ],
   "source": [
    "I.attr = 2; I.attr"
   ]
  },
  {
   "cell_type": "code",
   "execution_count": 64,
   "metadata": {},
   "outputs": [
    {
     "data": {
      "text/plain": [
       "('D class', \"<class '__main__.C'>\")"
      ]
     },
     "execution_count": 64,
     "metadata": {},
     "output_type": "execute_result"
    }
   ],
   "source": [
    "class D(type):\n",
    "    def __str__(self): return('D class')\n",
    "class C(D):\n",
    "    pass\n",
    "C.__str__(C), str(C)"
   ]
  },
  {
   "cell_type": "code",
   "execution_count": 65,
   "metadata": {},
   "outputs": [
    {
     "data": {
      "text/plain": [
       "('C class', \"<class '__main__.C'>\")"
      ]
     },
     "execution_count": 65,
     "metadata": {},
     "output_type": "execute_result"
    }
   ],
   "source": [
    "class C(D):\n",
    "    def __str__(self): return('C class')\n",
    "C.__str__(C), str(C)"
   ]
  },
  {
   "cell_type": "code",
   "execution_count": 66,
   "metadata": {},
   "outputs": [
    {
     "data": {
      "text/plain": [
       "('C class', 'D class')"
      ]
     },
     "execution_count": 66,
     "metadata": {},
     "output_type": "execute_result"
    }
   ],
   "source": [
    "class C(metaclass=D):\n",
    "    def __str__(self): return('C class')\n",
    "C.__str__(C), str(C)"
   ]
  },
  {
   "cell_type": "code",
   "execution_count": 67,
   "metadata": {},
   "outputs": [
    {
     "data": {
      "text/plain": [
       "(\"<class '__main__.C'>\", 'D class')"
      ]
     },
     "execution_count": 67,
     "metadata": {},
     "output_type": "execute_result"
    }
   ],
   "source": [
    "class C(metaclass=D):\n",
    "    pass\n",
    "C.__str__(C), str(C)"
   ]
  },
  {
   "cell_type": "code",
   "execution_count": 68,
   "metadata": {},
   "outputs": [
    {
     "data": {
      "text/plain": [
       "<slot wrapper '__str__' of 'object' objects>"
      ]
     },
     "execution_count": 68,
     "metadata": {},
     "output_type": "execute_result"
    }
   ],
   "source": [
    "C.__str__"
   ]
  },
  {
   "cell_type": "code",
   "execution_count": 69,
   "metadata": {},
   "outputs": [
    {
     "name": "stdout",
     "output_type": "stream",
     "text": [
      "['C', 'object']\n",
      "['D', 'type', 'object']\n",
      "['type', 'object']\n"
     ]
    }
   ],
   "source": [
    "for k in (C, C.__class__, type): print([x.__name__ for x in k.__mro__])"
   ]
  },
  {
   "cell_type": "markdown",
   "metadata": {},
   "source": [
    "# 13.1 Metaclass method"
   ]
  },
  {
   "cell_type": "code",
   "execution_count": 70,
   "metadata": {},
   "outputs": [
    {
     "data": {
      "text/plain": [
       "<bound method A.x of <class '__main__.B'>>"
      ]
     },
     "execution_count": 70,
     "metadata": {},
     "output_type": "execute_result"
    }
   ],
   "source": [
    "class A(type):\n",
    "    def x(cls): print('ax', cls) # A metaclass (instances=classes)\n",
    "    def y(cls): print('ay', cls) # y is overridden by instance B\n",
    "\n",
    "class B(metaclass=A):\n",
    "    def y(self): print('by', self) # A normal class (normal instances)\n",
    "    def z(self): print('bz', self) # Namespace dict holds y and z\n",
    "\n",
    "B.x # x acquired from metaclas"
   ]
  },
  {
   "cell_type": "code",
   "execution_count": 71,
   "metadata": {},
   "outputs": [
    {
     "data": {
      "text/plain": [
       "<function __main__.B.y(self)>"
      ]
     },
     "execution_count": 71,
     "metadata": {},
     "output_type": "execute_result"
    }
   ],
   "source": [
    "B.y"
   ]
  },
  {
   "cell_type": "code",
   "execution_count": 72,
   "metadata": {},
   "outputs": [
    {
     "data": {
      "text/plain": [
       "<function __main__.B.z(self)>"
      ]
     },
     "execution_count": 72,
     "metadata": {},
     "output_type": "execute_result"
    }
   ],
   "source": [
    "B.z"
   ]
  },
  {
   "cell_type": "code",
   "execution_count": 73,
   "metadata": {},
   "outputs": [
    {
     "name": "stdout",
     "output_type": "stream",
     "text": [
      "ax <class '__main__.B'>\n"
     ]
    }
   ],
   "source": [
    "B.x()"
   ]
  },
  {
   "cell_type": "code",
   "execution_count": 74,
   "metadata": {},
   "outputs": [
    {
     "name": "stdout",
     "output_type": "stream",
     "text": [
      "by <__main__.B object at 0x03462D50>\n"
     ]
    }
   ],
   "source": [
    "I = B() # Instance method calls: get inst\n",
    "I.y()"
   ]
  },
  {
   "cell_type": "code",
   "execution_count": 75,
   "metadata": {},
   "outputs": [
    {
     "name": "stdout",
     "output_type": "stream",
     "text": [
      "bz <__main__.B object at 0x03462D50>\n"
     ]
    }
   ],
   "source": [
    "I.z()"
   ]
  },
  {
   "cell_type": "code",
   "execution_count": 76,
   "metadata": {},
   "outputs": [],
   "source": [
    "class A(type):\n",
    "    def a(cls): # Metaclass method: gets class\n",
    "        cls.x = cls.y + cls.z\n",
    "        \n",
    "class B(metaclass=A):\n",
    "    y, z = 11, 22\n",
    "    @classmethod # Class method: gets class\n",
    "    def b(cls):\n",
    "        return cls.x        "
   ]
  },
  {
   "cell_type": "code",
   "execution_count": 77,
   "metadata": {},
   "outputs": [
    {
     "data": {
      "text/plain": [
       "33"
      ]
     },
     "execution_count": 77,
     "metadata": {},
     "output_type": "execute_result"
    }
   ],
   "source": [
    "B.a() # Call metaclass method; visible to class only\n",
    "B.x"
   ]
  },
  {
   "cell_type": "code",
   "execution_count": 78,
   "metadata": {},
   "outputs": [
    {
     "data": {
      "text/plain": [
       "(33, 11, 22)"
      ]
     },
     "execution_count": 78,
     "metadata": {},
     "output_type": "execute_result"
    }
   ],
   "source": [
    "I = B()\n",
    "I.x, I.y, I.z"
   ]
  },
  {
   "cell_type": "code",
   "execution_count": 79,
   "metadata": {},
   "outputs": [
    {
     "data": {
      "text/plain": [
       "33"
      ]
     },
     "execution_count": 79,
     "metadata": {},
     "output_type": "execute_result"
    }
   ],
   "source": [
    "I.b()"
   ]
  },
  {
   "cell_type": "code",
   "execution_count": 80,
   "metadata": {},
   "outputs": [
    {
     "data": {
      "text/plain": [
       "'s'"
      ]
     },
     "execution_count": 80,
     "metadata": {},
     "output_type": "execute_result"
    }
   ],
   "source": [
    "class A(type):\n",
    "    def __getitem__(cls, i): # Meta method for processing classes:\n",
    "        return cls.data[i]\n",
    "    \n",
    "class B(metaclass=A): # Data descriptors in meta used first\n",
    "    data = 'spam'\n",
    "\n",
    "B[0]  # Error I[0]"
   ]
  },
  {
   "cell_type": "code",
   "execution_count": 81,
   "metadata": {},
   "outputs": [
    {
     "data": {
      "text/plain": [
       "<bound method A.__getitem__ of <class '__main__.B'>>"
      ]
     },
     "execution_count": 81,
     "metadata": {},
     "output_type": "execute_result"
    }
   ],
   "source": [
    "B.__getitem__"
   ]
  },
  {
   "cell_type": "code",
   "execution_count": 82,
   "metadata": {},
   "outputs": [
    {
     "data": {
      "text/plain": [
       "('spam', 'spam')"
      ]
     },
     "execution_count": 82,
     "metadata": {},
     "output_type": "execute_result"
    }
   ],
   "source": [
    "I = B()\n",
    "I.data, B.data"
   ]
  },
  {
   "cell_type": "code",
   "execution_count": 83,
   "metadata": {},
   "outputs": [],
   "source": [
    "class A(type):\n",
    "    def __getattr__(cls, name): # Acquired by class B getitem\n",
    "        return getattr(cls.data, name) # But not run same by built-in\n",
    "    \n",
    "class B(metaclass=A):\n",
    "    \n",
    "    data = 'spam'"
   ]
  },
  {
   "cell_type": "code",
   "execution_count": 84,
   "metadata": {},
   "outputs": [
    {
     "data": {
      "text/plain": [
       "'SPAM'"
      ]
     },
     "execution_count": 84,
     "metadata": {},
     "output_type": "execute_result"
    }
   ],
   "source": [
    "B.upper()   "
   ]
  },
  {
   "cell_type": "code",
   "execution_count": 85,
   "metadata": {},
   "outputs": [
    {
     "data": {
      "text/plain": [
       "<function str.upper()>"
      ]
     },
     "execution_count": 85,
     "metadata": {},
     "output_type": "execute_result"
    }
   ],
   "source": [
    "B.upper"
   ]
  },
  {
   "cell_type": "code",
   "execution_count": 86,
   "metadata": {},
   "outputs": [
    {
     "data": {
      "text/plain": [
       "<bound method A.__getattr__ of <class '__main__.B'>>"
      ]
     },
     "execution_count": 86,
     "metadata": {},
     "output_type": "execute_result"
    }
   ],
   "source": [
    "B.__getattr__"
   ]
  },
  {
   "cell_type": "code",
   "execution_count": 87,
   "metadata": {},
   "outputs": [
    {
     "data": {
      "text/plain": [
       "[1, 2, 3, 4]"
      ]
     },
     "execution_count": 87,
     "metadata": {},
     "output_type": "execute_result"
    }
   ],
   "source": [
    "B.data = [1, 2, 3]\n",
    "B.append(4) # Explicit normal names routed to meta's getattr\n",
    "B.data"
   ]
  },
  {
   "cell_type": "code",
   "execution_count": 88,
   "metadata": {},
   "outputs": [
    {
     "data": {
      "text/plain": [
       "1"
      ]
     },
     "execution_count": 88,
     "metadata": {},
     "output_type": "execute_result"
    }
   ],
   "source": [
    "B.__getitem__(0) # Error B[0]"
   ]
  },
  {
   "cell_type": "code",
   "execution_count": 89,
   "metadata": {},
   "outputs": [
    {
     "name": "stdout",
     "output_type": "stream",
     "text": [
      "Ni!Ni!\n",
      "Ni!Ni!Ni!Ni!\n",
      "baconham\n",
      "ni?ni?ni?ni?\n",
      "baconham\n"
     ]
    }
   ],
   "source": [
    "class Client1:\n",
    "    def __init__(self, value):\n",
    "        self.value = value\n",
    "    def spam(self):\n",
    "        return self.value * 2\n",
    "    \n",
    "class Client2:\n",
    "    value = 'ni?'\n",
    "    \n",
    "def eggsfunc(obj):\n",
    "    return obj.value * 4\n",
    "\n",
    "def hamfunc(obj, value):\n",
    "    return value + 'ham'\n",
    "\n",
    "Client1.eggs = eggsfunc\n",
    "Client1.ham = hamfunc\n",
    "Client2.eggs = eggsfunc\n",
    "Client2.ham = hamfunc\n",
    "\n",
    "X = Client1('Ni!')\n",
    "print(X.spam())\n",
    "print(X.eggs())\n",
    "print(X.ham('bacon'))\n",
    "Y = Client2()\n",
    "print(Y.eggs())\n",
    "print(Y.ham('bacon'))"
   ]
  },
  {
   "cell_type": "code",
   "execution_count": 90,
   "metadata": {},
   "outputs": [
    {
     "name": "stdout",
     "output_type": "stream",
     "text": [
      "Ni!Ni!\n",
      "Ni!Ni!Ni!Ni!\n",
      "baconham\n",
      "ni?ni?ni?ni?\n",
      "baconham\n"
     ]
    }
   ],
   "source": [
    "def eggsfunc(obj):\n",
    "    return obj.value * 4\n",
    "\n",
    "def hamfunc(obj, value):\n",
    "    return value + 'ham'\n",
    "\n",
    "class Extender(type):\n",
    "    def __new__(meta, classname, supers, classdict):\n",
    "        classdict['eggs'] = eggsfunc\n",
    "        classdict['ham'] = hamfunc\n",
    "        return type.__new__(meta, classname, supers, classdict)\n",
    "    \n",
    "class Client1(metaclass=Extender):\n",
    "    def __init__(self, value):\n",
    "        self.value = value\n",
    "        \n",
    "    def spam(self):\n",
    "        return self.value * 2\n",
    "    \n",
    "class Client2(metaclass=Extender):\n",
    "    value = 'ni?'\n",
    "    \n",
    "X = Client1('Ni!')\n",
    "print(X.spam())\n",
    "print(X.eggs())\n",
    "print(X.ham('bacon'))\n",
    "Y = Client2()\n",
    "print(Y.eggs())\n",
    "print(Y.ham('bacon'))"
   ]
  },
  {
   "cell_type": "code",
   "execution_count": 91,
   "metadata": {},
   "outputs": [],
   "source": [
    "class MetaExtend(type):\n",
    "    def __new__(meta, classname, supers, classdict):\n",
    "        if sometest():\n",
    "            classdict['eggs'] = eggsfunc1\n",
    "        else:\n",
    "            classdict['eggs'] = eggsfunc2\n",
    "        if someothertest():\n",
    "            classdict['ham'] = hamfunc\n",
    "        else:\n",
    "            classdict['ham'] = lambda *args: 'Not supported'\n",
    "        return type.__new__(meta, classname, supers, classdict)"
   ]
  },
  {
   "cell_type": "markdown",
   "metadata": {},
   "source": [
    "# 13.3 Metaclass với Decorator"
   ]
  },
  {
   "cell_type": "code",
   "execution_count": 92,
   "metadata": {},
   "outputs": [
    {
     "name": "stdout",
     "output_type": "stream",
     "text": [
      "Ni!Ni!\n",
      "Ni!Ni!Ni!Ni!\n",
      "baconham\n",
      "ni?ni?ni?ni?\n",
      "baconham\n"
     ]
    }
   ],
   "source": [
    "def eggsfunc(obj):\n",
    "    return obj.value * 4\n",
    "\n",
    "def hamfunc(obj, value):\n",
    "    return value + 'ham'\n",
    "\n",
    "def Extender(aClass):\n",
    "    aClass.eggs = eggsfunc # Manages class, not instance\n",
    "    aClass.ham = hamfunc # Equiv to metaclass __init__\n",
    "    return aClass\n",
    "\n",
    "@Extender\n",
    "class Client1: # Client1 = Extender(Client1)\n",
    "    def __init__(self, value): # Rebound at end of class stmt\n",
    "        self.value = value\n",
    "    def spam(self):\n",
    "        return self.value * 2\n",
    "    \n",
    "@Extender\n",
    "class Client2:\n",
    "    value = 'ni?'\n",
    "    \n",
    "X = Client1('Ni!') # X is a Client1 instance\n",
    "print(X.spam())\n",
    "print(X.eggs())\n",
    "print(X.ham('bacon'))\n",
    "Y = Client2()\n",
    "print(Y.eggs())\n",
    "print(Y.ham('bacon'))"
   ]
  },
  {
   "cell_type": "code",
   "execution_count": 93,
   "metadata": {},
   "outputs": [
    {
     "name": "stdout",
     "output_type": "stream",
     "text": [
      "Trace: name\n",
      "Bob\n",
      "Trace: pay\n",
      "2000\n"
     ]
    }
   ],
   "source": [
    "def Tracer(aClass): # On @ decorator\n",
    "    class Wrapper:\n",
    "        def __init__(self, *args, **kargs): # On instance creation\n",
    "            self.wrapped = aClass(*args, **kargs) # Use enclosing scope name\n",
    "        def __getattr__(self, attrname):\n",
    "            print('Trace:', attrname) # Catches all but .wrapped\n",
    "            return getattr(self.wrapped, attrname) # Delegate to wrapped object\n",
    "    return Wrapper\n",
    "\n",
    "@Tracer\n",
    "class Person: # Person = Tracer(Person)\n",
    "    def __init__(self, name, hours, rate): # Wrapper remembers Person\n",
    "        self.name = name\n",
    "        self.hours = hours\n",
    "        self.rate = rate # In-method fetch not traced\n",
    "    def pay(self):\n",
    "        return self.hours * self.rate\n",
    "    \n",
    "bob = Person('Bob', 40, 50) # bob is really a Wrapper\n",
    "print(bob.name) # Wrapper embeds a Person\n",
    "print(bob.pay()) # Triggers __getattr_"
   ]
  },
  {
   "cell_type": "code",
   "execution_count": 94,
   "metadata": {},
   "outputs": [
    {
     "name": "stdout",
     "output_type": "stream",
     "text": [
      "Trace: name\n",
      "Bob\n",
      "Trace: pay\n",
      "2000\n"
     ]
    }
   ],
   "source": [
    "def Tracer(classname, supers, classdict): # On class creation call\n",
    "    aClass = type(classname, supers, classdict) # Make client class\n",
    "    \n",
    "    class Wrapper:\n",
    "        def __init__(self, *args, **kargs): # On instance creation\n",
    "            self.wrapped = aClass(*args, **kargs)\n",
    "            \n",
    "        def __getattr__(self, attrname):\n",
    "            print('Trace:', attrname) # Catches all but .wrapped\n",
    "            return getattr(self.wrapped, attrname) # Delegate to wrapped object\n",
    "    return Wrapper\n",
    "\n",
    "class Person(metaclass=Tracer): # Make Person with Tracer\n",
    "    def __init__(self, name, hours, rate): # Wrapper remembers Person\n",
    "        self.name = name\n",
    "        self.hours = hours\n",
    "        self.rate = rate # In-method fetch not traced\n",
    "        \n",
    "    def pay(self):\n",
    "        return self.hours * self.rate\n",
    "    \n",
    "bob = Person('Bob', 40, 50) # bob is really a Wrapper\n",
    "print(bob.name) # Wrapper embeds a Person\n",
    "print(bob.pay()) # Triggers __getatt"
   ]
  },
  {
   "cell_type": "code",
   "execution_count": 95,
   "metadata": {},
   "outputs": [],
   "source": [
    "class Metaclass(type):\n",
    "    def __new__(meta, clsname, supers, attrdict):\n",
    "        print('In M.__new__:')\n",
    "        print([clsname, supers, list(attrdict.keys())])\n",
    "        return type.__new__(meta, clsname, supers, attrdict)\n",
    "    \n",
    "def decorator(cls):\n",
    "    return Metaclass(cls.__name__, cls.__bases__, dict(cls.__dict__))\n"
   ]
  },
  {
   "cell_type": "code",
   "execution_count": 96,
   "metadata": {},
   "outputs": [
    {
     "name": "stdout",
     "output_type": "stream",
     "text": [
      "In M.__new__:\n",
      "['B', (<class '__main__.A'>,), ['__module__', 'y', 'm', '__doc__']]\n"
     ]
    }
   ],
   "source": [
    "class A:\n",
    "    x = 1\n",
    "    \n",
    "@decorator\n",
    "class B(A):\n",
    "    y = 2\n",
    "    def m(self): return self.x + self.y"
   ]
  },
  {
   "cell_type": "code",
   "execution_count": 97,
   "metadata": {},
   "outputs": [
    {
     "data": {
      "text/plain": [
       "(1, 2)"
      ]
     },
     "execution_count": 97,
     "metadata": {},
     "output_type": "execute_result"
    }
   ],
   "source": [
    " B.x, B.y"
   ]
  },
  {
   "cell_type": "code",
   "execution_count": 98,
   "metadata": {},
   "outputs": [
    {
     "data": {
      "text/plain": [
       "(1, 2, 3)"
      ]
     },
     "execution_count": 98,
     "metadata": {},
     "output_type": "execute_result"
    }
   ],
   "source": [
    "I = B()\n",
    "I.x, I.y, I.m()"
   ]
  },
  {
   "cell_type": "code",
   "execution_count": 99,
   "metadata": {},
   "outputs": [
    {
     "name": "stdout",
     "output_type": "stream",
     "text": [
      "Object `huh` not found.\n"
     ]
    }
   ],
   "source": [
    "def func(name, supers, attrs):\n",
    "    return 'spam'\n",
    "\n",
    "class C(metaclass=func): # A class whose metaclass makes it a string!\n",
    "    attr = 'huh?"
   ]
  },
  {
   "cell_type": "code",
   "execution_count": null,
   "metadata": {},
   "outputs": [],
   "source": [
    "    attr = 'huh"
   ]
  },
  {
   "cell_type": "code",
   "execution_count": 100,
   "metadata": {},
   "outputs": [
    {
     "data": {
      "text/plain": [
       "('spam', 'SPAM')"
      ]
     },
     "execution_count": 100,
     "metadata": {},
     "output_type": "execute_result"
    }
   ],
   "source": [
    "C, C.upper()"
   ]
  },
  {
   "cell_type": "code",
   "execution_count": 101,
   "metadata": {},
   "outputs": [],
   "source": [
    "def func(cls):\n",
    "    return 'spam'"
   ]
  },
  {
   "cell_type": "code",
   "execution_count": 102,
   "metadata": {},
   "outputs": [],
   "source": [
    "@func\n",
    "class C: # A class whose decorator makes it a string!\n",
    "    attr = 'huh?'"
   ]
  },
  {
   "cell_type": "code",
   "execution_count": 103,
   "metadata": {},
   "outputs": [
    {
     "data": {
      "text/plain": [
       "('spam', 'SPAM')"
      ]
     },
     "execution_count": 103,
     "metadata": {},
     "output_type": "execute_result"
    }
   ],
   "source": [
    "C, C.upper()"
   ]
  },
  {
   "cell_type": "code",
   "execution_count": 104,
   "metadata": {},
   "outputs": [],
   "source": [
    "import time\n",
    "def tracer(func): # Use function, not class with __call__\n",
    "    calls = 0 # Else self is decorator instance only\n",
    "    \n",
    "    def onCall(*args, **kwargs):\n",
    "        nonlocal calls\n",
    "        calls += 1\n",
    "        print('call %s to %s' % (calls, func.__name__))\n",
    "        return func(*args, **kwargs)\n",
    "    return onCall\n",
    "\n",
    "def timer(label='', trace=True): # On decorator args: retain args\n",
    "    def onDecorator(func): # On @: retain decorated func\n",
    "        def onCall(*args, **kargs): # On calls: call original\n",
    "            start = time.clock() # State is scopes + func attr\n",
    "            result = func(*args, **kargs)\n",
    "            elapsed = time.clock() - start\n",
    "            onCall.alltime += elapsed\n",
    "            \n",
    "            if trace:\n",
    "                format = '%s%s: %.5f, %.5f'\n",
    "                values = (label, func.__name__, elapsed, onCall.alltime)\n",
    "                print(format % values)\n",
    "                return result\n",
    "        onCall.alltime = 0\n",
    "        return onCall\n",
    "    return onDecorator"
   ]
  },
  {
   "cell_type": "code",
   "execution_count": 105,
   "metadata": {},
   "outputs": [
    {
     "name": "stdout",
     "output_type": "stream",
     "text": [
      "call 1 to __init__\n",
      "call 2 to __init__\n",
      "Bob Smith Sue Jones\n",
      "call 1 to giveRaise\n",
      "110000.00\n",
      "call 1 to lastName\n",
      "call 2 to lastName\n",
      "Smith Jones\n"
     ]
    }
   ],
   "source": [
    "class Person:\n",
    "\n",
    "    @tracer\n",
    "    def __init__(self, name, pay):\n",
    "        self.name = name\n",
    "        self.pay = pay\n",
    "        \n",
    "    @tracer\n",
    "    def giveRaise(self, percent): # giveRaise = tracer(giverRaise)\n",
    "        self.pay *= (1.0 + percent) # onCall remembers giveRaise\n",
    "        \n",
    "    @tracer\n",
    "    def lastName(self): # lastName = tracer(lastName)\n",
    "        return self.name.split()[-1]\n",
    "    \n",
    "bob = Person('Bob Smith', 50000)\n",
    "sue = Person('Sue Jones', 100000)\n",
    "print(bob.name, sue.name)\n",
    "sue.giveRaise(.10) # Runs onCall(sue, .10)\n",
    "print('%.2f' % sue.pay)\n",
    "print(bob.lastName(), sue.lastName())"
   ]
  },
  {
   "cell_type": "code",
   "execution_count": 106,
   "metadata": {},
   "outputs": [
    {
     "name": "stdout",
     "output_type": "stream",
     "text": [
      "call 1 to __init__\n",
      "call 2 to __init__\n",
      "Bob Smith Sue Jones\n",
      "call 1 to giveRaise\n",
      "110000.00\n",
      "call 1 to lastName\n",
      "call 2 to lastName\n",
      "Smith Jones\n"
     ]
    }
   ],
   "source": [
    "from types import FunctionType\n",
    "\n",
    "class MetaTrace(type):\n",
    "    def __new__(meta, classname, supers, classdict):\n",
    "        for attr, attrval in classdict.items():\n",
    "            if type(attrval) is FunctionType: # Method?\n",
    "                classdict[attr] = tracer(attrval) # Decorate it\n",
    "        return type.__new__(meta, classname, supers, classdict) # Make class\n",
    "    \n",
    "class Person(metaclass=MetaTrace):\n",
    "    def __init__(self, name, pay):\n",
    "        self.name = name\n",
    "        self.pay = pay\n",
    "    def giveRaise(self, percent):\n",
    "        self.pay *= (1.0 + percent)\n",
    "    def lastName(self):\n",
    "        return self.name.split()[-1]\n",
    "    \n",
    "bob = Person('Bob Smith', 50000)\n",
    "sue = Person('Sue Jones', 100000)\n",
    "print(bob.name, sue.name)\n",
    "sue.giveRaise(.10)\n",
    "print('%.2f' % sue.pay)\n",
    "print(bob.lastName(), sue.lastName())"
   ]
  },
  {
   "cell_type": "markdown",
   "metadata": {},
   "source": [
    "# Bài tập Excercise\n",
    "## A. Quiz\n",
    "**Câu 1:** Metaclass là gì?\n",
    "\n",
    "**Câu 2:** Làm thế nào để bạn khai báo metaclass của một lớp?\n",
    "\n",
    "**Câu 3:** Làm cách nào để decorator class giống với meta class cho quản lý lớp?\n",
    "\n",
    "**Câu 4:** Làm cách nào để decorator class chồng lên metaclass để quản lý các instance?\n",
    "\n",
    "**Câu 5:** \n",
    "## B. Coding\n"
   ]
  },
  {
   "cell_type": "markdown",
   "metadata": {},
   "source": [
    "---\n",
    "# <span style= 'color:blue'> Đáp án </span>"
   ]
  },
  {
   "cell_type": "markdown",
   "metadata": {},
   "source": [
    "**1.** Metaclass là một lớp được sử dụng để tạo một lớp. Các lớp kiểu mới bình thường là các instance của lớp kiểu theo mặc định. Metaclasses thường là lớp con của lớp type,\n",
    "xác định lại các phương thức giao thức tạo lớp để tùy chỉnh lớp\n",
    "lệnh gọi tạo được đưa ra ở cuối một câu lệnh lớp; người ta thường xác định lại\n",
    "phương thức \\_\\_new\\_\\_ và \\_\\_init\\_\\_ để thay đổi vào giao thức tạo lớp.\n",
    "\n",
    "**2.** Trong Python 3.X sử dụng đối số từ khóa trong dòng tiêu đề lớp: class C (metaclass = M). \n",
    "\n",
    "**3.** Bởi vì cả hai đều được tự động kích hoạt ở cuối câu lệnh lớp, lớp\n",
    "decorator và metaclasses đều có thể được sử dụng để quản lý các lớp. Decorator rebind\n",
    "tên lớp cho kết quả của một tệp có thể gọi và tạo lớp định tuyến metaclasses thông qua\n",
    "có thể gọi được, nhưng cả hai móc đều có thể được sử dụng cho các mục đích tương tự. Để quản lý các lớp học, decorator chỉ đơn giản là tăng thêm và trả về các đối tượng lớp ban đầu. Metaclasses tăng thêm một đẳng cấp sau khi họ tạo ra nó. Decorator có thể có một chút bất lợi trong việc này nếu một lớp mới phải được xác định, bởi vì lớp ban đầu đã được\n",
    "tạo.\n",
    "\n",
    "**4.** Bởi vì cả hai đều được tự động kích hoạt ở cuối câu lệnh lớp, chúng ta có thể\n",
    "sử dụng cả trình decorator class và metaclass để quản lý các instance của lớp, bằng cách chèn\n",
    "một đối tượng trình bao bọc (proxy) để bắt các cuộc gọi tạo phiên bản. Decorator có thể kết hợp lại tên lớp cho một chạy có thể gọi được khi tạo cá thể giữ lại lớp ban đầu\n",
    "sự vật. Metaclasses cũng có thể làm được điều tương tự, nhưng có thể có một chút bất lợi trong việc này vì chúng cũng phải tạo đối tượng lớp."
   ]
  },
  {
   "cell_type": "code",
   "execution_count": null,
   "metadata": {},
   "outputs": [],
   "source": []
  }
 ],
 "metadata": {
  "kernelspec": {
   "display_name": "Python 3",
   "language": "python",
   "name": "python3"
  },
  "language_info": {
   "codemirror_mode": {
    "name": "ipython",
    "version": 3
   },
   "file_extension": ".py",
   "mimetype": "text/x-python",
   "name": "python",
   "nbconvert_exporter": "python",
   "pygments_lexer": "ipython3",
   "version": "3.7.0"
  }
 },
 "nbformat": 4,
 "nbformat_minor": 2
}
