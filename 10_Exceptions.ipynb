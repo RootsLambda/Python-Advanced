{
 "cells": [
  {
   "cell_type": "markdown",
   "metadata": {},
   "source": [
    "**Lưu ý:** *Bạn có thể xem trực tiếp trên github, tải xuống, nếu bạn muốn chạy thử hãy truy cập vào google colab nó cung cấp cho bạn thư viện có sẵn và chạy bằng GPU.*\n",
    "\n",
    "[![Open In Colab](https://colab.research.google.com/assets/colab-badge.svg)](https://colab.research.google.com/github/CrackerLambda/PythonBasics/blob/master/14_Exceptions.ipynb)"
   ]
  },
  {
   "cell_type": "markdown",
   "metadata": {},
   "source": [
    "# 10.1 Bắt lỗi là gì?\n",
    "\n",
    "Khi viết chương trình thì thường sẽ có 2 lỗi là lỗi cú pháp và lỗi logic được python gọi là exception.\n",
    "\n",
    "Một số exception phổ biến có thể kể đến là:\n",
    "+ Lỗi chia cho zero.\n",
    "+ Lỗi thời gian chạy quá lâu.\n",
    "+ Lỗi import thư viện.\n",
    "+ Lỗi sai index.\n",
    "\n",
    "Xem ví dụ sau đây:\n",
    "```python\n",
    "def fetcher(obj, index):\n",
    "    return obj[index]\n",
    "fetcher('spam', 4)\n",
    "```\n",
    "`Output: IndexError: string index out of range`"
   ]
  },
  {
   "cell_type": "markdown",
   "metadata": {},
   "source": [
    "# 10.2 Bắt lỗi dùng try/except và try/ finally\n",
    "\n",
    "## Cú pháp bắt lỗi với try/except:\n",
    "\n",
    "**try:** <br>\n",
    "&nbsp;&nbsp;&nbsp;    `<Đoạn mã cần bắt lỗi>`\n",
    "    \n",
    "**except** `<Mã lỗi>`:\n",
    " <br>\n",
    " &nbsp;&nbsp;&nbsp;   `<Câu lệnh xử lý khi gặp lỗi>`"
   ]
  },
  {
   "cell_type": "code",
   "execution_count": 4,
   "metadata": {},
   "outputs": [
    {
     "name": "stdout",
     "output_type": "stream",
     "text": [
      "got exception\n"
     ]
    }
   ],
   "source": [
    "def fetcher(obj, index):\n",
    "    return obj[index]\n",
    "try:\n",
    "    fetcher('spam', 4)\n",
    "except IndexError: \n",
    "    print('got exception')"
   ]
  },
  {
   "cell_type": "code",
   "execution_count": 9,
   "metadata": {},
   "outputs": [
    {
     "name": "stdout",
     "output_type": "stream",
     "text": [
      "Hello world!\n",
      "resuming here\n"
     ]
    }
   ],
   "source": [
    "def kaboom(x, y):\n",
    "    print(x + y) \n",
    "try:\n",
    "    kaboom([0, 1, 2], 'spam')\n",
    "except TypeError: # Catch and recover here\n",
    "    print('Hello world!')\n",
    "print('resuming here') # Continue here if exception or no"
   ]
  },
  {
   "cell_type": "markdown",
   "metadata": {},
   "source": [
    "## Cú pháp bắt lỗi dùng try/finally:\n",
    "**try:** <br>\n",
    "&nbsp;&nbsp;&nbsp;    `<Đoạn mã cần bắt lỗi>`\n",
    "    \n",
    "**finally** `<Mã lỗi>`:\n",
    " <br>\n",
    " &nbsp;&nbsp;&nbsp;   `<Câu lệnh chấm dứt>`"
   ]
  },
  {
   "cell_type": "code",
   "execution_count": 8,
   "metadata": {},
   "outputs": [
    {
     "name": "stdout",
     "output_type": "stream",
     "text": [
      "after fetch\n"
     ]
    }
   ],
   "source": [
    "def fetcher(obj, index):\n",
    "    return obj[index]\n",
    "try:\n",
    "    fetcher('spam', 3)\n",
    "finally: # Termination actions\n",
    "    print('after fetch')"
   ]
  },
  {
   "cell_type": "markdown",
   "metadata": {},
   "source": [
    "Các lệnh trong finally khi không có lỗi và có lỗi điều được xử lý sau cùng."
   ]
  },
  {
   "cell_type": "markdown",
   "metadata": {},
   "source": [
    "## Bắt lỗi nhập sai kiểu giá trị với while"
   ]
  },
  {
   "cell_type": "code",
   "execution_count": 1,
   "metadata": {},
   "outputs": [
    {
     "name": "stdout",
     "output_type": "stream",
     "text": [
      "Nhập một số n:2.3\n",
      "Sai rồi.Bạn hãy nhập lại\n",
      "Nhập một số n:4\n"
     ]
    }
   ],
   "source": [
    "while True:\n",
    "    try:\n",
    "        x=int(input(\"Nhập một số n:\"))\n",
    "        break\n",
    "    except ValueError:\n",
    "        print(\"Sai rồi.Bạn hãy nhập lại\")"
   ]
  },
  {
   "cell_type": "markdown",
   "metadata": {},
   "source": [
    "Từ đây ta thấy nhiệm vụ của exception giúp chúng ta có thể nhập lại mà không bị thoát khỏi chương trình."
   ]
  },
  {
   "cell_type": "code",
   "execution_count": 2,
   "metadata": {},
   "outputs": [
    {
     "name": "stdout",
     "output_type": "stream",
     "text": [
      "Bắt đầu vòng lặp: 0\n",
      "Không thể chuyển thành số nguyên\n",
      "Kết thúc vùng lặp 0\n",
      "Bắt đầu vòng lặp: 1\n",
      "Không thể chuyển thành số nguyên\n",
      "Kết thúc vùng lặp 1\n",
      "Bắt đầu vòng lặp: 2\n",
      "Chia cho số 0\n",
      "Kết thúc vùng lặp 2\n",
      "Bắt đầu vòng lặp: 3\n",
      "Chỉ số vượt quá giới hạn\n",
      "Kết thúc vùng lặp 3\n",
      "Bắt đầu vòng lặp: 4\n",
      "Không thể chuyển thành số nguyên\n",
      "Kết thúc vùng lặp 4\n"
     ]
    }
   ],
   "source": [
    "import random\n",
    "for i in range(5):\n",
    "    print('Bắt đầu vòng lặp:',i)\n",
    "    try:\n",
    "        r=random.randint(1,3)\n",
    "        if r==1:\n",
    "            print(int('Fred'))#Lệnh ép kiểu sai\n",
    "        elif r==2:\n",
    "            [][2]=5 # lệnh gán sai\n",
    "        else:\n",
    "            print(3/0)# lỗi chia cho 0\n",
    "    except ValueError:\n",
    "        print(\"Không thể chuyển thành số nguyên\")\n",
    "    except IndexError:\n",
    "        print(\"Chỉ số vượt quá giới hạn\")\n",
    "    except ZeroDivisionError:\n",
    "        print(\"Chia cho số 0\")\n",
    "    print(\"Kết thúc vùng lặp\",i)"
   ]
  },
  {
   "cell_type": "markdown",
   "metadata": {},
   "source": [
    "# 10.3 Bắt lỗi Exception đầy đủ"
   ]
  },
  {
   "cell_type": "markdown",
   "metadata": {},
   "source": [
    "Khi thực hiện bắt lỗi, chương trình bắt lỗi thực thi khi có mã lỗi chính xác, vì thế ta cần phải có một cú pháp bắt lỗi đầy đủ để khi đó chương trình sẽ chạy mà không dừng đột ngột."
   ]
  },
  {
   "cell_type": "markdown",
   "metadata": {},
   "source": [
    "**Cú pháp:**\n",
    "\n",
    "**try:** <br>\n",
    "&nbsp;&nbsp;&nbsp;    `<Đoạn mã cần bắt lỗi>`\n",
    "    \n",
    "**except** `<Mã lỗi 1>`:\n",
    " <br>\n",
    " &nbsp;&nbsp;&nbsp;   `<Lệnh xử lý khi gặp lỗi>`\n",
    " \n",
    "**except** `<Mã lỗi 2>`:\n",
    " <br>\n",
    " &nbsp;&nbsp;&nbsp;   `<Lệnh xử lý khi gặp lỗi>`\n",
    " \n",
    "**except** `<Mã lỗi N>`:\n",
    " <br>\n",
    " &nbsp;&nbsp;&nbsp;   `<Lệnh xử lý khi gặp lỗi>`\n",
    " \n",
    "**except** Exception:\n",
    " <br>\n",
    " &nbsp;&nbsp;&nbsp;   `<Lệnh xử lý khi gặp lỗi>`"
   ]
  },
  {
   "cell_type": "code",
   "execution_count": 3,
   "metadata": {},
   "outputs": [
    {
     "name": "stdout",
     "output_type": "stream",
     "text": [
      "Bắt đầu vòng lặp: 0\n",
      "Không thể chuyển thành số nguyên\n",
      "Bắt đầu vòng lặp: 1\n",
      "Chia cho số 0\n",
      "Bắt đầu vòng lặp: 2\n",
      "Lỗi khác\n",
      "Bắt đầu vòng lặp: 3\n",
      "Chia cho số 0\n",
      "Bắt đầu vòng lặp: 4\n",
      "Chia cho số 0\n"
     ]
    }
   ],
   "source": [
    "import random\n",
    "for i in range(5):\n",
    "    print('Bắt đầu vòng lặp:',i)\n",
    "    try:\n",
    "        r=random.randint(1,4)\n",
    "        if r==1:\n",
    "            print(int('Fred'))#Lệnh ép kiểu sai\n",
    "        elif r==2:\n",
    "            [][2]=5 # lệnh gán sai\n",
    "        elif r==3:\n",
    "            print({}[1])\n",
    "        else:\n",
    "            print(3/0)# lỗi chia cho 0\n",
    "    except ValueError:\n",
    "        print(\"Không thể chuyển thành số nguyên\")\n",
    "    except IndexError:\n",
    "        print(\"Chỉ số vượt quá giới hạn\")\n",
    "    except ZeroDivisionError:\n",
    "        print(\"Chia cho số 0\")\n",
    "    except Exception:\n",
    "        print('Lỗi khác')"
   ]
  },
  {
   "cell_type": "code",
   "execution_count": 4,
   "metadata": {},
   "outputs": [
    {
     "name": "stdout",
     "output_type": "stream",
     "text": [
      "Hãy nhập một số:2.3\n",
      "Sai rồi bạn hãy nhập lại invalid literal for int() with base 10: '2.3'\n",
      "Hãy nhập lại\n",
      "Hãy nhập một số:2\n",
      "Bạn đã nhập đúng\n"
     ]
    }
   ],
   "source": [
    "while True:\n",
    "    try:\n",
    "        x=int(input(\"Hãy nhập một số:\"))\n",
    "        break\n",
    "    except ValueError as Err:\n",
    "        print(\"Sai rồi bạn hãy nhập lại\",Err)\n",
    "        print(\"Hãy nhập lại\")\n",
    "print(\"Bạn đã nhập đúng\")"
   ]
  },
  {
   "cell_type": "markdown",
   "metadata": {},
   "source": [
    "**Bỏ qua lỗi bằng lệnh pass**"
   ]
  },
  {
   "cell_type": "code",
   "execution_count": 5,
   "metadata": {},
   "outputs": [
    {
     "name": "stdout",
     "output_type": "stream",
     "text": [
      "Hãy nhập một số:8.2\n",
      "Hãy nhập một số:8\n",
      "Bạn đã nhập đúng\n"
     ]
    }
   ],
   "source": [
    "while True:\n",
    "    try:\n",
    "        x=int(input(\"Hãy nhập một số:\"))\n",
    "        break\n",
    "    except ValueError:\n",
    "        pass\n",
    "print(\"Bạn đã nhập đúng\")"
   ]
  },
  {
   "cell_type": "markdown",
   "metadata": {},
   "source": [
    "## Bắt lỗi với except/else\n",
    "Các lệnh trong else khi không có lỗi sẽ được xử lý ngược lại có lỗi sẽ bỏ qua."
   ]
  },
  {
   "cell_type": "code",
   "execution_count": 6,
   "metadata": {},
   "outputs": [
    {
     "name": "stdout",
     "output_type": "stream",
     "text": [
      "Phép cho cho 0\n",
      "Đã thực hiện xong\n"
     ]
    }
   ],
   "source": [
    "try:\n",
    "    result=1/0\n",
    "except ZeroDivisionError:\n",
    "    print(\"Phép cho cho 0\")\n",
    "else:\n",
    "    print(\"Kết quả là\",result)\n",
    "finally:\n",
    "    print(\"Đã thực hiện xong\")"
   ]
  },
  {
   "cell_type": "markdown",
   "metadata": {},
   "source": [
    "# 10.4 Raise trigger exception"
   ]
  },
  {
   "cell_type": "code",
   "execution_count": 40,
   "metadata": {},
   "outputs": [
    {
     "name": "stdout",
     "output_type": "stream",
     "text": [
      "got exception\n"
     ]
    }
   ],
   "source": [
    "try:\n",
    "    raise IndexError # Trigger exception thủ cọng\n",
    "except IndexError:\n",
    "    print('got exception')"
   ]
  },
  {
   "cell_type": "markdown",
   "metadata": {},
   "source": [
    "Lệnh raise có chức năng tạo ra lỗi dựa vào các lỗi trong built-in hoặc tự định nghĩa.\n",
    "```python\n",
    "raise IndexError # Class (instance created)\n",
    "raise IndexError() # Instance (created in statement)\n",
    "```\n",
    "Xem ví dụ sau:\n",
    "```python\n",
    "exc = IndexError('spam') # Create instance ahead of time\n",
    "raise exc\n",
    "```\n",
    "`Output: IndexError: spam`"
   ]
  },
  {
   "cell_type": "markdown",
   "metadata": {},
   "source": [
    "## Câu lệnh Raise from"
   ]
  },
  {
   "cell_type": "markdown",
   "metadata": {},
   "source": [
    "Cho phép ta hiển thị lỗi ra màn hình từ exception vừa bắt được.\n",
    "\n",
    "**Cú pháp:**\n",
    "\n",
    "`raise newexception from otherexception`\n",
    "\n",
    "Ta sẽ bắt lỗi sau đây:\n",
    "```python\n",
    "try:\n",
    "    1 / 0\n",
    "except Exception as E:\n",
    "    raise TypeError('Bad') from E\n",
    "```\n",
    "**Output:**\n",
    "```python\n",
    "ZeroDivisionError: division by zero\n",
    "\n",
    "The above exception was the direct cause of the following exception:\n",
    "\n",
    "TypeError                      Traceback (most recent call last)\n",
    "<ipython-input-43-5120cfd4acbf> in <module>()\n",
    "      2     1 / 0\n",
    "      3 except Exception as E:\n",
    "----> 4     raise TypeError('Bad') from E\n",
    "\n",
    "TypeError: Bad\n",
    "```"
   ]
  },
  {
   "cell_type": "markdown",
   "metadata": {},
   "source": [
    "# 10.5 Câu lệnh assert"
   ]
  },
  {
   "cell_type": "markdown",
   "metadata": {},
   "source": [
    "Giúp ta có thể bắt lỗi của một biểu thức với mặc định test là True nếu biểu thức trả về False thì sẽ hiện thị ra lỗi.\n",
    "\n",
    "**Cú pháp:** `assert test, data`\n",
    "\n",
    "Cách làm việc giống như đoạn mã sau\n",
    "```python\n",
    "if __debug__:\n",
    "    if not test:\n",
    "        raise AssertionError(data)\n",
    "```\n",
    "Xem ví dụ sau đây:\n",
    "```python\n",
    "assert False, 'Nobody expects the Spanish Inquisition!'\n",
    "```\n",
    "`Output: AssertionError: Nobody expects the Spanish Inquisition!`\n",
    "\n",
    "Chúng ta có thể xây dựng hàm kiểm tra đối số có thõa điều kiện.\n",
    "```python\n",
    "def f(x):\n",
    "    assert x < 0, 'x must be negative'\n",
    "    return x ** 2\n",
    "f(1)\n",
    "```\n",
    "`Output: AssertionError: x must be negative`"
   ]
  },
  {
   "cell_type": "markdown",
   "metadata": {},
   "source": [
    "# 10.6 Lỗi do người dùng định nghĩa"
   ]
  },
  {
   "cell_type": "code",
   "execution_count": 7,
   "metadata": {},
   "outputs": [
    {
     "name": "stdout",
     "output_type": "stream",
     "text": [
      "got exception\n"
     ]
    }
   ],
   "source": [
    "class AlreadyGotOne(Exception): \n",
    "    pass # User-defined exception\n",
    "def grail():\n",
    "    raise AlreadyGotOne() # Raise an instance\n",
    "try:\n",
    "    grail()\n",
    "except AlreadyGotOne: # Catch class name\n",
    "    print('got exception')"
   ]
  },
  {
   "cell_type": "markdown",
   "metadata": {},
   "source": [
    "Thao tác mở tệp và đóng tệp dùng try/finally.\n",
    "```python\n",
    "class MyError(Exception): \n",
    "    pass\n",
    "def stuff(file):\n",
    "    raise MyError()\n",
    "file = open('data', 'w')\n",
    "try:\n",
    "    stuff(file) # Raises exception\n",
    "finally:\n",
    "    file.close() # Always close file to flush output buffers\n",
    "print('not reached') # Continue here only if no exception\n",
    "```\n",
    "`Output: MyError:`"
   ]
  },
  {
   "cell_type": "code",
   "execution_count": 1,
   "metadata": {},
   "outputs": [
    {
     "name": "stdout",
     "output_type": "stream",
     "text": [
      "Nhập một số tự nhiên từ 1 đến 20 21\n",
      "Bạn đã nhập sai\n",
      "Nhập một số tự nhiên từ 1 đến 20 22\n",
      "Bạn đã nhập sai\n",
      "Nhập một số tự nhiên từ 1 đến 20 19\n",
      "Bạn đã nhập đúng\n"
     ]
    }
   ],
   "source": [
    "def Nhapso():\n",
    "    n=int(input(\"Nhập một số tự nhiên từ 1 đến 20 \"))\n",
    "    if n<=0 or n>20:\n",
    "        raise ValueError()\n",
    "    return n\n",
    "while True:\n",
    "    try:\n",
    "        x=Nhapso()\n",
    "        break\n",
    "    except ValueError:\n",
    "        print(\"Bạn đã nhập sai\")\n",
    "print(\"Bạn đã nhập đúng\")"
   ]
  },
  {
   "cell_type": "markdown",
   "metadata": {},
   "source": [
    "## Tạo lỗi bằng cách kế thường lớp Exception"
   ]
  },
  {
   "cell_type": "code",
   "execution_count": 3,
   "metadata": {},
   "outputs": [
    {
     "name": "stdout",
     "output_type": "stream",
     "text": [
      "Nhập vào một số tự nhiên29\n",
      "Bạn nhập sai\n",
      "Nhập vào một số tự nhiên19\n",
      "Bạn đã nhập đúng số\n"
     ]
    }
   ],
   "source": [
    "class inputError(Exception):\n",
    "    def __init__(self,message):\n",
    "        self.message=message\n",
    "def Nhapso():\n",
    "    n=int(input(\"Nhập vào một số tự nhiên\"))\n",
    "    if n<=0 or n>20:\n",
    "        raise inputError(\"Bạn nhập sai\")\n",
    "    return n\n",
    "while True:\n",
    "    try:\n",
    "        x=Nhapso()\n",
    "        break\n",
    "    except inputError as Err:\n",
    "        print(Err)\n",
    "print(\"Bạn đã nhập đúng số\")"
   ]
  },
  {
   "cell_type": "markdown",
   "metadata": {},
   "source": [
    "# 10.7 Context Managers with/as\n",
    "\n",
    "Có vai trò như try/finally được sử dụng để chấm dứt các lệnh khi có lỗi xảy ra.\n",
    "\n",
    "**Cú pháp:** \n",
    "\n",
    "`with expression [as variable]:`\n",
    "\n",
    "&nbsp;&nbsp;&nbsp;&nbsp;` statement block`"
   ]
  },
  {
   "cell_type": "code",
   "execution_count": 49,
   "metadata": {},
   "outputs": [
    {
     "data": {
      "text/plain": [
       "Decimal('0.33')"
      ]
     },
     "execution_count": 49,
     "metadata": {},
     "output_type": "execute_result"
    }
   ],
   "source": [
    "import decimal\n",
    "with decimal.localcontext() as ctx: \n",
    "    ctx.prec = 2\n",
    "    x = decimal.Decimal('1.00') / decimal.Decimal('3.00')\n",
    "x"
   ]
  },
  {
   "cell_type": "markdown",
   "metadata": {},
   "source": [
    "## Mô tả cách thức hoạt động của giao thức manager\n",
    "```python\n",
    "class TraceBlock:\n",
    "    def message(self, arg):\n",
    "        print('running ' + arg)\n",
    "        \n",
    "    def __enter__(self):\n",
    "        print('starting with block')\n",
    "        return self\n",
    "    \n",
    "    def __exit__(self, exc_type, exc_value, exc_tb):\n",
    "        if exc_type is None:\n",
    "            print('exited normally\\n')\n",
    "        else:\n",
    "            print('raise an exception! ' + str(exc_type))\n",
    "            return False # Propagate\n",
    "        \n",
    "if __name__ == '__main__':\n",
    "    with TraceBlock() as action:\n",
    "        action.message('test 1')\n",
    "        print('reached')\n",
    "        \n",
    "    with TraceBlock() as action:\n",
    "        action.message('test 2')\n",
    "        raise TypeError\n",
    "        print('not reached')\n",
    "```\n",
    "**Output:**\n",
    "```python\n",
    "starting with block\n",
    "running test 1\n",
    "reached\n",
    "exited normally\n",
    "\n",
    "starting with block\n",
    "running test 2\n",
    "raise an exception! <class 'TypeError'>\n",
    "----------------------------------------------------------------\n",
    "TypeError                      Traceback (most recent call last)\n",
    "<ipython-input-50-cea6fbbd9b10> in <module>()\n",
    "     17     with TraceBlock() as action:\n",
    "     18         action.message('test 2')\n",
    "---> 19         raise TypeError\n",
    "     20         print('not reached')\n",
    "\n",
    "TypeError: \n",
    "```"
   ]
  },
  {
   "cell_type": "markdown",
   "metadata": {},
   "source": [
    "# 10.8 Vai trò của xử lý ngoại lệ "
   ]
  },
  {
   "cell_type": "markdown",
   "metadata": {},
   "source": [
    "## 1. Xử lý lỗi\n",
    "\n",
    "Python sinh các ngoại lệ bất cứ khi nào nó phát hiện ra lỗi của chương trình trong thời gian chạy. Bạn có thể bắt và phản hồi các lỗi trong mã của mình hoặc bỏ qua các ngoại lệ được gây ra. \n",
    "\n",
    "## 2. Thông báo sự kiện\n",
    "\n",
    "Các ngoại lệ cũng có thể được sử dụng để báo hiệu các điều kiện hợp lệ mà bạn không cần phải kiểm tra chúng một cách rõ ràng.\n",
    "\n",
    "## 3. Các hành động chấm dứt\n",
    "\n",
    "Như bạn sẽ thấy câu lệnh try / finally cho phép bạn đảm bảo rằng các hoạt động thời gian đóng bắt buộc sẽ được thực hiện, bất kể có hay không ngoại lệ trong chương trình của bạn. Câu lệnh\n",
    "with cung cấp một giải pháp thay thế cho các đối tượng hỗ trợ nó.\n",
    "\n",
    "## 4. Các luồng kiểm soát bất thường \n",
    "\n",
    "Cuối cùng vì các ngoại lệ là một loại có cấu trúc \"go to\", bạn có thể sử dụng chúng\n",
    "làm cơ sở để thực hiện các luồng kiểm soát kỳ lạ."
   ]
  },
  {
   "cell_type": "markdown",
   "metadata": {},
   "source": [
    "# 4. Bài tập Exercise\n",
    "## A. Quiz\n",
    "**Câu 1:** Kể tên ba điều mà ngoại lệ làm mã bạn trở nên tốt hơn.\n",
    "\n",
    "**Câu 2:** Điều gì xảy ra với một ngoại lệ nếu bạn không làm bất cứ điều gì để xử lý nó?\n",
    "\n",
    "**Câu 3:** Làm cách nào để tập lệnh của bạn có thể khôi phục từ một ngoại lệ?\n",
    "\n",
    "**Câu 4:** Kể tên hai cách để trigger ngoại lệ trong chương trình của bạn.\n",
    "\n",
    "**Câu 5:** Kể tên hai cách để các hành động chỉ định sẽ được thực hiện tại thời điểm kết thúc, cho dù một exception có xảy ra hay không.\n",
    "\n",
    "## B. Coding\n",
    "**Câu 6:** Viết chương trình nhập 2 số a và b là số nguyên, hãy viết lệnh chia 2 số và 2 exception kiểu dữ liệu và chia cho 0. \n",
    "\n",
    "**Câu 7:** Hãy tạo một list gồm 4 phần tử và viết một exception ngoài vùng index.\n",
    "\n",
    "**Câu 8:** Hãy viết ngoại lệ cho phép cộng số kiểu interger với chuỗi.\n",
    "\n",
    "**Câu 9:** Viết một hàm bắt lỗi import một thư viện bất kỳ.\n",
    "\n",
    "**Câu 10:** Viết một hàm bắt lỗi tên chưa có giá trị bất kỳ."
   ]
  },
  {
   "cell_type": "markdown",
   "metadata": {},
   "source": [
    "---\n",
    "# <span style= 'color:blue'> Đáp án </span>\n",
    "**1.** Xử lý ngoại lệ rất hữu ích cho việc xử lý lỗi, chấm dứt hành động và sự kiện\n",
    "thông báo. Nó cũng có thể đơn giản hóa việc xử lý các trường hợp đặc biệt và có thể được sử dụng để thực hiện các luồng kiểm soát thay thế như cấu trúc “goto”. \n",
    "\n",
    "Xử lý ngoại lệ cũng cắt giảm số lượng mã kiểm tra lỗi chương trình của bạn có thể yêu cầu, bởi vì tất cả các lỗi đều lọc theo xử lý, bạn có thể không cần phải kiểm tra kết quả của mọi hoạt động.\n",
    "\n",
    "**2.** Bất kỳ ngoại lệ nào không được bắt lỗi thì sẽ lọc thành trình xử lý ngoại lệ mặc định\n",
    "Python cung cấp ở đầu chương trình của bạn. Trình xử lý này in ra tin nhắn lỗi và thoát khỏi chương trình của bạn.\n",
    "\n",
    "**3.** Nếu bạn không muốn hiển thị ra lỗi mặc định và thoát khỏi chương trình thì bạn nên dùng câu lện try /except để bắt và recover từ các trường hợp ngoại lệ được đưa ra bên trong\n",
    "khối mã.\n",
    "\n",
    "**4.** Sử dụng câu lệnh raise và assert để kích hoạt một ngoại lệ.\n",
    "\n",
    "**5.** Câu lệnh try/finally có thể được sử dụng để đảm bảo các hành động được chạy sau một khối\n",
    "mã, cho dù có ngoại lệ xảy ra. Câu lệnh with/as cũng có thể được sử dụng để đảm bảo các hành động chấm dứt được chạy, nhưng chỉ khi xử lý các kiểu đối tượng hỗ trợ nó."
   ]
  },
  {
   "cell_type": "code",
   "execution_count": 9,
   "metadata": {},
   "outputs": [
    {
     "name": "stdout",
     "output_type": "stream",
     "text": [
      "Nhập số a nguyên: 2.8\n",
      "Nhập số a nguyên: 2\n",
      "Nhập số b nguyên: 2.9\n",
      "Nhập số a nguyên: 3\n",
      "Nhập số b nguyên: 4\n",
      "Số a/b là:  0.75\n"
     ]
    }
   ],
   "source": [
    "# 6\n",
    "while True:\n",
    "    try:\n",
    "        a=int(input(\"Nhập số a nguyên: \"))\n",
    "        b=int(input(\"Nhập số b nguyên: \"))\n",
    "        c=a/b\n",
    "        print(\"Số a/b là: \",c)\n",
    "        break\n",
    "    except ValueError:\n",
    "        pass\n",
    "    except ZeroDivisionError:\n",
    "        pass"
   ]
  },
  {
   "cell_type": "code",
   "execution_count": 10,
   "metadata": {},
   "outputs": [
    {
     "name": "stdout",
     "output_type": "stream",
     "text": [
      "list index out of range\n"
     ]
    }
   ],
   "source": [
    "# 7\n",
    "listA=[3,\"Cracker\",19,8]\n",
    "try:\n",
    "    print(listA[5])\n",
    "except IndexError as Err:\n",
    "    print(Err)"
   ]
  },
  {
   "cell_type": "code",
   "execution_count": 15,
   "metadata": {},
   "outputs": [
    {
     "name": "stdout",
     "output_type": "stream",
     "text": [
      "You can't add int to string\n"
     ]
    }
   ],
   "source": [
    "# 8\n",
    "s=\"James\"\n",
    "try:\n",
    "    s + 10\n",
    "except Exception:\n",
    "    message=\"You can't add int to string\"\n",
    "print(message)"
   ]
  },
  {
   "cell_type": "code",
   "execution_count": 16,
   "metadata": {},
   "outputs": [
    {
     "name": "stdout",
     "output_type": "stream",
     "text": [
      "Error import library\n"
     ]
    }
   ],
   "source": [
    "# 9\n",
    "try:\n",
    "    import keras\n",
    "except ImportError:\n",
    "    print(\"Error import library\")"
   ]
  },
  {
   "cell_type": "code",
   "execution_count": 18,
   "metadata": {},
   "outputs": [
    {
     "name": "stdout",
     "output_type": "stream",
     "text": [
      "An exception name 'e' is not defined\n"
     ]
    }
   ],
   "source": [
    "# 10\n",
    "try:\n",
    "    print(e)\n",
    "except NameError as Err:\n",
    "    print (\"An exception\",Err)"
   ]
  },
  {
   "cell_type": "code",
   "execution_count": null,
   "metadata": {},
   "outputs": [],
   "source": []
  }
 ],
 "metadata": {
  "kernelspec": {
   "display_name": "Python 3",
   "language": "python",
   "name": "python3"
  },
  "language_info": {
   "codemirror_mode": {
    "name": "ipython",
    "version": 3
   },
   "file_extension": ".py",
   "mimetype": "text/x-python",
   "name": "python",
   "nbconvert_exporter": "python",
   "pygments_lexer": "ipython3",
   "version": "3.7.0"
  }
 },
 "nbformat": 4,
 "nbformat_minor": 2
}
