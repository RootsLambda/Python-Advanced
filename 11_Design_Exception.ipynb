{
 "cells": [
  {
   "cell_type": "markdown",
   "metadata": {},
   "source": [
    "# 11.1 Object exception"
   ]
  },
  {
   "cell_type": "markdown",
   "metadata": {},
   "source": [
    "## Exception detail"
   ]
  },
  {
   "cell_type": "code",
   "execution_count": 3,
   "metadata": {},
   "outputs": [
    {
     "name": "stdout",
     "output_type": "stream",
     "text": [
      "caught: <class '__main__.General'>\n",
      "caught: <class '__main__.Specific1'>\n",
      "caught: <class '__main__.Specific2'>\n"
     ]
    }
   ],
   "source": [
    "class General(Exception): pass\n",
    "class Specific1(General): pass\n",
    "class Specific2(General): pass\n",
    "\n",
    "def raiser0():\n",
    "    X = General() # Raise superclass instance\n",
    "    raise X\n",
    "    \n",
    "def raiser1():\n",
    "    X = Specific1() # Raise subclass instance\n",
    "    raise X\n",
    "    \n",
    "def raiser2():\n",
    "    X = Specific2() # Raise different subclass instance\n",
    "    raise X\n",
    "    \n",
    "for func in (raiser0, raiser1, raiser2):\n",
    "    try:\n",
    "        func()\n",
    "    except General: # Match General or any subclass of it\n",
    "        import sys\n",
    "        print('caught: %s' % sys.exc_info()[0])"
   ]
  },
  {
   "cell_type": "code",
   "execution_count": 69,
   "metadata": {},
   "outputs": [
    {
     "name": "stdout",
     "output_type": "stream",
     "text": [
      "caught: <class '__main__.General'>\n",
      "caught: <class '__main__.Specific1'>\n",
      "caught: <class '__main__.Specific2'>\n"
     ]
    }
   ],
   "source": [
    "class General(Exception): pass\n",
    "class Specific1(General): pass\n",
    "class Specific2(General): pass\n",
    "\n",
    "def raiser0(): raise General()\n",
    "def raiser1(): raise Specific1()\n",
    "def raiser2(): raise Specific2()\n",
    "    \n",
    "for func in (raiser0, raiser1, raiser2):\n",
    "    try:\n",
    "        func()\n",
    "    except General as X: # X is the raised instance\n",
    "        print('caught: %s' % X.__class__)"
   ]
  },
  {
   "cell_type": "code",
   "execution_count": 70,
   "metadata": {},
   "outputs": [],
   "source": [
    "class Divzero(Exception): pass # Các lớp con đều kế thừa từ Exception\n",
    "class Oflow(Exception): pass\n",
    "class Uflow(Exception): pass"
   ]
  },
  {
   "cell_type": "markdown",
   "metadata": {},
   "source": [
    "## Print and state"
   ]
  },
  {
   "cell_type": "code",
   "execution_count": 6,
   "metadata": {},
   "outputs": [
    {
     "data": {
      "text/plain": [
       "('spam',)"
      ]
     },
     "execution_count": 6,
     "metadata": {},
     "output_type": "execute_result"
    }
   ],
   "source": [
    "# Print agrument\n",
    "I = IndexError('spam') # Available in object attribute\n",
    "I.args"
   ]
  },
  {
   "cell_type": "code",
   "execution_count": 78,
   "metadata": {},
   "outputs": [
    {
     "name": "stdout",
     "output_type": "stream",
     "text": [
      "spam\n"
     ]
    }
   ],
   "source": [
    "print(I)"
   ]
  },
  {
   "cell_type": "code",
   "execution_count": 8,
   "metadata": {},
   "outputs": [
    {
     "name": "stdout",
     "output_type": "stream",
     "text": [
      "spam\n",
      "('spam',)\n",
      "E('spam')\n"
     ]
    }
   ],
   "source": [
    "class E(Exception):pass\n",
    "try:\n",
    "    raise E('spam')\n",
    "except E as X:\n",
    "    print(X)          # Displays and saves constructor arguments\n",
    "    print(X.args)\n",
    "    print(repr(X))"
   ]
  },
  {
   "cell_type": "code",
   "execution_count": 83,
   "metadata": {},
   "outputs": [
    {
     "name": "stdout",
     "output_type": "stream",
     "text": [
      "('spam', 'eggs', 'ham') ('spam', 'eggs', 'ham')\n"
     ]
    }
   ],
   "source": [
    "try: # Multiple arguments \n",
    "    raise E('spam', 'eggs', 'ham')\n",
    "except E as X:\n",
    "    print('%s %s' % (X, X.args))"
   ]
  },
  {
   "cell_type": "markdown",
   "metadata": {},
   "source": [
    "## Custom print display "
   ]
  },
  {
   "cell_type": "code",
   "execution_count": 84,
   "metadata": {},
   "outputs": [
    {
     "name": "stdout",
     "output_type": "stream",
     "text": [
      "Sorry--my mistake!\n"
     ]
    }
   ],
   "source": [
    "class MyBad(Exception): pass\n",
    "try:\n",
    "    raise MyBad('Sorry--my mistake!')\n",
    "except MyBad as X:\n",
    "    print(X)"
   ]
  },
  {
   "cell_type": "code",
   "execution_count": 9,
   "metadata": {},
   "outputs": [
    {
     "name": "stdout",
     "output_type": "stream",
     "text": [
      "Always look on the bright side of life...\n"
     ]
    }
   ],
   "source": [
    "class MyBad(Exception):\n",
    "    def __str__(self):\n",
    "        return 'Always look on the bright side of life...'\n",
    "try:\n",
    "    raise MyBad()\n",
    "except MyBad as X:\n",
    "    print(X)"
   ]
  },
  {
   "cell_type": "markdown",
   "metadata": {},
   "source": [
    "## Custom Data and Behavior"
   ]
  },
  {
   "cell_type": "code",
   "execution_count": 4,
   "metadata": {},
   "outputs": [
    {
     "name": "stdout",
     "output_type": "stream",
     "text": [
      "Error at: spam.txt 42\n"
     ]
    }
   ],
   "source": [
    "class FormatError(Exception):\n",
    "    def __init__(self, line, file):\n",
    "        self.line = line\n",
    "        self.file = file\n",
    "def parser():\n",
    "    raise FormatError(42, file='spam.txt')\n",
    "try:\n",
    "    parser()\n",
    "except FormatError as X:\n",
    "    print('Error at: %s %s' % (X.file, X.line))"
   ]
  },
  {
   "cell_type": "code",
   "execution_count": 5,
   "metadata": {},
   "outputs": [
    {
     "name": "stdout",
     "output_type": "stream",
     "text": [
      "Error at: 42 spam.txt\n"
     ]
    }
   ],
   "source": [
    "class FormatError(Exception): pass # Inherited constructor\n",
    "def parser():\n",
    "    raise FormatError(42, 'spam.txt')\n",
    "try:\n",
    "    parser()\n",
    "except FormatError as X:\n",
    "    print('Error at:', X.args[0], X.args[1])"
   ]
  },
  {
   "cell_type": "markdown",
   "metadata": {},
   "source": [
    "## Providing Method"
   ]
  },
  {
   "cell_type": "code",
   "execution_count": 11,
   "metadata": {},
   "outputs": [],
   "source": [
    "class FormatError(Exception):\n",
    "    logfile = 'formaterror.txt'\n",
    "    def __init__(self, line, file):\n",
    "        self.line = line\n",
    "        self.file = file\n",
    "        \n",
    "    def logerror(self):\n",
    "        log = open(self.logfile, 'a')\n",
    "        print('Error at:', self.file, self.line, file=log)\n",
    "        \n",
    "def parser():\n",
    "    raise FormatError(40, 'spam.txt')\n",
    "    \n",
    "if __name__ == '__main__':\n",
    "    try:\n",
    "        parser()\n",
    "    except FormatError as exc:\n",
    "        exc.logerror()"
   ]
  },
  {
   "cell_type": "markdown",
   "metadata": {},
   "source": [
    "# 11.2 Xử lý với Nested Exception \n",
    "\n",
    "## Đối với try/except lồng nhau\n",
    "\n",
    "<img align='left' src='images/Try_except_nested.jpg'>"
   ]
  },
  {
   "cell_type": "code",
   "execution_count": 98,
   "metadata": {},
   "outputs": [
    {
     "name": "stdout",
     "output_type": "stream",
     "text": [
      "inner try\n"
     ]
    }
   ],
   "source": [
    "def action2():\n",
    "    print(1 + []) # Generate TypeError\n",
    "def action1():\n",
    "    try:\n",
    "        action2()\n",
    "    except TypeError: # Most recent matching try\n",
    "        print('inner try')\n",
    "try:\n",
    "    action1()\n",
    "except TypeError: # Here, only if action1 re-raises\n",
    "    print('outer try')"
   ]
  },
  {
   "cell_type": "code",
   "execution_count": 99,
   "metadata": {},
   "outputs": [
    {
     "name": "stdout",
     "output_type": "stream",
     "text": [
      "inner try\n"
     ]
    }
   ],
   "source": [
    "try:\n",
    "    try:\n",
    "        action2()\n",
    "    except TypeError: # Most recent matching try\n",
    "        print('inner try')\n",
    "except TypeError: # Here, only if nested handler re-raises\n",
    "    print('outer try')"
   ]
  },
  {
   "cell_type": "markdown",
   "metadata": {},
   "source": [
    "## Đối với try/finally lồng nhau\n",
    "\n",
    "<img align='left' src='images/Try_finally_nested.jpg'>"
   ]
  },
  {
   "cell_type": "markdown",
   "metadata": {},
   "source": [
    "```python\n",
    "try:\n",
    "    try:\n",
    "        raise IndexError\n",
    "    finally:\n",
    "        print('spam')\n",
    "finally:\n",
    "    print('SPAM')\n",
    "```\n",
    "\n",
    "Output:\n",
    "\n",
    "```python\n",
    "spam\n",
    "SPAM\n",
    "----------------------------------------------------------------\n",
    "IndexError                     Traceback (most recent call last)\n",
    "<ipython-input-100-5eee2ecdf687> in <module>()\n",
    "      1 try:\n",
    "      2     try:\n",
    "----> 3         raise IndexError\n",
    "      4     finally:\n",
    "      5         print('spam')\n",
    "\n",
    "IndexError:\n",
    "```"
   ]
  },
  {
   "cell_type": "markdown",
   "metadata": {},
   "source": [
    "## Lồng nhau với Try/except/finally\n",
    "```python\n",
    "def raise1(): raise IndexError\n",
    "def noraise(): return\n",
    "def raise2(): raise SyntaxError\n",
    "for func in (raise1, noraise, raise2):\n",
    "    print('<%s>' % func.__name__)\n",
    "    try:\n",
    "        try:\n",
    "            func()\n",
    "        except IndexError:\n",
    "            print('caught IndexError')\n",
    "    finally:\n",
    "        print('finally run')\n",
    "    print('...')\n",
    "```\n",
    "**Output:** \n",
    "```python\n",
    "<raise1>\n",
    "caught IndexError\n",
    "finally run\n",
    "...\n",
    "<noraise>\n",
    "finally run\n",
    "...\n",
    "<raise2>\n",
    "finally run\n",
    "Traceback (most recent call last):\n",
    "\n",
    "  File \"C:\\Users\\AM\\Anaconda3\\lib\\site-packages\\IPython\\core\\interactiveshell.py\", line 2961, in run_code\n",
    "    exec(code_obj, self.user_global_ns, self.user_ns)\n",
    "\n",
    "  File \"<ipython-input-102-ebc9ca96b541>\", line 5, in <module>\n",
    "    func()\n",
    "\n",
    "  File \"<ipython-input-101-7c18089d6fe8>\", line 3, in raise2\n",
    "    def raise2(): raise SyntaxError\n",
    "\n",
    "  File \"<string>\", line unknown\n",
    "SyntaxError\n",
    "```"
   ]
  },
  {
   "cell_type": "markdown",
   "metadata": {},
   "source": [
    "## Exception idoms"
   ]
  },
  {
   "cell_type": "code",
   "execution_count": 6,
   "metadata": {},
   "outputs": [
    {
     "name": "stdout",
     "output_type": "stream",
     "text": [
      "loop3: 0\n",
      "loop3: 1\n",
      "loop3: 2\n",
      "loop3: 3\n",
      "continuing\n"
     ]
    }
   ],
   "source": [
    "class Exitloop(Exception): pass\n",
    "try:\n",
    "    while True:\n",
    "        while True:\n",
    "            for i in range(10):\n",
    "                if i > 3: raise Exitloop # break exits just one level\n",
    "                print('loop3: %s' % i)\n",
    "            print('loop2')\n",
    "        print('loop1')\n",
    "except Exitloop:\n",
    "    print('continuing')"
   ]
  },
  {
   "cell_type": "code",
   "execution_count": 106,
   "metadata": {},
   "outputs": [
    {
     "data": {
      "text/plain": [
       "4"
      ]
     },
     "execution_count": 106,
     "metadata": {},
     "output_type": "execute_result"
    }
   ],
   "source": [
    "i"
   ]
  },
  {
   "cell_type": "markdown",
   "metadata": {},
   "source": [
    "## Displaying Errors and Tracebacks"
   ]
  },
  {
   "cell_type": "code",
   "execution_count": 12,
   "metadata": {},
   "outputs": [
    {
     "name": "stdout",
     "output_type": "stream",
     "text": [
      "Bye\n"
     ]
    }
   ],
   "source": [
    "import traceback\n",
    "def inverse(x):\n",
    "    return 1 / x\n",
    "\n",
    "try:\n",
    "    inverse(0)\n",
    "except Exception:\n",
    "    traceback.print_exc(file=open('badly.exc', 'w'))\n",
    "print('Bye')"
   ]
  },
  {
   "cell_type": "markdown",
   "metadata": {},
   "source": [
    "Khi đó file badly.exc có nội dung như sau:\n",
    "```python\n",
    "Traceback (most recent call last):\n",
    "  File \"<ipython-input-12-c40f2d798988>\", line 6, in <module>\n",
    "    inverse(0)\n",
    "  File \"<ipython-input-12-c40f2d798988>\", line 3, in inverse\n",
    "    return 1 / x\n",
    "ZeroDivisionError: division by zero\n",
    "```"
   ]
  },
  {
   "cell_type": "markdown",
   "metadata": {},
   "source": [
    "## Điểm thoát exit"
   ]
  },
  {
   "cell_type": "code",
   "execution_count": 110,
   "metadata": {},
   "outputs": [
    {
     "name": "stdout",
     "output_type": "stream",
     "text": [
      "got it\n",
      "continuing...\n"
     ]
    }
   ],
   "source": [
    "import sys\n",
    "def bye():\n",
    "    sys.exit(40) # Crucial error: abort now!\n",
    "try:\n",
    "    bye()\n",
    "except:\n",
    "    print('got it') # Oops--we ignored the exit\n",
    "print('continuing...')"
   ]
  },
  {
   "cell_type": "markdown",
   "metadata": {},
   "source": [
    "# Bài tập Excercise\n",
    "## A. Quiz\n",
    "**Câu 1:** Hai điều kiện cần đối với các ngoại lệ do người dùng định nghĩa trong Python là gì?\n",
    "\n",
    "**Câu 2:** Làm thế nào để các ngoại lệ dựa trên lớp được raise ngang bằng đối với trình xử lý?\n",
    "\n",
    "**Câu 3:** Kể tên hai cách mà bạn có thể đính kèm thông tin context vào các đối tượng ngoại lệ\n",
    "\n",
    "**Câu 4:** Hãy kể hai cách mà bạn có thể sửa đổi tin nhắn thông báo lỗi cho các đối tượng ngoại lệ.\n",
    "\n",
    "**Câu 5:** Câu lệnh assert được tạo ra để làm gì? \n",
    "## B. Coding\n",
    "**Câu 6:** Viết một hàm được gọi là oops gây ra ngoại lệ IndexError khi được gọi. Sau đó viết một hàm doomed() bên có try/except/else để bắt lỗi hàm oops.\n",
    "\n",
    "**Câu 7:** Thay đổi hàm số oops bạn vừa viết raise ngoại lệ người dụng định nghĩa được gọi là MyError."
   ]
  },
  {
   "cell_type": "markdown",
   "metadata": {},
   "source": [
    "---\n",
    "# <span style= 'color:blue'> Đáp án </span>\n",
    "\n",
    "**1.** Các ngoại lệ phải được định nghĩa bởi các lớp. Ngoài ra, các lớp ngoại lệ phải được bắt nguồn từ lớp BaseException, kế thừa từ lớp Exception là lớp con của nó.\n",
    "\n",
    "**2.** Các ngoại lệ dựa trên lớp ngang bằng bởi các mối quan hệ của lớp cha, tên của lớp cha trong exception trình xử lý sẽ bắt các instance của lớp đó.\n",
    "\n",
    "Do đó, bạn có thể nghĩ về các lớp cha là các danh mục ngoại lệ chung và các lớp con như các loại ngoại lệ cụ thể hơn trong các danh mục đó.\n",
    "\n",
    "**3.** Bạn có thể đính kèm thông tin ngữ cảnh vào các ngoại lệ dựa trên lớp bằng cách điền vào instance các thuộc tính trong đối tượng instance để raise, thường là tùy chỉnh trong một phương thức khởi tạo lớp. Các lớp ngoại lệ trong built-in cung cấp một phương thức khởi tạo lưu trữ\n",
    "đối số trên phiên bản tự động (dưới dạng tuple trong thuộc tính args). \n",
    "\n",
    "**4.** Tin nhắn thông báo lỗi trong ngoại lệ dựa trên lớp có thể được sửa đổi bằng một tùy chỉnh\n",
    "\\_\\_str\\_\\_ hoặc \\_\\_repr\\_\\_ phương thức nạp chồng toán tử. \n",
    "\n",
    "**5.** Câu lệnh assert đưa ra một ngoại lệ AssertionError nếu một điều kiện là sai. Nó\n",
    "hoạt động giống như một câu lệnh raise có điều kiện trong một câu lệnh if."
   ]
  },
  {
   "cell_type": "code",
   "execution_count": 5,
   "metadata": {},
   "outputs": [
    {
     "name": "stdout",
     "output_type": "stream",
     "text": [
      "caught a index error\n"
     ]
    }
   ],
   "source": [
    "# 6\n",
    "def oops():\n",
    "    raise IndexError()\n",
    "def doomed():\n",
    "    try:\n",
    "        oops()\n",
    "    except IndexError:\n",
    "        print(\"caught a index error\")\n",
    "    else:\n",
    "        print(\"no error caught...\")\n",
    "doomed()"
   ]
  },
  {
   "cell_type": "code",
   "execution_count": 8,
   "metadata": {},
   "outputs": [
    {
     "name": "stdout",
     "output_type": "stream",
     "text": [
      "caught error: <class '__main__.MyError'> Spam\n"
     ]
    }
   ],
   "source": [
    "# 7\n",
    "class MyError(Exception):pass\n",
    "\n",
    "def oops():\n",
    "    raise MyError('Spam')\n",
    "    \n",
    "def doomed():\n",
    "    try:\n",
    "        oops()\n",
    "    except IndexError:\n",
    "        print(\"caught a index error\")\n",
    "    except MyError as data:\n",
    "        print(\"caught error:\",MyError,data)\n",
    "    else:\n",
    "        print(\"no error caught...\")\n",
    "        \n",
    "doomed()"
   ]
  },
  {
   "cell_type": "code",
   "execution_count": null,
   "metadata": {},
   "outputs": [],
   "source": []
  }
 ],
 "metadata": {
  "kernelspec": {
   "display_name": "Python 3",
   "language": "python",
   "name": "python3"
  },
  "language_info": {
   "codemirror_mode": {
    "name": "ipython",
    "version": 3
   },
   "file_extension": ".py",
   "mimetype": "text/x-python",
   "name": "python",
   "nbconvert_exporter": "python",
   "pygments_lexer": "ipython3",
   "version": "3.7.0"
  }
 },
 "nbformat": 4,
 "nbformat_minor": 2
}
