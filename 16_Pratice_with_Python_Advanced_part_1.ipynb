{
 "cells": [
  {
   "cell_type": "markdown",
   "metadata": {},
   "source": [
    "**Câu 1:** Viết chương trình để lấy các index ở những vị trí có chữ thường của chuỗi.\n",
    "<div style=\"padding: 15px; border: 2px solid transparent; border-color: transparent; margin-bottom: 5px; margin-top: 10px;border-radius: 2px; color: #000000; background-color:#A4D3EE; border-color: #FFD39B;Width:60%\">\n",
    "\n",
    "Example:\n",
    "<br>\n",
    "<br>\n",
    "Input: Python\n",
    "<br>\n",
    "<br>\n",
    "Output: [1, 2, 3, 4, 5]\n",
    "\n",
    "</div>"
   ]
  },
  {
   "cell_type": "code",
   "execution_count": 1,
   "metadata": {},
   "outputs": [
    {
     "name": "stdout",
     "output_type": "stream",
     "text": [
      "Chuỗi gốc: Python\n",
      "Vị trí index có chữ thường: [1, 2, 3, 4, 5]\n"
     ]
    }
   ],
   "source": [
    "def test(text):\n",
    "    return [x for x in range(len(text)) if text[x].islower()]\n",
    "text = \"Python\"\n",
    "print(\"Chuỗi gốc:\",text)\n",
    "print(\"Vị trí index có chữ thường:\",test(text))"
   ]
  },
  {
   "cell_type": "markdown",
   "metadata": {},
   "source": [
    "**Câu 2:**  Viết chương trình tính khoảng cách giữa hai số nguyên.\n",
    "<div style=\"padding: 15px; border: 2px solid transparent; border-color: transparent; margin-bottom: 5px; margin-top: 10px;border-radius: 2px; color: #000000; background-color:#A4D3EE; border-color: #FFD39B;Width:60%\">\n",
    "\n",
    "Example: \n",
    "<br>\n",
    "<br>\n",
    "Input: 123 và 256\n",
    "<br>\n",
    "<br>\n",
    "Output: |1-2| + |2-5| + |3-6| = 7\n",
    "</div>"
   ]
  },
  {
   "cell_type": "code",
   "execution_count": 2,
   "metadata": {},
   "outputs": [
    {
     "name": "stdout",
     "output_type": "stream",
     "text": [
      "7\n",
      "6\n"
     ]
    }
   ],
   "source": [
    "def digit_distance_nums(n1, n2):\n",
    "         return sum(map(int,str(abs(n1-n2))))\n",
    "print(digit_distance_nums(123, 256))\n",
    "print(digit_distance_nums(23, 56))"
   ]
  },
  {
   "cell_type": "markdown",
   "metadata": {},
   "source": [
    "**Câu 3:** Dãy Fibonacci được tính dựa trên công thức sau:\n",
    "\n",
    "+ f(n) = 0 nếu n = 0\n",
    "\n",
    "+ f(n) = 1 nếu n = 1\n",
    "\n",
    "+ f(n) = f(n-1) + f(n-2) nếu n>1\n",
    "\n",
    "Hãy viết chương trình sử dụng list comprehension để in dãy Fibonacci dưới dạng tách biệt bằng dấu \",\" và n được người dùng nhập vào.\n",
    "<div style=\"padding: 15px; border: 2px solid transparent; border-color: transparent; margin-bottom: 5px; margin-top: 10px;border-radius: 2px; color: #000000; background-color:#A4D3EE; border-color: #FFD39B;Width:60%\">\n",
    "\n",
    "Example: \n",
    "<br>\n",
    "<br>  \n",
    "Input: 4\n",
    "<br>\n",
    "<br>\n",
    "Output: 0,1,1,2,3\n",
    "\n",
    "\n",
    "</div>"
   ]
  },
  {
   "cell_type": "code",
   "execution_count": 3,
   "metadata": {},
   "outputs": [
    {
     "name": "stdout",
     "output_type": "stream",
     "text": [
      "Nhập số n: 4\n",
      "0,1,1,2,3\n"
     ]
    }
   ],
   "source": [
    "def fibo(n):\n",
    "    if n == 0: \n",
    "        return 0\n",
    "    elif n == 1: \n",
    "        return 1\n",
    "    else: \n",
    "        return fibo(n-1)+fibo(n-2)\n",
    "\n",
    "n=int(input(\"Nhập số n: \"))\n",
    "values = [str(fibo(x)) for x in range(0, n+1)]\n",
    "print (\",\".join(values))"
   ]
  },
  {
   "cell_type": "markdown",
   "metadata": {},
   "source": [
    "**Câu 4:** Viết chương trình đếm và in số ký tự của chuỗi do người dùng nhập vào.\n",
    "<div style=\"padding: 15px; border: 2px solid transparent; border-color: transparent; margin-bottom: 5px; margin-top: 10px;border-radius: 2px; color: #000000; background-color:#A4D3EE; border-color: #FFD39B;Width:60%\">\n",
    "\n",
    "Example:\n",
    "<br>\n",
    "<br>\n",
    "Input: AMDK\n",
    "<br>\n",
    "<br>\n",
    "Output:\n",
    "<br>\n",
    "A,1\n",
    "<br>\n",
    "M,1\n",
    "<br>\n",
    "D,1\n",
    "<br>\n",
    "K,1\n",
    "</div>\n"
   ]
  },
  {
   "cell_type": "code",
   "execution_count": 4,
   "metadata": {},
   "outputs": [
    {
     "name": "stdout",
     "output_type": "stream",
     "text": [
      "Nhập chuỗi cần đếm ký tự: AMDK\n",
      "A,1\n",
      "M,1\n",
      "D,1\n",
      "K,1\n"
     ]
    }
   ],
   "source": [
    "dic = {}\n",
    "chuoi=input(\"Nhập chuỗi cần đếm ký tự: \")\n",
    "\n",
    "for c in chuoi:\n",
    "    dic[c] = dic.get(c,0)+1\n",
    "print ('\\n'.join(['%s,%s' % (k, v) for k, v in dic.items()]))"
   ]
  },
  {
   "cell_type": "markdown",
   "metadata": {},
   "source": [
    "**Câu 5:**  Viết chương trình in list sau khi đã xóa số ở vị trí thứ 0, 4 và thứ 5 trong [12,24,35,70,88,120,155]."
   ]
  },
  {
   "cell_type": "code",
   "execution_count": 5,
   "metadata": {},
   "outputs": [
    {
     "name": "stdout",
     "output_type": "stream",
     "text": [
      "[24, 35, 70, 155]\n"
     ]
    }
   ],
   "source": [
    "li = [12,24,35,70,88,120,155]\n",
    "li = [x for (i,x) in enumerate(li) if i not in (0,4,5)]\n",
    "print (li)"
   ]
  },
  {
   "cell_type": "markdown",
   "metadata": {},
   "source": [
    "**Câu 6:** Sử dụng list comprehension để viết chương trình in list sau khi đã loại bỏ các số chia hết cho 8 trong [1,4,64,32,128,3]."
   ]
  },
  {
   "cell_type": "code",
   "execution_count": 6,
   "metadata": {},
   "outputs": [
    {
     "name": "stdout",
     "output_type": "stream",
     "text": [
      "[1, 4, 3]\n"
     ]
    }
   ],
   "source": [
    "listA = [1,4,64,32,128,3]\n",
    "\n",
    "list_compre = [i for i in listA if i%8!=0]\n",
    "print (list_compre)"
   ]
  },
  {
   "cell_type": "markdown",
   "metadata": {},
   "source": [
    "**Câu 7:** Viết một chương trình chấp nhận đầu vào là chuỗi các số nhị phân 4 chữ số, phân tách bởi dấu phẩy, kiểm tra xem chúng có chia hết cho 5 không. Sau đó in các số chia hết cho 5 thành dãy phân tách bởi dấu phẩy.\n",
    "\n",
    "<div style=\"padding: 15px; border: 2px solid transparent; border-color: transparent; margin-bottom: 5px; margin-top: 10px;border-radius: 2px; color: #000000; background-color:#A4D3EE; border-color: #FFD39B;Width:60%\">\n",
    "\n",
    "Example:\n",
    "<br>\n",
    "<br>\n",
    "Input: 0100,0011,1010,1001\n",
    "<br>\n",
    "<br>\n",
    "Output: 1010\n",
    "\n",
    "</div>\n"
   ]
  },
  {
   "cell_type": "code",
   "execution_count": 7,
   "metadata": {},
   "outputs": [
    {
     "name": "stdout",
     "output_type": "stream",
     "text": [
      "Nhập các số nhị phân: 0100,0011,1010,1001\n",
      "1010\n"
     ]
    }
   ],
   "source": [
    "value = []\n",
    "items=[x for x in input(\"Nhập các số nhị phân: \").split(',')]\n",
    "for p in items:\n",
    "    intp = int(p, 2)\n",
    "    if not intp%5:\n",
    "        value.append(p)\n",
    "\n",
    "print (','.join(value))"
   ]
  },
  {
   "cell_type": "markdown",
   "metadata": {},
   "source": [
    "**Câu 8:** Sử dụng một danh sách để lọc các số lẻ từ danh sách được người dùng nhập vào.\n",
    "\n",
    "<div style=\"padding: 15px; border: 2px solid transparent; border-color: transparent; margin-bottom: 5px; margin-top: 10px;border-radius: 2px; color: #000000; background-color:#A4D3EE; border-color: #FFD39B;Width:60%\">\n",
    "\n",
    "Example:\n",
    "<br>\n",
    "<br>\n",
    "Input: 1,2,3,4,5,6,7,8,9,10\n",
    "<br>\n",
    "<br>\n",
    "Output: 1,3,5,7,9\n",
    "\n",
    "</div>"
   ]
  },
  {
   "cell_type": "code",
   "execution_count": 8,
   "metadata": {},
   "outputs": [
    {
     "name": "stdout",
     "output_type": "stream",
     "text": [
      "Nhập dãy số của bạn, cách nhau bởi dấu phẩy: 1,2,3,4,5,6,7,8,9,10\n",
      "Các số lẻ là: 1,3,5,7,9\n"
     ]
    }
   ],
   "source": [
    "values = input(\"Nhập dãy số của bạn, cách nhau bởi dấu phẩy: \")\n",
    "numbers = [x for x in values.split(\",\") if int(x)%2!=0]\n",
    "print (\"Các số lẻ là: \"+\",\".join(numbers))"
   ]
  },
  {
   "cell_type": "markdown",
   "metadata": {},
   "source": [
    "**Câu 9:** Viết hàm tìm index các số mà trong danh sách nhỏ hơn 1 ngưỡng threshold <100.\n",
    "<div style=\"padding: 15px; border: 2px solid transparent; border-color: transparent; margin-bottom: 5px; margin-top: 10px;border-radius: 2px; color: #000000; background-color:#A4D3EE; border-color: #FFD39B;Width:60%\">\n",
    "\n",
    "Example:\n",
    "<br>\n",
    "<br>\n",
    "Input: [0, 12, 45, 3, 4923, 322, 105, 29, 15, 39, 55]\n",
    "<br>\n",
    "<br>\n",
    "Output: [0, 1, 2, 3, 7, 8, 9, 10]\n",
    "\n",
    "</div>"
   ]
  },
  {
   "cell_type": "code",
   "execution_count": 9,
   "metadata": {},
   "outputs": [
    {
     "name": "stdout",
     "output_type": "stream",
     "text": [
      "Original list:\n",
      " [0, 12, 45, 3, 4923, 322, 105, 29, 15, 39, 55]\n",
      "Threshold:  100\n",
      "Check the indexes of numbers of the said list below the given threshold:\n",
      "[0, 1, 2, 3, 7, 8, 9, 10]\n"
     ]
    }
   ],
   "source": [
    "def test(nums, n):\n",
    "    return [i for i,n in enumerate(nums) if n<thresh]\n",
    "\n",
    "nums=[0, 12, 45, 3, 4923, 322, 105, 29, 15, 39, 55]\n",
    "thresh = 100\n",
    "print(\"Original list:\\n\",nums)\n",
    "print(\"Threshold: \",thresh)\n",
    "print(\"Check the indexes of numbers of the said list below the given threshold:\")\n",
    "print(test(nums, thresh))"
   ]
  },
  {
   "cell_type": "markdown",
   "metadata": {},
   "source": [
    "**Câu 10:** Viết chương trình kiểm tra danh sách các chuỗi có phải là đối xứng hay không.\n",
    "<div style=\"padding: 15px; border: 2px solid transparent; border-color: transparent; margin-bottom: 5px; margin-top: 10px;border-radius: 2px; color: #000000; background-color:#A4D3EE; border-color: #FFD39B;Width:60%\">\n",
    "\n",
    "Example:\n",
    "<br>\n",
    "<br>\n",
    "Input: ['palindrome', 'madamimadam', '', 'foo', 'eyes']\n",
    "<br>\n",
    "<br>\n",
    "Output: [False, True, True, False, False]\n",
    "\n",
    "</div>"
   ]
  },
  {
   "cell_type": "code",
   "execution_count": 10,
   "metadata": {},
   "outputs": [
    {
     "name": "stdout",
     "output_type": "stream",
     "text": [
      "Original strings:\n",
      "['palindrome', 'madamimadam', '', 'foo', 'eyes']\n",
      "\n",
      "Test whether the given strings are palindromes or not:\n",
      "[False, True, True, False, False]\n"
     ]
    }
   ],
   "source": [
    "def test(strs):\n",
    "    return [s == s[::-1] for s in strs]\n",
    "strs = ['palindrome', 'madamimadam', '', 'foo', 'eyes']\n",
    "print(\"Original strings:\")\n",
    "print(strs)\n",
    "print(\"\\nTest whether the given strings are palindromes or not:\")\n",
    "print(test(strs))"
   ]
  },
  {
   "cell_type": "markdown",
   "metadata": {},
   "source": [
    "**Câu 11:** Viết hàm nhập bàn phím n là số nguyên, tạo chuỗi từ 0 đến n hiển thị ra màn hình cách nhau bởi dấu cách."
   ]
  },
  {
   "cell_type": "code",
   "execution_count": 11,
   "metadata": {},
   "outputs": [
    {
     "name": "stdout",
     "output_type": "stream",
     "text": [
      "Non-negative integer:\n",
      "4\n",
      "Non-negative integers up to n inclusive:\n",
      "0 1 2 3 4\n"
     ]
    }
   ],
   "source": [
    "def test(n):\n",
    "    return ' '.join(map(str,range(n+1)))\n",
    "n = 4\n",
    "print(\"Non-negative integer:\")\n",
    "print(n)\n",
    "print(\"Non-negative integers up to n inclusive:\")\n",
    "print(test(n))"
   ]
  },
  {
   "cell_type": "markdown",
   "metadata": {},
   "source": [
    "**Câu 12:** Viết chương trình sử dụng generator để in số chia hết cho 5 và 7 giữa 0 và n, cách nhau bằng dấu phẩy, n được người dùng nhập vào.\n",
    "\n",
    "<div style=\"padding: 15px; border: 2px solid transparent; border-color: transparent; margin-bottom: 5px; margin-top: 10px;border-radius: 2px; color: #000000; background-color:#A4D3EE; border-color: #FFD39B;Width:60%\">\n",
    "\n",
    "Example:\n",
    "<br>\n",
    "<br>\n",
    "Input: n = 80\n",
    "<br>\n",
    "<br>\n",
    "Output: 0,35,70\n",
    "\n",
    "</div>"
   ]
  },
  {
   "cell_type": "code",
   "execution_count": 12,
   "metadata": {},
   "outputs": [
    {
     "name": "stdout",
     "output_type": "stream",
     "text": [
      "Nhập n: 80\n",
      "Các số chia hết cho 5 và 7 trong khoảng 0 và 80 là: 0,35,70\n"
     ]
    }
   ],
   "source": [
    "def NumGenerator(n):\n",
    "    for i in range(n+1):\n",
    "        if i%5==0 and i%7==0:\n",
    "            yield i\n",
    "\n",
    "n=int(input(\"Nhập n: \"))\n",
    "values = []\n",
    "for i in NumGenerator(n):\n",
    "    values.append(str(i))\n",
    "\n",
    "print (\"Các số chia hết cho 5 và 7 trong khoảng 0 và \" +str(n)+\" là:\",\",\".join(values))"
   ]
  },
  {
   "cell_type": "markdown",
   "metadata": {},
   "source": [
    "**Câu 13:**  Viết chương trình sử dụng generator để in số chẵn trong khoảng từ 0 đến n, cách nhau bởi dấu phẩy, n là số được nhập vào.\n",
    "\n",
    "<div style=\"padding: 15px; border: 2px solid transparent; border-color: transparent; margin-bottom: 5px; margin-top: 10px;border-radius: 2px; color: #000000; background-color:#A4D3EE; border-color: #FFD39B;Width:60%\">\n",
    "\n",
    "Example:\n",
    "<br>\n",
    "<br>\n",
    "Input: n = 5\n",
    "<br>\n",
    "<br>\n",
    "Output: 0,2,4\n",
    "\n",
    "</div>\n"
   ]
  },
  {
   "cell_type": "code",
   "execution_count": 13,
   "metadata": {},
   "outputs": [
    {
     "name": "stdout",
     "output_type": "stream",
     "text": [
      "Nhập n: 5\n",
      "Các số chẵn trong khoảng 0 và n là:  0,2,4\n"
     ]
    }
   ],
   "source": [
    "def EvenGenerator(n):\n",
    "    i=0\n",
    "    while i<=n:\n",
    "        if i%2==0:\n",
    "            yield i\n",
    "        i+=1\n",
    "\n",
    "\n",
    "n=int(input(\"Nhập n: \"))\n",
    "values = []\n",
    "for i in EvenGenerator(n):\n",
    "    values.append(str(i))\n",
    "\n",
    "print (\"Các số chẵn trong khoảng 0 và n là: \",\",\".join(values))"
   ]
  },
  {
   "cell_type": "markdown",
   "metadata": {},
   "source": [
    "**Câu 14:** Viết chương trình tìm số các số để hình thành phép tính nhân tạo ra n.\n",
    "<div style=\"padding: 15px; border: 2px solid transparent; border-color: transparent; margin-bottom: 5px; margin-top: 10px;border-radius: 2px; color: #000000; background-color:#A4D3EE; border-color: #FFD39B;Width:60%\">\n",
    "\n",
    "Example: 12 = 12x1, 12 = 6x2, 12 = 3x4\n",
    "<br>\n",
    "<br>\n",
    "Input: 12\n",
    "<br>\n",
    "<br>\n",
    "Output: 6\n",
    "</div>"
   ]
  },
  {
   "cell_type": "code",
   "execution_count": 15,
   "metadata": {},
   "outputs": [
    {
     "name": "stdout",
     "output_type": "stream",
     "text": [
      "6\n"
     ]
    }
   ],
   "source": [
    "def divisor(n):\n",
    "    x = len([i for i in range(1,n+1) if not n % i])\n",
    "    return x\n",
    "print(divisor(12))"
   ]
  },
  {
   "cell_type": "markdown",
   "metadata": {},
   "source": [
    "**Câu 15:** Viết chương trình kiểm tra 3 số có tạo thành tam giác vuông hay không (với x, y, z được nhập từ bàn phím cách nhau bởi dấu cách)."
   ]
  },
  {
   "cell_type": "code",
   "execution_count": 16,
   "metadata": {},
   "outputs": [
    {
     "name": "stdout",
     "output_type": "stream",
     "text": [
      "Input three integers(sides of\n",
      "3 4 5\n",
      "Yes\n"
     ]
    }
   ],
   "source": [
    "print(\"Input three integers(sides of\")\n",
    "int_num = list(map(int,input().split()))\n",
    "x,y,z = sorted(int_num)\n",
    "if x**2+y**2==z**2:\n",
    "    print('Yes')\n",
    "else:\n",
    "    print('No')"
   ]
  },
  {
   "cell_type": "markdown",
   "metadata": {},
   "source": [
    "**Câu 16**: Viết một chương trình chấp nhận chuỗi từ do người dùng nhập vào, phân tách nhau bởi dấu phẩy sau đó sort theo bảng chữ cái rồi in ra màn hình."
   ]
  },
  {
   "cell_type": "code",
   "execution_count": 17,
   "metadata": {},
   "outputs": [
    {
     "name": "stdout",
     "output_type": "stream",
     "text": [
      "Nhập một chuỗi: her,this,that\n",
      "her,that,this\n"
     ]
    }
   ],
   "source": [
    "items=[x for x in input(\"Nhập một chuỗi: \").split(',')]\n",
    "items.sort()\n",
    "print (','.join(items))"
   ]
  },
  {
   "cell_type": "markdown",
   "metadata": {},
   "source": [
    "**Câu 17:** Viết chương trình kiểm tra 3 số có tạo thành tam giác vuông hay không sử dụng hàm map()."
   ]
  },
  {
   "cell_type": "code",
   "execution_count": 18,
   "metadata": {},
   "outputs": [
    {
     "name": "stdout",
     "output_type": "stream",
     "text": [
      "Input three integers(sides of a triangle)\n",
      "3 4 6\n",
      "No\n"
     ]
    }
   ],
   "source": [
    "print(\"Input three integers(sides of a triangle)\")\n",
    "int_num = list(map(int,input().split()))\n",
    "x,y,z = sorted(int_num)\n",
    "if x**2+y**2==z**2:\n",
    "    print('Yes')\n",
    "else:\n",
    "    print('No')"
   ]
  },
  {
   "cell_type": "markdown",
   "metadata": {},
   "source": [
    "**Câu 18:** Viết chương trình kiểm tra tin nhắn có chữ thường hay không."
   ]
  },
  {
   "cell_type": "code",
   "execution_count": 19,
   "metadata": {},
   "outputs": [
    {
     "data": {
      "text/plain": [
       "True"
      ]
     },
     "execution_count": 19,
     "metadata": {},
     "output_type": "execute_result"
    }
   ],
   "source": [
    "message = 'A8238i823acdeOUEI'\n",
    "any(c.islower() for c in message)"
   ]
  },
  {
   "cell_type": "markdown",
   "metadata": {},
   "source": [
    "**Câu 19:** Viết chương trình Python dùng map() và filter() để tạo list chứa giá trị bình phương của các số chẵn trong [1,2,3,4,5,6,7,8,9,10].\n",
    "<div style=\"padding: 15px; border: 2px solid transparent; border-color: transparent; margin-bottom: 5px; margin-top: 10px;border-radius: 2px; color: #000000; background-color:#A4D3EE; border-color: #FFD39B;Width:60%\">\n",
    "\n",
    "Example: \n",
    "<br>\n",
    "<br>\n",
    "Input: [1,2,3,4,5,6,7,8,9,10]\n",
    "<br>\n",
    "<br>\n",
    "Output: [4, 16, 36, 64, 100]\n",
    "\n",
    "</div>"
   ]
  },
  {
   "cell_type": "code",
   "execution_count": 21,
   "metadata": {},
   "outputs": [
    {
     "name": "stdout",
     "output_type": "stream",
     "text": [
      "[4, 16, 36, 64, 100]\n"
     ]
    }
   ],
   "source": [
    "listA = [1,2,3,4,5,6,7,8,9,10]\n",
    "squareOfEvenNumbers = list (map (lambda x: x ** 2, filter (lambda x: x% 2 == 0, listA)))\n",
    "print (squareOfEvenNumbers)"
   ]
  },
  {
   "cell_type": "markdown",
   "metadata": {},
   "source": [
    "**Câu 20:** Viết chương trình sử dụng hàm map để tính giá trị bình phương các số trong đoạn [1,2,3,4,5,6,7,8,9,10].\n",
    "\n",
    "<div style=\"padding: 15px; border: 2px solid transparent; border-color: transparent; margin-bottom: 5px; margin-top: 10px;border-radius: 2px; color: #000000; background-color:#A4D3EE; border-color: #FFD39B;Width:60%\">\n",
    "\n",
    "Example: \n",
    "<br>\n",
    "<br>\n",
    "Input: [1,2,3,4,5,6,7,8,9,10]\n",
    "<br>\n",
    "<br>\n",
    "Output: [1, 4, 9, 16, 25, 36, 49, 64, 81, 100]\n",
    "\n",
    "</div>"
   ]
  },
  {
   "cell_type": "code",
   "execution_count": 22,
   "metadata": {},
   "outputs": [
    {
     "name": "stdout",
     "output_type": "stream",
     "text": [
      "[1, 4, 9, 16, 25, 36, 49, 64, 81, 100]\n"
     ]
    }
   ],
   "source": [
    "listA = [1,2,3,4,5,6,7,8,9,10]\n",
    "sq_num = list(map(lambda x: x ** 2, listA))\n",
    "print (sq_num)"
   ]
  },
  {
   "cell_type": "markdown",
   "metadata": {},
   "source": [
    "**Câu 21:** Viết chương trình Python có thể lọc các số chẵn trong danh sách [1,2,3,4,5,6,7,8,9,10] sử dụng hàm filter().\n",
    "\n",
    "<div style=\"padding: 15px; border: 2px solid transparent; border-color: transparent; margin-bottom: 5px; margin-top: 10px;border-radius: 2px; color: #000000; background-color:#A4D3EE; border-color: #FFD39B;Width:60%\">\n",
    "\n",
    "Example: \n",
    "<br>\n",
    "<br>\n",
    "Input: [1,2,3,4,5,6,7,8,9,10]\n",
    "<br>\n",
    "<br>\n",
    "Output: [2, 4, 6, 8, 10]\n",
    "\n",
    "</div>"
   ]
  },
  {
   "cell_type": "code",
   "execution_count": 23,
   "metadata": {},
   "outputs": [
    {
     "name": "stdout",
     "output_type": "stream",
     "text": [
      "[2, 4, 6, 8, 10]\n"
     ]
    }
   ],
   "source": [
    "li = [1,2,3,4,5,6,7,8,9,10]\n",
    "evenNumbers = list(filter (lambda x: x% 2 == 0, li))\n",
    "print (evenNumbers)"
   ]
  },
  {
   "cell_type": "markdown",
   "metadata": {},
   "source": [
    "**Câu 22:**  Viết chương trình Python sử dụng map() để tạo list chứa giá trị bình phương của các số trong đoạn [1,20]."
   ]
  },
  {
   "cell_type": "code",
   "execution_count": 24,
   "metadata": {},
   "outputs": [
    {
     "name": "stdout",
     "output_type": "stream",
     "text": [
      "[1, 4, 9, 16, 25, 36, 49, 64, 81, 100, 121, 144, 169, 196, 225, 256, 289, 324, 361, 400]\n"
     ]
    }
   ],
   "source": [
    "squaredNumbers = list(map(lambda x: x ** 2, range (1,21)))\n",
    "print (squaredNumbers)"
   ]
  },
  {
   "cell_type": "markdown",
   "metadata": {},
   "source": [
    "**Câu 23:** Viết chương trình nhập từ bàn phím các số cách nhau bởi dấu cách hãy chuyển thành kiểu list.\n",
    "<div style=\"padding: 15px; border: 2px solid transparent; border-color: transparent; margin-bottom: 5px; margin-top: 10px;border-radius: 2px; color: #000000; background-color:#A4D3EE; border-color: #FFD39B;Width:60%\">\n",
    "\n",
    "Example:\n",
    "<br>\n",
    "<br>\n",
    "Input: 2 5 7 8 \n",
    "<br>\n",
    "<br>\n",
    "Output: [2, 5, 7, 8]\n",
    "</div>\n"
   ]
  },
  {
   "cell_type": "code",
   "execution_count": 25,
   "metadata": {},
   "outputs": [
    {
     "name": "stdout",
     "output_type": "stream",
     "text": [
      "Nhập các số: 2 5 7 8\n",
      "Danh sách [2, 5, 7, 8]\n"
     ]
    }
   ],
   "source": [
    "n_values=input(\"Nhập các số: \")\n",
    "l= n_values.split(\" \")\n",
    "l_new=[int(i) for i in l]\n",
    "print('Danh sách',l_new)"
   ]
  },
  {
   "cell_type": "markdown",
   "metadata": {},
   "source": [
    "**Câu 24:** Viết một chương trình chấp nhận đầu vào là một chuỗi các từ tách biệt bởi khoảng trắng sau đó hãy loại bỏ các từ trùng lặp và sắp xếp theo thứ tự bảng chữ cái."
   ]
  },
  {
   "cell_type": "code",
   "execution_count": 26,
   "metadata": {},
   "outputs": [
    {
     "name": "stdout",
     "output_type": "stream",
     "text": [
      "Nhập chuỗi của bạn: 1 3e 2 4\n",
      "1 2 3e 4\n"
     ]
    }
   ],
   "source": [
    "s = input(\"Nhập chuỗi của bạn: \")\n",
    "words = [word for word in s.split(\" \")]\n",
    "print (\" \".join(sorted(list(set(words)))))"
   ]
  },
  {
   "cell_type": "markdown",
   "metadata": {},
   "source": [
    "**Câu 25:** Viết chương trình in ra các số không là số nguyên tố trong đoạn từ 1 đến 50."
   ]
  },
  {
   "cell_type": "code",
   "execution_count": 27,
   "metadata": {},
   "outputs": [
    {
     "name": "stdout",
     "output_type": "stream",
     "text": [
      "Các số không là số nguyên tố từ 1 đến 100 là:\n",
      "4,6,8,9,10,12,14,15,16,18,20,21,22,24,25,26,27,28,30,32,33,34,35,36,38,39,40,42,44,45,46,48,49,50,"
     ]
    }
   ],
   "source": [
    "import math\n",
    "def is_not_prime(n):\n",
    "    ans = False\n",
    "    for i in range(2, int(math.sqrt(n)) + 1):\n",
    "        if n % i == 0:\n",
    "            ans = True\n",
    "    return ans\n",
    "print(\"Các số không là số nguyên tố từ 1 đến 100 là:\")\n",
    "for x in filter(is_not_prime, range(1, 51)):\n",
    "    print(x,end=',')"
   ]
  },
  {
   "cell_type": "markdown",
   "metadata": {},
   "source": [
    "**Câu 26:** Viết chương trình tạo chuỗi từ 0 đến n."
   ]
  },
  {
   "cell_type": "code",
   "execution_count": 28,
   "metadata": {},
   "outputs": [
    {
     "name": "stdout",
     "output_type": "stream",
     "text": [
      "Non-negative integer:\n",
      "4\n",
      "Non-negative integers up to n inclusive:\n",
      "0 1 2 3 4\n"
     ]
    }
   ],
   "source": [
    "def test(n):\n",
    "    return ' '.join(map(str,range(n+1)))\n",
    "n = 4\n",
    "print(\"Non-negative integer:\")\n",
    "print(n)\n",
    "print(\"Non-negative integers up to n inclusive:\")\n",
    "print(test(n))"
   ]
  },
  {
   "cell_type": "markdown",
   "metadata": {},
   "source": [
    "**Câu 27:** Cho năm số nguyên dương, hãy tìm các giá trị nhỏ nhất và lớn nhất có thể được tính bằng cách tính tổng chính xác bốn trong năm số nguyên. Sau đó, in các giá trị tối thiểu và tối đa tương ứng dưới dạng một dòng gồm hai số nguyên dài được phân tách bằng dấu cách."
   ]
  },
  {
   "cell_type": "code",
   "execution_count": 29,
   "metadata": {},
   "outputs": [
    {
     "name": "stdout",
     "output_type": "stream",
     "text": [
      "1 3 4 5 3\n",
      "11 15\n"
     ]
    }
   ],
   "source": [
    "def miniMaxSum(arr):\n",
    "    Max=max(arr)\n",
    "    Min=min(arr)\n",
    "    SumMin,SumMax=0,0\n",
    "    if Max==Min:\n",
    "        SumMax=SumMin=(len(arr)-1)*Max\n",
    "    for i in arr:\n",
    "        if i < Max:\n",
    "            SumMin+=i\n",
    "    for i in arr:\n",
    "        if i>Min:\n",
    "            SumMax+=i\n",
    "    print(SumMin,SumMax,sep=' ')\n",
    "\n",
    "\n",
    "arr = list(map(int, input().rstrip().split()))\n",
    "\n",
    "miniMaxSum(arr)\n"
   ]
  },
  {
   "cell_type": "markdown",
   "metadata": {},
   "source": [
    "**Câu 28:** Viết hàm tính tỷ lệ số âm , số dương, số zeros có trong mảng được nhập từ bàn phím cách nhau bởi dấu cách."
   ]
  },
  {
   "cell_type": "code",
   "execution_count": 31,
   "metadata": {},
   "outputs": [
    {
     "name": "stdout",
     "output_type": "stream",
     "text": [
      "4\n",
      "-3 3 4 0\n",
      "0.500000\n",
      "0.250000\n",
      "0.250000\n"
     ]
    }
   ],
   "source": [
    "def plusMinus(arr):\n",
    "    count_1=0;count_2=0;count_3=0\n",
    "    for i in arr:\n",
    "        if i>0:\n",
    "            count_1+=1\n",
    "        elif i<0:\n",
    "            count_2+=1\n",
    "        else:\n",
    "            count_3+=1\n",
    "    print(\"{0:.6f}\".format(count_1/len(arr)))\n",
    "    print(\"{0:.6f}\".format(count_2/len(arr)))\n",
    "    print(\"{0:.6f}\".format(count_3/len(arr)))\n",
    "len_A=int(input())\n",
    "arr_A=[float(i) for i in input().split(\" \")]\n",
    "plusMinus(arr_A)"
   ]
  },
  {
   "cell_type": "markdown",
   "metadata": {},
   "source": [
    "**Câu 29:** Viết chương trình xuất ra một số chẵn ngẫu nhiên trong khoảng 0 đến 10 (bao gồm cả 0 và 10), sử dụng module random và list comprehension."
   ]
  },
  {
   "cell_type": "code",
   "execution_count": 32,
   "metadata": {},
   "outputs": [
    {
     "name": "stdout",
     "output_type": "stream",
     "text": [
      "10\n"
     ]
    }
   ],
   "source": [
    "import random\n",
    "print (random.choice([i for i in range(11) if i%2==0]))"
   ]
  },
  {
   "cell_type": "markdown",
   "metadata": {},
   "source": [
    "**Câu 30:** Vui lòng viết chương trình để xuất một số ngẫu nhiên, chia hết cho 5 và 7, từ 0 đến 200 (gồm cả 0 và 200), sử dụng module random và list comprehension."
   ]
  },
  {
   "cell_type": "code",
   "execution_count": 33,
   "metadata": {},
   "outputs": [
    {
     "name": "stdout",
     "output_type": "stream",
     "text": [
      "140\n"
     ]
    }
   ],
   "source": [
    "import random\n",
    "print (random.choice([i for i in range(201) if i%5==0 and i%7==0]))"
   ]
  },
  {
   "cell_type": "markdown",
   "metadata": {},
   "source": [
    "**Câu 31:** Hãy viết hàm adder là tổng của các đối số của hàm truyền tổng quát hóa lên bằng cách sử dụng unpacking argument **\\*args.**\n"
   ]
  },
  {
   "cell_type": "code",
   "execution_count": 12,
   "metadata": {},
   "outputs": [
    {
     "data": {
      "text/plain": [
       "17"
      ]
     },
     "execution_count": 12,
     "metadata": {},
     "output_type": "execute_result"
    }
   ],
   "source": [
    "def adder(*args):\n",
    "    Sum=args[0]\n",
    "    for arg in args[1:]:\n",
    "        Sum+=arg\n",
    "    return Sum\n",
    "adder(1,4,5,5,2)"
   ]
  },
  {
   "cell_type": "markdown",
   "metadata": {},
   "source": [
    "**Câu 32:** Hãy viết hàm adder là tổng của các đối số của hàm truyền tổng quát hóa lên bằng cách sử dụng unpacking keyword argument **\\**kwargs**.\n",
    "```python\n",
    "def adder(a=4,b=2,c=5):\n",
    "    return a+b+c\n",
    "```"
   ]
  },
  {
   "cell_type": "code",
   "execution_count": 14,
   "metadata": {},
   "outputs": [
    {
     "data": {
      "text/plain": [
       "12"
      ]
     },
     "execution_count": 14,
     "metadata": {},
     "output_type": "execute_result"
    }
   ],
   "source": [
    "def adder(**kwargs):\n",
    "    list_args=list(kwargs.keys())\n",
    "    Sum=kwargs[list_args[0]]\n",
    "    for key in list_args[1:]:\n",
    "        Sum+=kwargs[key]\n",
    "    return Sum\n",
    "adder(a=1,b=3,c=4,d=4)"
   ]
  },
  {
   "cell_type": "code",
   "execution_count": 16,
   "metadata": {},
   "outputs": [
    {
     "data": {
      "text/plain": [
       "12"
      ]
     },
     "execution_count": 16,
     "metadata": {},
     "output_type": "execute_result"
    }
   ],
   "source": [
    "def adder(**kwargs):\n",
    "    args=list(kwargs.values())\n",
    "    tot=args[0]\n",
    "    for arg in args[1:]:\n",
    "        tot+=arg\n",
    "    return tot\n",
    "adder(a=1,b=3,c=4,d=4)"
   ]
  },
  {
   "cell_type": "markdown",
   "metadata": {},
   "source": [
    "**Câu 33:** Sử dụng lập trình hàm fucntional để định nghĩa hàm tính giai thừa của n."
   ]
  },
  {
   "cell_type": "code",
   "execution_count": 20,
   "metadata": {},
   "outputs": [
    {
     "data": {
      "text/plain": [
       "24"
      ]
     },
     "execution_count": 20,
     "metadata": {},
     "output_type": "execute_result"
    }
   ],
   "source": [
    "from functools import reduce\n",
    "def fact(N):\n",
    "    return reduce(lambda x,y: x*y,range(1,N+1))\n",
    "fact(4)"
   ]
  },
  {
   "cell_type": "markdown",
   "metadata": {},
   "source": [
    "**Câu 34:** Sử dụng lặp vòng Iterative để định nghĩa hàm tính giai thừa của n."
   ]
  },
  {
   "cell_type": "code",
   "execution_count": 22,
   "metadata": {},
   "outputs": [
    {
     "data": {
      "text/plain": [
       "120"
      ]
     },
     "execution_count": 22,
     "metadata": {},
     "output_type": "execute_result"
    }
   ],
   "source": [
    "def fact(N):\n",
    "    res=1\n",
    "    for i in range(1,N+1):\n",
    "        res*=i\n",
    "    return res\n",
    "fact(5)"
   ]
  },
  {
   "cell_type": "code",
   "execution_count": null,
   "metadata": {},
   "outputs": [],
   "source": []
  }
 ],
 "metadata": {
  "kernelspec": {
   "display_name": "Python 3",
   "language": "python",
   "name": "python3"
  },
  "language_info": {
   "codemirror_mode": {
    "name": "ipython",
    "version": 3
   },
   "file_extension": ".py",
   "mimetype": "text/x-python",
   "name": "python",
   "nbconvert_exporter": "python",
   "pygments_lexer": "ipython3",
   "version": "3.7.0"
  }
 },
 "nbformat": 4,
 "nbformat_minor": 2
}
