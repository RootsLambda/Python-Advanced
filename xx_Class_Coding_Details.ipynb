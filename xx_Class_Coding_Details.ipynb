{
 "cells": [
  {
   "cell_type": "code",
   "execution_count": 73,
   "metadata": {},
   "outputs": [
    {
     "name": "stdout",
     "output_type": "stream",
     "text": [
      "\n"
     ]
    },
    {
     "data": {
      "text/plain": [
       "NoneType"
      ]
     },
     "execution_count": 73,
     "metadata": {},
     "output_type": "execute_result"
    }
   ],
   "source": [
    "type(print())"
   ]
  },
  {
   "cell_type": "code",
   "execution_count": 1,
   "metadata": {},
   "outputs": [
    {
     "data": {
      "text/plain": [
       "42"
      ]
     },
     "execution_count": 1,
     "metadata": {},
     "output_type": "execute_result"
    }
   ],
   "source": [
    "class SharedData:\n",
    "    spam=42\n",
    "x=SharedData()\n",
    "y=SharedData()\n",
    "x.spam"
   ]
  },
  {
   "cell_type": "code",
   "execution_count": 2,
   "metadata": {},
   "outputs": [
    {
     "data": {
      "text/plain": [
       "42"
      ]
     },
     "execution_count": 2,
     "metadata": {},
     "output_type": "execute_result"
    }
   ],
   "source": [
    "y.spam"
   ]
  },
  {
   "cell_type": "code",
   "execution_count": 3,
   "metadata": {},
   "outputs": [
    {
     "data": {
      "text/plain": [
       "99"
      ]
     },
     "execution_count": 3,
     "metadata": {},
     "output_type": "execute_result"
    }
   ],
   "source": [
    "SharedData.spam=99\n",
    "x.spam"
   ]
  },
  {
   "cell_type": "code",
   "execution_count": 4,
   "metadata": {},
   "outputs": [
    {
     "data": {
      "text/plain": [
       "99"
      ]
     },
     "execution_count": 4,
     "metadata": {},
     "output_type": "execute_result"
    }
   ],
   "source": [
    "y.spam"
   ]
  },
  {
   "cell_type": "code",
   "execution_count": 5,
   "metadata": {},
   "outputs": [
    {
     "data": {
      "text/plain": [
       "99"
      ]
     },
     "execution_count": 5,
     "metadata": {},
     "output_type": "execute_result"
    }
   ],
   "source": [
    "SharedData.spam"
   ]
  },
  {
   "cell_type": "code",
   "execution_count": 6,
   "metadata": {},
   "outputs": [],
   "source": [
    "class MixedNames:\n",
    "    data = 'spam'          # assign class attr\n",
    "    def __init__(self, value):\n",
    "        self.data = value     # assign instance attr\n",
    "    def display(self):\n",
    "        print(self.data, MixedNames.data) # Instance attr, class attr"
   ]
  },
  {
   "cell_type": "code",
   "execution_count": 7,
   "metadata": {},
   "outputs": [
    {
     "name": "stdout",
     "output_type": "stream",
     "text": [
      "1 spam\n",
      "2 spam\n"
     ]
    }
   ],
   "source": [
    "x = MixedNames(1) \n",
    "y = MixedNames(2) \n",
    "x.display(); y.display() "
   ]
  },
  {
   "cell_type": "markdown",
   "metadata": {},
   "source": [
    "## Method"
   ]
  },
  {
   "cell_type": "code",
   "execution_count": 8,
   "metadata": {},
   "outputs": [],
   "source": [
    "class NextClass: \n",
    "    def printer(self, text): # Define method\n",
    "        self.message = text # Change instance\n",
    "        print(self.message) # Access instance"
   ]
  },
  {
   "cell_type": "code",
   "execution_count": 9,
   "metadata": {},
   "outputs": [
    {
     "name": "stdout",
     "output_type": "stream",
     "text": [
      "instance call\n"
     ]
    }
   ],
   "source": [
    "x = NextClass() # Make instance\n",
    "x.printer('instance call') # Call its method"
   ]
  },
  {
   "cell_type": "code",
   "execution_count": 10,
   "metadata": {},
   "outputs": [
    {
     "data": {
      "text/plain": [
       "'instance call'"
      ]
     },
     "execution_count": 10,
     "metadata": {},
     "output_type": "execute_result"
    }
   ],
   "source": [
    "x.message"
   ]
  },
  {
   "cell_type": "code",
   "execution_count": 11,
   "metadata": {},
   "outputs": [
    {
     "name": "stdout",
     "output_type": "stream",
     "text": [
      "class call\n"
     ]
    }
   ],
   "source": [
    "NextClass.printer(x, 'class call')"
   ]
  },
  {
   "cell_type": "code",
   "execution_count": 12,
   "metadata": {},
   "outputs": [
    {
     "data": {
      "text/plain": [
       "'class call'"
      ]
     },
     "execution_count": 12,
     "metadata": {},
     "output_type": "execute_result"
    }
   ],
   "source": [
    "x.message"
   ]
  },
  {
   "cell_type": "code",
   "execution_count": 13,
   "metadata": {},
   "outputs": [],
   "source": [
    "class Super:\n",
    "    def method(self):\n",
    "        print('in Super.method')\n",
    "class Sub(Super):\n",
    "    def method(self):\n",
    "        print('start Sub.method')\n",
    "        Super.method(self)\n",
    "        print('end Sub.method')"
   ]
  },
  {
   "cell_type": "code",
   "execution_count": 14,
   "metadata": {},
   "outputs": [
    {
     "name": "stdout",
     "output_type": "stream",
     "text": [
      "in Super.method\n"
     ]
    }
   ],
   "source": [
    "x=Super()\n",
    "x.method()"
   ]
  },
  {
   "cell_type": "code",
   "execution_count": 15,
   "metadata": {},
   "outputs": [
    {
     "name": "stdout",
     "output_type": "stream",
     "text": [
      "start Sub.method\n",
      "in Super.method\n",
      "end Sub.method\n"
     ]
    }
   ],
   "source": [
    "x=Sub()\n",
    "x.method()"
   ]
  },
  {
   "cell_type": "code",
   "execution_count": 16,
   "metadata": {},
   "outputs": [
    {
     "name": "stdout",
     "output_type": "stream",
     "text": [
      "\n",
      "Inheritor...\n",
      "in Super.method\n",
      "\n",
      "Replacer...\n",
      "in Replacer.method\n",
      "\n",
      "Extender...\n",
      "starting Extender.method\n",
      "in Super.method\n",
      "ending Extender.method\n",
      "\n",
      "Provider...\n",
      "in Provider.action\n"
     ]
    }
   ],
   "source": [
    "class Super:\n",
    "    def method(self):\n",
    "        print('in Super.method')\n",
    "    def delegate(self):\n",
    "        self.action()\n",
    "class Inheritor(Super):\n",
    "    pass\n",
    "class Replacer(Super):\n",
    "    def method(self):\n",
    "        print('in Replacer.method')\n",
    "class Extender(Super): # Extend method behavior\n",
    "    def method(self):\n",
    "        print('starting Extender.method')\n",
    "        Super.method(self)\n",
    "        print('ending Extender.method')\n",
    "class Provider(Super):\n",
    "    def action(self):\n",
    "        print('in Provider.action')\n",
    "if __name__=='__main__':\n",
    "    for klass in (Inheritor,Replacer,Extender):\n",
    "        print(\"\\n\"+klass.__name__+\"...\")\n",
    "        klass().method()\n",
    "    print('\\nProvider...')\n",
    "    x = Provider()\n",
    "    x.delegate()"
   ]
  },
  {
   "cell_type": "markdown",
   "metadata": {},
   "source": [
    "## Tính trừu tượng superclasses"
   ]
  },
  {
   "cell_type": "code",
   "execution_count": 17,
   "metadata": {},
   "outputs": [],
   "source": [
    "class Super:\n",
    "    def delegate(self):\n",
    "        self.action()\n",
    "    def action(self):\n",
    "        assert False, 'action must be defined!'"
   ]
  },
  {
   "cell_type": "code",
   "execution_count": 18,
   "metadata": {},
   "outputs": [],
   "source": [
    "X=Super()"
   ]
  },
  {
   "cell_type": "code",
   "execution_count": 19,
   "metadata": {},
   "outputs": [
    {
     "ename": "AssertionError",
     "evalue": "action must be defined!",
     "output_type": "error",
     "traceback": [
      "\u001b[1;31m----------------------------------------------------------------\u001b[0m",
      "\u001b[1;31mAssertionError\u001b[0m                 Traceback (most recent call last)",
      "\u001b[1;32m<ipython-input-19-028eeaa7d4f1>\u001b[0m in \u001b[0;36m<module>\u001b[1;34m()\u001b[0m\n\u001b[1;32m----> 1\u001b[1;33m \u001b[0mX\u001b[0m\u001b[1;33m.\u001b[0m\u001b[0mdelegate\u001b[0m\u001b[1;33m(\u001b[0m\u001b[1;33m)\u001b[0m\u001b[1;33m\u001b[0m\u001b[0m\n\u001b[0m",
      "\u001b[1;32m<ipython-input-17-b272d3f715fe>\u001b[0m in \u001b[0;36mdelegate\u001b[1;34m(self)\u001b[0m\n\u001b[0;32m      1\u001b[0m \u001b[1;32mclass\u001b[0m \u001b[0mSuper\u001b[0m\u001b[1;33m:\u001b[0m\u001b[1;33m\u001b[0m\u001b[0m\n\u001b[0;32m      2\u001b[0m     \u001b[1;32mdef\u001b[0m \u001b[0mdelegate\u001b[0m\u001b[1;33m(\u001b[0m\u001b[0mself\u001b[0m\u001b[1;33m)\u001b[0m\u001b[1;33m:\u001b[0m\u001b[1;33m\u001b[0m\u001b[0m\n\u001b[1;32m----> 3\u001b[1;33m         \u001b[0mself\u001b[0m\u001b[1;33m.\u001b[0m\u001b[0maction\u001b[0m\u001b[1;33m(\u001b[0m\u001b[1;33m)\u001b[0m\u001b[1;33m\u001b[0m\u001b[0m\n\u001b[0m\u001b[0;32m      4\u001b[0m     \u001b[1;32mdef\u001b[0m \u001b[0maction\u001b[0m\u001b[1;33m(\u001b[0m\u001b[0mself\u001b[0m\u001b[1;33m)\u001b[0m\u001b[1;33m:\u001b[0m\u001b[1;33m\u001b[0m\u001b[0m\n\u001b[0;32m      5\u001b[0m         \u001b[1;32massert\u001b[0m \u001b[1;32mFalse\u001b[0m\u001b[1;33m,\u001b[0m \u001b[1;34m'action must be defined!'\u001b[0m\u001b[1;33m\u001b[0m\u001b[0m\n",
      "\u001b[1;32m<ipython-input-17-b272d3f715fe>\u001b[0m in \u001b[0;36maction\u001b[1;34m(self)\u001b[0m\n\u001b[0;32m      3\u001b[0m         \u001b[0mself\u001b[0m\u001b[1;33m.\u001b[0m\u001b[0maction\u001b[0m\u001b[1;33m(\u001b[0m\u001b[1;33m)\u001b[0m\u001b[1;33m\u001b[0m\u001b[0m\n\u001b[0;32m      4\u001b[0m     \u001b[1;32mdef\u001b[0m \u001b[0maction\u001b[0m\u001b[1;33m(\u001b[0m\u001b[0mself\u001b[0m\u001b[1;33m)\u001b[0m\u001b[1;33m:\u001b[0m\u001b[1;33m\u001b[0m\u001b[0m\n\u001b[1;32m----> 5\u001b[1;33m         \u001b[1;32massert\u001b[0m \u001b[1;32mFalse\u001b[0m\u001b[1;33m,\u001b[0m \u001b[1;34m'action must be defined!'\u001b[0m\u001b[1;33m\u001b[0m\u001b[0m\n\u001b[0m",
      "\u001b[1;31mAssertionError\u001b[0m: action must be defined!"
     ]
    }
   ],
   "source": [
    "X.delegate()"
   ]
  },
  {
   "cell_type": "code",
   "execution_count": 20,
   "metadata": {},
   "outputs": [],
   "source": [
    "class Super:\n",
    "    def delegate(self):\n",
    "        self.action()\n",
    "    def action(self):\n",
    "        raise NotImplementedError('action must be defined!')"
   ]
  },
  {
   "cell_type": "code",
   "execution_count": 21,
   "metadata": {},
   "outputs": [],
   "source": [
    "X=Super()"
   ]
  },
  {
   "cell_type": "code",
   "execution_count": 22,
   "metadata": {},
   "outputs": [
    {
     "ename": "NotImplementedError",
     "evalue": "action must be defined!",
     "output_type": "error",
     "traceback": [
      "\u001b[1;31m----------------------------------------------------------------\u001b[0m",
      "\u001b[1;31mNotImplementedError\u001b[0m            Traceback (most recent call last)",
      "\u001b[1;32m<ipython-input-22-028eeaa7d4f1>\u001b[0m in \u001b[0;36m<module>\u001b[1;34m()\u001b[0m\n\u001b[1;32m----> 1\u001b[1;33m \u001b[0mX\u001b[0m\u001b[1;33m.\u001b[0m\u001b[0mdelegate\u001b[0m\u001b[1;33m(\u001b[0m\u001b[1;33m)\u001b[0m\u001b[1;33m\u001b[0m\u001b[0m\n\u001b[0m",
      "\u001b[1;32m<ipython-input-20-08eb6b1ce73f>\u001b[0m in \u001b[0;36mdelegate\u001b[1;34m(self)\u001b[0m\n\u001b[0;32m      1\u001b[0m \u001b[1;32mclass\u001b[0m \u001b[0mSuper\u001b[0m\u001b[1;33m:\u001b[0m\u001b[1;33m\u001b[0m\u001b[0m\n\u001b[0;32m      2\u001b[0m     \u001b[1;32mdef\u001b[0m \u001b[0mdelegate\u001b[0m\u001b[1;33m(\u001b[0m\u001b[0mself\u001b[0m\u001b[1;33m)\u001b[0m\u001b[1;33m:\u001b[0m\u001b[1;33m\u001b[0m\u001b[0m\n\u001b[1;32m----> 3\u001b[1;33m         \u001b[0mself\u001b[0m\u001b[1;33m.\u001b[0m\u001b[0maction\u001b[0m\u001b[1;33m(\u001b[0m\u001b[1;33m)\u001b[0m\u001b[1;33m\u001b[0m\u001b[0m\n\u001b[0m\u001b[0;32m      4\u001b[0m     \u001b[1;32mdef\u001b[0m \u001b[0maction\u001b[0m\u001b[1;33m(\u001b[0m\u001b[0mself\u001b[0m\u001b[1;33m)\u001b[0m\u001b[1;33m:\u001b[0m\u001b[1;33m\u001b[0m\u001b[0m\n\u001b[0;32m      5\u001b[0m         \u001b[1;32mraise\u001b[0m \u001b[0mNotImplementedError\u001b[0m\u001b[1;33m(\u001b[0m\u001b[1;34m'action must be defined!'\u001b[0m\u001b[1;33m)\u001b[0m\u001b[1;33m\u001b[0m\u001b[0m\n",
      "\u001b[1;32m<ipython-input-20-08eb6b1ce73f>\u001b[0m in \u001b[0;36maction\u001b[1;34m(self)\u001b[0m\n\u001b[0;32m      3\u001b[0m         \u001b[0mself\u001b[0m\u001b[1;33m.\u001b[0m\u001b[0maction\u001b[0m\u001b[1;33m(\u001b[0m\u001b[1;33m)\u001b[0m\u001b[1;33m\u001b[0m\u001b[0m\n\u001b[0;32m      4\u001b[0m     \u001b[1;32mdef\u001b[0m \u001b[0maction\u001b[0m\u001b[1;33m(\u001b[0m\u001b[0mself\u001b[0m\u001b[1;33m)\u001b[0m\u001b[1;33m:\u001b[0m\u001b[1;33m\u001b[0m\u001b[0m\n\u001b[1;32m----> 5\u001b[1;33m         \u001b[1;32mraise\u001b[0m \u001b[0mNotImplementedError\u001b[0m\u001b[1;33m(\u001b[0m\u001b[1;34m'action must be defined!'\u001b[0m\u001b[1;33m)\u001b[0m\u001b[1;33m\u001b[0m\u001b[0m\n\u001b[0m",
      "\u001b[1;31mNotImplementedError\u001b[0m: action must be defined!"
     ]
    }
   ],
   "source": [
    "X.delegate()"
   ]
  },
  {
   "cell_type": "code",
   "execution_count": 23,
   "metadata": {},
   "outputs": [],
   "source": [
    "class Sub(Super):\n",
    "    pass"
   ]
  },
  {
   "cell_type": "code",
   "execution_count": 24,
   "metadata": {},
   "outputs": [],
   "source": [
    "X=Sub()"
   ]
  },
  {
   "cell_type": "code",
   "execution_count": 25,
   "metadata": {},
   "outputs": [
    {
     "ename": "NotImplementedError",
     "evalue": "action must be defined!",
     "output_type": "error",
     "traceback": [
      "\u001b[1;31m----------------------------------------------------------------\u001b[0m",
      "\u001b[1;31mNotImplementedError\u001b[0m            Traceback (most recent call last)",
      "\u001b[1;32m<ipython-input-25-028eeaa7d4f1>\u001b[0m in \u001b[0;36m<module>\u001b[1;34m()\u001b[0m\n\u001b[1;32m----> 1\u001b[1;33m \u001b[0mX\u001b[0m\u001b[1;33m.\u001b[0m\u001b[0mdelegate\u001b[0m\u001b[1;33m(\u001b[0m\u001b[1;33m)\u001b[0m\u001b[1;33m\u001b[0m\u001b[0m\n\u001b[0m",
      "\u001b[1;32m<ipython-input-20-08eb6b1ce73f>\u001b[0m in \u001b[0;36mdelegate\u001b[1;34m(self)\u001b[0m\n\u001b[0;32m      1\u001b[0m \u001b[1;32mclass\u001b[0m \u001b[0mSuper\u001b[0m\u001b[1;33m:\u001b[0m\u001b[1;33m\u001b[0m\u001b[0m\n\u001b[0;32m      2\u001b[0m     \u001b[1;32mdef\u001b[0m \u001b[0mdelegate\u001b[0m\u001b[1;33m(\u001b[0m\u001b[0mself\u001b[0m\u001b[1;33m)\u001b[0m\u001b[1;33m:\u001b[0m\u001b[1;33m\u001b[0m\u001b[0m\n\u001b[1;32m----> 3\u001b[1;33m         \u001b[0mself\u001b[0m\u001b[1;33m.\u001b[0m\u001b[0maction\u001b[0m\u001b[1;33m(\u001b[0m\u001b[1;33m)\u001b[0m\u001b[1;33m\u001b[0m\u001b[0m\n\u001b[0m\u001b[0;32m      4\u001b[0m     \u001b[1;32mdef\u001b[0m \u001b[0maction\u001b[0m\u001b[1;33m(\u001b[0m\u001b[0mself\u001b[0m\u001b[1;33m)\u001b[0m\u001b[1;33m:\u001b[0m\u001b[1;33m\u001b[0m\u001b[0m\n\u001b[0;32m      5\u001b[0m         \u001b[1;32mraise\u001b[0m \u001b[0mNotImplementedError\u001b[0m\u001b[1;33m(\u001b[0m\u001b[1;34m'action must be defined!'\u001b[0m\u001b[1;33m)\u001b[0m\u001b[1;33m\u001b[0m\u001b[0m\n",
      "\u001b[1;32m<ipython-input-20-08eb6b1ce73f>\u001b[0m in \u001b[0;36maction\u001b[1;34m(self)\u001b[0m\n\u001b[0;32m      3\u001b[0m         \u001b[0mself\u001b[0m\u001b[1;33m.\u001b[0m\u001b[0maction\u001b[0m\u001b[1;33m(\u001b[0m\u001b[1;33m)\u001b[0m\u001b[1;33m\u001b[0m\u001b[0m\n\u001b[0;32m      4\u001b[0m     \u001b[1;32mdef\u001b[0m \u001b[0maction\u001b[0m\u001b[1;33m(\u001b[0m\u001b[0mself\u001b[0m\u001b[1;33m)\u001b[0m\u001b[1;33m:\u001b[0m\u001b[1;33m\u001b[0m\u001b[0m\n\u001b[1;32m----> 5\u001b[1;33m         \u001b[1;32mraise\u001b[0m \u001b[0mNotImplementedError\u001b[0m\u001b[1;33m(\u001b[0m\u001b[1;34m'action must be defined!'\u001b[0m\u001b[1;33m)\u001b[0m\u001b[1;33m\u001b[0m\u001b[0m\n\u001b[0m",
      "\u001b[1;31mNotImplementedError\u001b[0m: action must be defined!"
     ]
    }
   ],
   "source": [
    "X.delegate()"
   ]
  },
  {
   "cell_type": "code",
   "execution_count": 26,
   "metadata": {},
   "outputs": [],
   "source": [
    "class Sub(Super):\n",
    "    def action(self):\n",
    "        print('spam')"
   ]
  },
  {
   "cell_type": "code",
   "execution_count": 27,
   "metadata": {},
   "outputs": [
    {
     "name": "stdout",
     "output_type": "stream",
     "text": [
      "spam\n"
     ]
    }
   ],
   "source": [
    "X=Sub()\n",
    "X.delegate()"
   ]
  },
  {
   "cell_type": "code",
   "execution_count": 28,
   "metadata": {},
   "outputs": [],
   "source": [
    "from abc import ABCMeta, abstractmethod\n",
    "class Super(metaclass=ABCMeta):\n",
    "    def delegate(self):\n",
    "        self.action()\n",
    "    @abstractmethod\n",
    "    def action(self):\n",
    "        pass"
   ]
  },
  {
   "cell_type": "code",
   "execution_count": 29,
   "metadata": {},
   "outputs": [
    {
     "ename": "TypeError",
     "evalue": "Can't instantiate abstract class Super with abstract methods action",
     "output_type": "error",
     "traceback": [
      "\u001b[1;31m----------------------------------------------------------------\u001b[0m",
      "\u001b[1;31mTypeError\u001b[0m                      Traceback (most recent call last)",
      "\u001b[1;32m<ipython-input-29-ea1510062678>\u001b[0m in \u001b[0;36m<module>\u001b[1;34m()\u001b[0m\n\u001b[1;32m----> 1\u001b[1;33m \u001b[0mX\u001b[0m \u001b[1;33m=\u001b[0m \u001b[0mSuper\u001b[0m\u001b[1;33m(\u001b[0m\u001b[1;33m)\u001b[0m\u001b[1;33m\u001b[0m\u001b[0m\n\u001b[0m",
      "\u001b[1;31mTypeError\u001b[0m: Can't instantiate abstract class Super with abstract methods action"
     ]
    }
   ],
   "source": [
    "X = Super()"
   ]
  },
  {
   "cell_type": "code",
   "execution_count": 30,
   "metadata": {},
   "outputs": [],
   "source": [
    "class Sub(Super): pass"
   ]
  },
  {
   "cell_type": "code",
   "execution_count": 31,
   "metadata": {},
   "outputs": [
    {
     "ename": "TypeError",
     "evalue": "Can't instantiate abstract class Sub with abstract methods action",
     "output_type": "error",
     "traceback": [
      "\u001b[1;31m----------------------------------------------------------------\u001b[0m",
      "\u001b[1;31mTypeError\u001b[0m                      Traceback (most recent call last)",
      "\u001b[1;32m<ipython-input-31-22fb2fa1eb83>\u001b[0m in \u001b[0;36m<module>\u001b[1;34m()\u001b[0m\n\u001b[1;32m----> 1\u001b[1;33m \u001b[0mX\u001b[0m \u001b[1;33m=\u001b[0m \u001b[0mSub\u001b[0m\u001b[1;33m(\u001b[0m\u001b[1;33m)\u001b[0m\u001b[1;33m\u001b[0m\u001b[0m\n\u001b[0m",
      "\u001b[1;31mTypeError\u001b[0m: Can't instantiate abstract class Sub with abstract methods action"
     ]
    }
   ],
   "source": [
    "X = Sub()"
   ]
  },
  {
   "cell_type": "code",
   "execution_count": 32,
   "metadata": {},
   "outputs": [
    {
     "name": "stdout",
     "output_type": "stream",
     "text": [
      "spam\n"
     ]
    }
   ],
   "source": [
    "class Sub(Super):\n",
    "    def action(self): \n",
    "        print('spam')\n",
    "X=Sub()\n",
    "X.delegate()"
   ]
  },
  {
   "cell_type": "markdown",
   "metadata": {},
   "source": [
    "## Namespace"
   ]
  },
  {
   "cell_type": "code",
   "execution_count": 33,
   "metadata": {},
   "outputs": [],
   "source": [
    "X = 11 # Global (module) name/attribute (X, or manynames.X)\n",
    "def f():\n",
    "    print(X) # Access global X (11)\n",
    "def g():\n",
    "    X = 22 # Local (function) variable (X, hides module X)\n",
    "    print(X)\n",
    "class C:\n",
    "    X = 33 # Class attribute (C.X)\n",
    "    def m(self):\n",
    "        X = 44 # Local variable in method (X)\n",
    "        self.X = 55"
   ]
  },
  {
   "cell_type": "code",
   "execution_count": 34,
   "metadata": {},
   "outputs": [
    {
     "name": "stdout",
     "output_type": "stream",
     "text": [
      "11\n",
      "11\n",
      "22\n",
      "11\n",
      "33\n",
      "55\n",
      "33\n"
     ]
    }
   ],
   "source": [
    "if __name__ == '__main__':\n",
    "    print(X) # 11: module (a.k.a. manynames.X outside file)\n",
    "    f() # 11: global\n",
    "    g() # 22: local\n",
    "    print(X) # 11: module name unchanged\n",
    "    obj = C() # Make instance\n",
    "    print(obj.X) # 33: class name inherited by instance\n",
    "    obj.m() # Attach attribute name X to instance now\n",
    "    print(obj.X) # 55: instance\n",
    "    print(C.X) # 33: class (a.k.a. obj.X if no X in instance)\n",
    "    #print(C.m.X) # FAILS: only visible in method\n",
    "    #print(g.X) # FAILS: only visible in function"
   ]
  },
  {
   "cell_type": "code",
   "execution_count": 35,
   "metadata": {},
   "outputs": [
    {
     "name": "stdout",
     "output_type": "stream",
     "text": [
      "66\n",
      "11\n",
      "11\n",
      "22\n",
      "33\n",
      "33\n",
      "55\n"
     ]
    }
   ],
   "source": [
    "import manynames\n",
    "X = 66\n",
    "print(X) # 66: the global here\n",
    "print(manynames.X) # 11: globals become attributes after imports\n",
    "manynames.f() # 11: manynames's X, not the one here!\n",
    "manynames.g() # 22: local in other file's function\n",
    "print(manynames.C.X) # 33: attribute of class in other module\n",
    "I = manynames.C()\n",
    "print(I.X)\n",
    "I.m()\n",
    "print(I.X)"
   ]
  },
  {
   "cell_type": "code",
   "execution_count": 36,
   "metadata": {},
   "outputs": [],
   "source": [
    "X = 11 # Global in module\n",
    "def g1():\n",
    "    print(X) # Reference global in module (11)\n",
    "def g2():\n",
    "    global X\n",
    "    X = 22 # Change global in module\n",
    "def h1():\n",
    "    X = 33 # Local in function\n",
    "def nested():\n",
    "    print(X) # Reference local in enclosing scope (33)\n",
    "def h2():\n",
    "    X = 33 # Local in function\n",
    "    def nested():\n",
    "        nonlocal X # Python 3.X statement\n",
    "        X = 44"
   ]
  },
  {
   "cell_type": "code",
   "execution_count": 37,
   "metadata": {},
   "outputs": [
    {
     "name": "stdout",
     "output_type": "stream",
     "text": [
      "1\n",
      "1\n",
      "1\n",
      "1\n",
      "3\n",
      "----------------------------------------\n"
     ]
    }
   ],
   "source": [
    "X = 1\n",
    "def nester():\n",
    "    print(X) # Global: 1\n",
    "    class C:\n",
    "        print(X) # Global: 1\n",
    "        def method1(self):\n",
    "            print(X) # Global: 1\n",
    "        def method2(self):\n",
    "            X = 3 # Hides global\n",
    "            print(X) # Local: 3\n",
    "    I = C()\n",
    "    I.method1()\n",
    "    I.method2()\n",
    "print(X) # Global: 1\n",
    "nester() # Rest: 1, 1, 1, 3\n",
    "print('-'*40)"
   ]
  },
  {
   "cell_type": "code",
   "execution_count": 38,
   "metadata": {},
   "outputs": [
    {
     "name": "stdout",
     "output_type": "stream",
     "text": [
      "1\n",
      "2\n",
      "2\n",
      "2\n",
      "3\n",
      "4\n",
      "5\n",
      "----------------------------------------\n"
     ]
    }
   ],
   "source": [
    "X = 1\n",
    "def nester():\n",
    "    X=2\n",
    "    print(X) \n",
    "    class C:\n",
    "        x=3\n",
    "        print(X) \n",
    "        def method1(self):\n",
    "            print(X) \n",
    "            print(self.x)\n",
    "        def method2(self):\n",
    "            X = 4 \n",
    "            print(X)\n",
    "            self.X=5\n",
    "            print(self.X)\n",
    "    I = C()\n",
    "    I.method1()\n",
    "    I.method2()\n",
    "print(X) \n",
    "nester() \n",
    "print('-'*40)"
   ]
  },
  {
   "cell_type": "code",
   "execution_count": 39,
   "metadata": {},
   "outputs": [],
   "source": [
    "class Super:\n",
    "    def hello(self):\n",
    "        self.data1 = 'spam'"
   ]
  },
  {
   "cell_type": "code",
   "execution_count": 40,
   "metadata": {},
   "outputs": [],
   "source": [
    "class Sub(Super):\n",
    "    def hola(self):\n",
    "        self.data2 = 'eggs'"
   ]
  },
  {
   "cell_type": "code",
   "execution_count": 41,
   "metadata": {},
   "outputs": [
    {
     "data": {
      "text/plain": [
       "{}"
      ]
     },
     "execution_count": 41,
     "metadata": {},
     "output_type": "execute_result"
    }
   ],
   "source": [
    "X = Sub()\n",
    "X.__dict__"
   ]
  },
  {
   "cell_type": "code",
   "execution_count": 42,
   "metadata": {},
   "outputs": [
    {
     "data": {
      "text/plain": [
       "__main__.Sub"
      ]
     },
     "execution_count": 42,
     "metadata": {},
     "output_type": "execute_result"
    }
   ],
   "source": [
    "X.__class__"
   ]
  },
  {
   "cell_type": "code",
   "execution_count": 43,
   "metadata": {},
   "outputs": [
    {
     "data": {
      "text/plain": [
       "(__main__.Super,)"
      ]
     },
     "execution_count": 43,
     "metadata": {},
     "output_type": "execute_result"
    }
   ],
   "source": [
    "Sub.__bases__"
   ]
  },
  {
   "cell_type": "code",
   "execution_count": 44,
   "metadata": {},
   "outputs": [
    {
     "data": {
      "text/plain": [
       "(object,)"
      ]
     },
     "execution_count": 44,
     "metadata": {},
     "output_type": "execute_result"
    }
   ],
   "source": [
    "Super.__bases__"
   ]
  },
  {
   "cell_type": "code",
   "execution_count": 45,
   "metadata": {},
   "outputs": [],
   "source": [
    "Y = Sub()"
   ]
  },
  {
   "cell_type": "code",
   "execution_count": 46,
   "metadata": {},
   "outputs": [],
   "source": [
    "X.hello()"
   ]
  },
  {
   "cell_type": "code",
   "execution_count": 47,
   "metadata": {},
   "outputs": [
    {
     "data": {
      "text/plain": [
       "{'data1': 'spam'}"
      ]
     },
     "execution_count": 47,
     "metadata": {},
     "output_type": "execute_result"
    }
   ],
   "source": [
    "X.__dict__"
   ]
  },
  {
   "cell_type": "code",
   "execution_count": 48,
   "metadata": {},
   "outputs": [
    {
     "data": {
      "text/plain": [
       "{'data1': 'spam', 'data2': 'eggs'}"
      ]
     },
     "execution_count": 48,
     "metadata": {},
     "output_type": "execute_result"
    }
   ],
   "source": [
    "X.hola()\n",
    "X.__dict__"
   ]
  },
  {
   "cell_type": "code",
   "execution_count": 49,
   "metadata": {},
   "outputs": [
    {
     "data": {
      "text/plain": [
       "['__module__', 'hola', '__doc__']"
      ]
     },
     "execution_count": 49,
     "metadata": {},
     "output_type": "execute_result"
    }
   ],
   "source": [
    "list(Sub.__dict__.keys())"
   ]
  },
  {
   "cell_type": "code",
   "execution_count": 50,
   "metadata": {},
   "outputs": [
    {
     "data": {
      "text/plain": [
       "['__module__', 'hello', '__dict__', '__weakref__', '__doc__']"
      ]
     },
     "execution_count": 50,
     "metadata": {},
     "output_type": "execute_result"
    }
   ],
   "source": [
    "list(Super.__dict__.keys())"
   ]
  },
  {
   "cell_type": "code",
   "execution_count": 51,
   "metadata": {},
   "outputs": [
    {
     "data": {
      "text/plain": [
       "{}"
      ]
     },
     "execution_count": 51,
     "metadata": {},
     "output_type": "execute_result"
    }
   ],
   "source": [
    "Y.__dict__"
   ]
  },
  {
   "cell_type": "code",
   "execution_count": 52,
   "metadata": {},
   "outputs": [
    {
     "data": {
      "text/plain": [
       "('spam', 'spam')"
      ]
     },
     "execution_count": 52,
     "metadata": {},
     "output_type": "execute_result"
    }
   ],
   "source": [
    "X.data1, X.__dict__['data1']"
   ]
  },
  {
   "cell_type": "code",
   "execution_count": 53,
   "metadata": {},
   "outputs": [],
   "source": [
    "X.data3 = 'toast'"
   ]
  },
  {
   "cell_type": "code",
   "execution_count": 54,
   "metadata": {},
   "outputs": [
    {
     "data": {
      "text/plain": [
       "'ham'"
      ]
     },
     "execution_count": 54,
     "metadata": {},
     "output_type": "execute_result"
    }
   ],
   "source": [
    "X.__dict__['data3'] = 'ham'\n",
    "X.data3"
   ]
  },
  {
   "cell_type": "code",
   "execution_count": 55,
   "metadata": {},
   "outputs": [
    {
     "name": "stdout",
     "output_type": "stream",
     "text": [
      "Tree of <__main__.selftest.<locals>.B object at 0x034B8610>\n",
      "...B\n",
      "......A\n",
      ".........object\n",
      "Tree of <__main__.selftest.<locals>.F object at 0x034B8610>\n",
      "...F\n",
      "......D\n",
      ".........B\n",
      "............A\n",
      "...............object\n",
      ".........C\n",
      "............A\n",
      "...............object\n",
      "......E\n",
      ".........object\n"
     ]
    }
   ],
   "source": [
    "def classtree(cls, indent):\n",
    "    print('.' * indent + cls.__name__) # Print class name here\n",
    "    for supercls in cls.__bases__: # Recur to all superclasses\n",
    "        classtree(supercls, indent+3)\n",
    "def instancetree(inst):\n",
    "    print('Tree of %s' % inst) # Show instance\n",
    "    classtree(inst.__class__, 3)\n",
    "def instancetree(inst):\n",
    "    print('Tree of %s' % inst)\n",
    "    classtree(inst.__class__, 3)\n",
    "def selftest():\n",
    "    class A: pass\n",
    "    class B(A): pass\n",
    "    class C(A): pass\n",
    "    class D(B,C): pass\n",
    "    class E: pass\n",
    "    class F(D,E): pass\n",
    "    instancetree(B())\n",
    "    instancetree(F())\n",
    "if __name__ == '__main__': \n",
    "    selftest()"
   ]
  },
  {
   "cell_type": "code",
   "execution_count": 56,
   "metadata": {},
   "outputs": [],
   "source": [
    "class Emp: pass\n",
    "class Person(Emp): pass\n",
    "bob = Person()  "
   ]
  },
  {
   "cell_type": "code",
   "execution_count": 57,
   "metadata": {},
   "outputs": [
    {
     "name": "stdout",
     "output_type": "stream",
     "text": [
      "Tree of <__main__.Person object at 0x0343F410>\n",
      "...Person\n",
      "......Emp\n",
      ".........object\n"
     ]
    }
   ],
   "source": [
    "import classtree\n",
    "classtree.instancetree(bob)"
   ]
  },
  {
   "cell_type": "code",
   "execution_count": 58,
   "metadata": {},
   "outputs": [],
   "source": [
    "\"I am: docstr.__doc__\"\n",
    "def func(args):\n",
    "    \"I am: docstr.func.__doc__\"\n",
    "    pass\n",
    "class spam:\n",
    "    \"I am: spam.__doc__ or docstr.spam.__doc__ or self.__doc__\"\n",
    "    def method(self):\n",
    "        \"I am: spam.method.__doc__ or self.method.__doc__\"\n",
    "        print(self.__doc__)\n",
    "        print(self.method.__doc__)"
   ]
  },
  {
   "cell_type": "code",
   "execution_count": 59,
   "metadata": {},
   "outputs": [
    {
     "data": {
      "text/plain": [
       "'I am: docstr.__doc__'"
      ]
     },
     "execution_count": 59,
     "metadata": {},
     "output_type": "execute_result"
    }
   ],
   "source": [
    "import docstr\n",
    "docstr.__doc__"
   ]
  },
  {
   "cell_type": "code",
   "execution_count": 60,
   "metadata": {},
   "outputs": [
    {
     "data": {
      "text/plain": [
       "'I am: docstr.func.__doc__'"
      ]
     },
     "execution_count": 60,
     "metadata": {},
     "output_type": "execute_result"
    }
   ],
   "source": [
    "docstr.func.__doc__"
   ]
  },
  {
   "cell_type": "code",
   "execution_count": 61,
   "metadata": {},
   "outputs": [
    {
     "data": {
      "text/plain": [
       "'I am: spam.__doc__ or docstr.spam.__doc__ or self.__doc__'"
      ]
     },
     "execution_count": 61,
     "metadata": {},
     "output_type": "execute_result"
    }
   ],
   "source": [
    "docstr.spam.__doc__"
   ]
  },
  {
   "cell_type": "code",
   "execution_count": 62,
   "metadata": {},
   "outputs": [
    {
     "data": {
      "text/plain": [
       "'I am: spam.method.__doc__ or self.method.__doc__'"
      ]
     },
     "execution_count": 62,
     "metadata": {},
     "output_type": "execute_result"
    }
   ],
   "source": [
    "docstr.spam.method.__doc__"
   ]
  },
  {
   "cell_type": "code",
   "execution_count": 63,
   "metadata": {},
   "outputs": [
    {
     "name": "stdout",
     "output_type": "stream",
     "text": [
      "I am: spam.__doc__ or docstr.spam.__doc__ or self.__doc__\n",
      "I am: spam.method.__doc__ or self.method.__doc__\n"
     ]
    }
   ],
   "source": [
    "x = docstr.spam()\n",
    "x.method()"
   ]
  },
  {
   "cell_type": "code",
   "execution_count": 64,
   "metadata": {},
   "outputs": [
    {
     "name": "stdout",
     "output_type": "stream",
     "text": [
      "Help on module docstr:\n",
      "\n",
      "NAME\n",
      "    docstr - I am: docstr.__doc__\n",
      "\n",
      "CLASSES\n",
      "    builtins.object\n",
      "        spam\n",
      "    \n",
      "    class spam(builtins.object)\n",
      "     |  I am: spam.__doc__ or docstr.spam.__doc__ or self.__doc__\n",
      "     |  \n",
      "     |  Methods defined here:\n",
      "     |  \n",
      "     |  method(self)\n",
      "     |      I am: spam.method.__doc__ or self.method.__doc__\n",
      "     |  \n",
      "     |  ----------------------------------------------------------------------\n",
      "     |  Data descriptors defined here:\n",
      "     |  \n",
      "     |  __dict__\n",
      "     |      dictionary for instance variables (if defined)\n",
      "     |  \n",
      "     |  __weakref__\n",
      "     |      list of weak references to the object (if defined)\n",
      "\n",
      "FUNCTIONS\n",
      "    func(args)\n",
      "        I am: docstr.func.__doc__\n",
      "\n",
      "FILE\n",
      "    c:\\users\\am\\python_advanced\\docstr.py\n",
      "\n",
      "\n"
     ]
    }
   ],
   "source": [
    "help(docstr)"
   ]
  },
  {
   "cell_type": "markdown",
   "metadata": {},
   "source": [
    " Câu 1: Lớp cha trừu tượng là gì?\n",
    " \n",
    "Lớp cha trừu tượng là một lớp gọi một phương thức, nhưng không kế thừa hoặc định nghĩa nó — nó mong đợi phương thức được điền vào bởi một lớp con. Điều này thường được sử dụng như một cách để tổng quát hóa các lớp khi hành vi không thể được dự đoán cho đến khi một lớp con cụ thể hơn được mã hóa. Các khuôn khổ OOP cũng sử dụng điều này như một cách để gửi tới các hoạt động có thể tùy chỉnh, do khách\n",
    "hàng xác định.\n",
    "\n",
    "Câu 2: Điều gì sẽ xảy ra khi một câu lệnh gán đơn giản xuất hiện ở cấp cao nhất của một\n",
    "tuyên bố của lớp ?\n",
    "\n",
    "Khi một câu lệnh gán đơn giản (X = Y) xuất hiện ở cấp cao nhất của một câu lệnh lớp , nó sẽ gắn một\n",
    "thuộc tính dữ liệu vào lớp (Class.X). Giống như tất cả các thuộc tính của lớp, điều này sẽ được chia\n",
    "sẻ bởi tất cả các trường hợp; Tuy nhiên, các thuộc tính dữ liệu không phải là hàm func của phương\n",
    "thức có thể gọi được.\n",
    "\n",
    "Câu 3: Tại sao một lớp có thể cần gọi phương thức __init__ theo cách thủ công trong một lớp cha?\n",
    "\n",
    "Một lớp phải gọi phương thức __init__ theo cách thủ công trong một lớp cha nếu nó định nghĩa một\n",
    "phương thức khởi tạo __init__ của chính nó và vẫn muốn mã xây dựng của lớp cha đó chạy. Bản thân\n",
    "Python chỉ tự động chạy một hàm tạo - hàm thấp nhất trong cây. Các hàm tạo siêu lớp thường được gọi\n",
    "thông qua tên lớp, truyền vào cá thể tự một cách thủ công: Superclass .__ init __ (self, ...).\n",
    "\n",
    "Câu 4: Làm thế nào bạn có thể tăng cường, thay vì thay thế hoàn toàn, một phương pháp kế thừa?\n",
    "\n",
    " Để tăng cường thay vì thay thế hoàn toàn một phương thức kế thừa, hãy xác định lại\n",
    "nó trong một lớp con, nhưng gọi lại phiên bản phương thức của lớp cha theo cách thủ\n",
    "công từ phiên bản mới của phương thức trong lớp con. Tức là, truyền cá thể self vào\n",
    "phiên bản phương thức của lớp cha theo cách thủ công: Superclass.method (self, ...).\n",
    "\n",
    "Câu 5:  Phạm vi cục bộ của một lớp khác với phạm vi của một hàm như thế nào?\n",
    "\n",
    "Một lớp là một phạm vi cục bộ và có quyền truy cập để bao quanh các phạm vi cục bộ, nhưng nó không\n",
    "đóng vai trò là một phạm vi cục bộ bao quanh cho mã lồng nhau hơn nữa. Giống như các mô-đun, phạm vi\n",
    "cục bộ của lớp biến đổi thành một không gian tên thuộc tính sau khi chạy câu lệnh lớp .\n",
    "\n",
    "Câu 6: Thủ đô của Assyria là gì?\n",
    "\n",
    "Ashur (hoặc Qalat Sherqat), Calah (hoặc Nimrud), Dur Sharrukin (hoặc Khorsabad), và cuối cùng là\n",
    "Nineveh.\n"
   ]
  },
  {
   "cell_type": "code",
   "execution_count": null,
   "metadata": {},
   "outputs": [],
   "source": []
  }
 ],
 "metadata": {
  "kernelspec": {
   "display_name": "Python 3",
   "language": "python",
   "name": "python3"
  },
  "language_info": {
   "codemirror_mode": {
    "name": "ipython",
    "version": 3
   },
   "file_extension": ".py",
   "mimetype": "text/x-python",
   "name": "python",
   "nbconvert_exporter": "python",
   "pygments_lexer": "ipython3",
   "version": "3.7.0"
  }
 },
 "nbformat": 4,
 "nbformat_minor": 2
}
